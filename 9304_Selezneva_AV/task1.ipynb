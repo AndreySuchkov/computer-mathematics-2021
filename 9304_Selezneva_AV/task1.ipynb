{
 "cells": [
  {
   "cell_type": "markdown",
   "metadata": {},
   "source": [
    "# Практическая работа №1: Исследование алгоритмов формирования аддитивных цепочек\n",
    "Выполнила студентка группы 9304 Селезнёва Анастасия, вариант 39"
   ]
  },
  {
   "cell_type": "markdown",
   "metadata": {},
   "source": [
    "## Цель работы\n",
    "Формирование представления о аддитивных цепочках, выработать умение составлять и применять алгоритмы для нахождения минимальных аддитивных цепочек для заданного числа, привить навык использования систем компьютерной алгебры для реализации алгоритмов."
   ]
  },
  {
   "cell_type": "markdown",
   "metadata": {},
   "source": [
    "## Основные теоретические положения\n"
   ]
  },
  {
   "cell_type": "markdown",
   "metadata": {},
   "source": [
    "### Бинарный метод\n",
    "Бинарный метод возведения в степень - это один из методов, позволяющих быстро возвести любое число в степень $n \\in N$. Показатель степени представляется в двоичной системе счисления, старший бит отбрасывается, а последующие заменяются согласно тому, что в случае '1' текущий результат умножается на самого себя и на $x$, а в случае '0' - текущий результат просто умножается на самого себя.\n",
    "Количество умножений рассчитывается по формуле: $\\lambda(n) + \\nu(n) - 1$, где $\\nu(n)$ - вес Хэмминга - количество ненулевых цифр в двоичной записи числа $n$, $\\lambda(n) = \\lfloor lb(n) \\rfloor$."
   ]
  },
  {
   "cell_type": "markdown",
   "metadata": {},
   "source": [
    "### Метод множителей\n",
    "Метод множителей - это один из методов, позволяющих быстро возвести любое число в степень $n \\in N$. Показатель степени, если это число составное, предсталяется как произведение двух чисел $n = i \\cdot j$, где $i$ - наименьший простой множитель $n$, а $j > 1$. Число возводится сначала в степень $i$, а после результат возводится в степень $j$, таким образом показатели степеней перемножаются и получается необходимая степень $n$. Если $n$ - простое число, то метод множителей рассматривается для числа $n - 1$, а полученный результат домножается на $x$."
   ]
  },
  {
   "cell_type": "markdown",
   "metadata": {},
   "source": [
    "### Определение аддитивной цепочки\n",
    "Аддитивной цепочкой для $n \\in N$ называется последовательность натуральных чисел $1 = a_0,a_1,a_2,...,a_m=n$, обладающих тем свойством, что $a_i=a_j+a_k$, $0 \\leq k \\leq j < i$, $\\forall i=1...m$\n",
    "\n",
    "$l(n) = m$ - наименьшая длина аддитивной цепочки.\n",
    "\n",
    "Задача нахождения $l(n)$ является NP-C, однако можно дать некоторые оценки для длины минимальной аддитивной цепочки: бинарный метод дает следующую оценку: $l(n) \\leq \\lambda(n) + \\nu(n) - 1$; метод множителей - $l(nm) \\leq l(n) + l(m)$.\n",
    "\n",
    "При $n \\leq 1000$ справедлива следующая рекурентная формула для нахождения минимальной длины аддитивной цепочки: $l(n) = min\\{l(n-1) + 1, l_n\\} - \\delta_n $, где\n",
    "\n",
    "$l_p = \\begin{cases}\n",
    "\\infty, &\\text {$p$ - простое число,}\\\\\n",
    "l(q)+l(p/q), &\\text {если $q$ - минимальный простой делитель числа $p$;}\n",
    "\\end{cases}$\n",
    "\n",
    "$\\delta_n = \\{0,1\\}$."
   ]
  },
  {
   "cell_type": "markdown",
   "metadata": {},
   "source": [
    "### Теорема Брауэра\n",
    "При некотором $k < lb(lb(n))$ справедливо $l(n) < (1+k^{-1})\\cdot\\lceil lb(n) \\rceil + 2^{k-1} - k + 2$.\n",
    "\n",
    "Если положить $k = \\lambda(\\lambda(n)) - 2\\lambda(\\lambda(\\lambda(n)))$, то можно получить следующие следствия:\n",
    "\n",
    "Следствие 1: $\\lim\\limits_{n\\to \\infty} \\frac{l(n)}{\\lambda(n)}=1$;\n",
    "\n",
    "Следствие 2: Одна из наилучших верхних оценок для длины аддитивной цепочки: \n",
    "$\\lambda(n) \\cdot \\left( 1+ \\frac{1}{\\lambda(\\lambda(n))} + \\frac{o(\\lambda(\\lambda(\\lambda(n))))}{(\\lambda(\\lambda(n)))^2} \\right)$."
   ]
  },
  {
   "cell_type": "markdown",
   "metadata": {},
   "source": [
    "### Алгоритм Брауэра\n",
    "Суть алгоритма Брауэра заключается в вычислении $x^n$ за $lb(n) + \\frac{(1+o(1))lb(n)}{lb(lb(n))}$ операций.\n",
    "\n",
    "Цепочки Брауэра задаются рекурентной формулой:\n",
    "\n",
    "$B_k(n) = \\begin{cases}\n",
    "1, 2, 3,..., 2^k-1, &\\text {$n < 2^k $},\\\\\n",
    "B_k(q), 2q, 4q,..., 2^kq, n, &\\text {$n \\geq 2^k$ и $q = \\lfloor \\frac{n}{2^k} \\rfloor $}.\n",
    "\\end{cases}$\n",
    "\n",
    "Число $n$ представляется в системе счисления по основанию $2^k$."
   ]
  },
  {
   "cell_type": "markdown",
   "metadata": {},
   "source": [
    "### Звёздная цепочка. Гипотеза Шольца-Брауэра\n",
    "Звёздная цепочка - это аддитивная цепочка, в которой каждый элемент получен при помощи сложения предыдущего и какого-то еще, то есть: $a_i=a_{i-1}+a_k$, где $0 \\leq k \\leq i-1$.\n",
    "\n",
    "$l^*(n)=m$ - длина минимальной звёздной цепочки. $l^*(n) \\geq l(n)$.\n",
    "\n",
    "Гипотеза Шольца-Брауэра заключается в следующем: $l^*(2^n-1) \\geq l^*(n) + n - 1$."
   ]
  },
  {
   "cell_type": "markdown",
   "metadata": {},
   "source": [
    "### Алгоритм дробления вектора индексов\n",
    "Алгоритм дробления индексов находит минимальную звёздную цепочку для числа $n$.\n",
    "\n",
    "Для любой звёздной цепочки можно задать вектор индексов. Вектором индексов аддитивной цепочки называется последовательность $\\{r_i\\}^m_{i=1}$, где $r_i=\\{x : 1 \\leq x \\leq i \\}$.\n",
    "\n",
    "Каждый вектор индексов может быть разбит на два: $\\{r_i\\}^q_{i=1}$ - фиксированный вектор и $\\{\\rho_j\\}^m_{j=q+1}$ - меняющийся вектор, где $\\rho_j=\\{x: 1 \\leq x \\leq j \\}$. Наибольшее значение $a_m = a_{max}$ будет достигаться для следующего вектора: $\\{r_i\\}^q_{i=1} \\cup \\{q+1, q+2,...,m\\}, \\Rightarrow a_{max} = a_{q+1} \\cdot 2^{m-q}$. Наименьшее значение $a_m=a_{min}$ будет достигаться для вектора $\\{r_i\\}^q_{i=1} \\cup \\{1,1,...,1\\}, \\Rightarrow a_{min} = a_{q+1}+m-q$.\n",
    "\n",
    "Алгоритм перебора заключается в следующем: текущий вектор индексов разбивается на фиксированный и меняющийся. Строится звёздная цепочка для всего вектора индексов и вычисляются значения $a_{min}$ и $a_{max}$. Если:\n",
    "1. $a_m=n$, то решение найдено;\n",
    "2. $n \\notin [a_{min}, a_{max}]$, то осуществляется переход к следующему набору фиксированного вектора;\n",
    "3. $n \\in [a_{min}, a_{max}]$, то осуществляется перебор всех меняющихся векторов. \n",
    "\n",
    "Если для заданной длины не нашлось аддитивной цепочки, то длина аддитивной цепочки увеличивается. Длина аддитивной цепочки $m \\in [\\underline{l}(n), \\overline{l}(n)]$, где $\\underline{l}(n) = \\lceil lb(n) \\rceil, \\overline{l}(n) = \\lambda(n)+\\nu(n)-1$."
   ]
  },
  {
   "cell_type": "markdown",
   "metadata": {},
   "source": [
    "## Постановка задачи\n",
    "Реализовать точные и приближённые алгоритмы нахождения минимальных аддитивных цепочек с использованием системы компьютерной алгебры SageMath, провести анализ алгоритмов. Полученные результаты содержательно проинтерпретировать.\n",
    "\n",
    "**Порядок выполнения работы:**\n",
    "1. Применить бинарный метод и метод множителей для $ x^n $, где $n⩾30$, для 2-3 значений $n$ (значения $n$ выбирается студентом самостоятельно). Сравнить количество операций для каждого метода, сделать выводы.\n",
    "2. Реализовать алгоритм Брауэра для вычисления приближённых аддитивных цепочек для различных чисел при варьировании параметра $k$, сопоставить длины полученных аддитивных цепочек с минимальной аддитивной цепочкой для заданного числа. Сделать выводы.\n",
    "3. Реализовать алгоритм дробления вектора индексов для нахождения минимальной звёздной цепочки для заданного числа. Протестировать алгоритм при $n>500$. Указать, сколько времени потребовалось на поиск цепочки и какая цепочка получилась. Сравнить с предыдущими методами, сделать выводы.\n",
    "4. Проверить следствие 1 теоремы Брауэра для $n=1..200$ путём построения функции $l(n)$ и аппроксимирующей кривой, полученной с помощью метода наименьших квадратов. Сопоставить функции на одном графике, сделать выводы.\n",
    "5. Проверить гипотезу Шольца–Брауэра для $1<n⩽10$ на алгоритме дробления вектора индексов. Сделать выводы."
   ]
  },
  {
   "cell_type": "markdown",
   "metadata": {},
   "source": [
    "## Выполнение работы"
   ]
  },
  {
   "cell_type": "markdown",
   "metadata": {},
   "source": [
    "### Бинарный метод и метод множителей\n",
    "Применим бинарный метод и метод множителей для $x^{33}, x^{52}, x^{63}$.\n",
    "\n",
    "*Бинарный метод для $x^{33}$:*\n",
    "\n",
    "Представим показатель степени в двоичном виде: $33_{10}=100001_2$. Старший бит отбрасывается, а последующие заменяются согласно тому, что в случае '1' текущий результат умножается на самого себя и на $x$, а в случае '0' - текущий результат просто умножается на самого себя.\n",
    "\n",
    "$x, x \\cdot x = x^2, x^2 \\cdot x^2 = x^4, x^4 \\cdot x^4 = x^8, x^8 \\cdot x^8 = x^{16}, x^{16} \\cdot x^{16} = x^{32}, x^{32} \\cdot x = x^{33}.$\n",
    "\n",
    "Количество операций: 6.\n",
    "\n",
    "*Метод множителей для $x^{33}$:*\n",
    "\n",
    "Наименьший простой множитель числа $33 - 3$, поэтому представим число $33$ как $33 = 3 \\cdot 11$.\n",
    "\n",
    "$x, x \\cdot x = x^2, x^2 \\cdot x = x^3; x^3 = y;$\n",
    "\n",
    "$ y \\cdot y = y^2, y^2 \\cdot y^2 = y^4, y^4 \\cdot y = y^5, y^5 \\cdot y^5 = y^{10}, y^{10} \\cdot y = y^{11}$.\n",
    "\n",
    "Количество операций: 7. Таким образом, БМ быстрее ММ на 1 операцию,.\n",
    "\n",
    "*Бинарный метод для $x^{52}$:*\n",
    "\n",
    "Представим показатель степени в двоичном виде: $52_{10}=110100_2$. \n",
    "\n",
    "$x, x \\cdot x = x^2, x^2 \\cdot x = x^3, x^3 \\cdot x^3 = x^6, x^6 \\cdot x^6 = x^{12}, x^{12} \\cdot x = x^{13}, x^{13} \\cdot x^{13} = x^{26}, x^{26} \\cdot x^{26} = x^{52}$.\n",
    "\n",
    "Количество операций: 7.\n",
    "\n",
    "*Метод множителей для $x^{52}$:*\n",
    "\n",
    "Наименьший простой множитель числа $52 - 2$, поэтому представим число $52$ как $52 = 2 \\cdot 26$.\n",
    "\n",
    "$x, x \\cdot x = x^2; x^2 = y;$\n",
    "\n",
    "$ y \\cdot y = y^2, y^2 \\cdot y = y^3, y^3 \\cdot y^3 = y^6, y^6 \\cdot y^6 = y^{12}, y^{12} \\cdot y = y^{13}, y^{13} \\cdot y^{13} = y^{26} $.\n",
    "\n",
    "Количество операций: 7. Таким образом, количество операций в БМ и ММ совпадает.\n",
    "\n",
    "*Бинарный метод для $x^{63}$:*\n",
    "\n",
    "Представим показатель степени в двоичном виде: $63_{10}=111111_2$. \n",
    "\n",
    "$x, x \\cdot x = x^2, x^2 \\cdot x = x^3, x^3 \\cdot x^3 = x^6, x^6 \\cdot x = x^7, x^7 \\cdot x^7 = x^{14}, x^{14} \\cdot x = x^{15}, x^{15} \\cdot x^{15} = x^{30}, x^{30} \\cdot x = x^{31}, x^{31} \\cdot x^{31} = x^{62}, x^{62} \\cdot x = x^{63}$.\n",
    "\n",
    "Количество операций: 10.\n",
    "\n",
    "*Метод множителей для $x^{63}$:*\n",
    "\n",
    "Наименьший простой множитель числа $63 - 3$, поэтому представим число $63$ как $63 = 3 \\cdot 21$.\n",
    "\n",
    "$x, x \\cdot x = x^2, x^2 \\cdot x = x^3; x^3 = y;$\n",
    "\n",
    "$ y \\cdot y = y^2, y^2 \\cdot y^2 = y^4, y^4 \\cdot y = y^5, y^5 \\cdot y^5 = y^{10}, y^{10} \\cdot y^{10} = y^{20}, y^{20} \\cdot y = y^{21} $.\n",
    "\n",
    "Количество операций: 8. Таким образом, ММ быстрее БМ на 2 операции.\n",
    "\n",
    "**Результаты возведения в степень:**\n",
    "\n",
    "\n",
    "| n | Количество операций БМ | Количество операций ММ |\n",
    "| -----|:---------------------:|:------------------------:|\n",
    "| 33 | 6 | 7 |\n",
    "| 52 | 7 | 7 |\n",
    "| 63 | 10 | 8 |\n",
    "\n",
    "**Вывод:**\n",
    "\n",
    "При степенях $n = 2^k - 1$, где $k \\in N$, метод множителей работает быстрее, чем бинарный метод (например, при $n=63$), а при степенях $n = 2^k + 1$, где $k \\in N$, наоборот (например, при $n=33$). В большинстве других случаев бинарный метод и метод множителей дают одинаковое количество операций, либо метод множителей оказывается незначительно быстрее.  "
   ]
  },
  {
   "cell_type": "markdown",
   "metadata": {},
   "source": [
    "### Алгоритм Брауэра\n",
    "Реализован алгоритм Брауэра для вычисления приближенных аддитивных цепочек для различных чисел при варьировании параметра $k$:"
   ]
  },
  {
   "cell_type": "code",
   "execution_count": 53,
   "metadata": {},
   "outputs": [
    {
     "name": "stdout",
     "output_type": "stream",
     "text": [
      "Введите n: 590\n",
      "Введите k: 3\n",
      "Аддитивная цепочка:  [1, 2, 3, 4, 5, 6, 2, 4, 8, 9, 18, 36, 72, 73, 146, 292, 584, 590]\n",
      "Длина аддитивной цепочки:  18\n"
     ]
    }
   ],
   "source": [
    "def brouwer(n, k):\n",
    "      d = 2 ** k\n",
    "      sequence = []\n",
    "      if n >= d:\n",
    "          q = n\n",
    "          seq_ri = []\n",
    "          while q >= d:\n",
    "              r = q % d\n",
    "              seq_ri.append(r)\n",
    "              q = q // d\n",
    "          seq_ri.append(q)\n",
    "          seq_ri.reverse()\n",
    "          z = 1\n",
    "          while z < (max(seq_ri)+1):\n",
    "              sequence.append(z)\n",
    "              z += 1\n",
    "          q = seq_ri[0]\n",
    "          i = 0\n",
    "          while i < (len(seq_ri) - 1):\n",
    "              j = 0\n",
    "              while j < k:\n",
    "                  q *= 2\n",
    "                  sequence.append(q)\n",
    "                  j += 1\n",
    "              if seq_ri[i+1] > 0:\n",
    "                  q += seq_ri[i+1]\n",
    "                  sequence.append(q)\n",
    "              i += 1\n",
    "      else:\n",
    "          i = 0\n",
    "          while i < n:\n",
    "              sequence.append(i + 1)\n",
    "              i += 1\n",
    "      return sequence, (len(sequence))\n",
    "\n",
    "n = int(input(\"Введите n: \"))\n",
    "k = int(input(\"Введите k: \"))\n",
    "v = []\n",
    "l = 0\n",
    "v, l = brouwer(n, k)\n",
    "print(\"Аддитивная цепочка: \", v)\n",
    "print(\"Длина аддитивной цепочки: \", l)"
   ]
  },
  {
   "cell_type": "markdown",
   "metadata": {},
   "source": [
    "Алгоритм был применен к следующим числам: $88, 95, 100, 127, 257$.\n",
    "\n",
    "Таблица с минимальными аддитивными цепочками и их длинами:\n",
    "\n",
    "| n | Минимальная длина| Минимальная аддитивная цепочка |\n",
    "| -----|:---------------------:|:------------------------:|\n",
    "| 88 | 9 | [1, 2, 4, 5, 10, 11, 22, 44, 88] |\n",
    "| 95 | 10 | [1, 2, 3, 5, 10, 20, 23, 46, 92, 95] |\n",
    "| 100 | 9 | [1, 2, 3, 6, 12, 24, 25, 50, 100] |\n",
    "| 127 | 11 | [1, 2, 3, 6, 12, 15, 30, 60, 63, 126, 127] |\n",
    "| 257 | 10 | [1, 2, 4, 8, 16, 32, 64, 128, 256, 257] |\n",
    "\n",
    "Результаты алгоритма Брауэра при разных $k$ для $n=88$: \n",
    "\n",
    "| k | Длина| Аддитивная цепочка |\n",
    "| --|:----:|:------------------------:|\n",
    "| 2 | 10 | [1, 2, 2, 4, 5, 10, 20, 22, 44, 88] |\n",
    "| 3 | 10 | [1, 2, 3, 2, 4, 8, 11, 22, 44, 88] |\n",
    "| 4 | 13 | [1, 2, 3, 4, 5, 6, 7, 8, 10, 20, 40, 80, 88] |\n",
    "\n",
    "Результаты алгоритма Брауэра при разных $k$ для $n=95$: \n",
    "\n",
    "| k | Длина| Аддитивная цепочка |\n",
    "| --|:----:|:------------------------:|\n",
    "| 2 | 12 | [1, 2, 3, 2, 4, 5, 10, 20, 23, 46, 92, 95]|\n",
    "| 3 | 15 | [1, 2, 3, 4, 5, 6, 7, 2, 4, 8, 11, 22, 44, 88, 95]|\n",
    "| 4 | 20 | [1, 2, 3, 4, 5, 6, 7, 8, 9, 10, 11, 12, 13, 14, 15, 10, 20, 40, 80, 95]|\n",
    "\n",
    "Результаты алгоритма Брауэра при разных $k$ для $n=100$: \n",
    "\n",
    "| k | Длина| Аддитивная цепочка |\n",
    "| --|:----:|:------------------------:|\n",
    "| 2 | 10 | [1, 2, 2, 4, 6, 12, 24, 25, 50, 100]|\n",
    "| 3 | 12 | [1, 2, 3, 4, 2, 4, 8, 12, 24, 48, 96, 100]|\n",
    "| 4 | 11 | [1, 2, 3, 4, 5, 6, 12, 24, 48, 96, 100]|\n",
    "| 5 | 10 | [1, 2, 3, 4, 6, 12, 24, 48, 96, 100]|\n",
    "| 6 | 43 | |\n",
    "\n",
    "Результаты алгоритма Брауэра при разных $k$ для $n=127$: \n",
    "\n",
    "| k | Длина| Аддитивная цепочка |\n",
    "| --|:----:|:------------------------:|\n",
    "| 2 | 12 | [1, 2, 3, 2, 4, 7, 14, 28, 31, 62, 124, 127]|\n",
    "| 3 | 15 | [1, 2, 3, 4, 5, 6, 7, 2, 4, 8, 15, 30, 60, 120, 127]|\n",
    "| 4 | 20 | [1, 2, 3, 4, 5, 6, 7, 8, 9, 10, 11, 12, 13, 14, 15, 14, 28, 56, 112, 127]|\n",
    "\n",
    "Результаты алгоритма Брауэра при разных $k$ для $n=257$: \n",
    "\n",
    "| k | Длина| Аддитивная цепочка |\n",
    "| --|:----:|:------------------------:|\n",
    "| 2 | 10 | [1, 2, 4, 8, 16, 32, 64, 128, 256, 257]|\n",
    "| 3 | 11 | [1, 2, 3, 4, 8, 16, 32, 64, 128, 256, 257]|\n",
    "| 4 | 10 | [1, 2, 4, 8, 16, 32, 64, 128, 256, 257]|\n",
    "| 5 | 14 | [1, 2, 3, 4, 5, 6, 7, 8, 16, 32, 64, 128, 256, 257]|\n",
    "| ... | ... | ... |\n",
    "| 9 | 257 | |\n",
    "\n",
    "**Вывод:**\n",
    "\n",
    "Из полученных результатов можно сделать вывод, что как таковой зависимости между $k$ и длиной аддитивной цепочки нет, однако, начиная с некоторого $k$, длина полученной аддитивной цепочки становится намного больше минимальной. Например, это показано в таблицах для $n = 100$ и $n = 257$.\n",
    "\n",
    "Также можно еще раз убедиться, что алгоритм Брауэра действительно является приблизительным, так как для некоторых значений он находит цепочку, лишь близкую к минимальной (например, $n = 88$ и $n = 95$)."
   ]
  },
  {
   "cell_type": "markdown",
   "metadata": {},
   "source": [
    "### Алгоритм дробления вектора индексов\n",
    "Реализован алгоритм дробления вектора индексов для нахождения минимальной звёздной цепочки для числа $n$. Данный алгоритм является точным."
   ]
  },
  {
   "cell_type": "code",
   "execution_count": 2,
   "metadata": {},
   "outputs": [
    {
     "name": "stdout",
     "output_type": "stream",
     "text": [
      "Введите n: 23\n",
      "Звездная цепочка: [1, 2, 4, 5, 9, 18, 23]\n",
      "Длина звездной цепочки: 7\n",
      "Время работы: 0.001138448715209961 ,c\n"
     ]
    }
   ],
   "source": [
    "import math\n",
    "import time\n",
    "def Alghorithm_spliting_the_index_vec(n):\n",
    "    m = int(math.log(n, 2))\n",
    "    top_border_len = (int(math.log(n, 2)) + bin(n).count('1') - 1)\n",
    "    while (m <= top_border_len):\n",
    "        q = m // 2\n",
    "        if (q == 0):\n",
    "            q = 1\n",
    "        left_r_vec = [i for i in range(1, q + 1)]\n",
    "        while (len(left_r_vec) == q):\n",
    "            right_r_vec =[q + i for i in range(1, (m - q + 1))]\n",
    "            additive_chain = creating_star_chain(left_r_vec, right_r_vec)\n",
    "            a_max = additive_chain[q] * (2**(m - q))\n",
    "            a_min = additive_chain[q] + m - q\n",
    "            if (n == additive_chain[-1]):\n",
    "                return additive_chain\n",
    "            if (n == a_max):\n",
    "                return creating_star_chain(left_r_vec, right_r_vec)\n",
    "            if (n == a_min):\n",
    "                right_r_vec = [1 for i in range(m - q)]\n",
    "                return creating_star_chain(left_r_vec, right_r_vec)\n",
    "            if (n > a_min) and (n < a_max):\n",
    "                while (right_r_vec[0] != 0):\n",
    "                    additive_chain = creating_star_chain(left_r_vec, right_r_vec)\n",
    "                    if (additive_chain[-1] == n):\n",
    "                        return additive_chain\n",
    "                    iter_or_dec_index_vector(right_r_vec, q + 1, False)\n",
    "            iter_or_dec_index_vector(left_r_vec, 1, True)\n",
    "        m += 1\n",
    "\n",
    "def creating_star_chain(left_r_vec, right_r_vec):\n",
    "    additive_chain = [1]\n",
    "    for i in left_r_vec:\n",
    "        additive_chain.append(additive_chain[-1] + additive_chain[i - 1])\n",
    "    for i in right_r_vec:\n",
    "        additive_chain.append(additive_chain[-1] + additive_chain[i - 1])\n",
    "    return additive_chain\n",
    "def iter_or_dec_index_vector(vec, index, is_left):\n",
    "    max_index = index + len(vec) - 1\n",
    "    for i in range(1, len(vec) + 1):\n",
    "        vec[-i] -= 1\n",
    "        if vec[-i] == 0:\n",
    "            if i == len(vec):\n",
    "                if (is_left):\n",
    "                    vec.pop()\n",
    "                    for j in range(len(vec)):\n",
    "                        vec[j] = j + index\n",
    "                break\n",
    "            vec[-i] = max_index\n",
    "            max_index -= 1\n",
    "        else:\n",
    "            break\n",
    "\n",
    "n = int(input(\"Введите n: \"))\n",
    "start = time.time()\n",
    "star_chain = Alghorithm_spliting_the_index_vec(n)\n",
    "end = time.time()\n",
    "print(\"Звездная цепочка:\", star_chain)\n",
    "print(\"Длина звездной цепочки:\", len(star_chain))\n",
    "print(\"Время работы:\", end - start, \",c\")"
   ]
  },
  {
   "cell_type": "markdown",
   "metadata": {},
   "source": [
    "Результаты работы алгоритма дробления индексов для $n = 590, 666, 825$ представлены в таблице:\n",
    "\n",
    "| n | Длина цепочки | Цепочка | Время поиска, с |\n",
    "| --|:-------------:|:--------:|:-----------------:|\n",
    "| 590 | 13 | [1, 2, 4, 8, 16, 32, 64, 128, 192, 196, 392, 588, 590]| 182.145 |\n",
    "| 666 | 13 | [1, 2, 4, 8, 16, 32, 64, 128, 136, 264, 528, 664, 666]| 202.52 |\n",
    "| 825 | 13 | [1, 2, 4, 8, 16, 32, 48, 49, 97, 194, 388, 776, 825]| 145.97 |\n",
    "\n",
    "В таблице представлено сравнение длин цепочек, полученных различными методами и алгоритмами:\n",
    "\n",
    "| n | Алгоритм дробления индексов | Алгоритм Брауэра | Бинарный метод | Метод множителей |\n",
    "| --|:---------------------------:|:----------------:|:--------------:|:----------------:|\n",
    "| 590 | 13 | 14 | 13 | 13 |\n",
    "| 666 | 13 | 14 | 13 | 14 |\n",
    "| 825 | 13 | 14 | 14 | 13 |\n",
    "\n",
    "**Вывод:**\n",
    "\n",
    "Исходя из результатов, представленных в первой таблице, можно сделать вывод, что алгоритм дробления индексов находит верную аддитивную цепочку минимальной длины, однако вычисления могут занять некоторое время, если $n>500$. Если сравнивать длины цепочек, которые были получены различными методами, то можно заметить, что хуже всего отработал алгоритм Брауэра. "
   ]
  },
  {
   "cell_type": "markdown",
   "metadata": {},
   "source": [
    "### Проверка первого следствия теоремы Брауэра\n"
   ]
  },
  {
   "cell_type": "code",
   "execution_count": 3,
   "metadata": {},
   "outputs": [
    {
     "data": {
      "image/png": "[encoded data removed]",
      "text/plain": [
       "<Figure size 1080x720 with 1 Axes>"
      ]
     },
     "metadata": {
      "needs_background": "light"
     },
     "output_type": "display_data"
    }
   ],
   "source": [
    "import matplotlib.pyplot \n",
    "import numpy \n",
    "from scipy.optimize import leastsq\n",
    "\n",
    "x = []\n",
    "y = []\n",
    "matplotlib.pyplot.figure(figsize = (15, 10))\n",
    "for i in range(1, 201):\n",
    "    x.append(i)\n",
    "    y.append(len(Alghorithm_spliting_the_index_vec(i)))\n",
    "func = lambda k, y, x: y - numpy.log(x) * k[0]\n",
    "arr = leastsq(func, 1, args = (y, x))\n",
    "matplotlib.pyplot.plot(x, y, 'ko',  x, numpy.log(x) * arr[0], 'r')\n",
    "matplotlib.pyplot.show()"
   ]
  },
  {
   "cell_type": "markdown",
   "metadata": {},
   "source": [
    "**Вывод:**\n",
    "\n",
    "На графике видно, что множество $l(n)$, где $n=1...200$ аппроксимируется логарифмической кривой, что подтверждает первое следствие теоремы Брауэра: $\\lim\\limits_{n\\to \\infty} \\frac{l(n)}{\\lambda(n)}=1$, то есть $l(n)$ и $\\lambda(n)$ эквивалентны на бесконечности. Это означает, что с увеличением $n$ длина минимальной аддитивной цепочки будет увеличиваться как логарифмическая функция. "
   ]
  },
  {
   "cell_type": "markdown",
   "metadata": {},
   "source": [
    "### Проверка гипотезы Шольца–Брауэра\n",
    "Была проверена гипотеза Шольца-Брауэра для $1 < n \\leq 10$ на алгоритме дробления вектора индексов: "
   ]
  },
  {
   "cell_type": "code",
   "execution_count": 4,
   "metadata": {},
   "outputs": [
    {
     "name": "stdout",
     "output_type": "stream",
     "text": [
      "n=2 3 <= 3\n",
      "n=3 5 <= 5\n",
      "n=4 6 <= 6\n",
      "n=5 8 <= 8\n",
      "n=6 9 <= 9\n",
      "n=7 11 <= 11\n",
      "n=8 11 <= 11\n",
      "n=9 13 <= 13\n",
      "n=10 14 <= 14\n"
     ]
    }
   ],
   "source": [
    "for i in range(2,11):\n",
    "    str1 = \"n=\" +str(i) + \" \"\n",
    "    left = len(Alghorithm_spliting_the_index_vec((2**i) -1))\n",
    "    str1 += str(left) + \" <= \"\n",
    "    right = (len(Alghorithm_spliting_the_index_vec(i)) + i -1)\n",
    "    str1 += str(right)\n",
    "    print(str1)"
   ]
  },
  {
   "cell_type": "markdown",
   "metadata": {},
   "source": [
    "В таблице приведены значения $l^*(2^n-1)$ и $l^*(n) + n - 1$ для $n \\in (1, 10]$:\n",
    "\n",
    "| $n$ | $l^*(2^n-1)$| $l^*(n) + n - 1$ |\n",
    "| --|:----:|:------------------------:|\n",
    "| 2 | 3 | 3 |\n",
    "| 3 | 5 | 5 |\n",
    "| 4 | 6 | 6 |\n",
    "| 5 | 8 | 8 |\n",
    "| 6 | 9 | 9 |\n",
    "| 7 | 11 | 11 |\n",
    "| 8 | 11 | 11 |\n",
    "| 9 | 13 | 13 |\n",
    "| 10 | 14 | 14 |\n",
    "\n",
    "На основе полученных данных можно сделать вывод, что для $1 < n \\leq 10$ гипотеза Шольца-Брауэра справедлива. "
   ]
  },
  {
   "cell_type": "markdown",
   "metadata": {},
   "source": [
    "## Вывод по практической работе\n",
    "В ходе выполнения практической работы были изучены и реализованы следующие алгоритмы для нахождения аддитивных цепочек для заданного числа $n$:\n",
    "- Бинарный метод;\n",
    "- Метод множителей;\n",
    "- Алгоритм Брауэра;\n",
    "- Алгоритм дробления вектора индексов.\n",
    "\n",
    "Также были проверены первое следствие теоремы Брауэра и гипотеза Шольца-Брауэра для $1 < n \\leq 10$.\n",
    "\n",
    "Было выяснено, что в общем случае бинарный метод и метод множителей дают одинаковое количество операций, либо метод множителей оказывается незначительно быстрее; однако при степенях $n=2^k+1$, где $k \\in N$, бинарный метод показывает себя лучше. Алгоритм Брауэра быстро вычисляет аддитивную цепочку, но она не всегда является минимальной. Алгоритм дробления вектора индексов находит аддитивную цепочку минимальной длины, но так как это переборная задача, вычисления могут занять достаточно времени. \n",
    "\n"
   ]
  }
 ],
 "metadata": {
  "kernelspec": {
   "display_name": "Python 3",
   "language": "python",
   "name": "python3"
  },
  "language_info": {
   "codemirror_mode": {
    "name": "ipython",
    "version": 3
   },
   "file_extension": ".py",
   "mimetype": "text/x-python",
   "name": "python",
   "nbconvert_exporter": "python",
   "pygments_lexer": "ipython3",
   "version": "3.7.7"
  }
 },
 "nbformat": 4,
 "nbformat_minor": 5
}
