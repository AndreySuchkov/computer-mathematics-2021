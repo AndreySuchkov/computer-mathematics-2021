{
 "cells": [
  {
   "cell_type": "markdown",
   "metadata": {},
   "source": [
    "# Практическая работа №1: Исследование алгоритмов формирования аддитивных цепочек.\n",
    "Выполнила студентка гр. 9382 Сорочина Мария, вариант 85.\n",
    "\n",
    "# Цель работы.\n",
    "Формирование представления о аддитивных цепочках, выработать умение составлять и применять алгоритмы для нахождения минимальных аддитивных цепочек для заданного числа, привить навык использования систем компьютерной алгебры для реализации алгоритмов.\n",
    "\n",
    "# Основные теоретические положения.\n",
    "###  Бинарный метод вычисления степени.\n",
    "Бинарное (двоичное) возведение в степень — это приём, позволяющий возводить любое число в n-ую степень за O(log n) умножений (вместо n умножений при обычном подходе).  \n",
    "$\\lambda(n)=\\lfloor log_2 n\\rfloor$  \n",
    "$\\nu(n)$ - вес Хэминга. Сумма цифр в бинарной записи числа n.  \n",
    "$\\lambda(n)+\\nu(n)-1$ -количество операций для бинарного метода.\n",
    "\n",
    "### Метод множителей.\n",
    "Если нужно возвести число в степень k и k составное число, то можно сначала возвести в степень i, а потом полученное число возвести в степень j, при k = i * j, i - наименьший простой множитель k. Если k - простое, то можно посчитать $x^(k-1 )$, а после домножить на $x$.\n",
    "\n",
    "### Аддитивные цепочки.\n",
    "Аддитивной цепочкой для $n\\in N$ называют последовательность натуральных чисел $1=a_0, a_1, a_2, ..., a_m = n$, где $a_i=a_j+a_k$, $k\\leq j<i$ для всех $i \\in \\{1...m\\}$\n",
    "\n",
    "#### Теорема.\n",
    "Для $k<log_2 log_2 n$ справедливо\n",
    "$l(n)<(1+k^{-1})\\lceil log_2 n\\rceil+2^{k-1}-k+2$.\n",
    "\n",
    "Следствия:\n",
    "1. $lim_{x\\to\\infty}\\frac{l(n)}{\\lambda (n)}=1$\n",
    "2. Одна из наилучших верхних оценок имеет вид: $\\lambda (n)(1+\\frac{1}{\\lambda(\\lambda (n))}+\\frac{O(\\lambda(\\lambda(\\lambda (n)))}{(\\lambda(\\lambda (n)))^2})$\n",
    "\n",
    "### Алгоритм Брауэра.\n",
    "Алгоритм Брауэра вычисляет степень n за $log_2 n+\\frac{(1+O(1))log_2 n}{log_2 log_2 n}$ операций.\n",
    "Для заданных n, k $\\geq 2$\n",
    "$B_k(n)=\\begin{cases}\n",
    "1,2,3,...,2k-1,\\quad \\textrm{если} \\quad n<2^k\\\\\n",
    "B_k(q),2q,4q,...,2^kq,n,\\quad \\textrm{если} \\quad n\\geq2^k, q = \\lfloor n/2^k\\rfloor\n",
    "\\end{cases}$\n",
    "\n",
    "### Алгоритм Яо.\n",
    "n, k $\\geq 2$.\n",
    "$n=\\Sigma_{i=0}^j c_i2^{ik}, \\quad c_i \\ne 0$.\n",
    "d(z) - сумма чисел $2^{ik}$ для  всех i таких, что $c_i = z$.\n",
    "Сначала в цепочку добавляются все степени двойки, непревосходящие числа n $Y_k(n)=\\{1,2,4,...,2^{\\lambda (n)}\\}$, затем вычисляется d(z) для всех $z\\in \\{1,2,3,...,2^k-1\\}$, $d(z) \\ne 0$. Тогда $n=\\Sigma_{z=1}^{2^{k-1}}zd(z)$. Для всех ненулевых d(z) вычисляем zd(z) при помощи бинарного метода, все промежуточные результаты добавляем в цепочку.\n",
    "\n",
    "### Алгоритм дробления вектора индексов.\n",
    "Звездная цепочка - цепочка, в которой каждый элемент получен по следующему правилу: $a_i=a_{i-1}+a_k, \\quad 0\\leq k\\leq i-1$.\n",
    "\n",
    "Определение.\n",
    "Пусть есть звездная цепочка длины m-1 вида $\\{a_i\\}_{i=1}^{m}$, $a_1=1$. Для каждой звездной цепочки существует вектор индексов $\\{r_i\\}_{i=1}^{m-1}$ длины m-1 такой, что $r_i=\\{x:1\\leq x\\leq i\\}$ $\\Rightarrow$ $a_i=a_{i-1}+a_{r_{i-1}}, \\quad i \\in \\{2,...m\\}$\n",
    "\n",
    "#### Алгоритм.\n",
    "Дано $n\\in N$, найти $min l^*(n)=m:a_m=n$.\n",
    "1. Внешний цикл: $\\underline{l}(n)\\leq m \\leq \\overline{l}(n)$. Выбираем натуральное число q $1\\leq q\\leq m-1$.\n",
    "2. Внутренний цикл перебора всех $\\{r_i\\}_{i=1}^{q}$. (q! шагов)\n",
    "Для каждого $\\{r_i\\}_{i=1}^{m}$ строим звездную цепочку $\\{a_i\\}$, вычисляем $a_{min}$ и $a_{max}$.  \n",
    "а) Если $a_m = n$, то задача решена  \n",
    "б) Если $n \\notin [a_{min}, a_{max}]$, то переходим к следующему набору $\\{r_i\\}_{i=1}^{q}$.  \n",
    "в) Если $n \\in [a_{min}, a_{max}]$, то осуществляется внутренний цикл перебора меняющейся части $\\{\\rho_{j}\\}_{j=q+1}^{m}$. Таких наборов m!/q!. $\\{r_i\\}\\to\\{a_i\\}$  \n",
    "г) Если $a_m = n$, то задача решена.  \n",
    "д) Если $\\rho_j=1$ для всех j, то переход к следующему $\\{r_i\\}_{i=1}^{q}$\n",
    "3. Если все элементы равны 1, то увеличиваем m на 1.  \n",
    "\n",
    "### Гипотеза Шольца-Брауэра.\n",
    "$l^*(2^n-1)\\leq l^*(n)+n-1$\n",
    "\n",
    "\n",
    "# Постановка задачи.\n",
    "Реализовать точные и приближённые алгоритмы нахождения минимальных аддитивных цепочек с использованием системы компьютерной алгебры SageMath, провести анализ алгоритмов. Полученные результаты содержательно проинтерпретировать.\n",
    "\n",
    "# Порядок выполнения работы.\n",
    "1. Применить бинарный метод и метод множителей для $x^n$, где n⩾30, для 2-3 значений n (значения n выбирается студентом самостоятельно). Сравнить количество операций для каждого метода, сделать выводы.\n",
    "2. Реализовать алгоритм Брауэра (для нечётных вариантов) или алгоритм Яо (для чётных вариантов) для вычисления приближённых аддитивных цепочек для различных чисел при варьировании параметра k, сопоставить длины полученных аддитивных цепочек с минимальной аддитивной цепочкой для заданного числа. Сделать выводы.\n",
    "3. Реализовать алгоритм дробления вектора индексов для нахождения минимальной звёздной цепочки для заданного числа. Протестировать алгоритм при n>500. Указать, сколько времени потребовалось на поиск цепочки и какая цепочка получилась. Сравнить с предыдущими методами, сделать выводы.\n",
    "4. Проверить следствие 1 теоремы Брауэра для n=1..200 путём построения функции l(n) и аппроксимирующей кривой, полученной с помощью метода наименьших квадратов. Сопоставить функции на одном графике, сделать выводы.\n",
    "5. Проверить гипотезу Шольца–Брауэра для 1<n⩽10 на алгоритме дробления вектора индексов. Сделать выводы.\n",
    "6. **Дополнительное необязательное задание: найти и/или предложить модификации алгоритмов и привести описание модификаций. Реализовать модифицированные алгоритмы и сравнить их мощность.\n",
    "\n",
    "# Выполнение работы.\n",
    "## 1. Вычисление степеней бинарным методом и методом множителей.\n",
    "### 1.1. Бинарный метод."
   ]
  },
  {
   "cell_type": "code",
   "execution_count": 9,
   "metadata": {},
   "outputs": [
    {
     "name": "stdout",
     "output_type": "stream",
     "text": [
      "1^31 = 1 \tNumber of operations: 8\n"
     ]
    }
   ],
   "source": [
    "def binary(x, n):\n",
    "    counter = 0\n",
    "    binn = str(bin(n)[3::])\n",
    "    res = x\n",
    "    for i in binn:\n",
    "        if i == '1':\n",
    "            res *= res\n",
    "            res *= x\n",
    "            counter +=2\n",
    "        else:\n",
    "            res *= x            \n",
    "            counter += 1\n",
    "    return [res, counter]\n",
    "ans = binary(1, 31)\n",
    "print(\"1^31 = {} \\tNumber of operations: {}\".format(ans[0], ans[1]))          "
   ]
  },
  {
   "cell_type": "markdown",
   "metadata": {},
   "source": [
    "### 1.2. Метод множителей"
   ]
  },
  {
   "cell_type": "code",
   "execution_count": 8,
   "metadata": {},
   "outputs": [
    {
     "name": "stdout",
     "output_type": "stream",
     "text": [
      "1^31 = 1 \tNumber of operations: 8\n"
     ]
    }
   ],
   "source": [
    "def prime_f(n):\n",
    "    if n%2 == 0: return 2\n",
    "    i = 3\n",
    "    while n%i != 0 and i*i <= n:\n",
    "        i+= 2\n",
    "    if i*i <= n: return i\n",
    "    return n\n",
    "\n",
    "def multipl(x, n):\n",
    "    flag = 0\n",
    "    counter = 0\n",
    "    i = prime_f(n)\n",
    "    if (i == n):\n",
    "        flag = 1\n",
    "        i = 2\n",
    "        j = (n - 1) // i\n",
    "    else:\n",
    "        j = n // i\n",
    "    fori = binary(x, i)\n",
    "    res = fori[0]\n",
    "    counter = fori[1]\n",
    "    forj = binary(res, j)\n",
    "    res = forj[0]\n",
    "    counter += forj[1]\n",
    "    if flag == 1:\n",
    "        res *= x\n",
    "        counter += 1\n",
    "    return [res, counter]\n",
    "ans = multipl(1, 31)\n",
    "print(\"1^31 = {} \\tNumber of operations: {}\".format(ans[0], ans[1]))  "
   ]
  },
  {
   "cell_type": "markdown",
   "metadata": {},
   "source": [
    "### 1.3. Сравнение методов на примерах"
   ]
  },
  {
   "cell_type": "code",
   "execution_count": 10,
   "metadata": {},
   "outputs": [
    {
     "name": "stdout",
     "output_type": "stream",
     "text": [
      "Binary method. 1 ^ 85 = 1 \tNumber of operations: 9\n",
      "Multiply method. 1 ^85 = 1 \tNumber of operations: 8\n",
      "\n",
      "Binary method. 1 ^ 33 = 1 \tNumber of operations: 6\n",
      "Multiply method. 1 ^33 = 1 \tNumber of operations: 7\n",
      "\n",
      "Binary method. 1 ^ 2910 = 1 \tNumber of operations: 18\n",
      "Multiply method. 1 ^2910 = 1 \tNumber of operations: 18\n",
      "\n"
     ]
    }
   ],
   "source": [
    "examples = [85, 33, 2910]\n",
    "for i in examples:\n",
    "    binMeth = binary(1, i)\n",
    "    multiplMeth = multipl(1, i)\n",
    "    print(\"Binary method. 1 ^ {} = {} \\tNumber of operations: {}\".format(i, binMeth[0], binMeth[1]))\n",
    "    print(\"Multiply method. 1 ^{} = {} \\tNumber of operations: {}\\n\".format(i,multiplMeth[0],multiplMeth[1]))"
   ]
  },
  {
   "cell_type": "markdown",
   "metadata": {},
   "source": [
    "### 1.4. Вывод.\n",
    "Как видно из тестов, нельзя однозначно сказать, что какой-то метод работает лучше. В целом отличия по количеству операций незначительны.\n",
    "\n",
    "## 2. Алгоритм Брауэра.\n",
    "### 2.1. Реализация\n"
   ]
  },
  {
   "cell_type": "code",
   "execution_count": 18,
   "metadata": {},
   "outputs": [
    {
     "name": "stdout",
     "output_type": "stream",
     "text": [
      "(42,2) chain [1, 2, 3, 4, 8, 10, 20, 40, 42] length 9\n",
      "\n",
      "(42,3) chain [1, 2, 3, 4, 5, 6, 7, 10, 20, 40, 42] length 11\n",
      "\n",
      "(42,4) chain [1, 2, 3, 4, 5, 6, 7, 8, 9, 10, 11, 12, 13, 14, 15, 16, 32, 42] length 18\n",
      "\n",
      "(42,5) chain [1, 2, 3, 4, 5, 6, 7, 8, 9, 10, 11, 12, 13, 14, 15, 16, 17, 18, 19, 20, 21, 22, 23, 24, 25, 26, 27, 28, 29, 30, 31, 32, 42] length 33\n",
      "\n",
      "----------------------------------\n",
      "(75,2) chain [1, 2, 3, 4, 4, 8, 16, 18, 36, 72, 75] length 11\n",
      "\n",
      "(75,3) chain [1, 2, 3, 4, 5, 6, 7, 8, 9, 18, 36, 72, 75] length 13\n",
      "\n",
      "(75,4) chain [1, 2, 3, 4, 5, 6, 7, 8, 9, 10, 11, 12, 13, 14, 15, 16, 32, 64, 75] length 19\n",
      "\n",
      "(75,5) chain [1, 2, 3, 4, 5, 6, 7, 8, 9, 10, 11, 12, 13, 14, 15, 16, 17, 18, 19, 20, 21, 22, 23, 24, 25, 26, 27, 28, 29, 30, 31, 32, 64, 75] length 34\n",
      "\n",
      "----------------------------------\n",
      "(258,2) chain [1, 2, 3, 4, 4, 8, 16, 16, 32, 64, 64, 128, 256, 258] length 14\n",
      "\n",
      "(258,3) chain [1, 2, 3, 4, 5, 6, 7, 8, 16, 32, 32, 64, 128, 256, 258] length 15\n",
      "\n",
      "(258,4) chain [1, 2, 3, 4, 5, 6, 7, 8, 9, 10, 11, 12, 13, 14, 15, 16, 16, 32, 64, 128, 256, 258] length 22\n",
      "\n",
      "(258,5) chain [1, 2, 3, 4, 5, 6, 7, 8, 9, 10, 11, 12, 13, 14, 15, 16, 17, 18, 19, 20, 21, 22, 23, 24, 25, 26, 27, 28, 29, 30, 31, 32, 64, 128, 256, 258] length 36\n",
      "\n",
      "----------------------------------\n",
      "(712,2) chain [1, 2, 3, 4, 8, 11, 22, 44, 44, 88, 176, 178, 356, 712, 712] length 15\n",
      "\n",
      "(712,3) chain [1, 2, 3, 4, 5, 6, 7, 8, 11, 22, 44, 88, 89, 178, 356, 712, 712] length 17\n",
      "\n",
      "(712,4) chain [1, 2, 3, 4, 5, 6, 7, 8, 9, 10, 11, 12, 13, 14, 15, 16, 32, 44, 88, 176, 352, 704, 712] length 23\n",
      "\n",
      "(712,5) chain [1, 2, 3, 4, 5, 6, 7, 8, 9, 10, 11, 12, 13, 14, 15, 16, 17, 18, 19, 20, 21, 22, 23, 24, 25, 26, 27, 28, 29, 30, 31, 44, 88, 176, 352, 704, 712] length 37\n",
      "\n",
      "----------------------------------\n",
      "(1246,2) chain [1, 2, 3, 4, 4, 8, 16, 19, 38, 76, 77, 154, 308, 311, 622, 1244, 1246] length 17\n",
      "\n",
      "(1246,3) chain [1, 2, 3, 4, 5, 6, 7, 8, 16, 19, 38, 76, 152, 155, 310, 620, 1240, 1246] length 18\n",
      "\n",
      "(1246,4) chain [1, 2, 3, 4, 5, 6, 7, 8, 9, 10, 11, 12, 13, 14, 15, 16, 32, 64, 77, 154, 308, 616, 1232, 1246] length 24\n",
      "\n",
      "(1246,5) chain [1, 2, 3, 4, 5, 6, 7, 8, 9, 10, 11, 12, 13, 14, 15, 16, 17, 18, 19, 20, 21, 22, 23, 24, 25, 26, 27, 28, 29, 30, 31, 32, 38, 76, 152, 304, 608, 1216, 1246] length 39\n",
      "\n",
      "----------------------------------\n"
     ]
    }
   ],
   "source": [
    "def brauer(n, k):\n",
    "    chain = []\n",
    "    twoink = pow(2,k)\n",
    "    if n < twoink:\n",
    "        for i in range(1, twoink):\n",
    "            if chain.count(i)==0:\n",
    "                chain.append(i)\n",
    "    else:\n",
    "        q = n // twoink\n",
    "        chain += brauer(q,k)\n",
    "        for i in range(1, k+1):\n",
    "            if pow(2,i)*q not in chain:\n",
    "                chain.append(pow(2,i)*q)\n",
    "        chain.append(n)\n",
    "    return chain\n",
    "\n",
    "\n",
    "\n",
    "testn =[42, 75, 258, 712, 1246]\n",
    "for n in testn:\n",
    "    for k in range(2,6):\n",
    "        ex = brauer(n, k)\n",
    "        print (\"({},{}) chain {} length {}\\n\".format(n, k, ex, len(ex)))\n",
    "    print('----------------------------------')\n",
    "    "
   ]
  },
  {
   "cell_type": "markdown",
   "metadata": {},
   "source": [
    "Минимальные аддитивные цепочки:  \n",
    "42:   [1.2,4,8,16,32,10,42]  **длина = 8**  \n",
    "75:   [1,2,4,8,9,18,36,37,74,75]  **длина = 10**  \n",
    "258:  [1,2,4,8,16,32,64,128,129,258]  **длина = 10**  \n",
    "712:  [1,2,4,5,10,11,22,44,88,89,178,356,712]  **длина = 13**  \n",
    "1246: [1,2,4,8,9,18,19,38,76,77,154,155,310,311,622,623,1246]  **длина = 17**  \n",
    "\n",
    "### 2.2. Вывод\n",
    "При варьировании параметра k в алгоритме Брауэра, было замечено, что длина цепочки растет вместе с значением k. При k равном 2 в некоторых случаях длина цепочки совпадает с минимальной или близка к \n",
    "\n",
    "## 3.Алгоритм дробления вектора.\n",
    "### 3.1. Реализация\n"
   ]
  },
  {
   "cell_type": "code",
   "execution_count": 19,
   "metadata": {},
   "outputs": [
    {
     "name": "stdout",
     "output_type": "stream",
     "text": [
      "n = 501\n",
      "Vector\n",
      "chain [1, 2, 4, 8, 16, 24, 25, 50, 100, 200, 400, 500, 501]\n",
      "time 9.97433590889\n",
      "length 13\n",
      "Brauer\n",
      "chain [1, 2, 3, 4, 7, 14, 28, 31, 62, 124, 125, 250, 500, 501]\n",
      "time 4.60147857666e-05\n",
      "length 14\n",
      "\n",
      "n = 602\n",
      "Vector\n",
      "chain [1, 2, 4, 8, 16, 32, 33, 66, 132, 264, 528, 594, 602]\n",
      "time 7.00758314133\n",
      "length 13\n",
      "Brauer\n",
      "chain [1, 2, 3, 4, 8, 9, 18, 36, 37, 74, 148, 150, 300, 600, 602]\n",
      "time 4.60147857666e-05\n",
      "length 15\n",
      "\n",
      "n = 703\n",
      "Vector\n",
      "chain [1, 2, 4, 8, 16, 18, 19, 38, 76, 152, 304, 608, 684, 703]\n",
      "time 78.8391618729\n",
      "length 14\n",
      "Brauer\n",
      "chain [1, 2, 3, 4, 8, 10, 20, 40, 43, 86, 172, 175, 350, 700, 703]\n",
      "time 4.6968460083e-05\n",
      "length 15\n",
      "\n",
      "n = 804\n",
      "Vector\n",
      "chain [1, 2, 4, 8, 16, 32, 64, 128, 256, 512, 768, 772, 804]\n",
      "time 3.72035813332\n",
      "length 13\n",
      "Brauer\n",
      "chain [1, 2, 3, 6, 12, 12, 24, 48, 50, 100, 200, 201, 402, 804, 804]\n",
      "time 6.29425048828e-05\n",
      "length 15\n",
      "\n",
      "n = 905\n",
      "Vector\n",
      "chain [1, 2, 4, 5, 9, 14, 28, 56, 112, 224, 448, 896, 905]\n",
      "time 22.2332568169\n",
      "length 13\n",
      "Brauer\n",
      "chain [1, 2, 3, 6, 12, 14, 28, 56, 56, 112, 224, 226, 452, 904, 905]\n",
      "time 5.10215759277e-05\n",
      "length 15\n",
      "\n"
     ]
    }
   ],
   "source": [
    "from time import time \n",
    "#import math\n",
    "\n",
    "def nu(n):\n",
    "    binn = bin(n)[2::]\n",
    "    counter = 0;\n",
    "    for i in binn:\n",
    "        if(i == '1'):\n",
    "            counter += 1\n",
    "    return counter\n",
    "\n",
    "def isAll1(vector):\n",
    "    for i in vector:\n",
    "        if i != 1:\n",
    "            return 0\n",
    "    return 1\n",
    "\n",
    "def r_to_a(r):\n",
    "    a = [1]\n",
    "    i = 1\n",
    "    for ri in r:\n",
    "        a.append(a[i-1]+a[ri-1])\n",
    "        i += 1\n",
    "    return a\n",
    "\n",
    "def changeInd(r):\n",
    "    i = 0\n",
    "    r.reverse()\n",
    "    for ind in r:\n",
    "        if ind != 1:\n",
    "            break\n",
    "        i+=1\n",
    "    r[i] -= 1;\n",
    "    m = len(r)\n",
    "    while i > 0:\n",
    "        i -= 1\n",
    "        r[i] = m-i\n",
    "    r.reverse()\n",
    "    return r\n",
    "\n",
    "def vect(n):\n",
    "    vector = []\n",
    "    for m in range(int(ceil(log(n,2))), int(floor(log(n,2)+nu(n)))):\n",
    "        q = m // 2\n",
    "        r_q = []\n",
    "        for index in range(1, q+1):\n",
    "            r_q.append(index)       #заполнили фикс. часть\n",
    "        change = m - q + (m+1)%2\n",
    "        while 1:\n",
    "            rMax = []+r_q\n",
    "            rMin = []+r_q\n",
    "            for index in range(change, m+1):\n",
    "                rMax.append(index)\n",
    "                rMin.append(1)\n",
    "            aMax = r_to_a(rMax)\n",
    "            aMin = r_to_a(rMin)\n",
    "            if aMax[-1] == n:\n",
    "                return aMax\n",
    "            if aMin[-1] == n:\n",
    "                return aMin\n",
    "            if n > aMin[-1] and n < aMax[-1]:\n",
    "                rho = []\n",
    "                for i in range(change, m+1):\n",
    "                    rho.append(i)\n",
    "                while not isAll1(rho):\n",
    "                    r = r_q + rho\n",
    "                    a = r_to_a(r)\n",
    "                    if a[-1] == n:\n",
    "                        return a\n",
    "                    rho = changeInd(rho)\n",
    "            if isAll1(r_q):\n",
    "                break\n",
    "            r_q = changeInd(r_q)\n",
    "\n",
    "            \n",
    "tests = [501, 602, 703, 804, 905]       \n",
    "for i in tests:\n",
    "    print(\"n = {}\".format(i))\n",
    "    start = time() \n",
    "    tst = vect(i)\n",
    "    end = time()\n",
    "    print (\"Vector\\nchain {}\\ntime {}\\nlength {}\".format(tst, end-start, len(tst)))\n",
    "    start = time() \n",
    "    tst = brauer(i, 2)\n",
    "    end = time()\n",
    "    print (\"Brauer\\nchain {}\\ntime {}\\nlength {}\\n\".format(tst, end-start, len(tst)))\n"
   ]
  },
  {
   "cell_type": "markdown",
   "metadata": {},
   "source": [
    "### 3.2. Вывод.\n",
    "Было преведено несколько тестов для сравнения алгоритма дробления вектора индексов и алгоритма Брауэра. Исходя из результатов тестирования, можно говорить, что при помощи метода дробления векторов получается длина цепочки меньше чем при помощи алгоритма Брауэра. По времени алгоритм Брауэра работает быстрее в большинстве примеров.\n",
    "\n",
    "## 4. Проверка следствия теоремы Брауэра.\n",
    "### 4.1. Реализация\n"
   ]
  },
  {
   "cell_type": "code",
   "execution_count": 113,
   "metadata": {
    "scrolled": true
   },
   "outputs": [
    {
     "data": {
      "image/png": "[encoded data removed]",
      "text/plain": [
       "Graphics object consisting of 2 graphics primitives"
      ]
     },
     "metadata": {},
     "output_type": "display_data"
    }
   ],
   "source": [
    "g = [(x1, len(vect(x1))) for x1 in range(1, 201)]\n",
    "var('m,n,x')\n",
    "q(x) = m*log(x,2)+n\n",
    "mn = find_fit(g,q,solution_dict=1)\n",
    "f(x) = mn[m]*log(x,2)+mn[n]\n",
    "show(plot(f(x), (x, 1, 200), color = 'green')+list_plot(g), figsize=[5,3])\n"
   ]
  },
  {
   "cell_type": "markdown",
   "metadata": {},
   "source": [
    "### 4.2. Вывод.\n",
    "По получившемуся графику видно, что построенная функция близка к функции $l(n)$, что подтверждает следствие теоремы.  \n",
    "\n",
    "## 5. Проверка гипотезы Шольца-Брауэра.\n",
    "### 5.1. Реализация.\n"
   ]
  },
  {
   "cell_type": "code",
   "execution_count": 108,
   "metadata": {},
   "outputs": [
    {
     "name": "stdout",
     "output_type": "stream",
     "text": [
      "n 2\t 3 <= 3\n",
      "n 3\t 5 <= 5\n",
      "n 4\t 6 <= 6\n",
      "n 5\t 8 <= 8\n",
      "n 6\t 9 <= 9\n",
      "n 7\t 11 <= 11\n",
      "n 8\t 11 <= 11\n",
      "n 9\t 13 <= 13\n",
      "n 10\t 14 <= 14\n"
     ]
    }
   ],
   "source": [
    "for n in range(2,11):\n",
    "    print(\"n {}\\t {} <= {}\".format(n,len(vect(pow(2,n)-1)),len(vect(n))+n-1))"
   ]
  },
  {
   "cell_type": "markdown",
   "metadata": {},
   "source": [
    "### 5.2. Вывод.\n",
    "Гипотеза была проверена для значений $n \\in \\{2,..10\\}$, для всех проверенных значений гипотеза подтвердилась.\n",
    "\n",
    "# Общий вывод.\n",
    "В ходе выполнения работы были изучены и реализованы алгоритмы нахождения минимальных аддитивных цепочек: бинарный метод, метод множителей, алгоритм Брауэра, алгоритм дробления вектора индексов. Также были проверены следствие теоремы Брауэра и гипотеза Шольца-Брауэра."
   ]
  }
 ],
 "metadata": {
  "kernelspec": {
   "display_name": "SageMath 8.1",
   "language": "",
   "name": "sagemath"
  },
  "language_info": {
   "codemirror_mode": {
    "name": "ipython",
    "version": 2
   },
   "file_extension": ".py",
   "mimetype": "text/x-python",
   "name": "python",
   "nbconvert_exporter": "python",
   "pygments_lexer": "ipython2",
   "version": "2.7.17"
  }
 },
 "nbformat": 4,
 "nbformat_minor": 2
}
