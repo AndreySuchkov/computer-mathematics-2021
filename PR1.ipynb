{
 "cells": [
  {
   "cell_type": "markdown",
   "metadata": {},
   "source": [
    "# Практическая работа №1: Исследование алгоритмов формирования аддитивных цепочек\n",
    "(Вариант 16)\n",
    "\n",
    "## Цель работы: \n",
    "\n",
    "Формирование представления о аддитивных цепочках, выработать умение составлять и применять алгоритмы для нахождения минимальных аддитивных цепочек для заданного числа, привить навык использования систем компьютерной алгебры для реализации алгоритмов.\n",
    "\n",
    "## Постановка задачи: \n",
    "\n",
    "Реализовать точные и приближённые алгоритмы нахождения минимальных аддитивных цепочек с использованием системы компьютерной алгебры SageMath, провести анализ алгоритмов. Полученные результаты содержательно проинтерпретировать.\n",
    "\n",
    "## Основные теоретические положения\n",
    "\n",
    "Существует несколько методов быстрого возведения числа в натуральную степень за наименьшее количество операций. В данной практической работе рассматриваются некоторые из них: бинарный метод и метод множителей, а также алгоритм Яо. Описание методов преставлено ниже.\n",
    "\n",
    "### Бинарный метод\n",
    "\n",
    "Бинарное возведение в степень — это приём, позволяющий возводить любое число x в n-ую степень за O(log n) умножений (вместо n умножений при обычном подходе).\n",
    "Данный метод заключается в том, что число, которое требуется возвести в степень просматривается в бинарном виде слева направо, не включая первую цифру, и если встречается 1 - то токущее число умножается на себя, а если 0 - умножается на x.\n",
    "\n",
    "### Метод множителей\n",
    "\n",
    "Метод множителей - метод быстрого возведения в степень числа $ x^n $. Число n раскладывается на произведение из двух множителей: $ n = i*j $.  $ i $ - наименьший простой множитель. \n",
    "Далее $ x $ возводится в степень $ i $ , а получившееся число в степень $ j $. Если $ n $ - простое, то на множители раскладывается число $ n - 1 $ , после получения результат домножаем на $ x $.\n",
    "\n",
    "$ \\lambda (n)  $ - уменьшенная на единицу длина двоичной записи числа $ n $.\n",
    "\n",
    "$ \\nu (n)  $ - вес Хэмминга.\n",
    "\n",
    "Аддитивная цепочка для $ n \\in N $ - последовательность такого вида: $ 1 = a_0, a_1, a_2, ..., a_m = n $ , в которой $ a_i = a_j + a_k $ , $    k \\leqslant j &lt; i  $ , $ \\forall i = 1..m $ .\n",
    "\n",
    "Функция $ l(n) $ - наименьшая длина аддитивной цепочки.\n",
    "\n",
    "Типы шагов:\n",
    "\n",
    "1. Удвоение, если $ j = k = i - 1 $ .\n",
    "\n",
    "2. Звездный, если $ j = i - 1 $ .\n",
    "\n",
    "3. Малый, если $ \\lambda (a_i) = \\lambda (a_{i-1}) $ .\n",
    "\n",
    "Звездная цепочка - аддитивная цепочка, состоящая исключительно из звездных шагов.\n",
    "\n",
    "Если имется звездная цепочка $ \\{a_i\\}_{i=1}^m $ , тогда вектор индексов определяется, как $ \\{r_i\\}_{i=1}^{m-1} $ , где $ r_i = \\{x: 1 \\leqslant x \\leqslant i\\} $ , а $ a_i = a_{i-1} + a_{r_{i-1}} $ , $ 2 \\leqslant i \\leqslant m-1 $ .\n",
    "\n",
    "### Алгоритм Яо\n",
    "\n",
    "Алгориитм Яо - алгоритм поиска аддитивной цепочки для n. \n",
    "Представим число n в виде: $ n = \\sum_{i = 0}^{j}a_j2^{ik}, a_j \\neq 0, k \\geq 2 $ . \n",
    "Введём функцию $ d(z) $ - сумма чисел $ 2^{ik} $ для $  \\forall i : a_i = z $ . В аддитивную цепочку последовательно добавляются элементы:\n",
    "\n",
    "1. Степени двойки до $ \\lambda (n) $ , т.е. в цепочки находятся элементы $ \\{1,2,4,8,..., 2^{\\lambda(n)} \\} $.\n",
    "\n",
    "2. Значения функции $ d(z) $, $ z \\in \\{1, 2, 3, ..., 2^k-1\\} $.\n",
    "\n",
    "3. Значения $ zd(z) $ , $ \\forall z $.\n",
    "\n",
    "Т.о, $ n = \\sum_{z = 1}^{2^k-1}zd(z) $.\n",
    "\n",
    "### Алгоритм дробления вектора индеков\n",
    "\n",
    "Алгоритм дробления вектора индексов - алгоритм поиска минимальной аддитивной цепочки.\n",
    "\n",
    "1. Запускаем внешний цикл по длинам цепочек $ \\underline{l}(n) \\leq m \\leq \\overline{l}(n) $. Где $ \\underline{l}(n) = \\lambda (n) $, а $ \\overline{l}(n) = \\lambda(n) + \\nu(n) - 1 $. Пусть $ q = m//2 - 1 $.\n",
    "2. Запускаем внутрненний цикл перебора всех $ \\{r_i\\}_{i=1}^{q} $.\n",
    "\n",
    "На каждом шаге вычисляем $ a_{min} = a_{q+1} + m - q $ и $ a_{max} = a_{q+1}2^{m-q} $\n",
    "\n",
    "- Если последний элемент в цепочки равен числу $ n $, заканчиваем алгоритм.\n",
    "- Если $ n \\in [a_{min}, a_{max}] $ , то тогда перебираем часть вектора индексов $ \\{r_j\\}_{j=q+1}^m $\n",
    "- Если $ n \\notin [a_{min}, a_{max}] $ , то тогда перебираем часть вектора индексов $ \\{r_i\\}_{i=1}^q $\n",
    "\n",
    "### Следствие теоремы Брауэра:\n",
    "\n",
    "$ \\lim_{n\\to\\infty} \\frac{l(n)}{\\lambda(n)} = 1 $ . \n",
    "\n",
    "### Гипотеза Шольца-Брауэра:\n",
    "\n",
    "$ l(2^n - 1) \\leqslant l(n) + n - 1  $ для $ n \\leqslant 64 $ . \n",
    "\n",
    "## Порядок выполнения работы\n",
    "\n",
    "1. Применить бинарный метод и метод множителей для $ x^n $, где $ n⩾30 $, для 2-3 значений $ n $  (значения $ n $  выбирается студентом самостоятельно). Сравнить количество операций для каждого метода, сделать выводы.\n",
    "2. Реализовать алгоритм Яо для вычисления приближённых аддитивных цепочек для различных чисел при варьировании параметра $ k $, сопоставить длины полученных аддитивных цепочек с минимальной аддитивной цепочкой для заданного числа. Сделать выводы.\n",
    "3. Реализовать алгоритм дробления вектора индексов для нахождения минимальной звёздной цепочки для заданного числа. Протестировать алгоритм при $ n>500 $. Указать, сколько времени потребовалось на поиск цепочки и какая цепочка получилась. Сравнить с предыдущими методами, сделать выводы.\n",
    "4. Проверить следствие 1 теоремы Брауэра для $ n=1..200 $ путём построения функции $ l(n) $ и аппроксимирующей кривой, полученной с помощью метода наименьших квадратов. Сопоставить функции на одном графике, сделать выводы.\n",
    "5. Проверить гипотезу Шольца–Брауэра для $ 1<n⩽10 $ на алгоритме дробления вектора индексов. Сделать выводы.\n",
    "6. Дополнительное необязательное задание: найти и/или предложить модификации алгоритмов и привести описание модификаций. Реализовать модифицированные алгоритмы и сравнить их мощность.\n",
    "\n",
    "## Ход работы\n",
    "\n",
    "1. Ниже представлена реализация функции осуществляющей бинарного метода и метода множителей.\n",
    "\n"
   ]
  },
  {
   "cell_type": "code",
   "execution_count": 2,
   "metadata": {},
   "outputs": [
    {
     "name": "stdout",
     "output_type": "stream",
     "text": [
      "3\n",
      "7\n",
      "2187 \n",
      "Всего операций:  4\n"
     ]
    }
   ],
   "source": [
    "def binaryMeth (x, n):\n",
    "\n",
    "    temp = x\n",
    "    a = []\n",
    "    while (n):\n",
    "        if (n % 2):\n",
    "            a.append('X')\n",
    "            a.append('S')\n",
    "        else:\n",
    "            a.append('S')\n",
    "        n = n // 2\n",
    "    a.reverse()\n",
    "    a = a[2:]\n",
    "    for i in a:\n",
    "        if (i == 'S'):\n",
    "            x = x*x\n",
    "        if (i == 'X'):\n",
    "            x = x*temp\n",
    "    return [x, len(a)]\n",
    "\n",
    "ans = binaryMeth(int(input()), int(input()))\n",
    "print(ans[0], '\\nВсего операций: ', ans[1])"
   ]
  },
  {
   "cell_type": "code",
   "execution_count": 3,
   "metadata": {},
   "outputs": [
    {
     "name": "stdout",
     "output_type": "stream",
     "text": [
      "3\n",
      "7\n",
      "2187 \n",
      "Всего было операций:  4\n"
     ]
    }
   ],
   "source": [
    "def isSimple(n):\n",
    "    i = 2\n",
    "    while (i*i <= n):\n",
    "        if (n % i == 0):\n",
    "            return False\n",
    "        i += 1\n",
    "    return True\n",
    "def simpleMult(n):\n",
    "    for i in range(2, n+1):\n",
    "        if (n % i == 0) and isSimple(i):\n",
    "            return i\n",
    "x = int(input())\n",
    "n = int(input())\n",
    "flag = False\n",
    "k = simpleMult(n)\n",
    "if (k == n):\n",
    "    n = n-1\n",
    "    k = simpleMult(n)\n",
    "    flag = True\n",
    "ans = binaryMeth(x, k)\n",
    "d = binaryMeth(ans[0], int(n/k))\n",
    "if (flag):\n",
    "    d[0] *= x\n",
    "    d[1] += 1\n",
    "print(d[0], '\\nВсего было операций: ', ans[1]+d[1])"
   ]
  },
  {
   "cell_type": "markdown",
   "metadata": {},
   "source": [
    "Сравним результаты работы программ при одних и тех же исходных данных. \n",
    "\n",
    "| n | Бинарый метод | Метод множителей |\n",
    "|:-:|:-:|:-:|\n",
    "| 6 | 3 | 3 |\n",
    "| 40 | 6 | 6 |\n",
    "| 255 | 11 | 11 |\n",
    "| 59 | 9 | 8 |\n",
    "\n",
    "\n",
    "Судя по таблице получается, что оба метода выполняют вычисления примерно за одинаковое количество операций, но иногда метод множителей выполняет меньшее количество вычислений, что говорит о том, что данный метод выгоднее использовать.\n"
   ]
  },
  {
   "cell_type": "markdown",
   "metadata": {},
   "source": [
    "2. Ниже представлена реализация функции осуществляющей алгоритм Яо."
   ]
  },
  {
   "cell_type": "code",
   "execution_count": 4,
   "metadata": {
    "scrolled": true
   },
   "outputs": [
    {
     "name": "stdout",
     "output_type": "stream",
     "text": [
      "150\n",
      "4\n",
      "Цепочка:  [1, 2, 3, 4, 6, 8, 16, 32, 64, 128, 144, 156, 300] \n",
      "Длина цепочки:  13\n"
     ]
    }
   ],
   "source": [
    "def f (z, a, k):\n",
    "    sum = 0\n",
    "    for i in range(0, len(a)):\n",
    "        if z == a[i]:\n",
    "            sum += 2 ** (i * k)\n",
    "    return sum\n",
    "def simpBinary (n):\n",
    "    b = []\n",
    "    while (n):\n",
    "        if (n % 2):\n",
    "            b.append('X')\n",
    "            b.append('S')\n",
    "        else:\n",
    "            b.append('S')\n",
    "        n = n // 2\n",
    "    b.reverse()\n",
    "    b = b[2:]\n",
    "    vec = []\n",
    "    n = 1\n",
    "    vec.append(n)\n",
    "    for i in b:\n",
    "        if (i == 'S'):\n",
    "            n = n + n\n",
    "        if (i == 'X'):\n",
    "            n = n + 1\n",
    "        vec.append(n)\n",
    "    return vec\n",
    "n = int(input())\n",
    "k = int(input())\n",
    "a = []\n",
    "temp = n\n",
    "while(n):\n",
    "    a.append(n % (2 ** k))\n",
    "    n = n // (2 ** k)\n",
    "n = temp\n",
    "chain = set()\n",
    "for i in range(0, len(a)*k):\n",
    "    chain.add(2 ** i)\n",
    "z = []\n",
    "for i in range(1, 2**k ):\n",
    "    z.append(i)\n",
    "newZ  = []\n",
    "for i in z:\n",
    "    if f(i, a, k) != 0:\n",
    "        newZ.append(i)\n",
    "z = newZ\n",
    "buff = 0\n",
    "for i in z:\n",
    "    vec = simpBinary (i)\n",
    "    temp += i * f(i, a, k)\n",
    "    for j in vec:\n",
    "        chain.add(j * f(i, a, k))\n",
    "    chain.add(temp)\n",
    "chain = sorted(chain)\n",
    "print(\"Цепочка: \", chain, \"\\nДлина цепочки: \", len(chain))"
   ]
  },
  {
   "cell_type": "markdown",
   "metadata": {},
   "source": [
    "Сделаем несколько тестов и занесем результаты в таблицу ниже."
   ]
  },
  {
   "cell_type": "markdown",
   "metadata": {},
   "source": [
    "| n | k | цепочка Яо | длина | минимальная АЦ |\n",
    "|:-:|:-:|:-:|:-:|:-:|\n",
    "| 56 | 3 | [1, 2, 4, 8, 16, 24, 32, 48, 56] | 9 | 7 |\n",
    "| 25 | 2 |  [1, 2, 4, 8, 16, 17, 32, 42, 50] | 9 | 7 |\n",
    "| 125 | 2 |  [1, 2, 4, 8, 16, 20, 32, 40, 60, 64, 65, 128, 190, 250] | 14 | 10 |\n",
    "| 125 | 3 | [1, 2, 4, 5, 8, 16, 24, 32, 48, 56, 64, 128, 189, 194, 250, 256]| 16 | 10 |\n",
    "| 150 | 2 | [1, 2, 4, 8, 16, 20, 32, 64, 65, 128, 130, 170, 300] | 13 | 10 |\n",
    "| 150 | 3 | [1, 2, 3, 4, 6, 8, 16, 32, 64, 72, 128, 144, 256, 294, 300] | 15 | 10 |"
   ]
  },
  {
   "cell_type": "markdown",
   "metadata": {},
   "source": [
    "Смотря на таблицу выше, можно сделать вывод о том, что алгоритмом Яо аддитивные цепочки не являются минимальными, но при определенных k достаточно близки к ним.\n",
    "\n",
    "3. Ниже представлена реализация алгоритма дробления вектора индексов для нахождения минимальной звёздной цепочки для заданного числа.\n",
    "\n",
    "\n"
   ]
  },
  {
   "cell_type": "code",
   "execution_count": 5,
   "metadata": {},
   "outputs": [
    {
     "name": "stdout",
     "output_type": "stream",
     "text": [
      "501\n",
      " 12.012291193008423 sec\n",
      "Вектор -  [1, 2, 3, 4, 5, 6, 6, 3, 9, 10, 9, 1]\n",
      "Цепочка -  [1, 2, 4, 8, 16, 32, 64, 96, 100, 200, 400, 500, 501]\n"
     ]
    }
   ],
   "source": [
    "import time\n",
    "\n",
    "def initV (n):\n",
    "    if(n != 1):\n",
    "        return initV(n // 2) + n % 2\n",
    "    else:\n",
    "        return 1\n",
    "\n",
    "def initVec(m):\n",
    "    return [1 for x in range(m)]\n",
    "\n",
    "def initVec2(m):\n",
    "    vec = []\n",
    "    for i in range(1, m):\n",
    "        vec.append(i)\n",
    "    return vec\n",
    "\n",
    "def nextVecFirst(vec, q):\n",
    "    for i in range(q, 1, -1):\n",
    "        if vec[i-1] > 1:\n",
    "            vec[i-1] -= 1\n",
    "            break\n",
    "        if(vec[i-1] == 1):\n",
    "            vec[i-1] = i\n",
    "    return vec\n",
    "\n",
    "def nextVecSec(vec, q, m):\n",
    "    for i in range(m, q, -1):\n",
    "        if vec[i-1] > 1:\n",
    "            vec[i-1] -= 1\n",
    "            break\n",
    "        if(vec[i-1] == 1):\n",
    "            vec[i-1] = i\n",
    "    return vec\n",
    "\n",
    "def splittingVec(n):\n",
    "    low_l = n.bit_length()\n",
    "    high_l = low_l + initV(n) - 1\n",
    "    flag = 0\n",
    "    for m in range(low_l, high_l + 1):\n",
    "        vec = initVec2(m)\n",
    "        q = m // 2 - 1\n",
    "\n",
    "        while True:\n",
    "            chain = []\n",
    "            chain.append(1)\n",
    "            for i in vec:\n",
    "                chain.append(chain[-1] + chain[i-1])\n",
    "            if chain[m-1] == n:\n",
    "                flag = 1\n",
    "                break\n",
    "            aMin = chain[q] + m - q\n",
    "            aMax = chain[q]*2**(m - q )\n",
    "            if n in range(aMin, aMax + 1):\n",
    "                vector = nextVecSec(vec, q, m-1)\n",
    "                if vec[q:] == initVec(m-q-1):\n",
    "                    break\n",
    "            else:\n",
    "                vec = nextVecFirst(vec, q)\n",
    "                if vec[:q] == initVec(q):\n",
    "                    break\n",
    "        if flag:\n",
    "            break\n",
    "    return vec, chain\n",
    "\n",
    "startTime = time.time()\n",
    "vec, chain = splittingVec(int(input()))\n",
    "print(\" %s sec\" % (time.time() - startTime))        \n",
    "print('Вектор - ', vec)\n",
    "print('Цепочка - ', chain)"
   ]
  },
  {
   "cell_type": "markdown",
   "metadata": {},
   "source": [
    "При  $ n \\geqslant 500 $  алгоритм дробления ВИ занимает большее время, чем остальные методы, но для относительно небольших чисел более точно находит минимальную АЦ.\n",
    "Например, при $ n = 550 $ вычисление заняло  11.30932354927063 секунд, цепочка - [1, 2, 4, 8, 16, 32, 64, 128, 256, 512, 544, 548, 550], а при 1001 - 77.94462323188782 секунд, цепочка - [1, 2, 4, 8, 16, 32, 64, 128, 192, 200, 400, 800, 1000, 1001]."
   ]
  },
  {
   "cell_type": "markdown",
   "metadata": {},
   "source": [
    "4. Проверим следствие теоремы Брауэра. Код представлен ниже:"
   ]
  },
  {
   "cell_type": "code",
   "execution_count": null,
   "metadata": {},
   "outputs": [],
   "source": [
    "def generatePoint():\n",
    "    n = []\n",
    "    y =[]\n",
    "    d =[]\n",
    "    for i in range(2, 200):\n",
    "        n.append(i)\n",
    "        vector, chain = splittingVector(i)\n",
    "        y.append(len(chain))\n",
    "        d.append((i, len(chain)))\n",
    "    return n, y, d   \n",
    "n, y, d = generatePoint()\n",
    "sum_xy = 0\n",
    "sum_x = 0\n",
    "sum_y = 0\n",
    "sum_quart_x = 0\n",
    "\n",
    "for i in range(len(xi)):\n",
    "        sumxy += y[i] * log(n[i],2)\n",
    "        sumx += log(n[i],2) \n",
    "        sumy += y[i]\n",
    "        sumquartx += log(n[i],2)**2\n",
    "a = (len(n)*sumxy - sumx*sumy)/(len(n)*sumquartx - sumx**2)\n",
    "b = (sumy - a*sumx)/len(n)\n",
    "p1 = point(d)\n",
    "p2 = plot(a*log(x,2) + b, (x, 0, 200), color = 'red')\n",
    "show(p1+p2)"
   ]
  },
  {
   "attachments": {
    "image-3.png": {
     "image/png": "[encoded data removed]"
    }
   },
   "cell_type": "markdown",
   "metadata": {},
   "source": [
    "![image-3.png](attachment:image-3.png)\n",
    "5. Проверим теорему Шольца-Брауэра. Для этого для нескольких n проведем алгоритм дробления ВИ и проверим неравенство.\n",
    "\n",
    "| n | длина ЗЦ | \n",
    "|:-:|:-:|\n",
    "| 2 | 1 | \n",
    "| 3 | 2 | \n",
    "| 5 | 3 | \n",
    "| 10 | 4 | \n",
    "\n",
    "При $ n=5 $ : $ l(2^5-1) = l(5) + 5 - 1 $\n",
    "$ l(31) = 3 + 5 - 1 $ Обе части выражения равны 7, что и требовалось доказать."
   ]
  },
  {
   "cell_type": "markdown",
   "metadata": {},
   "source": [
    "## Вывод"
   ]
  },
  {
   "cell_type": "markdown",
   "metadata": {},
   "source": [
    "В ходе выполнения лабораторной работы были сформированы представления о аддитивных цепочках, выработано умение составлять и применять алгоритмы для нахождения минимальных аддитивных цепочек для заданного числа, привиты навык использования систем компьютерной алгебры для реализации алгоритмов.\n",
    "Были реализованы такие алгоритмы, как бинарный метод, метод множителей, алгоритм Яо, алгоритм дробления вектора индексов. Все написанные программы были проведены тесты. Были проверены следствие теоремы Брауэра и гипотеза Шольца–Брауэра."
   ]
  }
 ],
 "metadata": {
  "kernelspec": {
   "display_name": "SageMath 9.2",
   "language": "sage",
   "name": "sagemath"
  },
  "language_info": {
   "codemirror_mode": {
    "name": "ipython",
    "version": 3
   },
   "file_extension": ".py",
   "mimetype": "text/x-python",
   "name": "python",
   "nbconvert_exporter": "python",
   "pygments_lexer": "ipython3",
   "version": "3.7.7"
  }
 },
 "nbformat": 4,
 "nbformat_minor": 4
}
