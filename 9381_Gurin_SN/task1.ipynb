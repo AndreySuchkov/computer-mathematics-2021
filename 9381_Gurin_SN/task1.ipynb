{
 "cells": [
  {
   "cell_type": "markdown",
   "metadata": {},
   "source": [
    "# Практическая работа №1: Исследование алгоритмов формирования аддитивных цепочек"
   ]
  },
  {
   "cell_type": "markdown",
   "metadata": {},
   "source": [
    "Выполнил студент гр. 9381 Гурин Семен Вариант 48"
   ]
  },
  {
   "cell_type": "markdown",
   "metadata": {},
   "source": [
    "## Цель работы"
   ]
  },
  {
   "cell_type": "markdown",
   "metadata": {},
   "source": [
    "Формирование представления о аддитивных цепочках, выработать умение составлять и применять алгоритмы для нахождения минимальных аддитивных цепочек для заданного числа, привить навык использования систем компьютерной алгебры для реализации алгоритмов."
   ]
  },
  {
   "cell_type": "markdown",
   "metadata": {},
   "source": [
    "## Теоретические положения"
   ]
  },
  {
   "cell_type": "markdown",
   "metadata": {},
   "source": [
    "### Бинарный метод"
   ]
  },
  {
   "cell_type": "markdown",
   "metadata": {},
   "source": [
    "Двоичное возведение в степень - это метод, который позволят возводить любое число в $n$-ю степень за $O(log(n))$.\n",
    "Для любого числа $a$ и чётного числа $n$ выполняется: $a^n = (a^{n/2})^{n/2} = a^{n/2}*a^{n/2}$.\n",
    "Если степень $n$ чётна, то переходим к чётной степени $n-1$: $a^n = a^{n-1}*a$.\n",
    "В итоге от степени $n$ если она чётная переходим к меньшей степени $n/2$, а если нечётная, то к $n-1$, таким образом доходим до базы рекурсии $n = 0$.\n",
    "Количество операций умножений равно $\\lambda(n) + \\nu(n) -1$, где $\\lambda(n) = \\lfloor lb(n) \\rfloor$ и $\\nu(n)$ - количество единиц в бинарном представлении числа."
   ]
  },
  {
   "cell_type": "markdown",
   "metadata": {},
   "source": [
    "### Метод множителей"
   ]
  },
  {
   "cell_type": "markdown",
   "metadata": {},
   "source": [
    "Метод множителей - один из методов быстрого возведения числа в степень $n \\in \\mathbb{N}$. В данном методе степень n представляется как произведение двух чисел $n = i \\cdot j$, где $i$ - наименьший простой множитель числа $n, а j > 1$. Сначала число возводится в степень $i$, затем результат возводится в степень $j$. В результате получится необходимое возведение в степень $n$. Если число $n$ - простое, то на множители $i$ и $j$ раскладывается число $n-1$, число возводится в эту степень и домножается само на себя, чтобы получилось возведение в степень $n$."
   ]
  },
  {
   "cell_type": "markdown",
   "metadata": {},
   "source": [
    "### Аддитивная цепочка"
   ]
  },
  {
   "cell_type": "markdown",
   "metadata": {},
   "source": [
    "Аддитивной цепочкой для числа n $\\in \\mathbb{N}$ называется последовательность чисел $ 1 = a_1, a_2, a_3, ..., a_m = n $, где $ a_i = a_j + a_k, k \\leqslant j; i, i = 1..n $. $l(n)$ - минимальная длина аддитивной цепочки. $\\forall n \\leqslant 1000$ справедлива рекурентная формула: $l(n) = min\\{ l(n-1)+1, l_n\\} - \\delta_n$, где $l_p = \\begin{cases} \\infty \\text{, если p - простое число} \\\\ l(q) + l(\\frac{p}{q}) \\text{, если q - минимальный простой делитель числа p} \\end{cases}$, $\\delta_n\\in\\{0, 1\\}$\n"
   ]
  },
  {
   "cell_type": "markdown",
   "metadata": {},
   "source": [
    "### Алгоритм Яо"
   ]
  },
  {
   "cell_type": "markdown",
   "metadata": {},
   "source": [
    "Алгоритм Яо - это алгоритм, вычисляющий аддитивную цепочку для числа $n \\in N$. Выбирается $k$ и, если $n, k \\leq 2$, тогда представим $n$ в cледующем виде: $n = \\sum_{i = 0}^{j}a_i*2^{i*k}, a_j \\neq 0$\n",
    "\n",
    "Определим функцию $d(z)$, как сумму чисел $2^{i*k}, \\forall i: a_i = z$\n",
    "\n",
    "В начале аддитивная цепочка Яо имеет следующий вид: $1, 2, 4, 8, ..., 2^k$\n",
    "\n",
    "Затем находим $z*d(z), \\forall z \\in \\{1, 2, 3, ..., 2^{k-1}\\}, d(z) \\neq 0$\n",
    "\n",
    "Получаем $n = \\sum_{z = 1}^{2^{k-1}}z*d(z)$\n",
    "\n",
    "Алгоритм Яо не гарантирует минимальности аддитивной цепочки."
   ]
  },
  {
   "cell_type": "markdown",
   "metadata": {},
   "source": [
    "### Алгоритм дробления вектора индексов"
   ]
  },
  {
   "cell_type": "markdown",
   "metadata": {},
   "source": [
    "Алгоритм дробления вектора индексов является точным алгоритмом и находит минимальную звёздную цепочку для числа $ n $.\n",
    "\n",
    "Введём определение вектора индексов: $\\exists \\text{ звёздная цепочка } l^*(n) = m, {\\{a_i\\}}_{i=1}^m, a_1 = 1$, тогда можно задать вектор индексов ${\\{r_i\\}}_{i=1}^{m-1}\\text{, где } r_i = \\{x: 1\\leqslant x\\leqslant i\\}$. Шаг звёздной цепочки можно переписать следуюшим образом: $a_i = a_{i-1} + a_{r_{i-1}}\\text{, где }2\\leqslant i\\leqslant m$.\n",
    "\n",
    "Наибольшая звёздная цепочка $S_{max} = \\{1, 2, 4, 8, ..., 2^m\\}$ соответсвует вектору индексов $r_{max} = \\{1, 2, 3, 4, ..., m-1\\}$. Наименьшая звёздная цепочка $S_{min} = \\{1, 2, 3, 4, ..., m\\}$ соответсвует вектору индексов $r_{min} = \\{1, 1, 1, 1, ..., 1\\}$.\n",
    "\n",
    "Будем считать, что $r = {\\{r_i\\}}_{i=1}^{m-1}$, больше чем $\\tilde r = {\\{\\tilde r_i\\}}_{i=1}^{m-1}$, если $r_1 = \\tilde r_1$, $r_2 = \\tilde r_2$, $r_3 = \\tilde r_3$, $r_{i-1} = \\tilde r_{i-1}$, ..., $r_i > \\tilde r_i$\n",
    "\n",
    "Нахождение минимальной длины звёздной цепочки происходит с помощью перебора. Вектор индексов разбивается на два вектора: $r = {\\{r_i\\}}_{i=1}^{q}$ - фиксированный вектор, $\\rho = {\\{\\rho_j\\}}_{j=q+1}^{m-1}$ меняющийся вектор. Можно заметить, что наибольшее значение $a_m$ достигается при векторе индексов ${\\{r_i\\}}_{i=1}^{q} \\cup \\{q+1, q+2, ..., m-1\\}, \\ a_{min} = a_{q+1}\\cdot2^{m-q}$. Наименьшее значение $a_m$ достигается при векторе индексов ${\\{r_i\\}}_{i=1}^{q} \\cup \\{1, 1, ..., 1\\}, \\ a_{max} = a_{q+1}+m-q$."
   ]
  },
  {
   "cell_type": "markdown",
   "metadata": {},
   "source": [
    "### Гипотеза Шольца-Брауэра"
   ]
  },
  {
   "cell_type": "markdown",
   "metadata": {},
   "source": [
    "$l^*(2^n - 1) \\leq l^*(n) + n - 1$, где $l^*(n)$ - минимальная длина звездной цепочки для числа n."
   ]
  },
  {
   "cell_type": "markdown",
   "metadata": {},
   "source": [
    "## Постановка задачи"
   ]
  },
  {
   "cell_type": "markdown",
   "metadata": {},
   "source": [
    "Реализовать точные и приближённые алгоритмы нахождения минимальных аддитивных цепочек с использованием системы компьютерной алгебры SageMath, провести анализ алгоритмов. Полученные результаты содержательно проинтерпретировать.\n",
    "1. Применить бинарный метод и метод множителей для xn, где n⩾30, для 2-3 значений n (значения n выбирается студентом самостоятельно). Сравнить количество операций для каждого метода, сделать выводы.\n",
    "2. Реализовать алгоритм Яо для вычисления приближённых аддитивных цепочек для различных чисел при варьировании параметра k, сопоставить длины полученных аддитивных цепочек с минимальной аддитивной цепочкой для заданного числа. Сделать выводы.\n",
    "3. Реализовать алгоритм дробления вектора индексов для нахождения минимальной звёздной цепочки для заданного числа. Протестировать алгоритм при n>500. Указать, сколько времени потребовалось на поиск цепочки и какая цепочка получилась. Сравнить с предыдущими методами, сделать выводы.\n",
    "4. Проверить следствие 1 теоремы Брауэра для n=1..200 путём построения функции l(n) и аппроксимирующей кривой, полученной с помощью метода наименьших квадратов. Сопоставить функции на одном графике, сделать выводы.\n",
    "5. Проверить гипотезу Шольца–Брауэра для 1<n⩽10 на алгоритме дробления вектора индексов. Сделать выводы.\n",
    "6. Дополнительное необязательное задание: найти и/или предложить модификации алгоритмов и привести описание модификаций. Реализовать модифицированные алгоритмы и сравнить их мощность."
   ]
  },
  {
   "cell_type": "markdown",
   "metadata": {},
   "source": [
    "## Выполенине  работы"
   ]
  },
  {
   "cell_type": "markdown",
   "metadata": {},
   "source": [
    "### 1. Бинарный метод и метод множителей"
   ]
  },
  {
   "cell_type": "markdown",
   "metadata": {},
   "source": [
    "#### Реализация методов:"
   ]
  },
  {
   "cell_type": "code",
   "execution_count": 37,
   "metadata": {},
   "outputs": [],
   "source": [
    "def binary_method(x, n):\n",
    "    result = x\n",
    "    steps = 0\n",
    "    \n",
    "    for i in bin(n)[3:]:\n",
    "        if i == '0':\n",
    "            result *= result\n",
    "        else:\n",
    "            result *= result * x\n",
    "            steps += 1\n",
    "        steps += 1\n",
    "    return [result, steps]"
   ]
  },
  {
   "cell_type": "code",
   "execution_count": 38,
   "metadata": {},
   "outputs": [],
   "source": [
    "def mul_method(x, n):\n",
    "    F = factor(n)\n",
    "    if F[0][0] == n:\n",
    "        result = binary_method(x, n-1)\n",
    "        result[0] = result[0] * x\n",
    "        result[1] = result[1] + 1\n",
    "        return result\n",
    "    a = binary_method(x, F[0][0])\n",
    "    b = binary_method(a[0], n // F[0][0])\n",
    "    return [b[0], a[1] + b[1]]"
   ]
  },
  {
   "cell_type": "code",
   "execution_count": 39,
   "metadata": {},
   "outputs": [
    {
     "name": "stdout",
     "output_type": "stream",
     "text": [
      "Для x = 1 :\n",
      "    Степень: 1000\n",
      "        Бинарный Метод: 14\n",
      "        Метод Множителей 14\n",
      "    Степень: 1001\n",
      "        Бинарный Метод: 15\n",
      "        Метод Множителей 15\n",
      "    Степень: 1002\n",
      "        Бинарный Метод: 15\n",
      "        Метод Множителей 15\n",
      "    Степень: 1003\n",
      "        Бинарный Метод: 16\n",
      "        Метод Множителей 14\n",
      "    Степень: 1004\n",
      "        Бинарный Метод: 15\n",
      "        Метод Множителей 15\n",
      "    Степень: 1005\n",
      "        Бинарный Метод: 16\n",
      "        Метод Множителей 15\n",
      "    Степень: 1006\n",
      "        Бинарный Метод: 16\n",
      "        Метод Множителей 16\n",
      "    Степень: 1007\n",
      "        Бинарный Метод: 17\n",
      "        Метод Множителей 14\n",
      "    Степень: 1008\n",
      "        Бинарный Метод: 14\n",
      "        Метод Множителей 14\n",
      "    Степень: 1009\n",
      "        Бинарный Метод: 15\n",
      "        Метод Множителей 15\n",
      "    Степень: 1010\n",
      "        Бинарный Метод: 15\n",
      "        Метод Множителей 15\n",
      "    Степень: 1011\n",
      "        Бинарный Метод: 16\n",
      "        Метод Множителей 13\n",
      "    Степень: 1012\n",
      "        Бинарный Метод: 15\n",
      "        Метод Множителей 15\n",
      "    Степень: 1013\n",
      "        Бинарный Метод: 16\n",
      "        Метод Множителей 16\n",
      "    Степень: 1014\n",
      "        Бинарный Метод: 16\n",
      "        Метод Множителей 16\n",
      "    Степень: 1015\n",
      "        Бинарный Метод: 17\n",
      "        Метод Множителей 14\n",
      "    Степень: 1016\n",
      "        Бинарный Метод: 15\n",
      "        Метод Множителей 15\n",
      "    Степень: 1017\n",
      "        Бинарный Метод: 16\n",
      "        Метод Множителей 14\n",
      "    Степень: 1018\n",
      "        Бинарный Метод: 16\n",
      "        Метод Множителей 16\n",
      "    Степень: 1019\n",
      "        Бинарный Метод: 17\n",
      "        Метод Множителей 17\n",
      "    Степень: 1020\n",
      "        Бинарный Метод: 16\n",
      "        Метод Множителей 16\n",
      "    Степень: 1021\n",
      "        Бинарный Метод: 17\n",
      "        Метод Множителей 17\n",
      "    Степень: 1022\n",
      "        Бинарный Метод: 17\n",
      "        Метод Множителей 17\n",
      "    Степень: 1023\n",
      "        Бинарный Метод: 18\n",
      "        Метод Множителей 14\n",
      "    Степень: 1024\n",
      "        Бинарный Метод: 10\n",
      "        Метод Множителей 10\n",
      "    Степень: 1025\n",
      "        Бинарный Метод: 11\n",
      "        Метод Множителей 14\n",
      "    Степень: 1026\n",
      "        Бинарный Метод: 11\n",
      "        Метод Множителей 11\n",
      "    Степень: 1027\n",
      "        Бинарный Метод: 12\n",
      "        Метод Множителей 15\n",
      "    Степень: 1028\n",
      "        Бинарный Метод: 11\n",
      "        Метод Множителей 11\n",
      "    Степень: 1029\n",
      "        Бинарный Метод: 12\n",
      "        Метод Множителей 15\n",
      "    Степень: 1030\n",
      "        Бинарный Метод: 12\n",
      "        Метод Множителей 12\n"
     ]
    }
   ],
   "source": [
    "results = []; print_text = []\n",
    "\n",
    "for j in range(1,32,1):\n",
    "    binr = binary_method(1, 1000-1 + j)\n",
    "    mmr = mul_method(1, 1000-1 + j)\n",
    "    row = [binr[0], 1000-1+j, binr[1], mmr[1]]\n",
    "    results.append(row)\n",
    "    \n",
    "for row in results:\n",
    "    print_text.append([x for x in row])\n",
    "    \n",
    "print('Для x =', print_text[0][0],':')    \n",
    "for i in range(len(print_text)):\n",
    "    print('    Степень:', print_text[i][1])\n",
    "    print('        Бинарный Метод:', print_text[i][2])\n",
    "    print('        Метод Множителей', print_text[i][3])"
   ]
  },
  {
   "cell_type": "markdown",
   "metadata": {},
   "source": [
    "#### Вывод\n",
    "Исследование показало, что во многих случаев методы выполняются примерно за одинаковое кол-во операций. Но в большенстве своем метод множителей бывает эффективнее бинарного метода. Так же при $n=2^k+1$, где $k\\in \\mathbb{N}$, бинарный метод совершает меньшее колличество операций, но при $n=2^k-1$, где $k\\in \\mathbb{N}$ бинарный метод явно уступает."
   ]
  },
  {
   "cell_type": "markdown",
   "metadata": {},
   "source": [
    "### 2. Алгоритм Яо"
   ]
  },
  {
   "cell_type": "markdown",
   "metadata": {},
   "source": [
    "#### Реализация метода:"
   ]
  },
  {
   "cell_type": "code",
   "execution_count": 40,
   "metadata": {},
   "outputs": [],
   "source": [
    "import math\n",
    "\n",
    "def func_z(z, dz):\n",
    "    result = [dz]\n",
    "    m_Z = dz\n",
    "    bin_z = bin(z)[3:]\n",
    "    for i in bin_z:\n",
    "        if i == '0':\n",
    "            m_Z += m_Z\n",
    "            result.append(m_Z)\n",
    "        elif i == '1':\n",
    "            m_Z += m_Z\n",
    "            result.append(m_Z)\n",
    "            m_Z += dz\n",
    "            result.append(m_Z)\n",
    "    return result"
   ]
  },
  {
   "cell_type": "code",
   "execution_count": 41,
   "metadata": {},
   "outputs": [],
   "source": [
    "def jao_alg(x, k):\n",
    "    result = []\n",
    "    m_Chain = []\n",
    "    m_X = x\n",
    "    count = 0\n",
    "    \n",
    "    while (m_X != 0):\n",
    "        m_Chain.append(m_X % 2 ** k)\n",
    "        m_X //= 2 ** k\n",
    "    for i in range(int(math.log(x, 2)) + 1):\n",
    "        result.append(2 ** i)\n",
    "   \n",
    "    for z in range(1, 2 ** (k) + 1):\n",
    "        dz = 0\n",
    "        for i in range(0, len(m_Chain)):\n",
    "            if m_Chain[i] == z:\n",
    "                dz += 2 ** (k * i)\n",
    "                if dz not in result:\n",
    "                    result.append(dz)\n",
    "        if (dz == 0):\n",
    "            continue\n",
    "            \n",
    "        m_Dz = func_z(z, dz)\n",
    "        \n",
    "        for indexDz in m_Dz:\n",
    "            if indexDz not in result:\n",
    "                result.append(indexDz)\n",
    "                \n",
    "        if len(m_Dz) == 0:\n",
    "            continue\n",
    "            \n",
    "        count += m_Dz[-1]\n",
    "        if count not in result:\n",
    "            result.append(count)\n",
    "    return result"
   ]
  },
  {
   "cell_type": "code",
   "execution_count": 42,
   "metadata": {},
   "outputs": [
    {
     "name": "stdout",
     "output_type": "stream",
     "text": [
      "n =  3\n",
      "    k = 4 AC = [1, 2, 3] Length = 3\n",
      "    k = 5 AC = [1, 2, 3] Length = 3\n",
      "    k = 6 AC = [1, 2, 3] Length = 3\n",
      "n =  12\n",
      "    k = 4 AC = [1, 2, 4, 8, 3, 6, 12] Length = 7\n",
      "    k = 5 AC = [1, 2, 4, 8, 3, 6, 12] Length = 7\n",
      "    k = 6 AC = [1, 2, 4, 8, 3, 6, 12] Length = 7\n",
      "n =  43\n",
      "    k = 4 AC = [1, 2, 4, 8, 16, 32, 5, 10, 11, 43] Length = 10\n",
      "    k = 5 AC = [1, 2, 4, 8, 16, 32, 5, 10, 11, 43] Length = 10\n",
      "    k = 6 AC = [1, 2, 4, 8, 16, 32, 5, 10, 20, 21, 42, 43] Length = 12\n",
      "n =  128\n",
      "    k = 4 AC = [1, 2, 4, 8, 16, 32, 64, 128] Length = 8\n",
      "    k = 5 AC = [1, 2, 4, 8, 16, 32, 64, 128] Length = 8\n",
      "    k = 6 AC = [1, 2, 4, 8, 16, 32, 64, 128] Length = 8\n",
      "n =  220\n",
      "    k = 4 AC = [1, 2, 4, 8, 16, 32, 64, 128, 3, 6, 12, 48, 96, 192, 208, 220] Length = 16\n",
      "    k = 5 AC = [1, 2, 4, 8, 16, 32, 64, 128, 96, 192, 3, 6, 7, 14, 28, 220] Length = 16\n",
      "    k = 6 AC = [1, 2, 4, 8, 16, 32, 64, 128, 192, 3, 6, 7, 14, 28, 220] Length = 15\n",
      "n =  322\n",
      "    k = 4 AC = [1, 2, 4, 8, 16, 32, 64, 128, 256, 258, 322] Length = 11\n",
      "    k = 5 AC = [1, 2, 4, 8, 16, 32, 64, 128, 256, 160, 320, 322] Length = 12\n",
      "    k = 6 AC = [1, 2, 4, 8, 16, 32, 64, 128, 256, 320, 322] Length = 11\n"
     ]
    }
   ],
   "source": [
    "a = 4\n",
    "b = [3,12,43,128,220,322]\n",
    "for i in b:\n",
    "    res_1 = jao_alg(i, a)\n",
    "    res_2 = jao_alg(i, a+1)\n",
    "    res_3 = jao_alg(i, a+2)\n",
    "    \n",
    "    print(\"n = \", i)\n",
    "    print(\"    k =\", a, \"AC =\" ,res_1, \"Length =\", len(res_1))\n",
    "    print(\"    k =\", a+1, \"AC =\" ,res_2, \"Length =\", len(res_2))\n",
    "    print(\"    k =\", a+2, \"AC =\" ,res_3, \"Length =\", len(res_3))"
   ]
  },
  {
   "cell_type": "markdown",
   "metadata": {},
   "source": [
    "#### Вывод\n",
    "Результаты работы программы варьируются в зависимости от использованного коэффициента k, при этом прямой зависимости работы для определенного числа от коэффициента нет, для каждого числа свой оптимальный k."
   ]
  },
  {
   "cell_type": "markdown",
   "metadata": {},
   "source": [
    "### 3. Алгоритм дробления вектора индексов для нахождения минимальной звёздной цепочки для заданного числа"
   ]
  },
  {
   "cell_type": "markdown",
   "metadata": {},
   "source": [
    "#### Реализация алгоритма:"
   ]
  },
  {
   "cell_type": "code",
   "execution_count": 77,
   "metadata": {},
   "outputs": [],
   "source": [
    "def make_chain(r_i, ro_i):\n",
    "    q = len(r_i);\n",
    "    result = [1]\n",
    "    for index in r_i:\n",
    "        result.append(result[-1] + result[index - 1])\n",
    "    for index in ro_i:\n",
    "        result.append(result[-1] + result[index - 1])\n",
    "    return result"
   ]
  },
  {
   "cell_type": "code",
   "execution_count": 78,
   "metadata": {},
   "outputs": [],
   "source": [
    "def inc_vector(ind_vec, start_index=1):\n",
    "    cur_max_index = start_index + len(ind_vec) - 1\n",
    "    for i in range(1, len(ind_vec) + 1):\n",
    "        ind_vec[-i] += 1\n",
    "        if ind_vec[-i] > cur_max_index:\n",
    "            if i == len(ind_vec):\n",
    "                ind_vec.append(1)\n",
    "                break\n",
    "            ind_vec[-i] = 1;\n",
    "            cur_max_index -= 1\n",
    "        else:\n",
    "            break"
   ]
  },
  {
   "cell_type": "code",
   "execution_count": 79,
   "metadata": {},
   "outputs": [],
   "source": [
    "def decomposition_vector(n):\n",
    "    m = int(log(n, 2))\n",
    "    if m == log(n, 2):\n",
    "        m -= 1\n",
    "    while m <= m + bin(n).count('1') - 1:\n",
    "        q = int(m/2)\n",
    "        if q == 0:\n",
    "            q = 1\n",
    "        r_i = [1 for i in range(q)]\n",
    "        while len(r_i) == q:\n",
    "            ro_i = [1 for i in range(m - q)]\n",
    "            result = make_chain(r_i, ro_i)\n",
    "            if result[-1] == n:\n",
    "                return result\n",
    "            if n < result[q] + m - q or n > result[q] * 2 ** (m - q):\n",
    "                inc_vector(r_i)\n",
    "                continue\n",
    "            while len(ro_i) == m - q:\n",
    "                result = make_chain(r_i, ro_i)\n",
    "                if result[-1] == n:\n",
    "                    return result\n",
    "                inc_vector(ro_i, q + 1)\n",
    "            inc_vector(r_i)\n",
    "        m += 1"
   ]
  },
  {
   "cell_type": "code",
   "execution_count": null,
   "metadata": {},
   "outputs": [],
   "source": [
    "import time\n",
    "\n",
    "start = time.time()\n",
    "chain = decomposition_vector(502)\n",
    "end = time.time()\n",
    "print('n = 501 AC:', chain, 'Length = ',len(chain), 'time = ',end - start,'sec')"
   ]
  },
  {
   "cell_type": "markdown",
   "metadata": {},
   "source": [
    "#### Вывод\n",
    "Алгоритм дробления ВИ, является самым эффективным, потому-что дает, самый точный результат, но что бы добиться такой точности приходится тратить много времени на работу алгоритма. Если речь идет о скорости работы, то подойдут алгоритмы, которые были описаны выше, они очень быстро высчитывают цепочку, но она часто получается не минимальной."
   ]
  },
  {
   "cell_type": "markdown",
   "metadata": {},
   "source": [
    "### 4. Проверить следствие 1 теоремы Брауэра для $n=1..200$"
   ]
  },
  {
   "cell_type": "markdown",
   "metadata": {},
   "source": [
    "#### Реализация:"
   ]
  },
  {
   "cell_type": "code",
   "execution_count": 80,
   "metadata": {},
   "outputs": [],
   "source": [
    "import matplotlib.pyplot as plt\n",
    "import numpy as np\n",
    "from scipy.optimize import leastsq\n",
    "\n",
    "def len_chains(n):\n",
    "    lens = [0]\n",
    "    for i in range(2, n + 1):\n",
    "        q = factor(i)[0][0]\n",
    "        if n in [23, 43, 59, 77, 83, 107, 149, 163, 165, 179, 203]:\n",
    "            s = 1\n",
    "        else:\n",
    "            s = 0\n",
    "        if q == i:\n",
    "            lens.append(lens[-1] + 1 - s)\n",
    "        else:\n",
    "            lens.append(min(lens[-1] + 1, lens[q - 1] + lens[i/q - 1]) - s)\n",
    "    return [i + 1 for i in range(i)], [i + 1 for i in lens]"
   ]
  },
  {
   "cell_type": "code",
   "execution_count": 81,
   "metadata": {},
   "outputs": [
    {
     "data": {
      "image/png": "[encoded data removed]",
      "text/plain": [
       "<Figure size 432x288 with 1 Axes>"
      ]
     },
     "metadata": {
      "needs_background": "light"
     },
     "output_type": "display_data"
    }
   ],
   "source": [
    "def plot_app(x, y):\n",
    "    m = matrix([[sum([float((log(i))**2) for i in x]), sum([float(log(i)) for i in x])], [sum([float(log(i)) for i in x]), len(x)]])\n",
    "    vec = vector([sum([float(y[i] * log(x[i])) for i in range(len(x))]), sum(y)])\n",
    "    solution = m.solve_right(vec)\n",
    "    plt.plot(x, [solution[0] * log(i) + solution[1] for i in x],color='black',linewidth=1)\n",
    "    plt.scatter(ns, lens, color='red', marker='o',s=7)\n",
    "\n",
    "ns, lens = len_chains(200)\n",
    "plot_app(ns, lens)\n",
    "\n"
   ]
  },
  {
   "cell_type": "markdown",
   "metadata": {},
   "source": [
    "#### Вывод\n",
    "Из графика видно, что функция $l(n)$ апроксимируется логарифмической кривой. Это подтверждает следствие теоремы Брауэра $\\lim\\limits_{x\\to\\infty} \\cfrac{l(n)}{\\lambda(n)} = 1$. С увеличением $n,\\ l(n)$ будет увеличиваться как логарифмическая функция. Поэтому $l(n)$ и $\\lambda(n)$ будут эквивалентны на бесконечности."
   ]
  },
  {
   "cell_type": "markdown",
   "metadata": {},
   "source": [
    "### 5. Проверка гипотезы Шольца-Брауэра"
   ]
  },
  {
   "cell_type": "code",
   "execution_count": null,
   "metadata": {},
   "outputs": [
    {
     "name": "stdout",
     "output_type": "stream",
     "text": [
      "Для n= 2 | l^*(2^n-1) : 3 | l^*(n) + n - 1 : 3\n",
      "Для n= 3 | l^*(2^n-1) : 5 | l^*(n) + n - 1 : 5\n",
      "Для n= 4 | l^*(2^n-1) : 6 | l^*(n) + n - 1 : 6\n",
      "Для n= 5 | l^*(2^n-1) : 8 | l^*(n) + n - 1 : 8\n",
      "Для n= 6 | l^*(2^n-1) : 9 | l^*(n) + n - 1 : 9\n",
      "Для n= 7 | l^*(2^n-1) : 11 | l^*(n) + n - 1 : 11\n",
      "Для n= 8 | l^*(2^n-1) : 11 | l^*(n) + n - 1 : 11\n"
     ]
    }
   ],
   "source": [
    "for n in range(2, 11): \n",
    "    print('Для n=',n,'|','l^*(2^n-1)',':',len(decomposition_vector(2 ** n -  1)),'|','l^*(n) + n - 1',':',len(decomposition_vector(n)) + n - 1)"
   ]
  },
  {
   "cell_type": "markdown",
   "metadata": {},
   "source": [
    "#### Вывод\n",
    "Гипотеза верна для $n \\leq 10$.  "
   ]
  },
  {
   "cell_type": "markdown",
   "metadata": {},
   "source": [
    "## Вывод по практической работе\n",
    "Был изучен принцип аддитивных цепочек, а так же были реализованы алоритмы их создания. Так же были проверены теоремы Браэура и гипотеза Шольца-Брауэра.\n"
   ]
  }
 ],
 "metadata": {
  "kernelspec": {
   "display_name": "SageMath 9.2",
   "language": "sage",
   "name": "sagemath"
  },
  "language_info": {
   "codemirror_mode": {
    "name": "ipython",
    "version": 3
   },
   "file_extension": ".py",
   "mimetype": "text/x-python",
   "name": "python",
   "nbconvert_exporter": "python",
   "pygments_lexer": "ipython3",
   "version": "3.7.7"
  }
 },
 "nbformat": 4,
 "nbformat_minor": 4
}
