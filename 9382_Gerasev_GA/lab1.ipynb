{
 "cells": [
  {
   "cell_type": "markdown",
   "metadata": {},
   "source": [
    "# Практическая работа №1: Исследование алгоритмов формирования аддитивных цепочек"
   ]
  },
  {
   "cell_type": "markdown",
   "metadata": {},
   "source": [
    "Выполнил студент группы 9382 Герасев Г.А."
   ]
  },
  {
   "cell_type": "markdown",
   "metadata": {},
   "source": [
    "## Цель работы"
   ]
  },
  {
   "cell_type": "markdown",
   "metadata": {},
   "source": [
    "Формирование представления о аддитивных цепочках, выработать умение составлять и применять алгоритмы для нахождения минимальных аддитивных цепочек для заданного числа, привить навык использования систем компьютерной алгебры для реализации алгоритмов."
   ]
  },
  {
   "cell_type": "markdown",
   "metadata": {},
   "source": [
    "## Основные теоретические положения "
   ]
  },
  {
   "cell_type": "markdown",
   "metadata": {},
   "source": [
    "***Аддитивной цепочкой*** для числа $n$ называется любая начинающаяся с 1 последовательность натуральных чисел, в которой каждое число является суммой двух его предыдущих чисел, не обязательно не совпадающих.\n",
    "Через $l(n)$ называется длина кратчайшей аддитивной цепочки для $n$.\n",
    "Аддитивная цепочка называется линейной, если один из элементов суммы -- всегда предыдущий для числа элемент, длина кратчайшей линейной цепочки обозначается через $l^*(n)$.\n",
    "\n",
    "***Метод Брауэра*** \n",
    "Цепочкой Бауэра называется семейство цепочек следующего вида:\n",
    "$B_k(n) =\\begin{cases}1, 2, 3, ..., 2^k-1\\text{, если } n<2^k \\\\ B_k(q), 2q, 4q, 8q, ..., 2^kq, n,\\text{ если } n \\geqslant 2^k\\ \\text{и } q = \\lfloor\\frac{n}{2^k}\\rfloor \\end{cases}$\n",
    "\n",
    "Брауновский алгоритм считает степень числа, создавая для него соответствующую аддитивную цепчку.\n",
    "\n",
    "***Вектором индексов*** линейной аддитивной цепочки называется последовательность номеров элементов, с которыми надо складывать элемент цепочки для получения следующего.\n",
    "Сравнение векторов делается по первому различающемуся их элементу.\n",
    "\n",
    "Нахождение минимальной аддитивной цепочки является переборной задачей. Это можно сделать разбив вектор на две последовательности: $r=\\{ r_i \\}_{i=1}^{q}$ - фиксированный вектор (первая половина), $\\rho=\\{ \\rho_j \\}_{j=q+1}^{m}$ - меняющийся вектор (вторая половина). Для фиксированного вектора можно вычислить какое минимальное и максимальное значения он может принимать в зависимости от первого элемента: \n",
    "$$a_{max}: \\{ r_i \\}_{i=1}^{q} \\cup \\{ q+1, q+2, \\dots, m \\} =>; a_{max} = a_{q+1} \\cdot 2^{m-q}$$\n",
    "$$a_{min}: \\{ r_i \\}_{i=1}^{q} \\cup \\{ 1, 1, \\dots, 1 \\} => a_{min}=a_{q+1}+m-q.$$\n",
    "***Алгоритм дробления вектора индексов*** работает следующим образом: текущий вектор индексов разбивается по середине на фиксированный и изменющийся. Берётся фиксированная часть, вычисляются $a_{max}$ и $a_{min}$. Если $n$ не лежит между ними, то осуществляется переход к следующему фиксированному вектору(в сторону уменьшения или увеличения, в зависимости от того, какие вектора уже были перебраны). Если $n$ можно достичь с таким фиксированным вектором, то осуществляется перебор по меняющемуся вектору. Если для заданной длины не нашлось аддитивной цепочки, то увеличивается длина аддитивной цепочки.\n",
    "\n",
    "***Теорема Брауера***\n",
    "\n",
    "Для некторого $k < log_2 log_2 n$ верно: $l(n) < (1+k^{-1})\\cdot\\lceil\\log_2 n\\rceil+2^{k-1}-k+2$\n",
    "\n",
    "Следствия при $k = \\lambda(\\lambda(n))-2\\lambda(\\lambda(\\lambda(n)))$:\n",
    "\n",
    "Следствие 1: $\\lim\\limits_{x\\to\\infty} \\cfrac{l(n)}{\\lambda(n)} = 1$\n",
    "\n",
    "Следствие 2: Наилучшая верхняя оценка для l(n) имеет вид: $\\lambda(n)(1+\\cfrac{1}{\\lambda(\\lambda(n))}+\\cfrac{o(\\lambda(\\lambda(\\lambda(n))))}{(\\lambda(\\lambda(n)))^2})$\n",
    "\n",
    "***Гипотеза Шольца-Брауера***: $l^*(2^n-1)\\leqslant l^*(n)+n-1$"
   ]
  },
  {
   "cell_type": "markdown",
   "metadata": {},
   "source": [
    "## Постановка задачи"
   ]
  },
  {
   "cell_type": "markdown",
   "metadata": {},
   "source": [
    "Реализовать точные и приближённые алгоритмы нахождения минимальных аддитивных цепочек с использованием системы компьютерной алгебры SageMath, провести анализ алгоритмов. Полученные результаты содержательно проинтерпретировать."
   ]
  },
  {
   "cell_type": "markdown",
   "metadata": {},
   "source": [
    "## Порядок выполнения работы"
   ]
  },
  {
   "cell_type": "markdown",
   "metadata": {},
   "source": [
    "1. Применить бинарный метод и метод множителей для $x^n$, где $n \\geqslant 30$, для 2-3 значений n (значения n выбирается студентом самостоятельно). Сравнить количество операций для каждого метода, сделать выводы.\n",
    "\n",
    "2. Реализовать алгоритм Брауэра (для нечётных вариантов) или алгоритм Яо (для чётных вариантов) для вычисления приближённых аддитивных цепочек для различных чисел при варьировании параметра $k$, сопоставить длины полученных аддитивных цепочек с минимальной аддитивной цепочкой для заданного числа. Сделать выводы.\n",
    "\n",
    "3. Реализовать алгоритм дробления вектора индексов для нахождения минимальной звёздной цепочки для заданного числа. Протестировать алгоритм при $n\\geqslant500$. Указать, сколько времени потребовалось на поиск цепочки и какая цепочка получилась. Сравнить с предыдущими методами, сделать выводы.\n",
    "\n",
    "4. Проверить следствие 1 теоремы Брауэра для $n=1..200$ путём построения функции $l(n)$ и аппроксимирующей кривой, полученной с помощью метода наименьших квадратов. Сопоставить функции на одном графике, сделать выводы.\n",
    "\n",
    "5. Проверить гипотезу Шольца–Брауэра для $1< n\\leqslant 10$ на алгоритме дробления вектора индексов. Сделать выводы.\n",
    "\n",
    "6. Дополнительное необязательное задание: найти и/или предложить модификации алгоритмов и привести описание модификаций. Реализовать модифицированные алгоритмы и сравнить их мощность."
   ]
  },
  {
   "cell_type": "markdown",
   "metadata": {},
   "source": [
    "## Выполнение работы "
   ]
  },
  {
   "cell_type": "markdown",
   "metadata": {},
   "source": [
    "1. ***Бинарный метод и метод множителей***  "
   ]
  },
  {
   "cell_type": "code",
   "execution_count": 1,
   "metadata": {},
   "outputs": [
    {
     "name": "stdout",
     "output_type": "stream",
     "text": [
      "For x = 1 :\n",
      "Power 10000 -- counter for binary 17 mult 17\n",
      "Power 10001 -- counter for binary 18 mult 18\n",
      "Power 10002 -- counter for binary 18 mult 18\n",
      "Power 10003 -- counter for binary 19 mult 19\n",
      "Power 10004 -- counter for binary 18 mult 18\n",
      "Power 10005 -- counter for binary 19 mult 19\n",
      "Power 10006 -- counter for binary 19 mult 19\n",
      "Power 10007 -- counter for binary 20 mult 20\n",
      "Power 10008 -- counter for binary 18 mult 18\n",
      "Power 10009 -- counter for binary 19 mult 19\n",
      "Power 10010 -- counter for binary 19 mult 19\n",
      "Power 10011 -- counter for binary 20 mult 20\n",
      "Power 10012 -- counter for binary 19 mult 19\n",
      "Power 10013 -- counter for binary 20 mult 20\n",
      "Power 10014 -- counter for binary 20 mult 20\n",
      "Power 10015 -- counter for binary 21 mult 21\n",
      "Power 10016 -- counter for binary 17 mult 17\n",
      "Power 10017 -- counter for binary 18 mult 18\n",
      "Power 10018 -- counter for binary 18 mult 18\n",
      "Power 10019 -- counter for binary 19 mult 19\n",
      "Power 10020 -- counter for binary 18 mult 18\n"
     ]
    }
   ],
   "source": [
    "def binaryPow(x, n):\n",
    "    result = 1\n",
    "    counter = -1\n",
    "    while n:\n",
    "        if n & 1:\n",
    "            result *= x\n",
    "            n -= 1\n",
    "            counter += 1\n",
    "        else:\n",
    "            x *= x\n",
    "            n = n >> 1 \n",
    "            counter += 1\n",
    "    return result, counter\n",
    "\n",
    "def multPow(x, n):\n",
    "    counter = -1\n",
    "    F = factor(n)\n",
    "    if F[0][0] == n:\n",
    "        res = binaryPow(x, n-1)[0]\n",
    "        res *= x\n",
    "        counter += 1\n",
    "        return res, counter\n",
    "    first = binaryPow(x, F[0][0])\n",
    "    second = binaryPow(first[0], n // F[0][0])\n",
    "    counter += first[1] + second[1]\n",
    "    return second[0], counter\n",
    "\n",
    "results = []; print_text = []\n",
    "for j in range(1,22,1):\n",
    "    binr = binaryPow(1, 10000-1 + j)\n",
    "    mmr = multPow(1, 10000-1 + j)\n",
    "    row = (binr[0], 10000-1+j, binr[1], mmr[1])\n",
    "    results.append(row)\n",
    "    \n",
    "for row in results:\n",
    "    print_text.append([x for x in row])\n",
    "    \n",
    "print('For x =', print_text[0][0],':')    \n",
    "for i in range(len(print_text)):\n",
    "    print('Power', print_text[i][1],'-- counter for','binary', print_text[i][2],'mult', print_text[i][2])"
   ]
  },
  {
   "cell_type": "markdown",
   "metadata": {},
   "source": [
    "Оба метода были применены к $x=1$, вычисления с большим основанием требует больше времени и ресурсов,так как сложность вычисления степени растет экпоненциально.  \n",
    "Из вычислений видно, что в общем случае бинарный метод уступает методу множителей по операциям. В частности, это сильно заметно для стпеней равных $2^k-1$, где $k \\in N$, однако для степеней $2^k+1$, где $k \\in N$ бинарный метод дает результат лучше, чем метод множителей. Эта закономерность вытекает из опредления методов, так как для получения степени $2^k+1$ надо $k$ раз возвести число в квадрат и потом домножить на исходное."
   ]
  },
  {
   "cell_type": "markdown",
   "metadata": {},
   "source": [
    "2. ***Алгоритм Брауера***"
   ]
  },
  {
   "cell_type": "code",
   "execution_count": 2,
   "metadata": {},
   "outputs": [
    {
     "name": "stdout",
     "output_type": "stream",
     "text": [
      "n: 100\n",
      "k: 2\n",
      "[1, 2, 3, 2, 4, 6, 12, 24, 25, 50, 100, 100]\n",
      "The length is  12\n"
     ]
    }
   ],
   "source": [
    "def Brauer(n, k):\n",
    "    if (n < 2**k):\n",
    "        return [i for i in range(1,2**k,1)]\n",
    "    else:\n",
    "        q = n//(2**k)\n",
    "        return Brauer(q, k) + [q * (2**i) for i in range(1,k+1,1)] + [n]\n",
    "            \n",
    "    \n",
    "n = int(input(\"n: \"))\n",
    "k = int(input(\"k: \"))\n",
    "Bn = Brauer(n, k)\n",
    "print(Bn)\n",
    "print(\"The length is \", len(Bn))"
   ]
  },
  {
   "cell_type": "markdown",
   "metadata": {},
   "source": [
    "### Вычислим аддитивные цепочки и их длины для $n=100,150,200,250,300$, при k от 1 до 4.  \n",
    "Таблица минимальных аддитивных цепочек:\n",
    "\n",
    "| $n$ | Длина | Аддитивная цепочка |\n",
    "| :-: | :-: | :-: |\n",
    "| 100 |  9 | [1, 2, 4, 8, 16, 32, 64, 96, 100] |  \n",
    "| 150 | 11 | [1, 2, 4, 8, 16, 32, 64, 128, 144, 148, 150] |\n",
    "| 200 | 10 | [1, 2, 4, 8, 16, 32, 64, 128, 192, 200] |\n",
    "| 250 | 13 | [1, 2, 4, 8, 16, 32, 64, 128, 192, 224, 240, 248, 250] |\n",
    "| 300 | 12 | [1, 2, 4, 8, 16, 32, 64, 128, 256, 288, 296, 300] |\n",
    "\n",
    "| $n$ |$k$| Длина | Аддитивная цепочка |\n",
    "| :-: | :-: | :-: | :-: |\n",
    "| 100 |  1 |  13 |  [1, 2, 3, 6, 6, 12, 12, 24, 25, 50, 50, 100, 100] |\n",
    "| 100 |  2 |  12 |  [1, 2, 3, 2, 4, 6, 12, 24, 25, 50, 100, 100] |\n",
    "| 100 |  3 |  15 |  [1, 2, 3, 4, 5, 6, 7, 2, 4, 8, 12, 24, 48, 96, 100] |\n",
    "| 100 |  4 |  20 |  [1, 2, 3, 4, 5, 6, 7, 8, 9, 10, 11, 12, 13, 14, 15, 12, 24, 48, 96, 100] |\n",
    "| 150 |  1 |  15 |  [1, 2, 2, 4, 4, 8, 9, 18, 18, 36, 37, 74, 75, 150, 150] |\n",
    "| 150 |  2 |  12 |  [1, 2, 3, 4, 8, 9, 18, 36, 37, 74, 148, 150] |\n",
    "| 150 |  3 |  15 |  [1, 2, 3, 4, 5, 6, 7, 4, 8, 16, 18, 36, 72, 144, 150] |\n",
    "| 150 |  4 |  20 |  [1, 2, 3, 4, 5, 6, 7, 8, 9, 10, 11, 12, 13, 14, 15, 18, 36, 72, 144, 150] |\n",
    "| 200 |  1 |  15 |  [1, 2, 3, 6, 6, 12, 12, 24, 25, 50, 50, 100, 100, 200, 200] |\n",
    "| 200 |  2 |  12 |  [1, 2, 3, 6, 12, 12, 24, 48, 50, 100, 200, 200] |\n",
    "| 200 |  3 |  15 |  [1, 2, 3, 4, 5, 6, 7, 6, 12, 24, 25, 50, 100, 200, 200] |\n",
    "| 200 |  4 |  20 |  [1, 2, 3, 4, 5, 6, 7, 8, 9, 10, 11, 12, 13, 14, 15, 24, 48, 96, 192, 200] |\n",
    "| 250 |  1 |  15 |  [1, 2, 3, 6, 7, 14, 15, 30, 31, 62, 62, 124, 125, 250, 250] |\n",
    "| 250 |  2 |  12 |  [1, 2, 3, 6, 12, 15, 30, 60, 62, 124, 248, 250] |\n",
    "| 250 |  3 |  15 |  [1, 2, 3, 4, 5, 6, 7, 6, 12, 24, 31, 62, 124, 248, 250] |\n",
    "| 250 |  4 |  20 |  [1, 2, 3, 4, 5, 6, 7, 8, 9, 10, 11, 12, 13, 14, 15, 30, 60, 120, 240, 250] |\n",
    "| 300 |  1 |  17 |  [1, 2, 2, 4, 4, 8, 9, 18, 18, 36, 37, 74, 75, 150, 150, 300, 300] |\n",
    "| 300 |  2 |  15 |  [1, 2, 3, 2, 4, 4, 8, 16, 18, 36, 72, 75, 150, 300, 300] |\n",
    "| 300 |  3 |  15 |  [1, 2, 3, 4, 5, 6, 7, 8, 16, 32, 37, 74, 148, 296, 300] |\n",
    "| 300 |  4 |  25 |  [1, 2, 3, 4, 5, 6, 7, 8, 9, 10, 11, 12, 13, 14, 15, 2, 4, 8, 16, 18, 36, 72, 144, 288, 300] |\n",
    "\n",
    "\n",
    "Алоритм не выдал минимальную аддитивную цепочку ни при одном из вариантов входных данных.\n",
    "Длинна цепочки увеличивается при больших значениеях k, хоть и не линейно.\n",
    "В цепочках полученных данным алгоритмом существует много повторений.\n",
    "Если их убрать с помощью sorted(list(set(...))), то получится следующая таблица:\n",
    "\n",
    "| $n$ |$k$| Длина | Аддитивная цепочка |\n",
    "| :-: | :-: | :-: | :-: |\n",
    "| 100 |  1 |  9 |  [1, 2, 3, 6, 12, 24, 25, 50, 100] |\n",
    "| 100 |  2 |  10 |  [1, 2, 3, 4, 6, 12, 24, 25, 50, 100] |\n",
    "| 100 |  3 |  13 |  [1, 2, 3, 4, 5, 6, 7, 8, 12, 24, 48, 96, 100] |\n",
    "| 100 |  4 |  19 |  [1, 2, 3, 4, 5, 6, 7, 8, 9, 10, 11, 12, 13, 14, 15, 24, 48, 96, 100] |\n",
    "| 150 |  1 |  11 |  [1, 2, 4, 8, 9, 18, 36, 37, 74, 75, 150] |\n",
    "| 150 |  2 |  12 |  [1, 2, 3, 4, 8, 9, 18, 36, 37, 74, 148, 150] |\n",
    "| 150 |  3 |  14 |  [1, 2, 3, 4, 5, 6, 7, 8, 16, 18, 36, 72, 144, 150] |\n",
    "| 150 |  4 |  20 |  [1, 2, 3, 4, 5, 6, 7, 8, 9, 10, 11, 12, 13, 14, 15, 18, 36, 72, 144, 150] |\n",
    "| 200 |  1 |  10 |  [1, 2, 3, 6, 12, 24, 25, 50, 100, 200] |\n",
    "| 200 |  2 |  10 |  [1, 2, 3, 6, 12, 24, 48, 50, 100, 200] |\n",
    "| 200 |  3 |  13 |  [1, 2, 3, 4, 5, 6, 7, 12, 24, 25, 50, 100, 200] |\n",
    "| 200 |  4 |  20 |  [1, 2, 3, 4, 5, 6, 7, 8, 9, 10, 11, 12, 13, 14, 15, 24, 48, 96, 192, 200] |\n",
    "| 250 |  1 |  13 |  [1, 2, 3, 6, 7, 14, 15, 30, 31, 62, 124, 125, 250] |\n",
    "| 250 |  2 |  12 |  [1, 2, 3, 6, 12, 15, 30, 60, 62, 124, 248, 250] |\n",
    "| 250 |  3 |  14 |  [1, 2, 3, 4, 5, 6, 7, 12, 24, 31, 62, 124, 248, 250] |\n",
    "| 250 |  4 |  20 |  [1, 2, 3, 4, 5, 6, 7, 8, 9, 10, 11, 12, 13, 14, 15, 30, 60, 120, 240, 250] |\n",
    "| 300 |  1 |  12 |  [1, 2, 4, 8, 9, 18, 36, 37, 74, 75, 150, 300] |\n",
    "| 300 |  2 |  12 |  [1, 2, 3, 4, 8, 16, 18, 36, 72, 75, 150, 300] |\n",
    "| 300 |  3 |  15 |  [1, 2, 3, 4, 5, 6, 7, 8, 16, 32, 37, 74, 148, 296, 300] |\n",
    "| 300 |  4 |  22 |  [1, 2, 3, 4, 5, 6, 7, 8, 9, 10, 11, 12, 13, 14, 15, 16, 18, 36, 72, 144, 288, 300] |\n",
    "\n",
    "Теперь при каждом из n находится по крайней мере одна цепочка с длинной минимальной."
   ]
  },
  {
   "cell_type": "markdown",
   "metadata": {},
   "source": [
    "3. ***Алгоритм дробления вектора индексов***"
   ]
  },
  {
   "cell_type": "code",
   "execution_count": 9,
   "metadata": {
    "scrolled": true
   },
   "outputs": [
    {
     "name": "stdout",
     "output_type": "stream",
     "text": [
      "n = 100\n",
      "n = 100 , [1, 2, 4, 8, 16, 32, 64, 96, 100] 9 , time: 0.0062713623046875 seconds\n"
     ]
    }
   ],
   "source": [
    "import math\n",
    "import time\n",
    "\n",
    "def decVector(vec, start=1):\n",
    "    max = start + len(vec) - 1\n",
    "    for i in range(1, len(vec) + 1):\n",
    "        vec[-i] -= 1\n",
    "        if vec[-i] == 0:\n",
    "            if i == len(vec):\n",
    "                vec.append(1)\n",
    "                for j in range(len(vec)):\n",
    "                    vec[j] = j + start\n",
    "                break\n",
    "            vec[-i] = max\n",
    "            max -= 1\n",
    "        else:\n",
    "            break\n",
    "\n",
    "def chainFromVector(base, tail = []):\n",
    "    result = [1]\n",
    "    for i in base:\n",
    "        result.append(result[-1] + result[i - 1])\n",
    "    for i in tail:\n",
    "        result.append(result[-1] + result[i - 1])\n",
    "    return result\n",
    "\n",
    "\n",
    "def log2(n):\n",
    "    return int(math.log2(n))\n",
    "\n",
    "def splitVectorAlg(n):\n",
    "    m = log2(n) - 1\n",
    "    upborder = m + bin(n).count('1')\n",
    "    while m <= upborder:\n",
    "        q = m // 2\n",
    "        if q == 0:\n",
    "            q = 1\n",
    "        base = [i for i in range(1, q + 1)]\n",
    "        while (len(base) == q):\n",
    "            tail = [q + i for i in range(1, (m - q + 1))]\n",
    "            chain = chainFromVector(base)\n",
    "            a_max = chain[q] * 2 ** (m - q)\n",
    "            a_min = chain[q] + m - q\n",
    "            if (n == a_max):\n",
    "                return chainFromVector(base, tail)\n",
    "            if (n == a_min):\n",
    "                tail = [1 for i in range((m - q))]\n",
    "                return chainFromVector(base, tail)\n",
    "            if n < a_min or n > a_max:\n",
    "                decVector(base)\n",
    "                continue\n",
    "            while (len(tail) == m - q):\n",
    "                chain = chainFromVector(base, tail)\n",
    "                if (chain[-1] == n):\n",
    "                    return chain\n",
    "                decVector(tail, q + 1)\n",
    "            decVector(base)\n",
    "        m += 1\n",
    "\n",
    "n = int(input('n = '))\n",
    "start = time.time()\n",
    "chain = splitVectorAlg(n)\n",
    "end = time.time()\n",
    "print('n =',n,',', chain, ',', len(chain),', time:',end - start,'seconds')\n",
    "\n"
   ]
  },
  {
   "cell_type": "markdown",
   "metadata": {},
   "source": [
    "Реализуем алгоритм для $n=516,525,541,658,710$, для удобства сведем вычисления в таблицу:\n",
    "\n",
    "| $n$ | Длина | Аддитивная цепочка  | Время построения |\n",
    "| :-: | :---: | :--------------: | :----------------: |\n",
    "| 516 | 11 | [1, 2, 4, 8, 16, 32, 64, 128, 256, 512, 516] | 0.0005953311920166016 seconds\n",
    "| 524 | 12 | [1, 2, 4, 8, 16, 32, 64, 128, 256, 512, 520, 524] | 10.368516445159912 seconds\n",
    "| 540 | 12 | [1, 2, 4, 8, 16, 32, 36, 72, 144, 180, 360, 540] | 9.867914199829102 seconds\n",
    "| 658 | 13 | [1, 2, 4, 8, 16, 32, 64, 128, 256, 512, 640, 656, 658] | 296.8835802078247 seconds\n",
    "| 710 | 13 | [1, 2, 4, 8, 16, 32, 64, 128, 192, 194, 388, 582, 710] | 215.60173630714417 seconds\n",
    "\n",
    "Также приведем сравнение длинн аддитивных цепочк, полученных разными алгоритмами:\n",
    "\n",
    "| $n$ | Бинарный метод | Метод множителей | Алгоритм Брауера $(k=2)$ | Алгоритм дробления вектора индексов |\n",
    "| :-: | :-------------------------: | :----------: | :------------: | :--------------: |\n",
    "| 516 |           10                |     9       |      15        |       11         |\n",
    "| 525 |           12                |     13       |      15        |       12         |\n",
    "| 541 |           13                |     0       |      15        |       12         |\n",
    "| 658 |           12                |     11       |      15        |       13         |\n",
    "| 710 |           13                |     12       |      15        |       13         |\n",
    "\n",
    "Как можно заметить из таблицы, алгоритм дробления вектора индексов хорошо показывает себя для вычислений заранее, однако если требуется находить аддитивную цепочку быстро, но не обязательно минимальное ее представление, лучше выбрать другой, более быстрый алгоритм.\n"
   ]
  },
  {
   "cell_type": "markdown",
   "metadata": {},
   "source": [
    "***4. Проверка следствия 1 теоремы Брауэра***"
   ]
  },
  {
   "cell_type": "code",
   "execution_count": 12,
   "metadata": {
    "scrolled": true
   },
   "outputs": [
    {
     "data": {
      "image/png": "[encoded data removed]",
      "text/plain": [
       "<Figure size 432x288 with 1 Axes>"
      ]
     },
     "metadata": {
      "needs_background": "light"
     },
     "output_type": "display_data"
    }
   ],
   "source": [
    "import matplotlib.pyplot as plt\n",
    "import numpy as np\n",
    "from scipy.optimize import leastsq\n",
    "\n",
    "def lenChains(n):\n",
    "    lens = [0]\n",
    "    for i in range(2, n + 1):\n",
    "        q = factor(i)[0][0]\n",
    "        if n in [23, 43, 59, 77, 83, 107, 149, 163, 165, 179, 203]:\n",
    "            s = 1\n",
    "        else:\n",
    "            s = 0\n",
    "        if q == i:\n",
    "            lens.append(lens[-1] + 1 - s)\n",
    "        else:\n",
    "            lens.append(min(lens[-1] + 1, lens[q - 1] + lens[i/q - 1]) - s)\n",
    "    return [i + 1 for i in range(i)], [i + 1 for i in lens]\n",
    "\n",
    "def plot_app(x, y):\n",
    "    m = matrix([[sum([float((log(i))**2) for i in x]), sum([float(log(i)) for i in x])], [sum([float(log(i)) for i in x]), len(x)]])\n",
    "    vec = vector([sum([float(y[i] * log(x[i])) for i in range(len(x))]), sum(y)])\n",
    "    solution = m.solve_right(vec)\n",
    "    plt.plot(x, [solution[0] * log(i) + solution[1] for i in x],color='black',linewidth=5)\n",
    "    plt.scatter(ns, lens, color='blue', marker='o',s=50)\n",
    "\n",
    "ns, lens = len_chains(200)\n",
    "plot_app(ns, lens)"
   ]
  },
  {
   "cell_type": "markdown",
   "metadata": {},
   "source": [
    "Для $n=1...200$ полученный график схож с графиком логарифма. Эта аппроксимация подтверждает теорему Брауэра. С увеличением $n$ ввиду логарифмического роста длина $l(n)$ будет не так сильно увеличиваться. Поэтому $l(n)$ и $\\lambda(n)$ будут эквивалентны на бесконечности."
   ]
  },
  {
   "cell_type": "markdown",
   "metadata": {},
   "source": [
    "***5. Гипотеза Шольца-Брауэра***"
   ]
  },
  {
   "cell_type": "code",
   "execution_count": 11,
   "metadata": {
    "scrolled": false
   },
   "outputs": [
    {
     "name": "stdout",
     "output_type": "stream",
     "text": [
      "Для n= 2 | l^*(2^n-1) : 3 | l^*(n) + n - 1 : 3\n",
      "Для n= 3 | l^*(2^n-1) : 5 | l^*(n) + n - 1 : 5\n",
      "Для n= 4 | l^*(2^n-1) : 6 | l^*(n) + n - 1 : 6\n",
      "Для n= 5 | l^*(2^n-1) : 8 | l^*(n) + n - 1 : 8\n",
      "Для n= 6 | l^*(2^n-1) : 9 | l^*(n) + n - 1 : 9\n",
      "Для n= 7 | l^*(2^n-1) : 11 | l^*(n) + n - 1 : 11\n",
      "Для n= 8 | l^*(2^n-1) : 11 | l^*(n) + n - 1 : 11\n",
      "Для n= 9 | l^*(2^n-1) : 13 | l^*(n) + n - 1 : 13\n",
      "Для n= 10 | l^*(2^n-1) : 14 | l^*(n) + n - 1 : 14\n"
     ]
    }
   ],
   "source": [
    "for i in range(2, 11):\n",
    "    x = len(splitVectorAlg(2 ** i -  1))\n",
    "    y = len(splitVectorAlg(n)) + i - 1\n",
    "    print('For n=',n,'|','l^*(2^n-1)',':',x,'|','l^*(n) + n - 1',':',y)"
   ]
  },
  {
   "cell_type": "markdown",
   "metadata": {},
   "source": [
    "Сведем результаты проверки гипотезы Штольца-Брауэра на алгоритме дробления вектора идексов в таблицу:\n",
    "\n",
    "| $n$ | $l^*(2^n-1)$ | $l^*(n) + n - 1$ |\n",
    "| :-: | :-: | :-: |\n",
    "| 2 | 3 | 3 |\n",
    "| 3 | 5 | 5 |\n",
    "| 4 | 6 | 6 |\n",
    "| 5 | 8 | 8 |\n",
    "| 6 | 9 | 9 |\n",
    "| 7 | 11 | 11 |\n",
    "| 8 | 11 | 11 |\n",
    "| 9 | 13 | 13 |\n",
    "| 10 | 14 | 14 |\n",
    "\n",
    "По результатам видно, что гипотеза верна для чисел $n\\leqslant10$. Этой гипотезой имеет смысл пользоваться, если быть уверенным, что расхождение между этими двумя величинами будет невелико, потому что считать минимальную цепочку для чисел $2^{10}$ намного дольше чем для $10$."
   ]
  },
  {
   "cell_type": "markdown",
   "metadata": {},
   "source": [
    "## Выводы"
   ]
  },
  {
   "cell_type": "markdown",
   "metadata": {},
   "source": [
    "В ходе выполнения практической работы было получено представление о аддитивных цепочках.  \n",
    "В общем случае бинарный метод хуже, чем метод множитлей, за исключением чисел $2^k+1,\\,k \\in N$.  \n",
    "Алгоритм Брауера по сранению с другими алгоритмами не всегда вычисляет минимальную аддитивную цепочку, но работает быстрее по сравнению с методом дробления вектора индексов. Алгоритм дробления вектора индексов показывает точную минимальную длину цепочки, но требует больших вычислительных ресурсов, в сравнении с другими рассмторенными алгоритмами."
   ]
  },
  {
   "cell_type": "code",
   "execution_count": null,
   "metadata": {},
   "outputs": [],
   "source": []
  }
 ],
 "metadata": {
  "kernelspec": {
   "display_name": "SageMath 9.2",
   "language": "sage",
   "name": "sagemath"
  },
  "language_info": {
   "codemirror_mode": {
    "name": "ipython",
    "version": 3
   },
   "file_extension": ".py",
   "mimetype": "text/x-python",
   "name": "python",
   "nbconvert_exporter": "python",
   "pygments_lexer": "ipython3",
   "version": "3.7.7"
  }
 },
 "nbformat": 4,
 "nbformat_minor": 4
}
