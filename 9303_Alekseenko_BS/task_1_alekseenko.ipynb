{
 "cells": [
  {
   "cell_type": "markdown",
   "metadata": {},
   "source": [
    "## Практическая работа №1: Исследование алгоритмов формирования аддитивных цепочек\n",
    "Выполнил студент гр. 9303 Алексеенко Борис, вариант 1.\n",
    "## Цель работы\n",
    "Формирование представления о аддитивных цепочках, выработать умение составлять и применять алгоритмы для нахождения минимальных аддитивных цепочек для заданного числа, привить навык использования систем компьютерной алгебры для реализации алгоритмов.\n",
    "## Основные теоретические сведения\n",
    "#### Бинарный метод\n",
    "Бинарный метод представляет собой алгоритм быстрого возведения числа $x$ в некоторую степень $n\\in \\mathbb{N}$.\n",
    "\n",
    "Алгоритм работает с бинарным представлением числа $x$, после чего это двоичное представление удаляется старший бит, а далее в цикле алгоритм проходит по всем битам и, в зависимости от того, какой это бит (0 или 1), производятся некоторые операции, \n",
    "для 0 - умножение текущего результата на самого себя, а для 1 - число умножается на основание $x$.\n",
    "\n",
    "Количество операций, которое используется в этом алгоритме считается как $\\lambda(n)+\\nu(n)-1$, где $\\lambda(n)=\\lceil log_2(n) \\rceil$, а $\\nu(n)$ равно количеству единиц в бинарном представлении $n$.\n",
    "\n",
    "#### Метод множителей\n",
    "Это метод, который тоже позволяет возвести число $x$ в некоторую степень $n\\in \\mathbb{N}$. При том, обычно, метод множителей быстрее, чем бинарный метод.\n",
    "\n",
    "Алгоритм раскладывает число $n$ на множители ($n=i*j$), где $i$ - это минимальный простой делитель числа $n$), после бинарным методом число &x& возводится в степень $i$, а полученный результат $x^i=y$ возводится в степень $j$: $y^j={(x^i)}^j=x^{i\\cdot j}=x^n$. При том, если $n$ - это простое число, тогда алгоритм возводит число $x$ в степень $n-1$, а потом домножает на $x$, получая тем самым $x^n$.\n",
    "\n",
    "#### Аддитивные цепочки\n",
    "Аддитивная цепочка для некоторого числа $n\\in \\mathbb{N}$ представляет собой последовательность натуральных чисел $\\{a_i\\}_{i=0}^m$, где $a_0 = 1$, $a_m = n$ и каждый последующий элемент является суммой любых двух предыдущих элементов.\n",
    "\n",
    "$a_i = a_j + a_k, \\forall i:1..m, k \\leq j < i$\n",
    "$l(n) = m$\n",
    "\n",
    "Различают три разных вида шагов в аддитивных цепочках:\n",
    "\n",
    "$i-ый$ шаг называют удвоением, если $i - 1 = k = j$;\n",
    "\n",
    "$i-ый$ шаг называют звёздным, если $j = i - 1$, $k \\in \\{0, \\dots, i-1\\}$;\n",
    "\n",
    "$i-ый$ шаг называют малым, если $\\lambda(a_i)=\\lambda(a_{i-1})$\n",
    "\n",
    "Если в аддитивной цепочке встречаются только звёздные шаги, то ее называют звёздной цепочкой\n",
    "#### Алгоритм Брауэра\n",
    "Алгоритм брауэра также вычисляет n-ую стпенень за количество операций, равное $\\lambda(n)+\\frac{(1+o(1))\\lambda(n)}{\\lambda(\\lambda(n))}$.\n",
    "\n",
    "Для некоторых $n$ и $k$ брауэрские цепочки задаются в виде рекурентной формулы:\n",
    "$$B_k(n) =\\begin{cases}1, 2, 3, ..., 2^k-1\\text{, если }n < 2^k \\\\ B_k(q), 2q, 4q, 8q, ..., 2^kq, n,\\text{ если } n \\geqslant 2^k\\ \\text{и } q = \\lfloor\\frac{n}{2^k}\\rfloor \\end{cases}$$\n",
    "\n",
    "#### Алгоритм дробления вектора индексов\n",
    "\n",
    "Алгоритм дробления вектора индексов позволяет найти минимальную звездную цепочку для некоторого числа $n\\in \\mathbb{N}$.\n",
    "\n",
    "Рассмотрим вектор индексов $\\{r_i\\}_{i=1}^q \\cup {\\{{\\rho}_j \\}}_{j=q+1}^m$, где ${\\rho}_j= \\{x: 1 \\leq x \\leq j \\}$, ${\\{r_i\\}}_{i=1}^q$ - фиксированная часть, ${\\{{\\rho}_j\\}}_{j=q+1}^m$ - изменяющаяся часть.\n",
    "\n",
    "Наибольшее значение $a_m$ достигается при векторе индексов ${\\{r_i\\}}_{i=1}^{q} \\cup \\{q+1,q+2,\\dots,m\\}$.\n",
    "\n",
    "Наименьшее значение $a_m$ достигается при векторе индексов ${\\{r_i\\}}_{i=1}^{q}\\cup\\{1,1,\\dots,1\\}$.\n",
    "\n",
    "$a_{max} = a_{q+1} \\cdot {2}^{m-q}$\n",
    "\n",
    "$a_{min} = a_{q+1}+m-q$\n",
    "\n",
    "Алгоритм:\n",
    "\n",
    "1) Во внешнем цикле рассматриваем аддитивные цепочки длины $m$ от значения $\\underline{l}(n)=\\lceil log_2(n) \\rceil$ до $\\bar{l}(n)=\\lambda(n)+\\nu(n)-1$, на каждой итерации выбираем $q$ ($1 \\leq q \\leq m-1$), пусть $q = \\frac{m}{2}$\n",
    "\n",
    "2) Далее перебираем все возможные фиксированные части вектора индексов $\\{r_i\\}_{i=1}^q$ ($q!$ вариантов), для каждой строим соответствующую ей звездную цепочку, находим $a_{max}$ и ${a}_{min}$\n",
    "\n",
    "&emsp; а) Если $a_m = n$ - конец\n",
    "\n",
    "&emsp; б) Если $n \\notin [a_{min},a_{max}]$, то переходим к следующему набору $\\{r_i\\}_{i=1}^q$\n",
    "\n",
    "&emsp; в) Если $n\\in [a_{min},a_{max}]$, то перебираем все возможные изменяющиеся части вектора индексов ${\\left \\{{\\rho}_j \\right \\}}_{ j=q+1}^m$ и находим $a_m$. Если $a_m=n$, то цепочка найдена. Если все возможные изменяющиеся части вектора индексов ${\\{{\\rho}_j\\}}_{j=q+1}^m$ исчерпаны, то переходим к следующему набору $\\{r_i\\}_{i=1}^q$.\n",
    "\n",
    "3) Если все наборы вектора индексов длины $m$ исчерпаны, то увеличиваем $m$ на 1.\n",
    "\n",
    "#### Теорема Брауэра\n",
    "Пусть $k < log_2(log_2(n))$ верно: $l(n) < (1+k^{-1}) * \\lceil log_2(n) \\rceil + 2^{k-1} - k + 2$\n",
    "\n",
    "Тогда $k=\\lambda(\\lambda(n))-2\\lambda(\\lambda(\\lambda(n)))$\n",
    "\n",
    "*Следствие 1:* $\\lim \\limits_{n \\to \\infty} \\frac{l(n)}{\\lambda(n)} = 1$\n",
    "\n",
    "*Следствие 2:* $\\lambda(n)(1+\\frac{1}{\\lambda(\\lambda(n))}+\\frac{o(\\lambda(\\lambda(\\lambda(n))))}{\\lambda(\\lambda(n))^2})$\n",
    "\n",
    "#### Гипотеза Шольца-Брауэра\n",
    "Пусть $l^*(n)$ - длина звёздной цепочки.\n",
    "\n",
    "Тогда для любого $n \\in \\mathbb{N}$ верно: $l^*(2^n-1)\\leq l^*(n)+n-1$\n",
    "\n",
    "## Постановка задачи\n",
    "Реализовать точные и приближённые алгоритмы нахождения минимальных аддитивных цепочек с использованием системы компьютерной алгебры SageMath, провести анализ алгоритмов. Полученные результаты содержательно проинтерпретировать.\n",
    "## Порядок выполнения работы\n",
    "1. Применить бинарный метод и метод множителей для $x^n$, где $n\\geq30$, для 2-3 значений n (значения n выбирается студентом самостоятельно). Сравнить количество операций для каждого метода, сделать выводы.\n",
    "2. Реализовать алгоритм Брауэра (для нечётных вариантов) или алгоритм Яо (для чётных вариантов) для вычисления приближённых аддитивных цепочек для различных чисел при варьировании параметра k, сопоставить длины полученных аддитивных цепочек с минимальной аддитивной цепочкой для заданного числа. Сделать выводы.\n",
    "3. Реализовать алгоритм дробления вектора индексов для нахождения минимальной звёздной цепочки для заданного числа. Протестировать алгоритм при $n>500$. Указать, сколько времени потребовалось на поиск цепочки и какая цепочка получилась. Сравнить с предыдущими методами, сделать выводы.\n",
    "4. Проверить следствие 1 теоремы Брауэра для $n=1..200$ путём построения функции $l(n)$ и аппроксимирующей кривой, полученной с помощью метода наименьших квадратов. Сопоставить функции на одном графике, сделать выводы.\n",
    "5. Проверить гипотезу Шольца–Брауэра для $1<n\\leq10$ на алгоритме дробления вектора индексов. Сделать выводы.\n",
    "6. *Дополнительное необязательное задание*: найти и/или предложить модификации алгоритмов и привести описание модификаций. Реализовать модифицированные алгоритмы и сравнить их мощность."
   ]
  },
  {
   "cell_type": "markdown",
   "metadata": {},
   "source": [
    "## Выполнение работы\n",
    "*1) Бинарный метод и метод множителей*\n",
    "\n",
    "Напишем реализацию бинарного метода и метода множителей."
   ]
  },
  {
   "cell_type": "code",
   "execution_count": 25,
   "metadata": {},
   "outputs": [
    {
     "name": "stdout",
     "output_type": "stream",
     "text": [
      "8589934592\n",
      "Real amount of operation is 6\n"
     ]
    }
   ],
   "source": [
    "''' binar method '''\n",
    "\n",
    "def binarOperationCount(n):\n",
    "    lambdaN = math.ceil(math.log2(n)) - 1\n",
    "    nuN = list(bin(n))[2:].count('1')\n",
    "    return lambdaN + nuN - 1\n",
    "\n",
    "def binarMethod(x, n):\n",
    "    global multiplierOpCount\n",
    "    global binarOperationCounter\n",
    "    # print('Amount of operations - ' + str(binarOperationCount(n)))\n",
    "    if n == 0:\n",
    "        return 1\n",
    "    result = x\n",
    "    realOpCount = 0\n",
    "    binar = list(bin(n))[3:]\n",
    "    for i in binar:\n",
    "        if(i == '0'):\n",
    "            result *= result\n",
    "            realOpCount += 1\n",
    "            multiplierOpCount += 1\n",
    "        else:\n",
    "            result *= result * x\n",
    "            realOpCount += 2\n",
    "            multiplierOpCount += 2\n",
    "        # print('Digit ' + str(i) + ' so ' + str(result))\n",
    "    binarOperationCounter = realOpCount\n",
    "    return result\n",
    "    \n",
    "print(binarMethod(2, 33))\n",
    "print('Real amount of operation is ' + str(binarOperationCounter))"
   ]
  },
  {
   "cell_type": "code",
   "execution_count": 26,
   "metadata": {},
   "outputs": [
    {
     "name": "stdout",
     "output_type": "stream",
     "text": [
      "8589934592\n",
      "Real amount of operation is 7\n"
     ]
    }
   ],
   "source": [
    "''' multipiler method ''' \n",
    "multiplierOpCount = 0\n",
    "binarOperationCounter = 0\n",
    "def factors(n):\n",
    "    res = [] \n",
    "    d = 2\n",
    "    while True: \n",
    "        if n % d == 0:\n",
    "            res.append(d);\n",
    "            res.append(n // d)\n",
    "            break\n",
    "        else:\n",
    "            d += 1            \n",
    "    return res\n",
    "\n",
    "def multiplierOpCounter(n):\n",
    "    degrees = factors(n)\n",
    "    result = 0\n",
    "    result += binarOperationCount(degrees[0]) + binarOperationCount(degrees[1])\n",
    "    return result\n",
    "\n",
    "def multiplierMethod(x, n):\n",
    "    # print('Expected number of operations is ' + str(multiplierOpCounter(n)))\n",
    "    degrees = factors(n)\n",
    "    result = x\n",
    "    for i in degrees: \n",
    "        # print('Current degree - ' + str(i))\n",
    "        result = binarMethod(result, i)\n",
    "        \n",
    "    # print('Real amount of operations is ' + str(multiplierOpCount))\n",
    "    return result\n",
    "\n",
    "print(multiplierMethod(2, 33))\n",
    "print('Real amount of operation is ' + str(multiplierOpCount))"
   ]
  },
  {
   "cell_type": "code",
   "execution_count": 19,
   "metadata": {},
   "outputs": [
    {
     "name": "stdout",
     "output_type": "stream",
     "text": [
      "Binar Method:\n",
      "2^36 = 68719476736 Operation count: 6 \n",
      "\n",
      "Multiplier Method:\n",
      "2^36 = 68719476736 Operation count: 5\n",
      "n = 42 БМ: 7 ММ: 6\n",
      "n = 47 БМ: 9 ММ: 8\n",
      "n = 51 БМ: 8 ММ: 7\n",
      "n = 59 БМ: 9 ММ: 8\n",
      "n = 71 БМ: 9 ММ: 8\n",
      "n = 78 БМ: 9 ММ: 8\n",
      "n = 102 БМ: 9 ММ: 8\n",
      "n = 142 БМ: 10 ММ: 9\n"
     ]
    }
   ],
   "source": [
    "print(\"Binar Method:\")\n",
    "print(\"2^36 =\", binarMethod(2, 36), \"Operation count:\", binarOperationCount(33), '\\n')\n",
    "\n",
    "print(\"Multiplier Method:\")\n",
    "print(\"2^36 =\", multiplierMethod(2, 36), \"Operation count:\", multiplierOpCounter(36))\n",
    "\n",
    "print(\"n =\", 42, \"БМ:\", binarOperationCount(42), \"ММ:\", multiplierOpCounter(42))\n",
    "print(\"n =\", 47, \"БМ:\", binarOperationCount(47), \"ММ:\", multiplierOpCounter(47))\n",
    "print(\"n =\", 51, \"БМ:\", binarOperationCount(51), \"ММ:\", multiplierOpCounter(51))\n",
    "print(\"n =\", 59, \"БМ:\", binarOperationCount(59), \"ММ:\", multiplierOpCounter(59))\n",
    "print(\"n =\", 71, \"БМ:\", binarOperationCount(71), \"ММ:\", multiplierOpCounter(71))\n",
    "print(\"n =\", 78, \"БМ:\", binarOperationCount(78), \"ММ:\", multiplierOpCounter(78))\n",
    "print(\"n =\", 102, \"БМ:\", binarOperationCount(102), \"ММ:\", multiplierOpCounter(102))\n",
    "print(\"n =\", 142, \"БМ:\", binarOperationCount(142), \"ММ:\", multiplierOpCounter(142))"
   ]
  },
  {
   "cell_type": "markdown",
   "metadata": {},
   "source": [
    "Сведем результаты в таблицу:\n",
    "\n",
    "| n | Бинарый метод | Метод множителей |\n",
    "|:-:|:-:|:-:|\n",
    "| 42 | 7 | 6 |\n",
    "| 47 | 9 | 8 |\n",
    "| 51 | 8 | 7 |\n",
    "| 59 | 9 | 8 |\n",
    "| 71 | 9 | 8 |\n",
    "| 78 | 9 | 8 |\n",
    "| 102 | 9 | 8 |\n",
    "| 142 | 20 | 9 |\n",
    "\n",
    "В итоге можно сделать вывод, что метод множителей чаще работает быстрее, чем бинарный метод. "
   ]
  },
  {
   "cell_type": "markdown",
   "metadata": {},
   "source": [
    "*2) Алгоритм Брауэра*"
   ]
  },
  {
   "cell_type": "code",
   "execution_count": 22,
   "metadata": {},
   "outputs": [
    {
     "name": "stdout",
     "output_type": "stream",
     "text": [
      "[1, 2, 3, 4, 5, 6, 7, 8, 9, 10, 11, 12, 13, 14, 15, 24, 36, 48, 60, 72, 84, 96, 111, 222, 444, 666, 888, 1110, 1332, 1554, 1776, 1783, 3566, 7132, 10698, 14264, 17830, 21396, 24962, 28528, 28542]\n"
     ]
    }
   ],
   "source": [
    "''' Brouwers Algorithm '''\n",
    "\n",
    "def brouwerAlgorithm(n, k, chain):\n",
    "    if n < 2**k:\n",
    "        for i in range(1, 2**k):\n",
    "            if i not in chain:\n",
    "                chain.append(i)\n",
    "    else:\n",
    "        q = math.floor(n / 2**k)\n",
    "        brouwerAlgorithm(q, k, chain)\n",
    "        for i in range(2, 2**k + 1, 2):\n",
    "            if i*q not in chain:\n",
    "                chain.append(i*q)\n",
    "        if n not in chain:\n",
    "            chain.append(n)\n",
    "    return chain\n",
    "\n",
    "chain = []\n",
    "print(brouwerAlgorithm(28542, 4, chain))"
   ]
  },
  {
   "cell_type": "code",
   "execution_count": 23,
   "metadata": {},
   "outputs": [
    {
     "name": "stdout",
     "output_type": "stream",
     "text": [
      "Число: 28542 k: 5 \n",
      "Цепочка: [1, 2, 3, 4, 5, 6, 7, 8, 9, 10, 11, 12, 13, 14, 15, 16, 17, 18, 19, 20, 21, 22, 23, 24, 25, 26, 27, 28, 29, 30, 31, 54, 108, 162, 216, 270, 324, 378, 432, 486, 540, 594, 648, 702, 756, 810, 864, 891, 1782, 3564, 5346, 7128, 8910, 10692, 12474, 14256, 16038, 17820, 19602, 21384, 23166, 24948, 26730, 28512, 28542] \n",
      "Длина цепочки: 65\n",
      "\n",
      "Число: 28542 k: 6 \n",
      "Цепочка: [1, 2, 3, 4, 5, 6, 7, 8, 9, 10, 11, 12, 13, 14, 15, 16, 17, 18, 19, 20, 21, 22, 23, 24, 25, 26, 27, 28, 29, 30, 31, 32, 33, 34, 35, 36, 37, 38, 39, 40, 41, 42, 43, 44, 45, 46, 47, 48, 49, 50, 51, 52, 53, 54, 55, 56, 57, 58, 59, 60, 61, 62, 63, 72, 84, 96, 108, 120, 132, 144, 156, 168, 180, 192, 204, 216, 228, 240, 252, 264, 276, 288, 300, 312, 324, 336, 348, 360, 372, 384, 445, 890, 1780, 2670, 3560, 4450, 5340, 6230, 7120, 8010, 8900, 9790, 10680, 11570, 12460, 13350, 14240, 15130, 16020, 16910, 17800, 18690, 19580, 20470, 21360, 22250, 23140, 24030, 24920, 25810, 26700, 27590, 28480, 28542] \n",
      "Длина цепочки: 124\n",
      "\n",
      "Число: 28542 k: 7 \n",
      "Цепочка: [1, 2, 3, 4, 5, 6, 7, 8, 9, 10, 11, 12, 13, 14, 15, 16, 17, 18, 19, 20, 21, 22, 23, 24, 25, 26, 27, 28, 29, 30, 31, 32, 33, 34, 35, 36, 37, 38, 39, 40, 41, 42, 43, 44, 45, 46, 47, 48, 49, 50, 51, 52, 53, 54, 55, 56, 57, 58, 59, 60, 61, 62, 63, 64, 65, 66, 67, 68, 69, 70, 71, 72, 73, 74, 75, 76, 77, 78, 79, 80, 81, 82, 83, 84, 85, 86, 87, 88, 89, 90, 91, 92, 93, 94, 95, 96, 97, 98, 99, 100, 101, 102, 103, 104, 105, 106, 107, 108, 109, 110, 111, 112, 113, 114, 115, 116, 117, 118, 119, 120, 121, 122, 123, 124, 125, 126, 127, 128, 222, 444, 888, 1332, 1776, 2220, 2664, 3108, 3552, 3996, 4440, 4884, 5328, 5772, 6216, 6660, 7104, 7548, 7992, 8436, 8880, 9324, 9768, 10212, 10656, 11100, 11544, 11988, 12432, 12876, 13320, 13764, 14208, 14652, 15096, 15540, 15984, 16428, 16872, 17316, 17760, 18204, 18648, 19092, 19536, 19980, 20424, 20868, 21312, 21756, 22200, 22644, 23088, 23532, 23976, 24420, 24864, 25308, 25752, 26196, 26640, 27084, 27528, 27972, 28416, 28542] \n",
      "Длина цепочки: 194\n"
     ]
    }
   ],
   "source": [
    "chain = []\n",
    "brouwerAlgorithm(28542, 5, chain)\n",
    "print(\"Число:\", 28542,\"k:\", 5, \"\\nЦепочка:\", chain, \"\\nДлина цепочки:\", len(chain))\n",
    "\n",
    "chain = []\n",
    "brouwerAlgorithm(28542, 6, chain)\n",
    "print(\"\\nЧисло:\", 28542,\"k:\", 6, \"\\nЦепочка:\", chain, \"\\nДлина цепочки:\", len(chain))\n",
    "\n",
    "chain = []\n",
    "brouwerAlgorithm(28542, 7, chain)\n",
    "print(\"\\nЧисло:\", 28542,\"k:\", 7, \"\\nЦепочка:\", chain, \"\\nДлина цепочки:\", len(chain))"
   ]
  },
  {
   "cell_type": "markdown",
   "metadata": {},
   "source": [
    "Проведем серию тестов для разных значений n и k, чтобы сделать некоторые выводы:\n",
    "\n",
    "| n | k | Цепочка | Длина цепочки | Минимальная длина |\n",
    "|:-:|:-:|:-------:|:-------------:|:-----------------:|\n",
    "| 31 | 2 | [1, 2, 3, 4, 7, 14, 28, 31] | 8 | 8 |\n",
    "| 31 | 3 | [1, 2, 3, 4, 5, 6, 7, 12, 18, 24, 31] | 11 | 8 |\n",
    "| 31 | 4 | [1, 2, 3, 4, 5, 6, 7, 8, 9, 10, 11, 12, 13, 14, 15, 16, 31] | 17 | 8 |\n",
    "| 72 | 2 | [1, 2, 3, 4, 8, 16, 18, 36, 72] | 9 | 8 |\n",
    "| 72 | 3 | [1, 2, 3, 4, 5, 6, 7, 8, 9, 18, 36, 54, 72] | 13 | 8 |\n",
    "| 72 | 4 | [1, 2, 3, 4, 5, 6, 7, 8, 9, 10, 11, 12, 13, 14, 15, 16, 24, 32, 40, 48, 56, 64, 72] | 23 | 8 |\n",
    "\n",
    "Как можно увидеть, при меньшем значении k длина цепочки получалась наиболее близкой к наименьшей."
   ]
  },
  {
   "cell_type": "markdown",
   "metadata": {},
   "source": [
    "*3) Алгоритм дробления вектора индексов*"
   ]
  },
  {
   "cell_type": "markdown",
   "metadata": {},
   "source": [
    "Проведем тесты алгоритма ДВИ при $n > 500$ и сравним полученные результаты с результатами работы алгоритма Брауэра (при $k=3$). "
   ]
  },
  {
   "cell_type": "code",
   "execution_count": 32,
   "metadata": {},
   "outputs": [
    {
     "data": {
      "text/plain": [
       "[1, 2, 4, 8, 16, 32, 64, 96, 100, 101, 201, 402, 503]"
      ]
     },
     "execution_count": 32,
     "metadata": {},
     "output_type": "execute_result"
    }
   ],
   "source": [
    "''' Spliting Vector Algorithm '''\n",
    " \n",
    "def buildFirstChain(r):\n",
    "    starChain = [1]\n",
    "    for i in range(1, len(r) + 1):\n",
    "        starChain.append(starChain[i-1] + starChain[r[i-1] - 1])\n",
    "    return starChain\n",
    " \n",
    "def buildNextR(vec, q):\n",
    "    for i in range(q - 1, -1, -1):\n",
    "        if vec[i] > 1:\n",
    "            vec[i] -= 1\n",
    "            break\n",
    "        vec[i] = i + 1\n",
    "    return vec\n",
    " \n",
    "def buildNextRo(vec, q):\n",
    "    for i in range(len(vec) - 1, q - 1, -1):\n",
    "        if vec[i] > 1:\n",
    "            vec[i] -= 1\n",
    "            break\n",
    "        vec[i] = i + 1\n",
    "    return vec\n",
    " \n",
    "def splittingVectorAlgorithm(n):\n",
    "    for m in range(int(math.log2(n)) + 1, len(bin(n)) + bin(n).count('1') - 2):\n",
    "        vec = list(i for i in range(1, m))\n",
    "        q = m // 2\n",
    "        equalityFirst = true\n",
    "        while equalityFirst:\n",
    "            if sum(vec[0:q]) == q:\n",
    "                equalityFirst = false\n",
    "            starChain = buildFirstChain(vec)\n",
    "            if starChain[-1] == n:\n",
    "                return starChain\n",
    "            aMax = starChain[q] * (2**(m-q))\n",
    "            aMin = starChain[q] + m - q\n",
    "            if n not in range(aMin, aMax + 1):\n",
    "                vec = buildNextR(vec, q)\n",
    "            else:\n",
    "                equalitySecond = true\n",
    "                while equalitySecond:\n",
    "                    vec = buildNextRo(vec, q)\n",
    "                    if sum(vec[q:]) == m - q - 1:\n",
    "                        equalitySecond = false\n",
    "                    starChain = buildFirstChain(vec)\n",
    "                    if starChain[-1] == n:\n",
    "                        return starChain\n",
    "                vec = buildNextR(vec, q)\n",
    "    return starChain\n",
    "\n",
    "splittingVectorAlgorithm(503)"
   ]
  },
  {
   "cell_type": "code",
   "execution_count": 33,
   "metadata": {
    "scrolled": false
   },
   "outputs": [
    {
     "name": "stdout",
     "output_type": "stream",
     "text": [
      "\n",
      "Алгоритм дробления вектора индексов\n",
      "n = 501\n",
      "CPU times: user 11min 1s, sys: 78 ms, total: 11min 1s\n",
      "Wall time: 11min 2s\n",
      "Цепочка: [1, 2, 4, 8, 16, 32, 64, 96, 100, 200, 400, 500, 501]\n",
      "Длина цепочки: 13\n",
      "\n",
      "Алгоритм Брауэра\n",
      "n = 501\n",
      "CPU times: user 0 ns, sys: 0 ns, total: 0 ns\n",
      "Wall time: 221 µs\n",
      "Цепочка: [1, 2, 3, 4, 7, 14, 28, 31, 62, 124, 125, 250, 500, 501]\n",
      "Длина цепочки: 14\n",
      "\n",
      "Алгоритм дробления вектора индексов\n",
      "n = 503\n",
      "CPU times: user 11min 29s, sys: 94 ms, total: 11min 29s\n",
      "Wall time: 11min 30s\n",
      "Цепочка: [1, 2, 4, 8, 16, 32, 64, 96, 100, 101, 201, 402, 503]\n",
      "Длина цепочки: 13\n",
      "\n",
      "Алгоритм Брауэра\n",
      "n = 503\n",
      "CPU times: user 0 ns, sys: 0 ns, total: 0 ns\n",
      "Wall time: 48.9 µs\n",
      "Цепочка: [1, 2, 3, 4, 7, 14, 28, 31, 62, 124, 125, 250, 500, 503]\n",
      "Длина цепочки: 14\n",
      "\n",
      "Алгоритм дробления вектора индексов\n",
      "n = 520\n",
      "CPU times: user 843 ms, sys: 0 ns, total: 843 ms\n",
      "Wall time: 846 ms\n",
      "Цепочка: [1, 2, 4, 8, 16, 32, 64, 128, 256, 512, 520]\n",
      "Длина цепочки: 11\n",
      "\n",
      "Алгоритм Брауэра\n",
      "n = 520\n",
      "CPU times: user 0 ns, sys: 0 ns, total: 0 ns\n",
      "Wall time: 60.1 µs\n",
      "Цепочка: [1, 2, 3, 4, 8, 16, 32, 64, 128, 130, 260, 520]\n",
      "Длина цепочки: 12\n",
      "\n",
      "Алгоритм дробления вектора индексов\n",
      "n = 537\n",
      "CPU times: user 11min 14s, sys: 16 ms, total: 11min 14s\n",
      "Wall time: 11min 15s\n",
      "Цепочка: [1, 2, 4, 8, 16, 32, 64, 128, 256, 512, 528, 536, 537]\n",
      "Длина цепочки: 13\n",
      "\n",
      "Алгоритм Брауэра\n",
      "n = 537\n",
      "CPU times: user 15 ms, sys: 0 ns, total: 15 ms\n",
      "Wall time: 94.4 µs\n",
      "Цепочка: [1, 2, 3, 4, 8, 16, 32, 33, 66, 132, 134, 268, 536, 537]\n",
      "Длина цепочки: 14\n"
     ]
    }
   ],
   "source": [
    "values = [501, 503, 520, 537]\n",
    "for el in values:\n",
    "    print(\"\\nАлгоритм дробления вектора индексов\")\n",
    "    print(\"n =\", el)\n",
    "    %time chain1 = splittingVectorAlgorithm(el)\n",
    "    print(\"Цепочка:\", chain1)\n",
    "    print(\"Длина цепочки:\", len(chain1))\n",
    "\n",
    "    chain2 = []\n",
    "    print(\"\\nАлгоритм Брауэра\")\n",
    "    print(\"n =\", el)\n",
    "    %time brouwerAlgorithm(el, 2, chain2)\n",
    "    print(\"Цепочка:\", chain2)\n",
    "    print(\"Длина цепочки:\", len(chain2))"
   ]
  },
  {
   "cell_type": "markdown",
   "metadata": {},
   "source": [
    "Можно свести данные в табличку:\n",
    "\n",
    "| n | Цепочка алгоритма Брауэра ($k = 2$) | Длина цепочки | Цепочка алгоритма ДВИ | Длина цепочки | Время работы алгоритма |\n",
    "|:----:|:----:|:----:|:----:|:----:|:----:|\n",
    "| 501 | [1, 2, 3, 4, 7, 14, 28, 31, 62, 124, 125, 250, 500, 501]| 14 | [1, 2, 4, 8, 16, 32, 64, 96, 100, 200, 400, 500, 501] | 13 | 11min 2s|\n",
    "| 503 | [1, 2, 3, 4, 7, 14, 28, 31, 62, 124, 125, 250, 500, 503] | 14 | [1, 2, 4, 8, 16, 32, 64, 96, 100, 101, 201, 402, 503]| 13 | 11min 29s|\n",
    "| 520 | [1, 2, 3, 4, 8, 16, 32, 64, 128, 130, 260, 520] | 12 | [1, 2, 4, 8, 16, 32, 64, 128, 256, 512, 520]| 11 | 846 ms |\n",
    "| 537 | [1, 2, 3, 4, 8, 16, 32, 33, 66, 132, 134, 268, 536, 537] | 14 | [1, 2, 4, 8, 16, 32, 64, 128, 256, 512, 528, 536, 537]| 13 | 11min 15s|"
   ]
  },
  {
   "cell_type": "markdown",
   "metadata": {},
   "source": [
    "Можно заметить, что алгоритм ДВИ тратит намного больше времени, нежели алгоритм Бауэра, но находит наиболее маленькую аддитивную цепочку."
   ]
  },
  {
   "cell_type": "markdown",
   "metadata": {},
   "source": [
    "*4) Проверка следствия Брауэра*"
   ]
  },
  {
   "cell_type": "code",
   "execution_count": 24,
   "metadata": {},
   "outputs": [
    {
     "name": "stdout",
     "output_type": "stream",
     "text": [
      "[1, 2, 3, 3, 4, 4, 5, 4, 5, 5, 6, 5, 6, 6, 6, 5, 6, 6, 7, 6, 7, 7, 7, 6, 7, 7, 7, 7, 8, 7, 8, 6, 7, 7, 8, 7, 8, 8, 8, 7, 8, 8, 8, 8, 8, 8, 9, 7, 8, 8, 8, 8, 9, 8, 9, 8, 9, 9, 9, 8, 9, 9, 9, 7, 8, 8, 9, 8, 9, 9, 10, 8, 9, 9, 9, 9, 9, 9, 10, 8, 9, 9, 9, 9, 9, 9, 10, 9, 10, 9, 10, 9, 10, 10, 10, 8, 9, 9, 9, 9, 10, 9, 10, 9, 10, 10, 10, 9, 10, 10, 10, 9, 10, 10, 10, 10, 10, 10, 10, 9, 10, 10, 10, 10, 10, 10, 11, 8, 9, 9, 10, 9, 10, 10, 10, 9, 10, 10, 11, 10, 11, 11, 11, 9, 10, 10, 10, 10, 10, 10, 11, 10, 10, 10, 11, 10, 11, 11, 11, 9, 10, 10, 10, 10, 10, 10, 11, 10, 11, 10, 11, 10, 11, 11, 11, 10, 11, 11, 11, 10, 11, 11, 11, 10, 11, 11, 11, 11, 11, 11, 12, 9, 10, 10, 10, 10, 11, 10, 11, 10]\n"
     ]
    },
    {
     "data": {
      "image/png": "[encoded data removed]",
      "text/plain": [
       "<Figure size 864x576 with 1 Axes>"
      ]
     },
     "metadata": {
      "needs_background": "light"
     },
     "output_type": "display_data"
    }
   ],
   "source": [
    "import pylab as plt\n",
    "\n",
    "ln = []\n",
    "for i in range(1, 201):\n",
    "    chain = splittingVectorAlgorithm(i)\n",
    "    ln.append(len(chain))\n",
    "print(ln)\n",
    "\n",
    "x = [i for i in range(1, 201)]\n",
    "\n",
    "lnx = [math.log2(i) for i in range(1, 201)]\n",
    "lnx2 = [math.log2(i) ** 2 for i in range(1, 201)]\n",
    "lnx_y = [ln[i - 1] * lnx[i - 1] for i in range(1, 201)]\n",
    "\n",
    "a = (201 * sum(lnx_y) - sum(ln) * sum(lnx)) / (201 * sum(lnx2) - sum(lnx) ** 2)\n",
    "b = (sum(ln) - a * sum(lnx)) / 200\n",
    "\n",
    "y = [b + a * lnx[i - 1] for i in range(1, 201)]\n",
    "\n",
    "plt.figure(figsize = (12, 8))\n",
    "plt.scatter(x, ln, color='r', marker='.')\n",
    "plt.plot(x, y)\n",
    "plt.show()\n"
   ]
  },
  {
   "cell_type": "markdown",
   "metadata": {},
   "source": [
    "По графику можно сделать вывод, что $l(n)$ аппроксимируется логарифмом, что подтверждает первое следствие из теоремы Бауэра."
   ]
  },
  {
   "cell_type": "markdown",
   "metadata": {},
   "source": [
    "*5) Проверка гипотезы Шольца–Брауэра*"
   ]
  },
  {
   "cell_type": "code",
   "execution_count": null,
   "metadata": {
    "scrolled": true
   },
   "outputs": [
    {
     "name": "stdout",
     "output_type": "stream",
     "text": [
      "n = 2 l(2^n - 1) = 3 l(n) + n - 1 = 3\n",
      "n = 3 l(2^n - 1) = 5 l(n) + n - 1 = 5\n",
      "n = 4 l(2^n - 1) = 6 l(n) + n - 1 = 6\n",
      "n = 5 l(2^n - 1) = 8 l(n) + n - 1 = 8\n",
      "n = 6 l(2^n - 1) = 9 l(n) + n - 1 = 9\n",
      "n = 7 l(2^n - 1) = 11 l(n) + n - 1 = 11\n",
      "n = 8 l(2^n - 1) = 11 l(n) + n - 1 = 11\n",
      "n = 9 l(2^n - 1) = 13 l(n) + n - 1 = 13\n"
     ]
    }
   ],
   "source": [
    "for n in range(2, 11):\n",
    "    v1 = len(splittingVectorAlgorithm(2**n - 1))\n",
    "    v2 = len(splittingVectorAlgorithm(n)) + n - 1\n",
    "    print(\"n =\", n, \"l(2^n - 1) =\", v1, \"l(n) + n - 1 =\", v2)"
   ]
  },
  {
   "cell_type": "markdown",
   "metadata": {},
   "source": [
    "Сведем результаты в таблицу:\n",
    "\n",
    "| $n$ | $l(2^n-1)$ | $l(n)+n-1$ |\n",
    "| :-: | :-: | :-: |\n",
    "| 2 | 3 | 3 |\n",
    "| 3 | 5 | 5 |\n",
    "| 4 | 6 | 6 |\n",
    "| 5 | 8 | 8 |\n",
    "| 6 | 9 | 9 |\n",
    "| 7 | 11 | 11 |\n",
    "| 8 | 11 | 11 |\n",
    "| 9 | 13 | 13 |\n",
    "| 10 | 14 | 14 |\n",
    "\n",
    "Как можно увидеть, для $2 \\leq n \\leq 10$ гипотеза выполняется. Стоит отметить, что значения совпали, т.е при $2 \\leq n \\leq 10$ для посчета $l(2^n-1)$ можно использовать формулу $l(n)+n-1$, что очень сильно может сэкономить время."
   ]
  },
  {
   "cell_type": "markdown",
   "metadata": {},
   "source": [
    "## Вывод\n",
    "\n",
    "Во время выполнения работы были изучены различные методы возведения в степень числа наиболее быстрыми методами. Было изучено понятие аддитивных цепочек и были реализованы различные алгоритмы построения аддитивных цепочек (алгоритмы Бауэра и ДВИ). Были сделаны вывод по поводу того, что ДВИ работает намного медленне, нежели алгоритм Бауэра, но выдает наименьшую длину цепочки. Также были проверены первое следствие теоремы Бауэра и гипотеза Шольца-Бауэра."
   ]
  }
 ],
 "metadata": {
  "kernelspec": {
   "display_name": "SageMath 9.2",
   "language": "sage",
   "name": "sagemath"
  },
  "language_info": {
   "codemirror_mode": {
    "name": "ipython",
    "version": 3
   },
   "file_extension": ".py",
   "mimetype": "text/x-python",
   "name": "python",
   "nbconvert_exporter": "python",
   "pygments_lexer": "ipython3",
   "version": "3.7.7"
  }
 },
 "nbformat": 4,
 "nbformat_minor": 4
}
