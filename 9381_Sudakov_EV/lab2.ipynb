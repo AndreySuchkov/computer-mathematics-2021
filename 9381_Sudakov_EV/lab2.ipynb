{
 "cells": [
  {
   "cell_type": "markdown",
   "metadata": {},
   "source": [
    "# Практическая работа №2: Исследование задач о раскрасках\n",
    "\n",
    "Выполнил студент гр. 9381 Судаков Евгений, вариант 62."
   ]
  },
  {
   "cell_type": "markdown",
   "metadata": {},
   "source": [
    "## Цель работы:\n",
    "Формирование представления о задачах о раскрасках, выработать умение использование леммы Бёрнсайда для решения задачи о раскрасках, привить навык использования систем компьютерной алгебры для реализации алгоритмов решения задачи.\n",
    "***\n",
    "\n",
    "## Основные теоретические положения.\n",
    "\n",
    "### Определение действия группы на множество.\n",
    "Пусть $G$ - группа с нейтральным элементом $e$, а $X$ - множество. $G$ действует на $X$, если задана операция $G \\times X \\to X$, обладающая для $\\forall x \\in X$ и $\\forall g,h \\in G$ следующими свойствами:\n",
    "\n",
    "1) $ex = x$\n",
    "\n",
    "2) $g(hx) = (gh)x$\n",
    "\n",
    "где $gx$ - это образ пары $(g,x)$.\n",
    "\n",
    "### Определение орбиты.\n",
    "Орбитой элемента $x \\in X$ под действием $G$ называется множество $Gx = \\{gx | g \\in G\\}$. Количество элементов в данной орбите называется длиной орбиты. Любые две орбиты либо не пересекаются, либо совпадают. Таким образом, множество $X$ разбивается в дизъюнктивное объединение орбит.\n",
    "\n",
    "### Определение неподвижных точек.\n",
    "Неподвижными точками элемента $g \\in G$ называются те $x \\in X$, для которых $gx = x$. Множество неподвижных точек элемента $g$ обозначается через $X^{g}$.\n",
    "\n",
    "### Лемма Бёрнсайда. \n",
    "Количество орбит действия группы $G$ на множестве $X$ равно:\n",
    "$\\frac{1}{|G|}\\sum\\limits_{g\\in G}|X^{g}|$\n",
    "\n",
    "##### Доказательство.\n",
    "Обозначим число орбит через $N$. Каждый элемент $x\\in X$ лежит в орбите $Gx$. Сопоставим ему число $\\frac{1}{|Gx|}$. Сумма этих чисел по всем $x$ из данной орбиты $O$ равна 1. ($O$ раз складываем число $\\frac{1}{|O|}$ с самим собой). Поэтому количесво орбит можно вычислить по формуле $N = \\sum\\limits_{x\\in X}\\frac{1}{|Gx|}$. Подлсавляя сюда формулу для длины орбиты $|Gx|\\cdot |St(x)| = |G|$ получим $N = \\sum\\limits_{x\\in X}\\frac{|St(x)|}{|G|} = \\frac{1}{|G|}\\sum\\limits_{x\\in X}|St(x)|$. Используя формулу $\\sum\\limits_{x\\in X}|St(x)| = \\sum\\limits_{g\\in G}|X^g|$ получим $N = \\frac{1}{|G|}\\sum\\limits_{g\\in G}|X^g|$, что и требовалось доказать.\n",
    "\n",
    "### Определение множества раскрасок.\n",
    "Пусть $I$ - произвольное множество, а $C$ - множество цветов.Расскраской множества $I$ называется функция из $I$ в $C$. Множество всех раскрасок обозначается через $C^I$. $|C^I| = |C|^{|I|}$\n",
    "\n",
    "##### Def. :\n",
    "Пусть $G$ группа, действующая на множестве $I$. Тогда формула $gf(i) = f(g^{-1}i)$, где $g \\in G$, $i \\in I$, а $f \\in C^{I}$ задает действие $G$ на $C^{I}$.\n",
    "\n",
    "##### Def. :\n",
    "Для элемента $g \\in G$ и функции $f \\in C^{I}$ следующие условия эквивалентны:\n",
    "\n",
    "1)$gf = f$\n",
    "\n",
    "2)$f(i) = f(g^{n}i)$, $\\forall i \\in I $ и $n \\in \\mathbb{Z}$\n",
    "\n",
    "3)Если $i,j \\in I$ лежат в одном цикле в циклической записи перестановки $\\varphi(g)$, то $f(i) = f(j)$\n",
    "\n",
    "### Количество раскрасок. \n",
    "Количество раскрасок из $C^{I}$, которые сохраняет данный элемент $g \\in G$ равно $|C|^{c(\\varphi(g))}$, где $c(\\varphi(g))$ - количество независимых циклов перестановки $\\varphi(g)$ (считая циклы длины 1).\n",
    "\n",
    "##### Доказательство.\n",
    "Обозначим через $\\langle g \\rangle i$ орбиту элемента $i$ под действием циклической подгруппы, порождённой $g$ (упорядоченные элементы такой орбиты - это и есть цикл перестановки $\\varphi(g)$). Пусть $Q$ - множество различных орбит. Если $gf=f$, то известно, что все элементы одной орбиты отображаются в одно и тоже под действием функции $f$. Поэтому $f$ однозначно определяется функцией $\\tilde f : Q \\rightarrow С$, где $\\tilde f (\\langle g \\rangle i) = f(i)$. Другими словами, множество $(C^I)^g$ биективно отображается на множество $C^Q$, а значит эти множества имеют одинаковые количества элементов. Количесвто всех функций из $Q$ в $C$ равно $|C|^{|Q|}$, при этом $Q = |c(\\varphi(g))|$. ЧТД. \n",
    "\n",
    "## Постановка задачи.\n",
    "Аналитически решить задачу о раскрасках; графически отобразить решения задачи с использованием системы компьютерной алгебры SageMath. Полученные результаты содержательно проинтерпретировать.\n",
    "\n",
    "## Порядок выполнения работы:\n",
    "\n",
    "1. Аналитически решить задачу о раскрасках для заданного варианта. Все умозаключения в ходе решения обосновать и содержательно проинтерпретировать.\n",
    "\n",
    "2. Реализовать средствами SageMath функцию, отображающую графически раскраску по заданному номеру. Продемонстрировать работу функции на нескольких примерах. Сделать выводы.\n",
    "\n",
    "3. Дополнительное необязательное задание: для заданного варианта решить задачу в общем виде.\n",
    "\n",
    "## Выполнение работы.\n",
    "\n",
    "### Задание.\n",
    "Сколькими способами можно раскрасить вершины куба, используя краски 4 цветов (с точностью до поворотов куба).\n",
    "\n",
    "### Решение."
   ]
  },
  {
   "cell_type": "markdown",
   "metadata": {},
   "source": [
    "\n",
    "Известно, что вращение куба однозначно определяется перестановкой его больших диагоналей, и каждая перестановка диагоналей реализуется каким-то вращением. Так как у куба 4 больших диагоналей, то сказанное выше означает, что группа вращений куба изоморфна симметрической группе $S_4$. Для решения задачи необходимо реальзовать эту группу в группе перестановок вершин в группе $S_8$."
   ]
  },
  {
   "cell_type": "markdown",
   "metadata": {},
   "source": [
    "<img src=\"1.png\">"
   ]
  },
  {
   "cell_type": "markdown",
   "metadata": {},
   "source": [
    "Обозначим большие диагонали:\n",
    "\n",
    "$d_1 = A_1A_7,$        $d_2 = A_2A_8,$  $d_3 = A_3A_5, $ $d_4 = A_4A_6$"
   ]
  },
  {
   "cell_type": "markdown",
   "metadata": {},
   "source": [
    "$\\tau_{ 1 }= e = (A_1)(A_2)(A_3)(A_4)(A_5)(A_6)(A_7)(A_8) $\n",
    "\n",
    "$\\tau_{ 2 }= (d_1d_2) = (A_1A_2)(A_3A_5)(A_4A_6)(A_7A_8) $\n",
    "\n",
    "$\\tau_{ 3 }= (d_1d_3) = (A_1A_5)(A_2A_8)(A_3A_7)(A_4A_6) $\n",
    "\n",
    "$\\tau_{ 4 }= (d_1d_4) = (A_1A_4)(A_2A_8)(A_3A_5)(A_6A_7) $\n",
    "\n",
    "$\\tau_{ 5 }= (d_2d_3) = (A_1A_7)(A_2A_3)(A_4A_6)(A_5A_8) $\n",
    "\n",
    "$\\tau_{ 6 }= (d_2d_4) = (A_1A_7)(A_2A_6)(A_3A_5)(A_4A_8) $\n",
    "\n",
    "$\\tau_{ 7 }= (d_3d_4) = (A_1A_7)(A_2A_8)(A_3A_4)(A_5A_6) $ \n"
   ]
  },
  {
   "cell_type": "markdown",
   "metadata": {},
   "source": [
    "\n",
    "$\\tau_{ 8 }= (d_1d_2)(d_3d_4) = (A_1A_2)(A_3A_5)(A_4A_6)(A_7A_8)\\cdot (A_1A_7)(A_2A_8)(A_3A_4)(A_5A_6) = (A_1A_8)(A_2A_7)(A_3A_6)(A_4A_5)$\n",
    "\n",
    "$\\tau_{ 9 }= (d_1d_3)(d_2d_4) = (A_1A_3)(A_2A_4)(A_5A_7)(A_6A_8)$\n",
    "\n",
    "$\\tau_{ 10 }= (d_1d_4)(d_2d_3) = (A_1A_6)(A_2A_5)(A_3A_8)(A_4A_7)$\n"
   ]
  },
  {
   "cell_type": "markdown",
   "metadata": {},
   "source": [
    "Остальные перестановки получаются из предыдущих путем разложения  более сложных перестановок в произведение транспозиций, с дальнейшим перемножением соответствующий элементов из $S_8$.\n",
    "\n",
    "Например, $(d_1d_2d_3) = (d_1d_2)(d_2d_3)$"
   ]
  },
  {
   "cell_type": "markdown",
   "metadata": {},
   "source": [
    "$\\tau_{ 11 } = (d_1d_2d_3) = (d_1d_2)(d_2d_3) = (A_1A_2)(A_3A_5)(A_4A_6)(A_7A_8) \\cdot (A_1A_7)(A_2A_3)(A_4A_6)(A_5A_8) = (A_1A_3A_8)(A_2A_7A_5)(A_4)(A_6)$\n",
    "\n",
    "$\\tau_{ 12 } = (d_1d_2d_4) = (d_1d_2)(d_2d_4) = (A_1A_2)(A_3A_5)(A_4A_6)(A_7A_8) \\cdot (A_1A_7)(A_2A_6)(A_3A_5)(A_4A_8) = (A_1A_6A_8)(A_2A_7A_4)(A_3)(A_5)$\n",
    "\n",
    "$\\tau_{ 13 } =(d_1d_3d_2) = (d_1d_3)(d_2d_3) = (A_1A_5)(A_2A_8)(A_3A_7)(A_4A_6) \\cdot (A_1A_7)(A_2A_3)(A_4A_6)(A_5A_8) = (A_1A_8A_3)(A_2A_5A_7)(A_4)(A_6)$\n",
    "\n",
    "$\\tau_{ 14 } =(d_1d_3d_4) = (d_1d_3)(d_3d_4) = (A_1A_5)(A_2A_8)(A_3A_7)(A_4A_6) \\cdot (A_1A_7)(A_2A_8)(A_3A_4)(A_5A_6) = (A_1A_6A_3)(A_4A_5A_7)(A_2)(A_8)$\n",
    "\n",
    "$\\tau_{ 15 } =(d_1d_4d_2) = (d_1d_4)(d_2d_4) = (A_1A_4)(A_2A_8)(A_3A_5)(A_6A_7) \\cdot  (A_1A_7)(A_2A_6)(A_3A_5)(A_4A_8) = (A_1A_8A_6)(A_2A_4A_7)(A_3)(A_5)$\n",
    "\n",
    "$\\tau_{ 16 } =(d_1d_4d_3) = (d_1d_4)(d_3d_4) = (A_1A_4)(A_2A_8)(A_3A_5)(A_6A_7)\\cdot  (A_1A_7)(A_2A_8)(A_3A_4)(A_5A_6) = (A_1A_3A_6)(A_4A_7A_5)(A_2)(A_8)$\n",
    "\n",
    "$\\tau_{ 17 } =(d_2d_3d_4) = (d_2d_3)(d_3d_4) = (A_1A_7)(A_2A_3)(A_4A_6)(A_5A_8) \\cdot (A_1A_7)(A_2A_8)(A_3A_4)(A_5A_6) = (A_2A_4A_5)(A_3A_8A_6)(A_1)(A_7)$\n",
    "\n",
    "$\\tau_{ 18 } =(d_2d_4d_3) = (d_2d_4)(d_3d_4) = (A_1A_7)(A_2A_6)(A_3A_5)(A_4A_8) \\cdot (A_1A_7)(A_2A_8)(A_3A_4)(A_5A_6) = (A_1)(A_2A_5A_4)(A_3A_6A_8)(A_7)$\n",
    "\n",
    "$\\tau_{ 19 } =(d_1d_2d_3d_4) = (d_1d_2d_3)(d_3d_4) = (A_1A_3A_8)(A_2A_7A_5)(A_4)(A_6) \\cdot(A_1A_7)(A_2A_8)(A_3A_4)(A_5A_6)  = (A_1A_4A_3A_2)(A_5A_8A_7A_6)$\n",
    "\n",
    "$\\tau_{ 20 } =(d_1d_2d_4d_3) = (d_1d_2d_4)(d_3d_4) = (A_1A_6A_8)(A_2A_7A_4)(A_3)(A_5) \\cdot (A_1A_7)(A_2A_8)(A_3A_4)(A_5A_6) = (A_1A_5A_6A_2)(A_3A_4A_8A_7)$\n",
    "\n",
    "$\\tau_{ 21 } =(d_1d_3d_2d_4) = (d_1d_3d_2)(d_2d_4) = (A_1A_8A_3)(A_2A_5A_7)(A_4)(A_6) \\cdot (A_1A_7)(A_2A_6)(A_3A_5)(A_4A_8) = (A_1A_4A_8A_5)(A_2A_3A_7A_6)$\n",
    "\n",
    "$\\tau_{ 22 } =(d_1d_3d_4d_2) = (d_1d_3d_4)(d_2d_4) = (A_1A_6A_3)(A_4A_5A_7)(A_2)(A_8) \\cdot (A_1A_7)(A_2A_6)(A_3A_5)(A_4A_8) = (A_1A_2A_6A_5)(A_3A_7A_8A_4)$\n",
    "\n",
    "$\\tau_{ 23 } =(d_1d_4d_2d_3) = (d_1d_4d_2)(d_2d_3) = (A_1A_8A_6)(A_2A_4A_7)(A_3)(A_5)  \\cdot (A_1A_7)(A_2A_3)(A_4A_6)(A_5A_8) = (A_1A_5A_8A_4)(A_2A_6A_7A_3)$\n",
    "\n",
    "$\\tau_{ 24 } =(d_1d_4d_3d_2) = (d_1d_4d_3)(d_2d_3) = (A_1A_3A_6)(A_4A_7A_5)(A_2)(A_8) \\cdot (A_1A_7)(A_2A_3)(A_4A_6)(A_5A_8) = (A_1A_2A_3A_4)(A_5A_6A_7A_8)$"
   ]
  },
  {
   "cell_type": "markdown",
   "metadata": {},
   "source": [
    "Для нахождения неподвижных точек элемента $\\tau \\in G$ Воспользуемся формулой $|X^\\tau| = 4^{c(\\tau)}$ , где $c(\\tau)$ - количество независимых циклов в перестановке, соответствующей элементу $\\tau \\in G$."
   ]
  },
  {
   "cell_type": "markdown",
   "metadata": {},
   "source": [
    "$|X^{\\tau_{1}}|=4^8=65536$\n",
    "\n",
    "$|X^{\\tau_{2}}|=4^4=256$\n",
    "\n",
    "$|X^{\\tau_{3}}|=4^4=256$\n",
    "\n",
    "$|X^{\\tau_{4}}|=4^4=256$\n",
    "\n",
    "$|X^{\\tau_{5}}|=4^4=256$\n",
    "\n",
    "$|X^{\\tau_{6}}|=4^4=256$\n",
    "\n",
    "$|X^{\\tau_{7}}|=4^4=256$\n",
    "\n",
    "$|X^{\\tau_{8}}|=4^4=256$\n",
    "\n",
    "$|X^{\\tau_{9}}|=4^4=256$\n",
    "\n",
    "$|X^{\\tau_{10}}|=4^4=256$\n",
    "\n",
    "$|X^{\\tau_{11}}|=4^4=256$\n",
    "\n",
    "$|X^{\\tau_{12}}|=4^4=256$\n",
    "\n",
    "$|X^{\\tau_{13}}|=4^4=256$\n",
    "\n",
    "$|X^{\\tau_{14}}|=4^4=256$\n",
    "\n",
    "$|X^{\\tau_{15}}|=4^4=256$\n",
    "\n",
    "$|X^{\\tau_{16}}|=4^4=256$\n",
    "\n",
    "$|X^{\\tau_{17}}|=4^4=256$\n",
    "\n",
    "$|X^{\\tau_{18}}|=4^4=256$\n",
    "\n",
    "$|X^{\\tau_{19}}|=4^2=16$\n",
    "\n",
    "$|X^{\\tau_{20}}|=4^2=16$\n",
    "\n",
    "$|X^{\\tau_{21}}|=4^2=16$\n",
    "\n",
    "$|X^{\\tau_{22}}|=4^2=16$\n",
    "\n",
    "$|X^{\\tau_{23}}|=4^2=16$\n",
    "\n",
    "$|X^{\\tau_{24}}|=4^2=16$\n",
    "\n"
   ]
  },
  {
   "cell_type": "markdown",
   "metadata": {},
   "source": [
    "$$G = \\{e, \\tau_1, \\tau_2, ..., \\tau_{24}\\} \\Rightarrow |G| = 24$$"
   ]
  },
  {
   "cell_type": "markdown",
   "metadata": {},
   "source": [
    "$$N = \\frac{1}{|G|}\\sum_{\\tau \\in G}|X^{\\tau}|$$"
   ]
  },
  {
   "cell_type": "markdown",
   "metadata": {},
   "source": [
    "$N = \\cfrac{1}{24}(4^8 + 17 * 4^4 + 6 * 4^2)=\\cfrac{69984}{24} = 2916$"
   ]
  },
  {
   "cell_type": "markdown",
   "metadata": {},
   "source": [
    "Ответ: 2916"
   ]
  },
  {
   "cell_type": "markdown",
   "metadata": {},
   "source": [
    "### Реализация функции графического изображения раскраски"
   ]
  },
  {
   "cell_type": "code",
   "execution_count": 34,
   "metadata": {},
   "outputs": [
    {
     "data": {
      "image/png": "[encoded data removed]",
      "text/plain": [
       "<Figure size 432x288 with 1 Axes>"
      ]
     },
     "metadata": {
      "needs_background": "light"
     },
     "output_type": "display_data"
    }
   ],
   "source": [
    "from matplotlib import pyplot as plt\n",
    "\n",
    "def visualize_persmutation(n):\n",
    "    colors = [\n",
    "        \"red\",\n",
    "        \"blue\",\n",
    "        \"green\",\n",
    "        \"yellow\"\n",
    "        ]\n",
    "    number = []\n",
    "    for i in range(8):\n",
    "        number.append(colors[n % 4])\n",
    "        n = n // 4\n",
    "\n",
    "    plt.hlines(y=5, xmin=0, xmax=5,color = \"black\")\n",
    "    plt.hlines(y=0, xmin=0, xmax=5,color = \"black\")\n",
    "    plt.vlines(x=5, ymin=0, ymax=5,color = \"black\")\n",
    "    plt.vlines(x=0, ymin=0, ymax=5,color = \"black\")\n",
    "\n",
    "    plt.hlines(y=7.5, xmin=2.5, xmax=7.5,color = \"black\")\n",
    "    plt.hlines(y=2.5, xmin=2.5, xmax=7.5,color = \"black\")\n",
    "    plt.vlines(x=7.5, ymin=2.5, ymax=7.5,color = \"black\")\n",
    "    plt.vlines(x=2.5, ymin=2.5, ymax=7.5,color = \"black\")\n",
    "\n",
    "\n",
    "    ax=plt.gca()\n",
    "    \n",
    "    vertices = []\n",
    "\n",
    "    plt.plot([0, 2.5], [0,2.5],color = \"black\")\n",
    "    plt.plot([5, 7.5], [0, 2.5],color = \"black\")\n",
    "    plt.plot([5, 7.5], [5, 7.5],color = \"black\")\n",
    "    plt.plot([0, 2.5], [5, 7.5],color = \"black\")\n",
    "    vertices.append(plt.Circle((0, 0), 0.4, color=number[0]))\n",
    "    ax.text(0.0, 0.4, \"1\", color='black')\n",
    "    vertices.append(plt.Circle((2.5, 2.5), 0.4, color=number[1]))\n",
    "    ax.text(2.5, 2.9, \"2\", color='black')\n",
    "    vertices.append(plt.Circle((7.5, 2.5), 0.4, color=number[2]))\n",
    "    ax.text(7.5, 2.9, \"3\", color='black')\n",
    "    vertices.append(plt.Circle((5, 0), 0.4, color=number[3]))\n",
    "    ax.text(5.0, 0.4, \"4\", color='black')\n",
    "    vertices.append(plt.Circle((0, 5), 0.4, color=number[4]))\n",
    "    ax.text(0, 5.4, \"5\", color='black')\n",
    "    vertices.append(plt.Circle((2.5, 7.5), 0.4, color=number[5]))\n",
    "    ax.text(2.5, 7.9, \"6\", color='black')\n",
    "    vertices.append(plt.Circle((7.5, 7.5), 0.4, color=number[6]))\n",
    "    ax.text(7.5, 7.9, \"7\", color='black')\n",
    "    vertices.append(plt.Circle((5, 5), 0.4, color=number[7]))\n",
    "    ax.text(5.0, 5.4, \"8\", color='black')\n",
    "\n",
    "    for x in vertices:\n",
    "        ax.add_patch(x)\n",
    "\n",
    "    plt.grid()\n",
    "\n",
    "    plt.axis('off')\n",
    "\n",
    "    plt.show()\n",
    "\n",
    "\n",
    "visualize_persmutation(498)"
   ]
  },
  {
   "cell_type": "code",
   "execution_count": null,
   "metadata": {},
   "outputs": [],
   "source": []
  }
 ],
 "metadata": {
  "kernelspec": {
   "display_name": "SageMath 9.0",
   "language": "sage",
   "name": "sagemath"
  },
  "language_info": {
   "codemirror_mode": {
    "name": "ipython",
    "version": 3
   },
   "file_extension": ".py",
   "mimetype": "text/x-python",
   "name": "python",
   "nbconvert_exporter": "python",
   "pygments_lexer": "ipython3",
   "version": "3.8.5"
  }
 },
 "nbformat": 4,
 "nbformat_minor": 4
}
