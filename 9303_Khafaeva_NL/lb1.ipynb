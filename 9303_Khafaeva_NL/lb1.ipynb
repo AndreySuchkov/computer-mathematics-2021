{
 "cells": [
  {
   "cell_type": "markdown",
   "metadata": {},
   "source": [
    "# Практическая работа №1: Исследование алгоритмов формирования аддитивных цепочек\n",
    "\n",
    "## Цель работы\n",
    "\n",
    "Формирование представления о аддитивных цепочках, выработать умение составлять и применять алгоритмы для нахождения минимальных аддитивных цепочек для заданного числа, привить навык использования систем компьютерной алгебры для реализации алгоритмов.\n",
    "\n",
    "\n",
    "\n",
    " Основные теоритические положения\n",
    "--------------------------------------------------------------------------------------------------------------------------------------\n",
    "\n",
    " ### Бинарный метод\n",
    " \n",
    " Бинарный метод - это один из алгоритмов быстрого возведения числа $x$ в некоторую степень $n\\in \\mathbb{N}$.\n",
    " \n",
    " Алгоритм заключается в следующем: слево-направо просматривается бинарное представление числа $ n $, начиная с второй цифры: когда встречается 1 - текущее число умножается на самого себя и на число $ x $, когда 0 - текущее число умножается на $ x $.\n",
    " \n",
    " Количество операций, требуемых для возведения числа $x$ в степень $n$, для данного метода равно $\\lambda(n)+\\nu(n)-1$, где $\\lambda(n)=\\lfloor lb(n) \\rfloor$, а $\\nu(n)$ равно количеству единиц в двоичной записи числа $n$.\n",
    " \n",
    " ### Метод множителей\n",
    " \n",
    " Метод множителей это один из алгоритмов быстрого возведения числа $x$ в некоторую степень $n\\in \\mathbb{N}$.\n",
    " \n",
    " Алгоритм заключается в следующем: число n раскладывается на произведение двух множителей: $ n = i*j $ , где  $ i $ - наименьший простой множитель. Далее сначала $ x $ возводится в степень $ i $ , а затем получившееся число в тепень $ j $. Если $ n $ - простое число, то на множители раскладывается число $ n - 1 $ и после получения результата домножаем на $ x $.\n",
    " \n",
    " \n",
    "### Аддитивные цепочки\n",
    "\n",
    " Аддитивная цепочка для $ n \\in N $ - последовательность такого вида: $ 1 = a_0, a_1, a_2, ..., a_m = n $ , в которой $ a_i = a_j + a_k $ ,  $    k \\leqslant j < i  $ , $ \\forall i = 1..m $ .\n",
    " \n",
    " Функция $ l(n) $  - наименьшая длина аддитивной цепочки.\n",
    "\n",
    "Типы шагов:\n",
    "    \n",
    "   1. Удвоение, если $ j = k = i - 1 $ . \n",
    "\n",
    "   2. Звездный, если $ j = i - 1 $ .\n",
    "\n",
    "   3. Малый, если $ \\lambda (a_i) = \\lambda (a_{i-1}) $ .\n",
    "   \n",
    "Звездная цепочка - аддитивная цепочка, состоящая только из звездных шагов.\n",
    "\n",
    " \n",
    "### Алгоритм Яо\n",
    " \n",
    " Алгориитм Яо - алгоритм поиска аддитивной цепочки для n. Представим число n в виде: $ n = \\sum_{i = 0}^{j}a_j2^{ik}, a_j \\neq 0, k \\geq 2 $ . Введём функцию $ d(z) $  - сумма чисел $ 2^{ik} $ для $  \\forall i : a_i = z $ . В аддитивную цепочку последовательно добавляются следующие элементы:\n",
    " \n",
    " 1. Степени двойки до $ \\lambda (n) $ , т.е. в цепочки находятся элементы $ \\{1,2,4,8,..., 2^{\\lambda(n)} \\} $.\n",
    " \n",
    " 2. Значения функции $ d(z) $, $ z \\in \\{1, 2, 3, ..., 2^k-1\\} $.\n",
    " \n",
    " 3. Значения $ zd(z) $ , $ \\forall z $.\n",
    " \n",
    "Таким образом, $ n = \\sum_{z = 1}^{2^k-1}zd(z) $.\n",
    "\n",
    "### Алгоритм дробления вектора индеков\n",
    "\n",
    "Алгоритм дробления вектора индексов позволяет найти минимальную звездную цепочку для некоторого числа $n \\in \\mathbb{N}$. \n",
    "\n",
    "  1. Запускаем внешний цикл по длинам цепочек $ \\underline{l}(n) \\leq m \\leq \\overline{l}(n) $. Где $ \\underline{l}(n) = \\lambda (n) $, а $ \\overline{l}(n) = \\lambda(n) + \\nu(n) - 1 $. Пусть  $ q = m//2 - 1 $.\n",
    "  2. Запускаем внутрненний цикл перебора всех $ \\{r_i\\}_{i=1}^{q} $.\n",
    "  \n",
    "  На каждом шаге вычисляем $ a_{min} = a_{q+1} + m - q $ и $ a_{max} = a_{q+1}2^{m-q} $\n",
    "  \n",
    "   1. Если последний элемент в цепочки равен числу $ n $, заканчиваем алгоритм.\n",
    "   2. Если $ n \\in [a_{min}, a_{max}] $ , то тогда перебираем часть вектора индексов $ \\{r_j\\}_{j=q+1}^m $\n",
    "   3. Если $ n \\notin [a_{min}, a_{max}] $ , то тогда перебираем часть вектора индексов $ \\{r_i\\}_{i=1}^q $\n",
    "   \n",
    "\n",
    "### Следствие теоремы Брауэра:\n",
    "\n",
    "Пусть $k < log_2(log_2(n))$ верно: $l(n) < (1+k^{-1}) * \\lceil log_2(n) \\rceil + 2^{k-1} - k + 2$\n",
    "\n",
    "Тогда $k=\\lambda(\\lambda(n))-2\\lambda(\\lambda(\\lambda(n)))$\n",
    "\n",
    "*Следствие 1:* $\\lim \\limits_{n \\to \\infty} \\frac{l(n)}{\\lambda(n)} = 1$\n",
    "\n",
    "*Следствие 2:* $\\lambda(n)(1+\\frac{1}{\\lambda(\\lambda(n))}+\\frac{o(\\lambda(\\lambda(\\lambda(n))))}{\\lambda(\\lambda(n))^2})$\n",
    "\n",
    "### Гипотеза Шольца-Брауэра:\n",
    "\n",
    "Пусть $l^*(n)$ - длина звёздной цепочки.\n",
    "\n",
    "Тогда для любого $n \\in \\mathbb{N}$ верно: $l^*(2^n-1)\\leq l^*(n)+n-1$\n",
    "\n",
    "\n",
    "\n",
    "## Постановка задачи\n",
    "\n",
    "Реализовать точные и приближённые алгоритмы нахождения минимальных аддитивных цепочек с использованием системы компьютерной алгебры SageMath, провести анализ алгоритмов. Полученные результаты содержательно проинтерпретировать.\n",
    "\n",
    "## Порядок выполнения работы\n",
    "\n",
    "1. Применить бинарный метод и метод множителей для $ x^n $, где $ n⩾30 $, для 2-3 значений $ n $ (значения $ n $ выбирается студентом самостоятельно). Сравнить количество операций для каждого метода, сделать выводы.\n",
    "\n",
    "2. Реализовать алгоритм Брауэра (для нечётных вариантов) или алгоритм Яо (для чётных вариантов) для вычисления приближённых аддитивных цепочек для различных чисел при варьировании параметра $ k $, сопоставить длины полученных аддитивных цепочек с минимальной аддитивной цепочкой для заданного числа. Сделать выводы.\n",
    "\n",
    "3. Реализовать алгоритм дробления вектора индексов для нахождения минимальной звёздной цепочки для заданного числа. Протестировать алгоритм при $ n>500 $. Указать, сколько времени потребовалось на поиск цепочки и какая цепочка получилась. Сравнить с предыдущими методами, сделать выводы.\n",
    "\n",
    "4. Проверить теорему Брауэра для $ n=1..200 $ путём построения функции $ l(n) $ и аппроксимирующей кривой, полученной с помощью метода наименьших квадратов. Сопоставить функции на одном графике, сделать выводы.\n",
    "5. Проверить гипотезу Шольца–Брауэра для $ 1⩽n⩽10 $ на алгоритме дробления вектора индексов. Сделать выводы.\n",
    "\n",
    "\n",
    "\n",
    "\n",
    "\n",
    "## Выполнение работы\n",
    "\n",
    "1) Реализация бинарного метода: \n"
   ]
  },
  {
   "cell_type": "code",
   "execution_count": 2,
   "metadata": {},
   "outputs": [
    {
     "name": "stdout",
     "output_type": "stream",
     "text": [
      "Binary method:\n",
      "2^55 = 36028797018963968 \n",
      "Number of operations: 9\n"
     ]
    }
   ],
   "source": [
    "def binary_method(x, n):\n",
    "    result = x\n",
    "    binary = list (bin(n))[3:]\n",
    "    for i in binary:\n",
    "        if (i == '1'):\n",
    "            result *= result * x\n",
    "        else:\n",
    "            result *= result\n",
    "    return result\n",
    "\n",
    "def BM_operations(n):\n",
    "    tmp = len (list(bin(n))[2:])\n",
    "    lambda_n = tmp - 1\n",
    "    v_n = list(bin(n))[2:].count('1')\n",
    "    operations = lambda_n + v_n - 1\n",
    "    return operations\n",
    "\n",
    "print(\"Binary method:\")\n",
    "print(\"2^55 =\", binary_method(2, 55), \"\\nNumber of operations:\", BM_operations(55))"
   ]
  },
  {
   "cell_type": "markdown",
   "metadata": {},
   "source": [
    "Реализация метода множителей:"
   ]
  },
  {
   "cell_type": "code",
   "execution_count": 3,
   "metadata": {},
   "outputs": [
    {
     "name": "stdout",
     "output_type": "stream",
     "text": [
      "Multiplier method:\n",
      "2^55 = 36028797018963968 \n",
      "Number of operations: 8\n"
     ]
    }
   ],
   "source": [
    "def factorization(n):\n",
    "    numbers = []\n",
    "    i = 2\n",
    "    while (1):\n",
    "        if (n % i == 0):\n",
    "            numbers.append(i)\n",
    "            numbers.append(n // i)\n",
    "            break\n",
    "        else:\n",
    "            i += 1\n",
    "    return numbers\n",
    "\n",
    "def multiplier_method(x, n):\n",
    "    factors = factorization(n)\n",
    "    result = x\n",
    "    for i in factors:\n",
    "        result = binary_method(result, i)\n",
    "    return result\n",
    "\n",
    "def MM_operations(n):\n",
    "    factors = factorization(n)\n",
    "    result = 0\n",
    "    result += BM_operations(factors[0]) + BM_operations(factors[1])\n",
    "    return result\n",
    "\n",
    "print(\"Multiplier method:\")\n",
    "print(\"2^55 =\", multiplier_method(2, 55), \"\\nNumber of operations:\", MM_operations(55))"
   ]
  },
  {
   "cell_type": "markdown",
   "metadata": {},
   "source": [
    "Проведём несколько тестов и сравним результаты.\n",
    "\n",
    "  N             |  Binary method | Multiplier method\n",
    ":-------------: | :------------: | :---------------:\n",
    "50              | 7              |   7\n",
    "61              | 9              |   9\n",
    "255             | 14             |   11\n",
    "500             | 13             |   13\n",
    "1111            | 15             |   14\n",
    "\n",
    "\n",
    "По этой таблице можно сделать вывод о том, что бинарный метод и метод множителей работают за одинаковое количество операций, но метод множителей иногда работает немного быстрее.\n",
    "\n",
    "\n",
    "2) Приведём реализацию алгоритма Яо: \n"
   ]
  },
  {
   "cell_type": "code",
   "execution_count": 6,
   "metadata": {},
   "outputs": [
    {
     "name": "stdout",
     "output_type": "stream",
     "text": [
      "147\n",
      "4\n",
      "Additive chain:  [1, 2, 3, 4, 8, 16, 32, 64, 128, 144, 147] \n",
      "Additive chain length:  11\n"
     ]
    }
   ],
   "source": [
    "def d_x(z, array, k):\n",
    "    result = 0\n",
    "    \n",
    "    for i in range(0, len(array)):\n",
    "        if (z == array[i]):\n",
    "            result += 2 ** (i * k)\n",
    "    return result\n",
    "\n",
    "def binary_vector(n):\n",
    "    b = list (bin(n)[3:])\n",
    "    vector = []\n",
    "    n = 1\n",
    "    vector.append(n)\n",
    "    for i in b:\n",
    "        if (int(i) == 1):\n",
    "            n *= 2\n",
    "            vector.append(n)\n",
    "            n = n + 1\n",
    "        else:\n",
    "            n *= 2\n",
    "        vector.append(n)\n",
    "    return vector\n",
    "\n",
    "def Yao_algorithm(n, k):\n",
    "    array = []\n",
    "    while (n):\n",
    "        array.append(n % (2 ** k))\n",
    "        n = n // (2 ** k)\n",
    "\n",
    "    chain = set()\n",
    "    for i in range(0, len(array)*k):\n",
    "        chain.add(2 ** i)\n",
    "        \n",
    "    z = []\n",
    "    \n",
    "    for i in range(1, 2**k):\n",
    "        z.append(i)\n",
    "    new_z = []\n",
    "    \n",
    "    for i in z:\n",
    "        if (d_x(i, array, k) != 0):\n",
    "            new_z.append(i)\n",
    "            \n",
    "    z = new_z\n",
    "    tmp = 0\n",
    "    \n",
    "    for i in z:\n",
    "        vector = binary_vector(i)\n",
    "        tmp += i * d_x(i, array, k)\n",
    "        \n",
    "        for j in vector:\n",
    "            chain.add(j * d_x(i, array, k))\n",
    "        chain.add(tmp)\n",
    "        \n",
    "    chain = sorted(chain)\n",
    "    return chain\n",
    "\n",
    "n = int(input())\n",
    "k = int(input())\n",
    "chain = Yao_algorithm(n, k)\n",
    "print(\"Additive chain: \", chain, \"\\nAdditive chain length: \", len(chain))"
   ]
  },
  {
   "cell_type": "markdown",
   "metadata": {},
   "source": [
    "Проведём несколько тестов для случайных величин при разных значениях k и сопоставим длины полученных аддитивных цепочек с минимальной аддитивной цепочкой для заданного числа. \n",
    "\n",
    " N              | K              | Yao chain                                                 |Chain length   | Min additive chain\n",
    ":-------------: | :-------------:| :-------------:                                         |:------------:  | :---------------:\n",
    "56              |2               |  \\[1, 2, 4, 8, 16, 32, 48, 56\\]                                 | 8      |   7\n",
    "56              |3               |\\[1, 2, 4, 8, 16, 24, 32, 48, 56\\]                               |9       |   7\n",
    "131             |2               |\\[1, 2, 3, 4, 8, 16, 32, 64, 128, 131\\]                          |10      |   9\n",
    "131             |3               |\\[1, 2, 3, 4, 8, 16, 32, 64, 128, 131\\]                          |10      |   9\n",
    "131             |4               |\\[1, 2, 3, 4, 8, 16, 32, 64, 128, 131\\]                          |10      |   9\n",
    "147             |2               |\\[1, 2, 4, 8, 16, 32, 64, 128, 144, 147\\]                        | 12     |   9\n",
    "147             |4               |\\[1, 2, 4, 8, 16, 32, 64, 128, 144, 147\\]                        | 11     |   9\n",
    "\n",
    "Можно сделать слудющий вывод: полученные алгоритмом Яо аддитивные цепочки не являются минимальными, но при определенных k достаточно близки к ним.\n",
    "\n",
    "3) Реализация алгоритма дробления вектора индексов для нахождения минимальной звёздной цепочки для заданного числа:\n"
   ]
  },
  {
   "cell_type": "code",
   "execution_count": 16,
   "metadata": {
    "scrolled": true
   },
   "outputs": [
    {
     "name": "stdout",
     "output_type": "stream",
     "text": [
      "10\n",
      "Star chain: [1, 2, 4, 8, 10]\n",
      "Time: 1.65372633934021с\n"
     ]
    }
   ],
   "source": [
    "import math\n",
    "import time\n",
    "\n",
    "def left_vector(vector, q):\n",
    "    for i in range(q, 1, -1):\n",
    "        if (vector[i - 1] > 1):\n",
    "            vector[i - 1] -= 1\n",
    "            break\n",
    "            \n",
    "        if (vector[i - 1] == 1):\n",
    "            vector[i - 1] = i\n",
    "    return vector\n",
    "\n",
    "\n",
    "def right_vector(vector, q, m):\n",
    "    for i in range(m, q, -1):\n",
    "        if (vector[i - 1] > 1):\n",
    "            vector[i - 1] -= 1\n",
    "            break\n",
    "            \n",
    "        if (vector[i - 1] == 1):\n",
    "            vector[i - 1] = i\n",
    "    return vector\n",
    "\n",
    "def splitting_vector(n):\n",
    "    start = int(math.log2(n)) + 1\n",
    "    end = len(str(int(bin(n)[2:]))) + bin(n).count('1') - 1\n",
    "    for m in range(start, end + 1):\n",
    "        vector = [i for i in range(1, m)]\n",
    "        q = m // 2 - 1\n",
    "        cond = False\n",
    "        \n",
    "        while(1):\n",
    "            chain = [1]\n",
    "            for j in vector:\n",
    "                chain.append(chain[-1] + chain[j - 1])\n",
    "            if (chain[m - 1] == n):\n",
    "                return chain\n",
    "                \n",
    "            if (len(vector[:q]) == sum(vector[:q])):\n",
    "                cond = True\n",
    "                \n",
    "            a_min = chain[q] + m - q\n",
    "            a_max = chain[q] * 2 ** (m - q)\n",
    "            \n",
    "            if (a_min <= n <= a_max):\n",
    "                while(1):\n",
    "                    chain = [1]\n",
    "                    vector = right_vector(vector, q, m - 1)\n",
    "                    for j in vector:\n",
    "                        chain.append(chain[-1] + chain[j - 1])\n",
    "                    if (chain[m - 1] == n):\n",
    "                        return chain\n",
    "\n",
    "                    if (len(vector[q:]) == sum(vector[q:])):\n",
    "                        break\n",
    "                vector = left_vector(vector, q)\n",
    "                \n",
    "            else:\n",
    "                vector = left_vector(vector, q)\n",
    "            if cond:\n",
    "                break\n",
    "    return chain\n",
    "\n",
    "begin = time.time()\n",
    "rs = splitting_vector(int(input()))\n",
    "print(f'Star chain: {str(rs)}\\nTime: {str(time.time() - begin)}с')"
   ]
  },
  {
   "cell_type": "markdown",
   "metadata": {},
   "source": [
    "Тестирование алгоритма при $ n \\geqslant 500 $.\n",
    "\n",
    " N              |  Time        | Star chain                                           | Length | Min additive chain  \n",
    ":-------------: | :------------:| :-------:                                                    | :-------:| :-------:\n",
    "580             | 33.69938       | \\[1, 2, 4, 8, 16, 32, 64, 128, 256, 512, 576, 580\\]          |  11      |  11\n",
    "805             | 87.536152       | \\[1, 2, 4, 8, 16, 32, 64, 128, 160, 161, 322, 644, 805\\]     |  12      |  12\n",
    "1023            | 96.22303      | \\[1, 2, 4, 8, 16, 32, 64, 68, 136, 272, 340, 341, 682, 1023\\]| 13       |  13\n",
    "\n",
    "Можно сделать следующий вывод: алгоритм дробления вектора занимает большее время, чем бинарный метод и метод множителей, но для небольших чисел более точно находит минимальную аддитивную цепочку.\n",
    "\n",
    "\n",
    "4) Проверка следствия теоремы Брауэра. \n"
   ]
  },
  {
   "cell_type": "code",
   "execution_count": 23,
   "metadata": {
    "scrolled": true
   },
   "outputs": [
    {
     "data": {
      "image/png": "[encoded data removed]",
      "text/plain": [
       "<Figure size 432x288 with 1 Axes>"
      ]
     },
     "metadata": {
      "needs_background": "light"
     },
     "output_type": "display_data"
    }
   ],
   "source": [
    "from matplotlib.pylab import scatter, plot, show\n",
    "\n",
    "def brauer_graph():\n",
    "    chain_lens = [len(splitting_vector(i)) for i in range(1, 201)]\n",
    "    lnx = [math.log2(i) for i in range(1, 201)]\n",
    "    sum_lnx2 = [(math.log2(i)) ** 2 for i in range(1, 201)]\n",
    "    sum_y = [chain_lens[i - 1] for i in range(1, 201)]\n",
    "    sum_lnx_y = [chain_lens[i - 1] * math.log2(i) for i in range(1, 201)]\n",
    "    sum_lnx = sum(lnx)\n",
    "    sum_lnx2 = sum(sum_lnx2)\n",
    "    sum_y = sum(sum_y)\n",
    "    sum_lnx_y = sum(sum_lnx_y)\n",
    "    a = (200 * sum_lnx_y - sum_lnx * sum_y) / (200 * sum_lnx2 - sum_lnx ** 2)\n",
    "    b = (sum_y - a * sum_lnx) / 200\n",
    "    x = [i for i in range(1, 201)]\n",
    "    y = [b + a * lnx[i - 1] for i in range(1, 201)]\n",
    "\n",
    "    scatter(x, chain_lens, color='green', marker='.')\n",
    "    plot(x, y)\n",
    "    show()\n",
    "\n",
    "brauer_graph()"
   ]
  },
  {
   "cell_type": "markdown",
   "metadata": {},
   "source": [
    "Из полученного графика можно увидеть, что функция $ l(n) $ аппроксимируется логарифмической функцией. Это потверждает следствие из теоремы Брауэра. \n",
    "\n",
    "5) Проверка теоремы Шольца–Брауэра. Проводим для нескольких n алгоритм дробления ВИ и проверяем неравенство $l^*(2^n-1)\\leq l^*(n)+n-1$.\n",
    "Был написан следующий цикл."
   ]
  },
  {
   "cell_type": "code",
   "execution_count": null,
   "metadata": {},
   "outputs": [
    {
     "name": "stdout",
     "output_type": "stream",
     "text": [
      "n = 2 l(2^n - 1) = 3 l(n) + n - 1 = 3\n",
      "n = 3 l(2^n - 1) = 5 l(n) + n - 1 = 5\n",
      "n = 4 l(2^n - 1) = 6 l(n) + n - 1 = 6\n",
      "n = 5 l(2^n - 1) = 8 l(n) + n - 1 = 8\n",
      "n = 6 l(2^n - 1) = 9 l(n) + n - 1 = 9\n",
      "n = 7 l(2^n - 1) = 11 l(n) + n - 1 = 11\n",
      "n = 8 l(2^n - 1) = 11 l(n) + n - 1 = 11\n"
     ]
    }
   ],
   "source": [
    "for n in range(2, 11):\n",
    "    print(f\"n = {n} l(2^n - 1) = {len(splitting_vector(2**n - 1))} l(n) + n - 1 = {len(splitting_vector(n)) + n - 1}\")"
   ]
  },
  {
   "cell_type": "markdown",
   "metadata": {},
   "source": [
    "Следовательно, гипотеза для $ n \\leqslant 10 $ доказана.\n",
    "  \n",
    "  \n",
    "## Вывод\n",
    "\n",
    "В данной практической работе были реализованы алгоритмы для нахождения минимальных аддитивных цепочек, такие как алгоритм дробления вектора индексов и алгоритм Яо. Были реализованы алгоритмы быстрого возведения в степень, такие как бинарный метод и метод множителей. Каждый алгоритм был протестирован. Также были проверены гипотеза Шольца–Брауэра и следствие теоремы Брауэра."
   ]
  }
 ],
 "metadata": {
  "kernelspec": {
   "display_name": "SageMath 9.2",
   "language": "sage",
   "name": "sagemath"
  },
  "language_info": {
   "codemirror_mode": {
    "name": "ipython",
    "version": 3
   },
   "file_extension": ".py",
   "mimetype": "text/x-python",
   "name": "python",
   "nbconvert_exporter": "python",
   "pygments_lexer": "ipython3",
   "version": "3.7.7"
  }
 },
 "nbformat": 4,
 "nbformat_minor": 4
}
