{
 "cells": [
  {
   "cell_type": "markdown",
   "metadata": {},
   "source": [
    "<h1>Практическая работа №1: Исследование алгоритмов формирования аддитивных цепочек</h1>\n",
    "\n",
    "Выполнил студент группы 9383 Мосин Константин"
   ]
  },
  {
   "cell_type": "markdown",
   "metadata": {},
   "source": [
    "<h2>Цель работы</h2>\n",
    "\n",
    "Формирование представления о аддитивных цепочках, выработать умение составлять и применять алгоритмы для нахождения минимальных аддитивных цепочек для заданного числа, привить навык использования систем компьютерной алгебры для реализации алгоритмов."
   ]
  },
  {
   "cell_type": "markdown",
   "metadata": {},
   "source": [
    "<h2>Основные теоретические положения</h2>"
   ]
  },
  {
   "cell_type": "markdown",
   "metadata": {},
   "source": [
    "<h3>1. Бинарный метод</h3>\n",
    "\n",
    "В данном алгоритме ,степень $n$, в которую нужно возвести число, представляется в двоичной системе счисления без старшего разряда. Дальше рассматриваются разряды числа от старшего к младшему. Если текущий разряд равен единице - результат удваивается и домножается на число $x$. Если текущий разряд равен нулю - результат удваивается.\n",
    "\n",
    "Количество операций можно посчитать следующим образом: $\\lambda(n)+\\nu(n)-1$, где $\\lambda(n)=\\lceil log_2 n \\rceil$, а $\\nu(n)$ - количество единиц в двоичной записи числа."
   ]
  },
  {
   "cell_type": "markdown",
   "metadata": {},
   "source": [
    "<h3>2. Метод множителей</h3>\n",
    "\n",
    "В данном алгоритме степень $n$ представляется как произведение двух простых чисел $i \\cdot j$. Сначала число $x$ возводится в степень $i$, а после этого полученное число возводится в степень $j$. Если показатель степени $n$ является простым числом, исходное число $x$ возводится в степень $n-1$, а после этого домножается $x$."
   ]
  },
  {
   "cell_type": "markdown",
   "metadata": {},
   "source": [
    "<h3>3. Аддитивная цепочка</h3>\n",
    "\n",
    "Аддитивной цепочкой для натурального числа $n$ называется последовательность натуральных чисел $1=a_1, a_2, a_3, \\dots, a_m=n$, где $a_i=a_j+a_k$, $k <= j < i$ $\\forall i=1..m$\n",
    "\n",
    "$l(n)=m$ - длина минимальной аддитивной цепочки"
   ]
  },
  {
   "cell_type": "markdown",
   "metadata": {},
   "source": [
    "<h3>4. Алгоритм Яо</h3>\n",
    "\n",
    "Алгоритм Яо строит для натурального числа $n$ аддитивную цепочку.\n",
    "\n",
    "Сначала цепочка Яо имеет следующий вид: $1, 2, 4, 8, ..., 2^k$\n",
    "\n",
    "В начале алгоритма выбирается параметр $k$ и число $n$ переводится в систему счисления $2^k$.\n",
    "\n",
    "Затем для каждого $z \\in \\{1,2,3,...,2^k-1\\}$ считается $d(z)$, где $d(z)$ - сумма чисел $2^{ik}$ для всех $i$, таких что $a_i = z$.\n",
    "\n",
    "После этого считается $z*d(z), \\forall z \\in \\{1, 2, 3, ..., 2^{k-1}\\}, d(z) \\neq 0$, и все полученные не нулевые значения записываются в цепочку."
   ]
  },
  {
   "cell_type": "markdown",
   "metadata": {},
   "source": [
    "<h3>5. Алгоритм дробления вектора индексов</h3>\n",
    "\n",
    "Алгоритм дробления вектора индексов находит минимальную звездную цепочку для числа $n$.\n",
    "\n",
    "Звездной цепочкой называется аддитивная цепочка в которой каждый элемент получен при помощи сложения предыдущего элемента и какого-либо еще.\n",
    "\n",
    "Длина минимальной звездной цепочки $l(n)$ ограничена сверху и снизу следующими значениями: $\\lceil lb(n) \\rceil \\leq l(n) \\leq \\lambda(n) + \\nu(n) - 1$\n",
    "\n",
    "Вектор индексов разбивается на фиксированный и меняющийся.\n",
    "\n",
    "Для полного вектора индексов строится звездная цепочка и вычисляются значения $a_{max}$ и ${a}_{min}$, где $a_{max} = a_{q+1} + (m-q), a_{min} = a_{q+1}*2^{m-q}$, где $q = m/2$, $m$ - текущая длина цепочки.\n",
    "\n",
    "Если $a_{m}=n$ - цепочка найдена.\n",
    "\n",
    "Если $n\\in [a_{min},a_{max}]$ - осуществляется перебор всех меняющихся векторов индексов.\n",
    "\n",
    "Если $n \\notin [a_{min},a_{max}]$ - осуществляется переход к следующему фиксированному вектору индексов."
   ]
  },
  {
   "cell_type": "markdown",
   "metadata": {},
   "source": [
    "<h3>6. Теорема Брауэра</h3>\n",
    "\n",
    "Для числа $k < lb(lbn)$ справедливо: $l(n) < (1+k^{-1})\\cdot\\lceil lbn\\rceil+2^{k-1}-k+2$.\n",
    "\n",
    "Если $k = \\lambda(\\lambda(n))-2\\lambda(\\lambda(\\lambda(n)))$, тогда выполняется следующее:\n",
    "\n",
    "1) $\\lim\\limits_{x\\to\\infty} \\cfrac{l(n)}{\\lambda(n)} = 1$.\n",
    "2) Оценка для $l(n)$: $\\lambda(n)\\bigg(1+\\cfrac{1}{\\lambda(\\lambda(n))}+\\cfrac{o(\\lambda(\\lambda(\\lambda(n))))}{(\\lambda(\\lambda(n)))^2}\\bigg)$"
   ]
  },
  {
   "cell_type": "markdown",
   "metadata": {},
   "source": [
    "<h3>7. Гипотеза Шольца-Брауэра</h3>\n",
    "\n",
    "$l^*(2^n-1) \\geq l^*(n)+n-1$, где $l^*(n)$ - длина минимальной звездной цепочки"
   ]
  },
  {
   "cell_type": "markdown",
   "metadata": {},
   "source": [
    "<h2>Постановка задачи</h2>\n",
    "\n",
    "Реализовать точные и приближённые алгоритмы нахождения минимальных аддитивных цепочек с использованием системы компьютерной алгебры SageMath, провести анализ алгоритмов. Полученные результаты содержательно проинтерпретировать."
   ]
  },
  {
   "cell_type": "markdown",
   "metadata": {},
   "source": [
    "<h2>Порядок выполнения работы</h2>\n",
    "\n",
    "1.Применить бинарный метод и метод множителей для $x^n$, где $n⩾30$, для 2-3 значений $n$ (значения $n$ выбирается студентом самостоятельно). Сравнить количество операций для каждого метода, сделать выводы.\n",
    "\n",
    "\n",
    "2.Реализовать алгоритм Брауэра (для нечётных вариантов) или алгоритм Яо (для чётных вариантов) для вычисления приближённых аддитивных цепочек для различных чисел при варьировании параметра $k$, сопоставить длины полученных аддитивных цепочек с минимальной аддитивной цепочкой для заданного числа. Сделать выводы.\n",
    "\n",
    "3.Реализовать алгоритм дробления вектора индексов для нахождения минимальной звёздной цепочки для заданного числа. Протестировать алгоритм при $n<500$. Указать, сколько времени потребовалось на поиск цепочки и какая цепочка получилась. Сравнить с предыдущими методами, сделать выводы.\n",
    "\n",
    "4.Проверить следствие 1 теоремы Брауэра для $n=1..200$ путём построения функции $l(n)$ и аппроксимирующей кривой, полученной с помощью метода наименьших квадратов. Сопоставить функции на одном графике, сделать выводы.\n",
    "\n",
    "5.Проверить гипотезу Шольца–Брауэра для $1<n⩽10$ на алгоритме дробления вектора индексов. Сделать выводы.\n",
    "\n",
    "6.Дополнительное необязательное задание: найти и/или предложить модификации алгоритмов и привести описание модификаций. Реализовать модифицированные алгоритмы и сравнить их мощность."
   ]
  },
  {
   "cell_type": "markdown",
   "metadata": {},
   "source": [
    "<h2>Выполнение работы</h2>"
   ]
  },
  {
   "cell_type": "markdown",
   "metadata": {},
   "source": [
    "<h3>Бинарный метод</h3>"
   ]
  },
  {
   "cell_type": "code",
   "execution_count": null,
   "metadata": {},
   "outputs": [],
   "source": [
    "def BinaryMethod(x, n):\n",
    "    Result = 1\n",
    "    while n:\n",
    "        if n & 1: Result *= x\n",
    "        x *= x\n",
    "        n >>= 1\n",
    "    return Result"
   ]
  },
  {
   "cell_type": "markdown",
   "metadata": {},
   "source": [
    "<h3>Метод множителей</h3>"
   ]
  },
  {
   "cell_type": "code",
   "execution_count": null,
   "metadata": {},
   "outputs": [],
   "source": [
    "def MultiplierMethod(x, n):\n",
    "    if n == 1: return x\n",
    "    return BinaryMethod(BinaryMethod(x, factor(n)[0][0])[0], n//factor(n)[0][0])"
   ]
  },
  {
   "cell_type": "markdown",
   "metadata": {},
   "source": [
    "| num | deg | count bm | count mm |\n",
    "| --- | --- | --- | --- |\n",
    "| 2 | 15 | 6 | 5 |\n",
    "| 2 | 16 | 4 | 4 |\n",
    "| 2 | 17 | 5 | 5 |\n",
    "| 7 | 31 | 8 | 8 |\n",
    "| 7 | 32 | 5 | 5 |\n",
    "| 7 | 33 | 6 | 7 |"
   ]
  },
  {
   "cell_type": "markdown",
   "metadata": {},
   "source": [
    "<h4>Выводы</h4>\n",
    "В среднем, для $n = 2^k-1$ метод множителей эффективнее бинарного. С другой стороны, при $n = 2^k+1$ бинарный метод в выйгрыше."
   ]
  },
  {
   "cell_type": "markdown",
   "metadata": {},
   "source": [
    "<h3>Алгоритм Яо</h3>"
   ]
  },
  {
   "cell_type": "code",
   "execution_count": null,
   "metadata": {},
   "outputs": [],
   "source": [
    "def Yao(n, k):\n",
    "    chain = []\n",
    "    for i in range(0,int(log(n,2))):\n",
    "        chain.append(2**i)\n",
    "    k = 2**k\n",
    "    coeff = []\n",
    "    for i in range(int(log(n,k)),-1,-1):\n",
    "        if n - k**i*int(n/k**i) >= 0:\n",
    "            coeff.append(int(n/k**i))\n",
    "            n -= k**i*int(n/k**i)\n",
    "    elem = 0\n",
    "    for i in set(coeff):\n",
    "        s = 0\n",
    "        for j,N in enumerate(coeff):\n",
    "            if N == i: s += k**(len(coeff)-1-j)\n",
    "        if s*i:\n",
    "            for j in range(1,i+1): chain += [s*j]\n",
    "            elem += chain[-1]\n",
    "    chain.append(elem)\n",
    "    return sorted(list(set(chain)))"
   ]
  },
  {
   "cell_type": "markdown",
   "metadata": {},
   "source": [
    "| num | k | len | min len | chain |\n",
    "| --- | --- | --- | --- | --- |\n",
    "| 83 | 3 | 9 | 9 | [1, 2, 3, 4, 8, 16, 32, 64, 83] |\n",
    "| 83 | 4 | 11 | 9 | [1, 2, 3, 4, 8, 16, 32, 48, 64, 80, 83] |\n",
    "| 83 | 5 | 22 | 9 | [1, 2, 3, 4, 5, 6, 7, 8, 9, 10, 11, 12, 13, 14, 15, 16, 17, 18, 19, 32, 64, 83] |\n",
    "| 113 | 3 | 11 | 9 | [1, 2, 4, 8, 16, 24, 32, 40, 48, 65, 113] |\n",
    "| 113 | 4 | 12 | 9 | [1, 2, 4, 8, 16, 32, 48, 64, 80, 96, 112, 113] |\n",
    "| 113 | 9 | 21 | 9 | [1, 2, 3, 4, 5, 6, 7, 8, 9, 10, 11, 12, 13, 14, 15, 16, 17, 32, 64, 96, 113] |"
   ]
  },
  {
   "cell_type": "markdown",
   "metadata": {},
   "source": [
    "<h4>Выводы</h4>\n",
    "Из наблюдаемых данных из таблицы при увеличении значения $k$ длинна цепочки увеличивается, откуда и разнится с длинной минимальной аддитивной цепочки"
   ]
  },
  {
   "cell_type": "markdown",
   "metadata": {},
   "source": [
    "<h2>Алгоритм дробления вектора индексов</h2>"
   ]
  },
  {
   "cell_type": "code",
   "execution_count": 1,
   "metadata": {},
   "outputs": [],
   "source": [
    "def get_chain(indices):\n",
    "    chain = [1]\n",
    "    for i in indices:\n",
    "        chain.append(chain[-1] + chain[i - 1])\n",
    "    return chain\n",
    "\n",
    "def get_vector(vector, q = 0):\n",
    "    for i in range(len(vector) - 1, -1, -1):\n",
    "        if vector[i] != 1:\n",
    "            vector[i] -= 1\n",
    "            for j in range(i + 1, len(vector)):\n",
    "                vector[j] =  q + j + 1\n",
    "            return vector\n",
    "    return [0]\n",
    "\n",
    "def split_vector_indices(n):\n",
    "    for m in range(int(log(n, 2)) - 1, int(log(n, 2)) + bin(n)[2:].count('1')):\n",
    "        q = m // 2\n",
    "            \n",
    "        ready = list(range(1, q + 1))\n",
    "        while(ready != [0]):\n",
    "            not_ready = list(range(q + 1, m + 1)) \n",
    "            chain = get_chain(list(ready) + list(not_ready))\n",
    "            if chain[-1] == n:\n",
    "                return chain\n",
    "            a_min = chain[q] + m - q\n",
    "            a_max = chain[q] * (2 ** (m - q))\n",
    "            if n > a_min and n < a_max :\n",
    "                while(not_ready != [-1]):\n",
    "                    not_ready = get_vector(not_ready, q)\n",
    "                    chain = get_chain(list(ready) + list(not_ready))\n",
    "                    if chain[-1] == n:\n",
    "                        return chain\n",
    "            ready = get_vector(ready)\n",
    "    return chain"
   ]
  },
  {
   "cell_type": "markdown",
   "metadata": {},
   "source": [
    "| num | chain | len | time |\n",
    "| --- | --- | --- | --- |\n",
    "| 515 | [1, 2, 4, 8, 16, 32, 64, 128, 256, 512, 514, 515] | 12 | 1.26 |\n",
    "| 519 | [1, 2, 4, 8, 16, 32, 64, 128, 256, 512, 516, 518, 519] | 13 | 80.68 |\n",
    "| 547 | [1, 2, 4, 8, 16, 32, 64, 65, 130, 195, 211, 422, 633] | 13 | 90.17 |"
   ]
  },
  {
   "cell_type": "markdown",
   "metadata": {},
   "source": [
    "<h4>Выводы</h4>\n",
    "Алгоритм достаточно труднозатратный при больших значениях $n$, зато гарантировано находится минимальная аддитивная цепочка."
   ]
  },
  {
   "cell_type": "markdown",
   "metadata": {},
   "source": [
    "<h2>Следствие Брауэра</h2>"
   ]
  },
  {
   "cell_type": "code",
   "execution_count": 2,
   "metadata": {},
   "outputs": [
    {
     "data": {
      "image/png": "[encoded data removed]",
      "text/plain": [
       "<Figure size 1152x648 with 1 Axes>"
      ]
     },
     "metadata": {
      "needs_background": "light"
     },
     "output_type": "display_data"
    }
   ],
   "source": [
    "import pylab as plot \n",
    "    \n",
    "n = []\n",
    "l = []\n",
    "for i in range(1, 201):\n",
    "    n.append(i)\n",
    "    l.append(len(split_vector_indices(i)))\n",
    "\n",
    "m = matrix([[sum([float((log(i)**2)) for i in n]), sum([float(log(i)) for i in n])], [sum([float(log(i)) for i in n]), len(n)]])\n",
    "vec = vector([sum([float(l[i] * log(n[i])) for i in range(len(n))]), sum(l)])\n",
    "solution = m.solve_right(vec)\n",
    "\n",
    "plot.figure(figsize=(16, 9))\n",
    "plot.scatter(n, l, color = 'r', marker = '*')\n",
    "plot.plot(n, [solution[0] * log(i) + solution[1] for i in n], color = 'b')\n",
    "plot.show()"
   ]
  },
  {
   "cell_type": "markdown",
   "metadata": {},
   "source": [
    "<h4>Выводы</h4>\n",
    "Из аппроксимической кривой можно сделать вывод, что длинна аддитивной цепочки и значение логарифма равны на бесконечности."
   ]
  },
  {
   "cell_type": "markdown",
   "metadata": {},
   "source": [
    "<h2>Гипотеза Шольца-Брауэра</h2>"
   ]
  },
  {
   "cell_type": "code",
   "execution_count": null,
   "metadata": {},
   "outputs": [],
   "source": [
    "for i in range(2, 11):\n",
    "    l1 = len(split_vector_indices((2**i) -  1))\n",
    "    l2 = len(split_vector_indices((i))) + i - 1\n",
    "    print(i, l1, l2)"
   ]
  },
  {
   "cell_type": "markdown",
   "metadata": {},
   "source": [
    "| num | $l^*(2^n - 1)$ | $l^*(n) + n - 1$ |\n",
    "| --- | --- | --- |\n",
    "| 2 | 3 | 3 |\n",
    "| 3 | 5 | 5 |\n",
    "| 4 | 6 | 6 |\n",
    "| 5 | 8 | 8 |\n",
    "| 6 | 9 | 9 |\n",
    "| 7 | 11 | 11 |\n",
    "| 8 | 11 | 11 |\n",
    "| 9 | 13 | 13 |\n",
    "| 10 | 14 | 14 |"
   ]
  },
  {
   "cell_type": "markdown",
   "metadata": {},
   "source": [
    "<h4>Выводы</h4>\n",
    "Из результатов, приведенных в таблице, можно сделать вывод, что гипотеза Шольца-Брауэра верна для $1 < n <= 10$"
   ]
  },
  {
   "cell_type": "markdown",
   "metadata": {},
   "source": [
    "<h2>Вывод</h2>\n",
    "В ходе выполнения работы были рассмотрены бинарный метод и метод множителей для возведения числа в степень. Сравнив данные методы, удалось установить когда и какой лучше использовать. Также была проделана работа с аддитивными цепочками. Рассматривались алгоритм Яо и дробления вектора индексов. Проанализировав результаты данных алгоритмов, стало понятно, что первый предназначен только для примерного представления цепочки, когда второй ресурсозатратный, зато результатом является минимальная аддитивная цепочка. Было доказано следствие Брауэра для функции $l(n)$ при $1 <= n <= 200$, а также подтверждена гипотеза Шольца-Брауэра при $1 < n <= 10$."
   ]
  },
  {
   "cell_type": "code",
   "execution_count": null,
   "metadata": {},
   "outputs": [],
   "source": []
  }
 ],
 "metadata": {
  "kernelspec": {
   "display_name": "SageMath 9.0",
   "language": "sage",
   "name": "sagemath"
  },
  "language_info": {
   "codemirror_mode": {
    "name": "ipython",
    "version": 3
   },
   "file_extension": ".py",
   "mimetype": "text/x-python",
   "name": "python",
   "nbconvert_exporter": "python",
   "pygments_lexer": "ipython3",
   "version": "3.8.5"
  }
 },
 "nbformat": 4,
 "nbformat_minor": 4
}
