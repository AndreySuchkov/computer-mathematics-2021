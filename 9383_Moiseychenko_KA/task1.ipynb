{
  "nbformat": 4,
  "nbformat_minor": 0,
  "metadata": {
    "kernelspec": {
      "display_name": "SageMath 9.2",
      "language": "sage",
      "name": "sagemath"
    },
    "language_info": {
      "codemirror_mode": {
        "name": "ipython",
        "version": 3
      },
      "file_extension": ".py",
      "mimetype": "text/x-python",
      "name": "python",
      "nbconvert_exporter": "python",
      "pygments_lexer": "ipython3",
      "version": "3.7.7"
    },
    "colab": {
      "name": "task1.ipynb",
      "provenance": []
    }
  },
  "cells": [
    {
      "cell_type": "markdown",
      "metadata": {
        "id": "fJFX9jdBX0o1"
      },
      "source": [
        "<style TYPE=\"text/css\">\n",
        "code.has-jax {font: inherit; font-size: 100%; background: inherit; border: inherit;}\n",
        "</style>\n",
        "<script type=\"text/x-mathjax-config\">\n",
        "MathJax.Hub.Config({\n",
        "    tex2jax: {\n",
        "        inlineMath: [['$','$'], ['\\\\(','\\\\)']],\n",
        "        skipTags: ['script', 'noscript', 'style', 'textarea', 'pre'] // removed 'code' entry\n",
        "    }\n",
        "});\n",
        "MathJax.Hub.Queue(function() {\n",
        "    var all = MathJax.Hub.getAllJax(), i;\n",
        "    for(i = 0; i < all.length; i += 1) {\n",
        "        all[i].SourceElement().parentNode.className += ' has-jax';\n",
        "    }\n",
        "});\n",
        "</script>\n",
        "<script type=\"text/javascript\" src=\"https://cdnjs.cloudflare.com/ajax/libs/mathjax/2.7.4/MathJax.js?config=TeX-AMS_HTML-full\"></script>"
      ]
    },
    {
      "cell_type": "markdown",
      "metadata": {
        "id": "Sr77OAfwX0pA"
      },
      "source": [
        "# Практическая работа №1: Исследование алгоритмов формирования аддитивных цепочек "
      ]
    },
    {
      "cell_type": "markdown",
      "metadata": {
        "id": "9r0iOQd-X0pA"
      },
      "source": [
        "Выполнил студент гр. 9383 Моисейченко Кирилл, вариант 99.\n",
        "\n"
      ]
    },
    {
      "cell_type": "markdown",
      "metadata": {
        "id": "qOCKVTiwX0pB"
      },
      "source": [
        "## 1. Цель работы"
      ]
    },
    {
      "cell_type": "markdown",
      "metadata": {
        "id": "KA59J7z4X0pB"
      },
      "source": [
        "Формирование представления о аддитивных цепочках, выработать умение составлять и применять алгоритмы для нахождения минимальных аддитивных цепочек для заданного числа, привить навык использования систем компьютерной алгебры для реализации алгоритмов."
      ]
    },
    {
      "cell_type": "markdown",
      "metadata": {
        "id": "UYzFaqciX0pC"
      },
      "source": [
        "## 2. Основные теоретические положения"
      ]
    },
    {
      "cell_type": "markdown",
      "metadata": {
        "id": "EP5O7qSRX0pC"
      },
      "source": [
        "### Бинарный метод\n",
        "\n",
        "Бинарный метод - алгоритм, предназначенный для возведения числа ${x}$ в натуральную степень ${n}$ за меньшее число умножений, чем это требуется в определении степени. Основной идеей метода является разбиение искомого числа ${x^n}$ на произведение ${x}$ в некоторых степенях. Алгоритм работает следующим образом:\n",
        "\n",
        "Слева направо просматривается бинарная запись числа ${n}$ без первого бита, так как он всегда равен 1.\n",
        "- Если текущий бит - это ${1}$, то текущее число возводится в квадрат, после чего еще раз умножается на ${x}$.\n",
        "- Если текущий бит - это ${0}$, то текущее число возводится в квадрат.\n",
        "\n",
        "Таким образом, количество операций умножения вычисляется по формуле: \n",
        "\n",
        "${\\lambda (n) + \\nu (n) - 1}$, где ${\\lambda (n) = \\left \\lfloor lb(n) \\right \\rfloor}$, а ${\\nu(n)}$ - вес Хэмминга для бинарного представления числа ${n}$, то есть число ненулевых битов в двоичной записи числа."
      ]
    },
    {
      "cell_type": "markdown",
      "metadata": {
        "id": "v98y3oXdX0pC"
      },
      "source": [
        "### Метод множителей\n",
        "\n",
        "Метод множителей - еще один метод возведения числа ${x}$ в натуральную степень ${n}$, который базируется на бинарном методе. Данный алгоритм работает следующим образом:\n",
        "\n",
        "Находим такое число ${i}$, которое является наименьшим простым множителем числа ${n}$.\n",
        "Вычисляем число ${j}$, такое что: ${i*j=n}$.\n",
        "Возводим число ${x}$ в полученную ранее степень ${i}$, затем полученное число возводим в степень ${j}$.\n",
        "Если число ${n}$ - простое, то сначала вычисляется ${x^{-1}}$, которое после домножается на ${x}$.\n",
        "Допустим, что возможно посчитать ${x^i}$ за ${m}$ операций, а ${y^j}$ за ${k}$ операций, где ${y = x^i}$. Тогда утверждается, что ${x^{i \\cdot j}}$ можно посчитать за ${(m + k)}$ операций."
      ]
    },
    {
      "cell_type": "markdown",
      "metadata": {
        "id": "iES52TxmX0pD"
      },
      "source": [
        "### Аддитивная цепочка\n",
        "\n",
        "Аддитивная цепочка — последовательность натуральных чисел ${a_0, a_1, a_2, ..., a_m = n}$, в которой первый элемент всегда равен ${1}$, а каждый последующий элемент является суммой каких-то двух предшествующих элементов. То есть:\n",
        "- ${a_0 = 1}$ \n",
        "- ${\\forall i > 0, a_i = a_j + a_k , j,k < i}$ - шаг аддитивной цепочки.\n",
        "\n",
        "Шаги бывают следующие:\n",
        "- ${i}$-шаг - удвоение, если ${j = k = i - 1}$\n",
        "- ${i}$-шаг - звездный, если ${j = i - 1}$, ${k = \\overline{0 .. (i-1)}}$\n",
        "- ${i}$-шаг - малый, если ${\\lambda(a_i) = \\lambda(a_{i-1})}$"
      ]
    },
    {
      "cell_type": "markdown",
      "metadata": {
        "id": "4KpEdcPjX0pD"
      },
      "source": [
        "### Алгоритм Брауэра\n",
        "\n",
        "Данный алгоритм вычисляет ${a^n}$ за ${lb(n) + \\frac{(1 + \\mathcal{O}(1)) * lb(n)}{lb(lb(n))}}$ операций.\n",
        "\n",
        "Для этого испрользуются цепочки Брауэра, они выглядят следующим образом:\n",
        "\n",
        "${B_k(n) = \\begin{cases}\n",
        "1, 2, 3, ..., 2^k - 1 & \\text{ if } n < 2^k \\\\ \n",
        "B_k(q), 2q, 4q, ..., 2^k q, n & \\text{ if } n \\geqslant 2^k, q = \\left \\lfloor \\frac {n}{2^k} \\right \\rfloor\n",
        "\\end{cases}}$, где ${k}$ - параметр, выбранный вручную\n",
        "\n",
        "Иначе говоря, число ${n}$ представляется в следующем виде:\n",
        "\n",
        "${n = \\sum_{i=0}^{j} a_i  2^{ik}, a_j \\ne 0}$\n",
        "\n",
        "Длина соответствующей цепочки равняется:\n",
        "\n",
        "${l_B(n) = j(k+1) + 2^k - 2, jk \\leqslant lbn < (j+1)k}$ для ${k \\sim lb(lb(n)) - 2lb(lb(lb(n)))}$"
      ]
    },
    {
      "cell_type": "markdown",
      "metadata": {
        "id": "7I7lWuXvX0pE"
      },
      "source": [
        "Алгоритм работает следующим образом:\n",
        "- Принимаются два числа n и k.\n",
        "- Выполняется вычисление вспомогательные чисел. ${d := 2^k, q_1 = \\left [ \\frac{n}{d} \\right ], r_1 = n \\% d}$, то есть ${n = q_1 d + r_1, 0 \\leqslant r_1 < d}$\n",
        "- Далее вычисляются следующие числа: ${q_2 = \\left [ \\frac{q_1}{d} \\right ], r_2 = q_1 \\%d \\Leftrightarrow q_1 = q_2 d + r_2}$\n",
        "- До тех пор, пока не получится ${q_s < d \\Rightarrow q_{s-1} = q_s d + r_s}$ \n",
        "\n",
        "В результате: ${n = 2^k q_1 + r_1 = 2^k(2^k q_2 + r_2) + r_1 = ... = 2^k(2^k(...(2^kq_s + r_s)...) + r_2) + r_1}$\n",
        "\n",
        "После этого рассмотрим тривиальную Брауэровскую цепочку ${B_k(n) = 1, 2, 3, ..., 2^k -1}$ и будем ее дополнять:\n",
        "${B_k(n) = 1, 2, 3, ..., 2^k - 1, 2q_s, 4q_s, 8q_s,..., 2^k q_s, 2^k q_s + r_s, ..., n}$\n",
        "\n",
        "Можно заметить следующие оптимизации:\n",
        "- В случае ${n < 2^k}$ достаточно цепочки ${\\left\\{ 1, 2, 3, ..., b\\right\\}}$, где ${b = \\max\\left\\{q_s, r_i\\right\\}}$ ${i = \\overline{1..s}}$.\n",
        "- Можно опускать операции, в которых ${r_i = 0}$."
      ]
    },
    {
      "cell_type": "markdown",
      "metadata": {
        "id": "lSsQ5onQX0pF"
      },
      "source": [
        "### Звездная цепочка.\n",
        "\n",
        "Звездная цепочка - это аддитивная цепочка, включающая только звездные шаги.\n",
        "\n",
        "${l^{*}(n)}$ - минимальная звездная цепочка. Очевидно, что ${l^{*}(n) \\geq l(n)}$"
      ]
    },
    {
      "cell_type": "markdown",
      "metadata": {
        "id": "sqfGBLZKX0pF"
      },
      "source": [
        "### Алгоритм дробления вектора индексов\n",
        "\n",
        "Данный алгоритм находит минимальную звездную цепочку для числа ${n}$.\n",
        "\n",
        "Пусть у нас есть звездная цепочка длины ${l(n) = m-1}$.\n",
        "Тогда для каждой такой звездной цепочки можно задать вектор индексов вида ${\\left \\{ r_1, r_2, ..., r_{m-1} \\right \\} : r_i = \\left\\{x: 1 \\leqslant x \\leqslant i\\right\\}}$. Тогда можно записать наш шаг в виде ${a_i = a_{i-1} + a_{r_{i-1}}}$.\n",
        "\n",
        "Минимальная звездная цепочка находится перебором. Для уменьшения числа операций разделим наш вектор индексов на две части - фиксированную и менящийся остаток:\n",
        "\n",
        "${\\left\\{r_i\\right\\}_{i=1}^q \\cup \\left\\{\\rho_i\\right\\}_{j=q+1}^m}$, где ${\\rho_{j} = \\left\\{ x : 1 \\leq x \\leq j \\right\\}}$.\n",
        "\n",
        "Заметим, что наибольший ${a_m}$ получается в цепочке ${\\left\\{r_i\\right\\}_{i=1}^q \\cup \\left\\{q+1, q+2, ..., m\\right\\}}$, а наименьший в цепочке ${\\left\\{r_i\\right\\}_{i=1}^q \\cup \\left\\{1, 1,..., 1\\right\\}}$. Соответственно, получаем формулы:\n",
        "- ${a_{min} = a_{q+1} + m - q}$\n",
        "- ${a_{max} = a_{q+1} \\cdot 2^{m-q}}$"
      ]
    },
    {
      "cell_type": "markdown",
      "metadata": {
        "id": "Di4iwQuaX0pG"
      },
      "source": [
        "В итоге алгоритм работает следующим образом:\n",
        "\n",
        "Рассматриваются аддитивные цепочки с длиной ${m}$, где ${\\underline{l}(n) \\leqslant m \\leqslant \\bar{l}(n)}$, при этом ${\\underline{l}(n) = \\lfloor lb(n) \\rfloor}$ и ${\\bar{l}(n) = \\lambda(n) + \\nu(n) - 1}$.\n",
        "Выберается целое ${q: 1 \\leqslant q \\leqslant m - 1}$. Затем перебираются все векторы индексов ${\\left\\{r_i\\right\\}_{i=1}^q}$ и на каждом шаге строится звездную цепочку и вычисляются ${a_{min}}$ и ${a_{max}}$.\n",
        "- Если ${a_m = n}$, то задача решена\n",
        "- Если ${n \\notin [a_{min}, a_{max}]}$, то происходит переход к следующему набору ${\\left\\{r_i\\right\\}}$.\n",
        "- Если ${n \\in [a_{min}, a_{max}]}$, то перебирается меняющийся кусок вектора индексов ${\\left\\{\\rho_i\\right\\}_{j=q+1}^m}$.\n",
        "- Если все ${\\left\\{\\rho_i\\right\\}}$ просмотрены, то происходит переход к следующему набору  ${\\left\\{r_i\\right\\}}$.\n",
        "- Если дошли до ${\\left\\{1,1,...,1\\right\\}\\cup\\left\\{1,1,...,1\\right\\}}$, и минимальная цепочка не была найдена, то m увеличивается на ${1}$ и происходит перебор сначала."
      ]
    },
    {
      "cell_type": "markdown",
      "metadata": {
        "id": "UVQVaxC-X0pG"
      },
      "source": [
        "### Теорема Брауэра\n",
        "\n",
        "Теорема Брауэра гласит, что при некотором ${k < lb(lb(n))}$ справедливо следующее неравенство ${l(n) < (1 + k^{-1})\\left \\lceil lb(n) \\right \\rceil + 2^{k-1} - k + 2}$.\n",
        "\n",
        "#### Следствие 1.\n",
        "Если ${k = \\lambda(\\lambda(n)) - 2\\lambda(\\lambda(\\lambda(n)))}$, то ${\\lim_{n \\to \\infty} \\frac{l(n)}{\\lambda(n)} = 1}$\n",
        "\n",
        "#### Следствие 2.\n",
        "Наименьшая верхняя оценка: ${\\lambda(n)(1 + \\frac{1}{\\lambda(\\lambda(n))} + \\frac{\\mathcal{O}(\\lambda(\\lambda(\\lambda(n))))}{{\\lambda(\\lambda(n))}^2}}$"
      ]
    },
    {
      "cell_type": "markdown",
      "metadata": {
        "id": "T7N1CUBQX0pH"
      },
      "source": [
        "### Гипотеза Шольца-Брауэра\n",
        "Гипотеза Шольца-Брауэра гласит: ${l^*(2^n-1) \\leqslant l^*(n)+n-1}$"
      ]
    },
    {
      "cell_type": "markdown",
      "metadata": {
        "id": "sOANau36X0pH"
      },
      "source": [
        "## 3. Постановка задачи"
      ]
    },
    {
      "cell_type": "markdown",
      "metadata": {
        "id": "BOjRRLpkX0pH"
      },
      "source": [
        "Реализовать точные и приближённые алгоритмы нахождения минимальных аддитивных цепочек с использованием системы компьютерной алгебры SageMath, провести анализ алгоритмов. Полученные результаты содержательно проинтерпретировать."
      ]
    },
    {
      "cell_type": "markdown",
      "metadata": {
        "id": "G-KqmyBNX0pH"
      },
      "source": [
        "## 4. Порядок выполнения работы"
      ]
    },
    {
      "cell_type": "markdown",
      "metadata": {
        "id": "eMydaN_jX0pH"
      },
      "source": [
        "1. Применить бинарный метод и метод множителей для ${x^n}$, где ${n \\geqslant 3}$, для 2-3 значений ${n}$ (значения ${n}$ выбирается студентом самостоятельно). Сравнить количество операций для каждого метода, сделать выводы.\n",
        "2. Реализовать алгоритм Брауэра для вычисления приближённых аддитивных цепочек для различных чисел при варьировании параметра ${k}$, сопоставить длины полученных аддитивных цепочек с минимальной аддитивной цепочкой для заданного числа. Сделать выводы.\n",
        "3. Реализовать алгоритм дробления вектора индексов для нахождения минимальной звёздной цепочки для заданного числа. Протестировать алгоритм при ${n>500}$. Указать, сколько времени потребовалось на поиск цепочки и какая цепочка получилась. Сравнить с предыдущими методами, сделать выводы.\n",
        "4. Проверить теорему Брауэра для ${n=1..200}$ путём построения функции ${l(n)}$ и аппроксимирующей кривой, полученной с помощью метода наименьших квадратов. Сопоставить функции на одном графике, сделать выводы.\n",
        "5. Проверить гипотезу Шольца–Брауэра для ${1\\leqslant n \\leqslant 10}$ на алгоритме дробления вектора индексов. Сделать выводы."
      ]
    },
    {
      "cell_type": "markdown",
      "metadata": {
        "id": "szjSL4-2X0pI"
      },
      "source": [
        "## 5. Решение задач вычисления степеней бинарным методом и методом множителей"
      ]
    },
    {
      "cell_type": "markdown",
      "metadata": {
        "id": "o-b3yvCcX0pI"
      },
      "source": [
        "### Бинарный метод"
      ]
    },
    {
      "cell_type": "code",
      "metadata": {
        "id": "aXuUgA0pX0pJ"
      },
      "source": [
        "def binaryMethod(x, n):\n",
        "    counter = 0\n",
        "    x_tmp = x\n",
        "    bin_tmp = bin(n)[3:]\n",
        "    for i in bin_tmp:\n",
        "        counter += 1\n",
        "        if (i == '1'):\n",
        "            x_tmp = x_tmp**2\n",
        "            x_tmp = x*x_tmp\n",
        "            counter += 1\n",
        "        else:\n",
        "            x_tmp = x_tmp**2 \n",
        "    return (x_tmp, counter)"
      ],
      "execution_count": 1,
      "outputs": []
    },
    {
      "cell_type": "markdown",
      "metadata": {
        "id": "R6RShjgsX0pJ"
      },
      "source": [
        "### Метод множителей"
      ]
    },
    {
      "cell_type": "code",
      "metadata": {
        "id": "Ejdqyty2X0pK"
      },
      "source": [
        "def minPrime(n): \n",
        "    for i in range(2, int(n**0.5) + 1):\n",
        "        if (n%i == 0):\n",
        "            return i\n",
        "    return 1\n",
        "\n",
        "def coefMethod(x, n):\n",
        "    min_prime = minPrime(n)\n",
        "    x_tmp, counter_1 = binaryMethod(x, min_prime)\n",
        "    result, counter_2 = binaryMethod(x_tmp, n // min_prime)\n",
        "    return (result, counter_1 + counter_2)"
      ],
      "execution_count": 2,
      "outputs": []
    },
    {
      "cell_type": "markdown",
      "metadata": {
        "id": "-c6-wdUZX0pK"
      },
      "source": [
        "### Сравнение бинарного метода и метода сомножителей"
      ]
    },
    {
      "cell_type": "code",
      "metadata": {
        "id": "PQMckQrFX0pK"
      },
      "source": [
        "import matplotlib.pyplot as plt\n",
        "x = 99\n",
        "n = [7, 13, 79, 250, 2021, 7777, 122333, 17, 33, 129, 1025]\n",
        "\n",
        "columns = (\"Степень\", \"Число шагов бинарным методом\", \"Число шагов методом сомножителей\")\n",
        "\n",
        "cell_text = []\n",
        "for i in range(len(n)):\n",
        "    cell_text.append([n[i], binaryMethod(x, n[i])[1],coefMethod(x, n[i])[1] ])\n",
        "\n",
        "table = plt.table(cellText=cell_text, colLabels=columns, loc='center')\n",
        "\n",
        "table.set_fontsize(14)\n",
        "table.scale(3, 2) \n",
        "\n",
        "ax = plt.gca()\n",
        "ax.get_xaxis().set_visible(False)\n",
        "ax.get_yaxis().set_visible(False)\n",
        "plt.box(on=None)\n",
        "plt.draw()"
      ],
      "execution_count": null,
      "outputs": []
    },
    {
      "cell_type": "markdown",
      "metadata": {
        "id": "tm7UGyL2X0pM"
      },
      "source": [
        "### Выводы\n",
        "Из результатов видно, что в среднем метод множителей возводит число в заданную степень либо за то же количество операций, что и бинарный метод, либо за меньшее число. Исключениями являются лишь степени вида ${n = 2^k + 1}$, в которых бинарный метод оказывается быстрее."
      ]
    },
    {
      "cell_type": "markdown",
      "metadata": {
        "id": "8cm_ev7PX0pM"
      },
      "source": [
        "## 6. Реализация алгоритма Брауэра"
      ]
    },
    {
      "cell_type": "code",
      "metadata": {
        "id": "QQuabwQUX0pM"
      },
      "source": [
        "def auxiliary(n, k):\n",
        "    \n",
        "    d = 2**k\n",
        "    q_arr = []\n",
        "    r_arr = []\n",
        "    q_arr.append(n // d)\n",
        "    r_arr.append(n % d)\n",
        "    \n",
        "    while (q_arr[-1] >= d):\n",
        "        r_arr.append(q_arr[-1] % d)\n",
        "        q_arr.append(q_arr[-1] // d)\n",
        "    \n",
        "    r_arr.append(q_arr[-1] % d)\n",
        "    return (q_arr, r_arr)\n",
        "\n",
        "def BrauerChain(n, k, chain_arr, q_arr, r_arr, index = 0):\n",
        "    \n",
        "    if (n < 2**k):\n",
        "        for i in range(1, max(q_arr[-1], max(r_arr)) + 1):\n",
        "            chain_arr.append(i)\n",
        "    \n",
        "    else:\n",
        "        q = q_arr[index]\n",
        "        index += 1\n",
        "        tmp_q = q\n",
        "        BrauerChain(q, k, chain_arr, q_arr, r_arr, index)\n",
        "        for i in range(k):\n",
        "            tmp_q *=2\n",
        "            chain_arr.append(tmp_q)\n",
        "            \n",
        "        if (n != tmp_q):    \n",
        "            chain_arr.append(n)\n",
        "            \n",
        "    return chain_arr"
      ],
      "execution_count": 4,
      "outputs": []
    },
    {
      "cell_type": "code",
      "metadata": {
        "id": "Ua0HETqAX0pM"
      },
      "source": [
        "import matplotlib.pyplot as plt\n",
        "n_arr = [13, 56, 74, 113, 136, 177]\n",
        "k_min_for_n = []\n",
        "\n",
        "k = [1, 2, 3, 4]\n",
        "\n",
        "columns = (\"Число n\", \"Число k\", \"Длина цепочки Брауэра\")\n",
        "\n",
        "cell_text = []\n",
        "cell_text2 = []\n",
        "for i in range(len(n_arr)):\n",
        "    k_min = 1\n",
        "    min_oper = n_arr[i]\n",
        "    min_chain = []\n",
        "    for j in range(len(k)):\n",
        "        q_arr, r_arr = auxiliary(n_arr[i], k[j])\n",
        "        B_arr = BrauerChain(n_arr[i], k[j], [], q_arr, r_arr)\n",
        "        if(len(B_arr) <= min_oper):\n",
        "            min_oper = len(B_arr)\n",
        "            k_min = j + 1\n",
        "            min_chain = B_arr\n",
        "        cell_text.append([n_arr[i], k[j], len(B_arr)])\n",
        "        \n",
        "    k_min_for_n.append(k_min)\n",
        "    cell_text2.append([n_arr[i], len(indexVectorFraction(n_arr[i])), len(min_chain), k_min, min_chain,  ])\n",
        "        \n",
        "colors = []\n",
        "color_palette = [\"w\", \"w\", \"w\", \"w\"]\n",
        "color_accent = [\"#ff72b9\", \"#ffb772\", \"#59ffaa\", \"#72b9ff\"]\n",
        "for i in range(len(n_arr)):\n",
        "    for j in range(len(k)):\n",
        "        if k[j] == k_min_for_n[i]:\n",
        "            colors.append([color_accent[i % len(color_accent)], color_accent[i % len(color_accent)], color_accent[i % len(color_accent)]])\n",
        "        else:\n",
        "            colors.append([color_palette[i % len(color_palette)], color_palette[i % len(color_palette)], color_palette[i % len(color_palette)]])\n",
        "\n",
        "table = plt.table(cellText=cell_text, cellColours=colors, colLabels=columns, loc='center')\n",
        "\n",
        "table.set_fontsize(14)\n",
        "table.scale(3, 2) \n",
        "\n",
        "ax = plt.gca()\n",
        "ax.get_xaxis().set_visible(False)\n",
        "ax.get_yaxis().set_visible(False)\n",
        "plt.box(on=None)\n",
        "plt.draw()"
      ],
      "execution_count": null,
      "outputs": []
    },
    {
      "cell_type": "code",
      "metadata": {
        "id": "UFeYZO20X0pN"
      },
      "source": [
        "columns = (\"Число n\", \"Длина минимально возможной цепочки\", \"Длина цепочки Брауэра\", \"Оптимальное k\", \"Цепочка Брауэра\")\n",
        "           \n",
        "table = plt.table(cellText=cell_text2, colLabels=columns, loc='center')\n",
        "\n",
        "table.set_fontsize(32)\n",
        "table.scale(7, 5)\n",
        "table.auto_set_font_size(False)\n",
        "table.auto_set_column_width(col=list(range(len(cell_text2))))\n",
        "\n",
        "ax = plt.gca()\n",
        "ax.get_xaxis().set_visible(False)\n",
        "ax.get_yaxis().set_visible(False)\n",
        "plt.box(on=None)\n",
        "plt.draw()"
      ],
      "execution_count": null,
      "outputs": []
    },
    {
      "cell_type": "markdown",
      "metadata": {
        "id": "O1HlBdR4X0pN"
      },
      "source": [
        "### Выводы\n",
        "\n",
        "По результатам эксперимента можно сделать выводы о том, что параметр k, как и ожидалось, влияет на длину получающейся цепочки Брауэра - в данном эксперименте длина цепочки Брауэра для одного и того же числа могла отличаться на 1-4 элемента в зависимости от k. Цепочка Брауэра иногда совпадала по длинне с минимально возможной цепочкой для заданного числа, но в остальных случаях была длиннее. Отсюда можно сделать выводы о том, что алгоритм Брауэра не гарантирует минимальность длины цепочки."
      ]
    },
    {
      "cell_type": "markdown",
      "metadata": {
        "id": "7BaVEChTX0pN"
      },
      "source": [
        "## 7. Реализация метода дробления вектора индексов"
      ]
    },
    {
      "cell_type": "code",
      "metadata": {
        "id": "UhpMjTwAX0pN"
      },
      "source": [
        "import time\n",
        "import math\n",
        "\n",
        "def nextVector(vector, q=0):\n",
        "    l = len(vector)\n",
        "    if (vector == [1 for i in range(l)]):\n",
        "        return [0 for i in range(l)]\n",
        "    for i in range(l - 1, -1, -1):\n",
        "        if (vector[i] == 1):\n",
        "            vector[i] = i + 1 + q\n",
        "            continue\n",
        "        vector[i] -= 1\n",
        "        break\n",
        "        \n",
        "    return vector\n",
        "\n",
        "def makeChain(ind):\n",
        "    \n",
        "    chain = [1]\n",
        "    \n",
        "    for i in ind:\n",
        "        chain.append(chain[-1] + chain[i-1])\n",
        "        \n",
        "    return chain\n",
        "\n",
        "def indexVectorFraction(n):\n",
        "    \n",
        "    for m in range(int(math.log(n, 2)), int(math.log(n, 2)) + bin(n)[3:].count('1') + 1):\n",
        "        q = m // 2\n",
        "        \n",
        "        if (q == 0):\n",
        "            q = 1\n",
        "        \n",
        "        r_arr = [i for i in range(1, q+1)]\n",
        "        rho_arr = [q + i + 1 for i in range(m - q)]\n",
        "        \n",
        "        while (r_arr != [0 for i in range(q)]):\n",
        "            chain = makeChain(r_arr + rho_arr)\n",
        "            a_min = chain[q] + (m - q)\n",
        "            a_max = chain[q] * 2 ** (m - q)\n",
        "            \n",
        "            if ((n < a_min) or (n > a_max)):\n",
        "                r_arr = nextVector(r_arr)\n",
        "                continue\n",
        "                \n",
        "            if (chain[-1] == n):\n",
        "                return chain\n",
        "            \n",
        "            while (rho_arr != [0 for i in range(m - q)]):\n",
        "                chain = makeChain(r_arr + rho_arr)\n",
        "                \n",
        "                if (chain[-1] == n):\n",
        "                    return chain\n",
        "                \n",
        "                rho_arr = nextVector(rho_arr, q)\n",
        "                \n",
        "            r_arr = nextVector(r_arr)\n",
        "            rho_arr = [q + i + 1 for i in range(m - q)]\n",
        "            \n",
        "    return chain\n",
        "\n",
        "def contTime(n):\n",
        "    start = time.time()\n",
        "    answer = indexVectorFraction(n)\n",
        "    end = time.time()\n",
        "    return (answer, end-start)"
      ],
      "execution_count": 6,
      "outputs": []
    },
    {
      "cell_type": "code",
      "metadata": {
        "id": "u0bDa3fiX0pO"
      },
      "source": [
        "n = [512, 649]\n",
        "result = []\n",
        "for i in n:\n",
        "    answer, timer = contTime(i)\n",
        "    result.append([i, len(answer), timer, answer])\n",
        "\n",
        "for i in range(len(n)):\n",
        "    print(\"N: \" + str(result[i][0]))\n",
        "    print(\"L: \" + str(result[i][1]))\n",
        "    print(\"Time \" + str(result[i][2]))\n",
        "    print(\"Chain \" + str(result[i][3]))\n",
        "    print(\"\")"
      ],
      "execution_count": null,
      "outputs": []
    },
    {
      "cell_type": "markdown",
      "metadata": {
        "id": "4qZps2-VX0pP"
      },
      "source": [
        "### Выводы\n",
        "\n",
        "Согласно полученным результатам можно сказать, что параметр k, влияет на длину получающейся цепочки Брауэра. Иногда алгоритм Брауэра выдает минимальную по длине цепочку, но далеко не всегда, а значит алгоритм Брауэра не гарантирует минимальность длины цепочки."
      ]
    },
    {
      "cell_type": "markdown",
      "metadata": {
        "id": "ESSJ7NUUX0pP"
      },
      "source": [
        "## 8. Проверка следствия 1 из теоремы Брауэра"
      ]
    },
    {
      "cell_type": "code",
      "metadata": {
        "scrolled": false,
        "id": "_bsnYiPoX0pP"
      },
      "source": [
        "#https://mathworld.wolfram.com/LeastSquaresFittingLogarithmic.html\n",
        "import numpy as np\n",
        "\n",
        "max_N = 201\n",
        "dots = [1, 2, 3, 3, 4, 4, 5] + [len(indexVectorFraction(i)) for i in range(8, max_N)]\n",
        "\n",
        "def aCoef(y):\n",
        "    n = len(y)\n",
        "    y = np.array(y)\n",
        "    x = np.array(range(1, n + 1))\n",
        "    log_x = np.log(x)\n",
        "    numerator = n * np.sum(np.multiply(y, log_x)) - np.sum(y) * np.sum(log_x)\n",
        "    down = n * np.sum(np.square(log_x)) - np.sum(log_x) * np.sum(log_x)\n",
        "    return numerator / down\n",
        "\n",
        "def bCoef(y, a):\n",
        "    n = len(y)\n",
        "    y = np.array(y)\n",
        "    x = np.array(range(1, n + 1))\n",
        "    log_x = np.log(x)\n",
        "    numerator = np.sum(y) - a*np.sum(log_x)\n",
        "    return numerator / n\n",
        "\n",
        "def f(a, b, x):\n",
        "    return a*np.log(x) + b\n",
        "\n",
        "a = aCoef(dots)\n",
        "b = bCoef(dots, a)\n",
        "n = len(dots)\n",
        "size = 10\n",
        "plt.figure(figsize=(10, 10))\n",
        "plt.scatter(range(1, n+1), dots, s=size, color=\"red\")\n",
        "plt.plot(range(1, n+1), f(a, b, range(1, n + 1)), color='blue')\n",
        "plt.show()"
      ],
      "execution_count": null,
      "outputs": []
    },
    {
      "cell_type": "markdown",
      "metadata": {
        "id": "PLa_MEvvX0pQ"
      },
      "source": [
        "### Выводы\n",
        "\n",
        "Исходя из графика, ${l(n)}$ аппроксимируется логарифмической кривой. По этой причине можно говорить о ее схожем с ${\\lambda(n)}$ поведении на бесконечности. Это подтверждается следствием 1 из теоремы Брауэра."
      ]
    },
    {
      "cell_type": "markdown",
      "metadata": {
        "id": "aGUW6lBBX0pQ"
      },
      "source": [
        "## 9. Проверка гипотезы Шольца–Брауэра"
      ]
    },
    {
      "cell_type": "code",
      "metadata": {
        "id": "ui8j7b9KX0pQ"
      },
      "source": [
        "first = [len(indexVectorFraction(2**i - 1)) for i in range(2, 11)]\n",
        "second = [len(indexVectorFraction(i)) + i - 1 for i in range(2, 11)]\n",
        "result = []\n",
        "for i in range(9):\n",
        "    result.append([i + 2, first[i], second[i]])\n",
        "for i in range(len(result)):\n",
        "    print(\"N:\" + str(result[i][0]))\n",
        "    print(\"l(2^n-1):\" + str(result[i][1]))\n",
        "    print(\"l(n)+n-1:\" + str(result[i][2]))\n",
        "    print(\"\")"
      ],
      "execution_count": null,
      "outputs": []
    },
    {
      "cell_type": "markdown",
      "metadata": {
        "id": "S8Lwc2Y5X0pQ"
      },
      "source": [
        "### Выводы\n",
        "\n",
        "Гипотеза Шольца-Брауэра верна для ${2 \\leqslant n \\leqslant 10}$"
      ]
    },
    {
      "cell_type": "markdown",
      "metadata": {
        "id": "MNqUwkfaX0pR"
      },
      "source": [
        "## 10. Общий вывод по проделанной работе"
      ]
    },
    {
      "cell_type": "markdown",
      "metadata": {
        "id": "0xd1XW7kX0pU"
      },
      "source": [
        "В ходе работы были изучены и применены на практике теоретические сведения об аддитивных цепочках и об алгоритмах нахождения аддитивных цепочек для заданного числа. Были реализованы бинарный метод, метод множителей, алгоритм Брауэра и алгоритм дробления вектора индексов, который работает медленнее вышеописанных, но гарантированно выводит минимально возможную цепочку для заданного числа. Также в ходе работы были проверены на практике следствие 1 из теоремы Брауэра и гипотеза Шольца-Брауэра."
      ]
    },
    {
      "cell_type": "code",
      "metadata": {
        "id": "6ZkeKDig-JsH"
      },
      "source": [
        ""
      ],
      "execution_count": 5,
      "outputs": []
    }
  ]
}