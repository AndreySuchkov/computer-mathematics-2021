{
 "cells": [
  {
   "cell_type": "markdown",
   "metadata": {},
   "source": [
    "# Практическая работа №1: Исследование алгоритмов формирования аддитивных цепочек"
   ]
  },
  {
   "cell_type": "markdown",
   "metadata": {},
   "source": [
    "## Цель работы"
   ]
  },
  {
   "cell_type": "markdown",
   "metadata": {},
   "source": [
    "Формирование представления о аддитивных цепочках, выработать умение составлять и применять алгоритмы для нахождения минимальных аддитивных цепочек для заданного числа, привить навык использования систем компьютерной алгебры для реализации алгоритмов."
   ]
  },
  {
   "cell_type": "markdown",
   "metadata": {},
   "source": [
    "## Основные теоретические положения"
   ]
  },
  {
   "cell_type": "markdown",
   "metadata": {},
   "source": [
    "### Бинарный метод"
   ]
  },
  {
   "cell_type": "markdown",
   "metadata": {},
   "source": [
    "Метод возведения числа $x$ в степень $n$. Метод заключается в представлении числа $x$ в бинарном виде, где отбрасывается первая единица. Далее смотрим на запись числа и следуем алгоритму: если текущий бит - единица, то вовзводим в квадрат и умножаем на $x$, если ноль, то возводим в квадрат."
   ]
  },
  {
   "cell_type": "markdown",
   "metadata": {},
   "source": [
    "### Метод множителей"
   ]
  },
  {
   "cell_type": "markdown",
   "metadata": {},
   "source": [
    "Метод возведения числа $x$ в степень $n$. Метод заключается в раскладывании числа $n$ на произведение двух множителей: $n = i \\cdot j$, где $i$ - наименьший простой делитель числа $n$. Потом бинарным методом $x$ возводится в степень $i$, а полученный результат так же возводится в степень $j$. Так можно получить результат лучше, чем просто бинарным методом."
   ]
  },
  {
   "cell_type": "markdown",
   "metadata": {},
   "source": [
    "### Аддитивная цепочка"
   ]
  },
  {
   "cell_type": "markdown",
   "metadata": {},
   "source": [
    "Последоватеьность чисел $1 = a_0, a_1, a_2, ..., a_m = n$ для некоторого числа $n$, которая обладает свойством $a_i = a_j + a_k$, где $k <= j < i$ для любого $i \\in \\{1...m\\}$. Наименьшая длина аддитивной цепочки обозначается: $l(n)$. Оценку сверху дает бинарный метод."
   ]
  },
  {
   "cell_type": "markdown",
   "metadata": {},
   "source": [
    "### Теорема Брауэра"
   ]
  },
  {
   "cell_type": "markdown",
   "metadata": {},
   "source": [
    "При некотором $k < log_2 log_2 n$ справедливо неравенство: $l(n)<(1+k^{-1}) \\cdot \\lceil log_2 n \\rceil + 2^{k-1}-k+2$\n",
    "\n",
    "При $k=\\lambda(\\lambda(n))-2\\lambda(\\lambda(\\lambda(n)))$, получим следствия:\n",
    "1) $\\lim \\limits_{n \\to \\infty} \\frac{l(n)}{\\lambda(n)}=1$\n",
    "\n",
    "2) Наилучшая верхняя оценка длины аддитивной цепочки: $\\lambda(n)(1+\\frac{1}{\\lambda(\\lambda(n))}+\\frac{o(\\lambda(\\lambda(\\lambda(n))))}{\\lambda(\\lambda(n))^2})$"
   ]
  },
  {
   "cell_type": "markdown",
   "metadata": {},
   "source": [
    "### Алгоритм Яо"
   ]
  },
  {
   "cell_type": "markdown",
   "metadata": {},
   "source": [
    "Вычисляет аддитивную цепочку для числа $n$.\n",
    "\n",
    "$ n,k \\geq 2$, тогда $n=\\displaystyle\\sum_{i=0}^j a_i \\cdot 2^{ik}$, $a_j \\neq 0$\n",
    "\n",
    "$d(z)$ - сумма чисел $2^{ik}\\,\\forall i: a_i=z$\n",
    "\n",
    "Цепочка Яо: $Y_k(n):\\{1,2,4,8,\\dots , 2^{\\lambda(n)}\\}$\n",
    "\n",
    "Считаем все $d(z)$, где $z \\in \\{1, 2, 3, \\dots, 2^{k-1} \\}$, такие что $d(z) \\neq 0$.\n",
    "\n",
    "$n=\\displaystyle\\sum_{z=1}^{2^{k-1}} zd(z)$"
   ]
  },
  {
   "cell_type": "markdown",
   "metadata": {},
   "source": [
    "### Звёздная цепочка"
   ]
  },
  {
   "cell_type": "markdown",
   "metadata": {},
   "source": [
    "Аддитивная цепочка, состоящая только из звёздных шагов. Шаг называется звездным, когда элемент получен при помощи сложения предыдущего и какого-то ещё: $a_i=a_{i-1}+a_k$, где $0 \\leq k \\leq i-1$"
   ]
  },
  {
   "cell_type": "markdown",
   "metadata": {},
   "source": [
    "### Гипотеза Шольца-Брауэра"
   ]
  },
  {
   "cell_type": "markdown",
   "metadata": {},
   "source": [
    "$l^*(2^n-1) \\geq l^*(n)+n-1$, где $l^*(n)$ - минимальная звездная цепочка для числа $n$."
   ]
  },
  {
   "cell_type": "markdown",
   "metadata": {},
   "source": [
    "### Алгоритм дробления вектора индексов"
   ]
  },
  {
   "cell_type": "markdown",
   "metadata": {},
   "source": [
    "Алгоритм дробления вектора индексов - алгоритм, который при помощи полного перебора находит минимальную аддитивную цепочку для числа $n$.\n",
    "\n",
    "Дано: $n \\in \\mathbb{N}$ \n",
    "\n",
    "Найти: $l*(n) = m - 1$, $a_m = n$. \n",
    "\n",
    "Решение:\n",
    "$n = \\sum_{i=1}^{s}2^{k_i}$\n",
    "\n",
    "Длина минимальной звёздной цепочки: $\\underline{l}(n) \\leq l(n) \\leq \\overline{l}(n)$ \n",
    "\n",
    "Рассмотрив вектор индексов следующего вида: $\\{r_i\\}_{i=1}^q \\cup \\{\\rho\\}_{j=q+1}^m, \\rho_j = \\{x:1 <= x <= j\\}$\n",
    "\n",
    "$r_i$ - фиксированный вектор, а $\\rho_i$ - меняющийся вектор. \n",
    "\n",
    "$a_m= a_{max}$: $\\{r_i\\}_{i=1}^q \\cup \\{q+1, q+2,...,m\\}\\}$\n",
    "\n",
    "$a_m= a_{min}$: $\\{r_i\\}_{i=1}^q \\cup \\{1, 1,...,1\\}\\}$, где длина $\\{1, 1,...,1\\}$ равна $m-q$.\n",
    "\n",
    "$a_{max}=a_{q+1}\\cdot 2^{m-q}$\n",
    "\n",
    "$a_{min}=a_{q+1}+ m - q$. \n",
    "\n",
    "Вектор индексов разделяется на фиксированный и менющийся. Для фиксированной части вычисляются $a_{max}$ и $a_{min}$. Если $a_m = n$, то алгоритм завершает работу. Если $n \\notin [a_{min}, a_{max}]$, то переходим к следующему фиксированному вектору. Если $n \\in [a_{min}, a_{max}]$, то перебираем меняющийся вектор. Если $\\rho_j = 1$ для любого $j$, то переходим к следующему фиксированному вектору. Если для любых $i, j$ имеем $r_i =1, \\rho_j = 1$, то увеличиваем $m$ на 1."
   ]
  },
  {
   "cell_type": "markdown",
   "metadata": {},
   "source": [
    "## Постановка задачи"
   ]
  },
  {
   "cell_type": "markdown",
   "metadata": {},
   "source": [
    "Реализовать точные и приближённые алгоритмы нахождения минимальных аддитивных цепочек с использованием системы компьютерной алгебры SageMath, провести анализ алгоритмов."
   ]
  },
  {
   "cell_type": "markdown",
   "metadata": {},
   "source": [
    "## Порядок выполнения работы"
   ]
  },
  {
   "cell_type": "markdown",
   "metadata": {},
   "source": [
    "1. Применить бинарный метод и метод множителей для $x^n$,где $n \\geq 30$, для 2-3 значений $n$(значения $n$ выбирается студентом самостоятельно). Сравнить количество операций для каждого метода, сделать выводы.\n",
    "2. Реализовать или алгоритм Яо для вычисления приближённых аддитивных цепочек для различных чисел при варьировании параметра $k$, сопоставить длины полученных аддитивных цепочек с минимальной аддитивной цепочкой для заданного числа. Сделать выводы.\n",
    "3. Реализовать алгоритм дробления вектора индексов для нахождения минимальной звёздной цепочки для заданного числа. Протестировать алгоритм при $n \\geq 500$. Указать, сколько времени потребовалось на поиск цепочки и какая цепочка получилась. Сравнить с предыдущими методами, сделать выводы.\n",
    "4. Проверить следствие 1 теоремы Брауэра для $n=1..200$ путём построения функции $l(n)$ и аппроксимирующей кривой, полученной с помощью метода наименьших квадратов. Сопоставить функции на одном графике, сделать выводы.\n",
    "5. Проверить гипотезу Шольца–Брауэра для $1<n \\leq 10$ на алгоритме дробления вектора индексов. Сделать выводы."
   ]
  },
  {
   "cell_type": "markdown",
   "metadata": {},
   "source": [
    "## Выполнение работы"
   ]
  },
  {
   "cell_type": "markdown",
   "metadata": {},
   "source": [
    "**1. Применить бинарный метод и метод множителей для $x^n$,где $n \\geq 30$, для 2-3 значений $n$(значения $n$ выбирается студентом самостоятельно). Сравнить количество операций для каждого метода, сделать выводы.**"
   ]
  },
  {
   "cell_type": "code",
   "execution_count": 61,
   "metadata": {},
   "outputs": [],
   "source": [
    "def binary(x, n):\n",
    "    count = -1\n",
    "    res = 1\n",
    "    while(n):\n",
    "        if n%2 == 0:\n",
    "            count += 1\n",
    "            n = n/2\n",
    "            x = x*x\n",
    "            continue\n",
    "        if n%2 == 1:\n",
    "            count += 1\n",
    "            n = n - 1\n",
    "            res *= x\n",
    "            continue\n",
    "    return [res, count]"
   ]
  },
  {
   "cell_type": "code",
   "execution_count": 62,
   "metadata": {},
   "outputs": [
    {
     "data": {
      "text/plain": [
       "[1073741824, 7]"
      ]
     },
     "execution_count": 62,
     "metadata": {},
     "output_type": "execute_result"
    }
   ],
   "source": [
    "binary(2, 30)\n"
   ]
  },
  {
   "cell_type": "code",
   "execution_count": 63,
   "metadata": {},
   "outputs": [
    {
     "data": {
      "text/plain": [
       "[549755813888, 8]"
      ]
     },
     "execution_count": 63,
     "metadata": {},
     "output_type": "execute_result"
    }
   ],
   "source": [
    "binary(2, 39)"
   ]
  },
  {
   "cell_type": "code",
   "execution_count": 64,
   "metadata": {},
   "outputs": [
    {
     "data": {
      "text/plain": [
       "[140737488355328, 9]"
      ]
     },
     "execution_count": 64,
     "metadata": {},
     "output_type": "execute_result"
    }
   ],
   "source": [
    "binary(2, 47)"
   ]
  },
  {
   "cell_type": "code",
   "execution_count": 25,
   "metadata": {},
   "outputs": [],
   "source": [
    "def multiplier(x, n):\n",
    "    ls = list(factor(n))\n",
    "    if ls[0][0] == n:\n",
    "        res = multiplier(x, n - 1)\n",
    "        res[0] *= x\n",
    "        res[1] += 1\n",
    "        return res\n",
    "    a = ls[0][0]\n",
    "    b = n/a\n",
    "    f = binary(x, a)\n",
    "    res = binary(f[0], b)\n",
    "    res[1] += f[1]\n",
    "    return res"
   ]
  },
  {
   "cell_type": "code",
   "execution_count": 29,
   "metadata": {},
   "outputs": [
    {
     "data": {
      "text/plain": [
       "[1073741824, 7]"
      ]
     },
     "execution_count": 29,
     "metadata": {},
     "output_type": "execute_result"
    }
   ],
   "source": [
    "multiplier(2, 30)"
   ]
  },
  {
   "cell_type": "code",
   "execution_count": 31,
   "metadata": {},
   "outputs": [
    {
     "data": {
      "text/plain": [
       "[549755813888, 7]"
      ]
     },
     "execution_count": 31,
     "metadata": {},
     "output_type": "execute_result"
    }
   ],
   "source": [
    "multiplier(2, 39)"
   ]
  },
  {
   "cell_type": "code",
   "execution_count": 34,
   "metadata": {},
   "outputs": [
    {
     "data": {
      "text/plain": [
       "[140737488355328, 9]"
      ]
     },
     "execution_count": 34,
     "metadata": {},
     "output_type": "execute_result"
    }
   ],
   "source": [
    "multiplier(2, 47)"
   ]
  },
  {
   "cell_type": "markdown",
   "metadata": {},
   "source": [
    "Вывод: при $n = 2^k-1$ метод множителей в некоторых случаях эффективнее бинарного метода, но при $n = 2^k+1$ бинарный метод превосходит метод множителей. В остальных случаях оба метода работают одинаково эффективно."
   ]
  },
  {
   "cell_type": "markdown",
   "metadata": {},
   "source": [
    "**2. \n",
    "Реализовать или алгоритм Яо для вычисления приближённых аддитивных цепочек для различных чисел при варьировании параметра $k$, сопоставить длины полученных аддитивных цепочек с минимальной аддитивной цепочкой для заданного числа. Сделать выводы.**"
   ]
  },
  {
   "cell_type": "code",
   "execution_count": 69,
   "metadata": {},
   "outputs": [
    {
     "name": "stdout",
     "output_type": "stream",
     "text": [
      "n: 127\n",
      "k: 2\n",
      "[1, 2, 4, 8, 16, 32, 64, 5, 21, 42, 63, 127]\n",
      "Длина аддитивной цепочки:  12\n"
     ]
    }
   ],
   "source": [
    "def separation(n, k):\n",
    "    sep = []\n",
    "    while(n > 0):\n",
    "        sep.append(n % (2^k))\n",
    "        n = n // 2^k\n",
    "    return sep\n",
    "\n",
    "def d(chain, sep, z, k):\n",
    "    res = 0\n",
    "    for i in range(len(sep)):\n",
    "        if sep[i] == z:\n",
    "            res += 2^(i * k)\n",
    "            if res not in chain:\n",
    "                chain.append(res)\n",
    "    return res\n",
    "\n",
    "def zd(chain, dz, z):\n",
    "    binary  = separation(z, 1)\n",
    "    zdz = dz\n",
    "    for i in range(len(binary)-2, -1, -1):\n",
    "        if binary[i] == 0:\n",
    "            zdz += zdz\n",
    "            if zdz not in chain:\n",
    "                chain.append(zdz)\n",
    "        else:\n",
    "            zdz += zdz\n",
    "            if zdz not in chain:\n",
    "                chain.append(zdz)\n",
    "            zdz += dz\n",
    "            if zdz not in chain:\n",
    "                chain.append(zdz)\n",
    "    return zdz\n",
    "def yao(n, k):\n",
    "    chain = []\n",
    "    s = 1\n",
    "    while(s < n):\n",
    "        chain.append(s)\n",
    "        s = s * 2\n",
    "    sep = separation(n,k)\n",
    "    zdz_sum = 0\n",
    "    for z in range(1, 2^k, 1):\n",
    "        if z in sep:\n",
    "            dz = d(chain, sep, z, k)\n",
    "            zdz = zd(chain, dz, z)\n",
    "            zdz_sum += zdz\n",
    "            if zdz_sum not in chain:\n",
    "                chain.append(zdz_sum)\n",
    "    return chain\n",
    "n = int(input(\"n: \"))\n",
    "k = int(input(\"k: \"))\n",
    "ch = yao(n, k)\n",
    "print(ch)\n",
    "print(\"Длина аддитивной цепочки: \", len(ch))"
   ]
  },
  {
   "cell_type": "code",
   "execution_count": 68,
   "metadata": {},
   "outputs": [
    {
     "data": {
      "image/png": "[encoded data removed]",
      "text/plain": [
       "<Figure size 432x288 with 1 Axes>"
      ]
     },
     "metadata": {
      "needs_background": "light"
     },
     "output_type": "display_data"
    }
   ],
   "source": [
    "import matplotlib.pyplot as plt\n",
    "\n",
    "dataset = []\n",
    "\n",
    "for n in [47, 100, 263]:\n",
    "    for k in [2 , 3 , 4]:\n",
    "        chain = yao(n, k)\n",
    "        dataset.append([n, k, chain, len(chain)])\n",
    "    \n",
    "column_headers = ('n', 'k', 'Yao`s chain', 'length')\n",
    "\n",
    "fig, axs = plt.subplots()\n",
    "axs.set_axis_off()\n",
    "\n",
    "the_table = axs.table(cellText=dataset, colLabels=column_headers, cellLoc = 'center', loc='upper right')\n",
    "the_table.auto_set_font_size(False)\n",
    "the_table.auto_set_column_width(col=list(range(4)))\n",
    "the_table.set_fontsize(18)\n",
    "the_table.scale(4,4)\n",
    "plt.show()"
   ]
  },
  {
   "cell_type": "markdown",
   "metadata": {},
   "source": [
    "Вывод: полученные алгоритмом Яо аддитивные цепочки не являются минимальными, но при определенных k их длинна близка к минимальной."
   ]
  },
  {
   "cell_type": "markdown",
   "metadata": {},
   "source": [
    "**3. Реализовать алгоритм дробления вектора индексов для нахождения минимальной звёздной цепочки для заданного числа. Протестировать алгоритм при $n \\geq 500$. Указать, сколько времени потребовалось на поиск цепочки и какая цепочка получилась. Сравнить с предыдущими методами, сделать выводы.**"
   ]
  },
  {
   "cell_type": "code",
   "execution_count": 48,
   "metadata": {},
   "outputs": [
    {
     "name": "stdout",
     "output_type": "stream",
     "text": [
      "Введите n: 512\n",
      "2.849\n",
      "[1, 2, 4, 8, 16, 32, 64, 128, 256, 512]\n",
      "Длина аддитивной цепочки:  10\n"
     ]
    }
   ],
   "source": [
    "import math\n",
    "\n",
    "def Haming(n):\n",
    "    binary  = separation(n, 1)\n",
    "    res = 0\n",
    "    for i in range(len(binary)):\n",
    "        if binary[i] == 1:\n",
    "            res += 1\n",
    "    return res\n",
    "\n",
    "def checkSmaller(r, start, end):\n",
    "    for i in range(start, end):\n",
    "        if r[i]!= 1:\n",
    "            return false\n",
    "    return true\n",
    "\n",
    "def shortVec(r, end):\n",
    "    while r[end] == 1:\n",
    "        r[end] = end + 1\n",
    "        end -= 1\n",
    "    r[end] -= 1\n",
    "    return r\n",
    "\n",
    "def addStarChain(r, m):\n",
    "    starChain = [1]\n",
    "    for i in range(0, m):\n",
    "        starChain.append(starChain[i] + starChain[r[i] - 1])\n",
    "    return starChain\n",
    "\n",
    "def vecIndexSplit(n):\n",
    "    minLen = math.ceil(math.log(n, 2))\n",
    "    maxLen = math.floor(math.log(n, 2)) + Haming(n) - 1\n",
    "    if minLen == 0:\n",
    "        return [1]\n",
    "    if maxLen == 0:\n",
    "        return [1]\n",
    "    starChain = []\n",
    "    for m in range(minLen, maxLen + 1, 1):\n",
    "        q = m // 2 \n",
    "        if q == 0:\n",
    "            q = 1\n",
    "        r = []\n",
    "        for i in range(1, m + 1):\n",
    "            r.append(i)\n",
    "        r[q - 1] += 1\n",
    "        while not checkSmaller(r, 0, q):\n",
    "            r = shortVec(r, q - 1)\n",
    "            starChain = addStarChain(r, m)\n",
    "            if starChain[-1] == n:\n",
    "                return starChain\n",
    "            minA = starChain[q] + m - q\n",
    "            maxA = starChain[q] * 2^(m - q)\n",
    "            if n < minA | n > maxA:\n",
    "                continue\n",
    "            r[-1] += 1\n",
    "            while not checkSmaller(r, q, m):\n",
    "                r = shortVec(r, m - 1)\n",
    "                starChain = addStarChain(r, m)\n",
    "                if starChain[-1] == n:\n",
    "                    return starChain\n",
    "            for j in range(q, m):\n",
    "                r[j] = j + 1\n",
    "    return starChain\n",
    "\n",
    "import time\n",
    "start = time.time()\n",
    "n = int(input(\"Введите n: \"))\n",
    "s = vecIndexSplit(n)\n",
    "end = time.time()\n",
    "print(round(end - start, 3))\n",
    "print(s)\n",
    "print(\"Длина аддитивной цепочки: \", len(s))"
   ]
  },
  {
   "cell_type": "code",
   "execution_count": 78,
   "metadata": {},
   "outputs": [
    {
     "data": {
      "image/png": "[encoded data removed]",
      "text/plain": [
       "<Figure size 432x288 with 1 Axes>"
      ]
     },
     "metadata": {
      "needs_background": "light"
     },
     "output_type": "display_data"
    }
   ],
   "source": [
    "import matplotlib.pyplot as plt\n",
    "import time\n",
    "\n",
    "dataset = []\n",
    "start = time.time()\n",
    "for n in [501, 531, 602, 647]:\n",
    "    start = time.time()\n",
    "    starChainV = vecIndexSplit(n)\n",
    "    end = time.time()\n",
    "    dataset.append([n, starChainV, len(starChainV), end - start])\n",
    "    \n",
    "column_headers = ('n', 'Star chain', 'Length of star chain', 'Time, sec')\n",
    "\n",
    "fig, axs = plt.subplots()\n",
    "axs.set_axis_off()\n",
    "\n",
    "the_table = axs.table(cellText=dataset, colLabels=column_headers, cellLoc = 'center', loc='upper right')\n",
    "the_table.auto_set_font_size(False)\n",
    "the_table.auto_set_column_width(col=list(range(4)))\n",
    "the_table.set_fontsize(18)\n",
    "the_table.scale(4,4)\n",
    "plt.show()"
   ]
  },
  {
   "cell_type": "markdown",
   "metadata": {},
   "source": [
    "Вывод: алгоритм дробления вектора индексов занимает большее время,чем остальные методы, но всегда выдаёт минимальную АЦ."
   ]
  },
  {
   "cell_type": "markdown",
   "metadata": {},
   "source": [
    "**4. Проверить следствие 1 теоремы Брауэра для $n=1..200$ путём построения функции $l(n)$ и аппроксимирующей кривой, полученной с помощью метода наименьших квадратов. Сопоставить функции на одном графике, сделать выводы.**"
   ]
  },
  {
   "cell_type": "code",
   "execution_count": 70,
   "metadata": {},
   "outputs": [
    {
     "data": {
      "image/png": "[encoded data removed]",
      "text/plain": [
       "<Figure size 720x720 with 1 Axes>"
      ]
     },
     "metadata": {
      "needs_background": "light"
     },
     "output_type": "display_data"
    }
   ],
   "source": [
    "import matplotlib.pyplot as plt\n",
    "import numpy as np\n",
    "from scipy.optimize import leastsq\n",
    "\n",
    "def approx(coef, y, x):\n",
    "    return y - np.log(x)*coef[0]\n",
    "\n",
    "x = [i for i in range(1, 201)]\n",
    "y = [len(vecIndexSplit(i)) for i in range(1, 201)]\n",
    "\n",
    "\n",
    "\n",
    "plt.figure(figsize = (10, 10))\n",
    "solv = leastsq(approx, 1, args = (y, x))\n",
    "plt.plot(x, y,'o', x, np.log(x)*solv[0], 'r')\n",
    "plt.show()"
   ]
  },
  {
   "cell_type": "markdown",
   "metadata": {},
   "source": [
    "Вывод: наши данные аппроксимируются логарифмической кривой, подтверждая первое следствие теоремы Брауэра."
   ]
  },
  {
   "cell_type": "markdown",
   "metadata": {},
   "source": [
    "**5. Проверить гипотезу Шольца–Брауэра для $1<n \\leq 10$ на алгоритме дробления вектора индексов. Сделать выводы.**"
   ]
  },
  {
   "cell_type": "code",
   "execution_count": 56,
   "metadata": {},
   "outputs": [
    {
     "name": "stdout",
     "output_type": "stream",
     "text": [
      "n = 2, 3 <= 3\n",
      "n = 3, 5 <= 5\n",
      "n = 4, 6 <= 6\n",
      "n = 5, 8 <= 8\n",
      "n = 6, 9 <= 9\n",
      "n = 7, 11 <= 11\n",
      "n = 8, 11 <= 11\n",
      "n = 9, 13 <= 13\n",
      "n = 10, 14 <= 14\n"
     ]
    }
   ],
   "source": [
    "for i in range(2, 11):\n",
    "    print(\"n = {}, {} <= {}\".format(i, len(vecIndexSplit(2**i -  1)), len(vecIndexSplit(i)) + i - 1))"
   ]
  },
  {
   "cell_type": "markdown",
   "metadata": {},
   "source": [
    "Вывод: из полученных данных видно что, гипотеза Шольца-Брауэра справедлива при $n \\in (1,\\;10]$."
   ]
  },
  {
   "cell_type": "markdown",
   "metadata": {},
   "source": [
    "## Вывод"
   ]
  },
  {
   "cell_type": "markdown",
   "metadata": {},
   "source": [
    "В ходе выполнения практической работы были реализованы точные и приближённые алгоритмы нахождения минимальных аддитивных цепочек с использованием системы компьютерной алгебры SageMath. Были реализованы и проанализированы такие алгоритмы формирования аддитивных цепочек как: бинарный метод, метод множителей, алгоритм Яо, алгоритм дробления вектора индексов. Так же были проверены первое следствие теоремы Брауэра и гипотеза Шольца–Брауэра при $n \\in (1,\\;10]$."
   ]
  }
 ],
 "metadata": {
  "kernelspec": {
   "display_name": "SageMath 9.2",
   "language": "sage",
   "name": "sagemath"
  },
  "language_info": {
   "codemirror_mode": {
    "name": "ipython",
    "version": 3
   },
   "file_extension": ".py",
   "mimetype": "text/x-python",
   "name": "python",
   "nbconvert_exporter": "python",
   "pygments_lexer": "ipython3",
   "version": "3.7.7"
  }
 },
 "nbformat": 4,
 "nbformat_minor": 4
}
