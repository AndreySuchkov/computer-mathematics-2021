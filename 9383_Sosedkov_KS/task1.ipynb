{
 "cells": [
  {
   "cell_type": "markdown",
   "metadata": {},
   "source": [
    "<h1>Практическая работа №1: Исследование алгоритмов формирования аддитивных цепочек</h1>\n",
    "\n",
    "Выполнил студент группы 9383 Соседков Кирилл\n"
   ]
  },
  {
   "cell_type": "markdown",
   "metadata": {},
   "source": [
    "<h2>Цель работы</h2>\n",
    "\n",
    "Формирование представления о аддитивных цепочках, выработать умение составлять и применять алгоритмы для нахождения минимальных аддитивных цепочек для заданного числа, привить навык использования систем компьютерной алгебры для реализации алгоритмов.\n"
   ]
  },
  {
   "cell_type": "markdown",
   "metadata": {},
   "source": [
    "<h2>Основные теоретические положения</h2>"
   ]
  },
  {
   "cell_type": "markdown",
   "metadata": {},
   "source": [
    "<h3>Бинарный метод</h3>\n",
    "\n",
    "В данном алгоритме ,степень $n$, в которую нужно возвести число, представляется в двоичной системе счисления без старшего разряда.\n",
    "Дальше рассматриваются разряды числа от старшего к младшему. \n",
    "Если текущий разряд равен единице - результат удваивается и домножается на число $x$.\n",
    "Если текущий разряд равен нулю - результат удваивается.\n",
    "\n",
    "Количество операций можно посчитать следующим образом: \n",
    "$\\lambda(n)+\\nu(n)-1$, где $\\lambda(n)=\\lceil log_2 n \\rceil$, а $\\nu(n)$ - количество единиц в двоичной записи числа."
   ]
  },
  {
   "cell_type": "markdown",
   "metadata": {},
   "source": [
    "<h3>Метод множителей</h3>\n",
    "\n",
    "В данном алгоритме степень $n$ представляется как произведение двух простых чисел $i \\cdot j$.\n",
    "Сначала число $x$ возводится в степень $i$, а после этого полученное число возводится в степень $j$.\n",
    "Если показатель степени $n$ является простым числом, исходное число $x$ возводится в степень $n-1$, \n",
    "а после этого домножается $x$."
   ]
  },
  {
   "cell_type": "markdown",
   "metadata": {},
   "source": [
    "<h3>Аддитивная цепочка</h3>\n",
    "\n",
    "Аддитивной цепочкой для натурального числа $n$ называется последовательность натуральных чисел \n",
    "$1=a_1, a_2, a_3, \\dots, a_m=n$, \n",
    "где $a_i=a_j+a_k$, $k <= j < i$ $\\forall i=1..m$\n",
    "\n",
    "$l(n)=m$ - длина минимальной аддитивной цепочки"
   ]
  },
  {
   "cell_type": "markdown",
   "metadata": {},
   "source": [
    "<h3>Алгоритм Яо</h3>\n",
    "\n",
    "Алгоритм Яо строит для натурального числа $n$ аддитивную цепочку. \n",
    "\n",
    "Сначала цепочка Яо имеет следующий вид: $1, 2, 4, 8, ..., 2^k$ \n",
    "    \n",
    "В начале алгоритма выбирается параметр $k$ и число $n$ переводится в систему счисления $2^k$. \n",
    "\n",
    "Затем для каждого $z \\in \\{1,2,3,...,2^k-1\\}$ считается $d(z)$, где $d(z)$ - сумма чисел $2^{ik}$ для всех $i$, \n",
    "таких что $a_i = z$. \n",
    "\n",
    "После этого считается $z*d(z), \\forall z \\in \\{1, 2, 3, ..., 2^{k-1}\\}, d(z) \\neq 0$, \n",
    "и все полученные не нулевые значения записываются в цепочку.\n"
   ]
  },
  {
   "cell_type": "markdown",
   "metadata": {},
   "source": [
    "<h3>Алгоритм дробления вектора индексов</h3>\n",
    "\n",
    "Алгоритм дробления вектора индексов находит минимальную звездную цепочку для числа $n$.\n",
    "\n",
    "Звездной цепочкой называется аддитивная цепочка в которой каждый элемент \n",
    "получен при помощи сложения предыдущего элемента и какого-либо еще.\n",
    "\n",
    "Длина минимальной звездной цепочки $l(n)$ ограничена сверху и снизу следующими значениями: \n",
    "$\\lceil lb(n) \\rceil \\leq l(n) \\leq \\lambda(n) + \\nu(n) - 1$\n",
    "\n",
    "Вектор индексов разбивается на фиксированный и меняющийся.\n",
    "\n",
    "Для полного вектора индексов строится звездная цепочка и вычисляются значения $a_{max}$ и ${a}_{min}$,\n",
    "где $a_{max} = a_{q+1} + (m-q), a_{min} = a_{q+1}*2^{m-q}$, где $q = m/2$, $m$ - текущая длина цепочки.\n",
    "\n",
    "Если $a_{m}=n$ - цепочка найдена <br>\n",
    "Если $n\\in [a_{min},a_{max}]$ - осуществляется перебор всех меняющихся векторов индексов.<br>\n",
    "Если $n \\notin [a_{min},a_{max}]$ - осуществляется переход к следующему фиксированному вектору индексов.\n"
   ]
  },
  {
   "cell_type": "markdown",
   "metadata": {},
   "source": [
    "<h3>Теорема Брауэра</h3>\n",
    "\n",
    "Для числа $k < lb(lbn)$ справедливо: $l(n) < (1+k^{-1})\\cdot\\lceil lbn\\rceil+2^{k-1}-k+2$.\n",
    "\n",
    "\n",
    "Если $k = \\lambda(\\lambda(n))-2\\lambda(\\lambda(\\lambda(n)))$, тогда выполняется следующее:\n",
    "\n",
    "1) $\\lim\\limits_{x\\to\\infty} \\cfrac{l(n)}{\\lambda(n)} = 1$. <br>\n",
    "2) Оценка для $l(n)$: $\\lambda(n)\\bigg(1+\\cfrac{1}{\\lambda(\\lambda(n))}+\\cfrac{o(\\lambda(\\lambda(\\lambda(n))))}{(\\lambda(\\lambda(n)))^2}\\bigg)$"
   ]
  },
  {
   "cell_type": "markdown",
   "metadata": {},
   "source": [
    "<h3>Гипотеза Шольца-Брауэра</h3>\n",
    "\n",
    "\n",
    "$l^*(2^n-1) \\geq l^*(n)+n-1$, где $l^*(n)$ - длина минимальной звездной цепочки"
   ]
  },
  {
   "cell_type": "markdown",
   "metadata": {},
   "source": [
    "<h2>Постановка задачи</h2>\n",
    "\n",
    "Реализовать точные и приближённые алгоритмы нахождения минимальных аддитивных \n",
    "цепочек с использованием системы компьютерной алгебры SageMath, провести анализ алгоритмов.\n",
    "Полученные результаты содержательно проинтерпретировать."
   ]
  },
  {
   "cell_type": "markdown",
   "metadata": {},
   "source": [
    "<h2>Порядок выполнения работы</h2>\n",
    "\n",
    "1)Применить бинарный метод и метод множителей для $x^n$, где $n⩾30$, для 2-3 значений $n$ (значения $n$ выбирается студентом самостоятельно). \n",
    "Сравнить количество операций для каждого метода, сделать выводы. <br>\n",
    "\n",
    "2)Реализовать алгоритм Брауэра (для нечётных вариантов) или алгоритм Яо (для чётных вариантов) \n",
    "для вычисления приближённых аддитивных цепочек для различных \n",
    "чисел при варьировании параметра $k$, сопоставить длины полученных \n",
    "аддитивных цепочек с минимальной аддитивной цепочкой для заданного числа. Сделать выводы.\n",
    "\n",
    "3)Реализовать алгоритм дробления вектора индексов для \n",
    "нахождения минимальной звёздной цепочки для заданного числа. \n",
    "Протестировать алгоритм при $n>500$. \n",
    "Указать, сколько времени потребовалось на поиск цепочки и какая цепочка получилась.\n",
    "Сравнить с предыдущими методами, сделать выводы.\n",
    "\n",
    "4)Проверить следствие 1 теоремы Брауэра для $n=1..200$\n",
    "путём построения функции $l(n)$ и аппроксимирующей кривой,\n",
    "полученной с помощью метода наименьших квадратов.\n",
    "Сопоставить функции на одном графике, сделать выводы.\n",
    "\n",
    "\n",
    "5)Проверить гипотезу Шольца–Брауэра для \n",
    "$1<n⩽10$ на алгоритме дробления вектора индексов. Сделать выводы.\n",
    "\n",
    "\n",
    "6)Дополнительное необязательное задание:\n",
    "найти и/или предложить модификации алгоритмов и привести описание модификаций. \n",
    "Реализовать модифицированные алгоритмы и сравнить их мощность."
   ]
  },
  {
   "cell_type": "markdown",
   "metadata": {},
   "source": [
    "<h2>Выполнение работы</h2>"
   ]
  },
  {
   "cell_type": "markdown",
   "metadata": {},
   "source": [
    "<h3>Бинарный метод и метод множителей</h3>\n",
    "\n",
    "Реализация:"
   ]
  },
  {
   "cell_type": "code",
   "execution_count": 11,
   "metadata": {
    "scrolled": false
   },
   "outputs": [],
   "source": [
    "def binary_method(number, power):\n",
    "    answer = number\n",
    "    binary_power =  power.binary()[1:]\n",
    "    for i in binary_power:\n",
    "        answer = answer**2\n",
    "        if i == '1':\n",
    "            answer = answer*number   \n",
    "    return (answer, 2*binary_power.count('1')+binary_power.count('0'))\n",
    "\n",
    "def multiplier_method(number, power):\n",
    "    min_power = factor(power)[0][0]\n",
    "    x, x_operations = binary_method(number, min_power)\n",
    "    y, y_operations = binary_method(x, power//min_power)\n",
    "    return (y, x_operations+y_operations)\n",
    "\n"
   ]
  },
  {
   "cell_type": "markdown",
   "metadata": {},
   "source": [
    "| Число | Степень | Бинарный метод | Метод множителей |\n",
    "| --- | --- | --- | --- |\n",
    "| 12 | 14 | 5 | 5 |\n",
    "| 2 | 15 | 6 | 5 |\n",
    "| 6 | 32 | 5 | 5 |\n",
    "| 5 | 33 | 6 | 7 |\n",
    "| 23 | 42 | 7 | 7 |\n",
    "| 7 | 63 | 10 | 8 |"
   ]
  },
  {
   "cell_type": "markdown",
   "metadata": {},
   "source": [
    "<h4>Вывод</h4>\n",
    "При $n = 2^k-1$ метод множителей эффективнее бинарного метода. \n",
    "При $n = 2^k+1$ бинарный метод эффективнее метода множителей. \n",
    "В остальных случаях колличество операций одинаково."
   ]
  },
  {
   "cell_type": "markdown",
   "metadata": {},
   "source": [
    "<h3>Алгоритм Яо для вычисления приближённых аддитивных цепочек</h3>\n",
    "\n",
    "Реализация:"
   ]
  },
  {
   "cell_type": "code",
   "execution_count": 24,
   "metadata": {},
   "outputs": [
    {
     "name": "stdout",
     "output_type": "stream",
     "text": [
      "[1, 2, 3, 4, 5, 8, 16, 24, 32, 40, 48, 64, 128, 192, 245] 15\n"
     ]
    }
   ],
   "source": [
    "def yao(n, k):\n",
    "    k = 2**k\n",
    "    p = int(log(n,k))\n",
    "    coefficient = []\n",
    "    new_n = n\n",
    "    for i in range(p,-1,-1):\n",
    "        m = int(new_n/k**i)\n",
    "        if new_n - k**i*m >= 0:\n",
    "            coefficient.append(m)\n",
    "            new_n -= k**i*m\n",
    "    c = set(coefficient)\n",
    "    chain = [2**i for i in range(0,int(log(n,2).n()))]\n",
    "    t = 0\n",
    "    for i in c:\n",
    "        s = sum([k**(len(coefficient)-1-j) for j,x in enumerate(coefficient) if x == i])\n",
    "        if s*i:\n",
    "            chain += [r*s for r in range(1, i+1)]\n",
    "            t+=chain[-1]\n",
    "    chain.append(t)\n",
    "    return sorted(list(set(chain)))\n",
    "\n",
    "print(a, len(a))"
   ]
  },
  {
   "cell_type": "markdown",
   "metadata": {},
   "source": [
    "| n | k | Длина | Минимальная длина | Цепочка |\n",
    "| --- | --- | --- | --- | --- |\n",
    "| 45 | 3 | 10 | 8 |[1,2,4,8,9,16,18,27,36,45] |\n",
    "| 45 | 16 | 45 | 8 |[1,2,3,4,5,6,7,8,9,10,11,12,13,14,15,16,17,18,19,20,21,22,23,24,25,26,27,28,29,30,31,32,33,34,35,36,37,38,39,40,41,42,43,44,45] |\n",
    "| 72 | 5 | 12 | 8 |[1,2,3,4,5,6,7,8,16,32,64,72] |\n",
    "| 72 | 6 | 12 | 8 |[1,2,3,4,5,6,7,8,16,32,64,72] |\n",
    "| 144 | 7 | 20 | 9 |[1, 2, 3, 4, 5, 6, 7, 8, 9, 10, 11, 12, 13, 14, 15, 16, 32, 64, 128, 144] |\n",
    "| 245 | 5 | 29 | 11 | [1, 2, 3, 4, 5, 6, 7, 8, 9, 10, 11, 12, 13, 14, 15, 16, 17, 18, 19, 20, 21, 32, 64, 96, 128, 160, 192, 224, 245] |"
   ]
  },
  {
   "cell_type": "markdown",
   "metadata": {},
   "source": [
    "<h4>Вывод</h4>\n",
    "    \n",
    "Как видно из таблицы, при увеличении $k$ длина аддитивной цепочки увеличивается, \n",
    "следовательно увеличивается и расхождение с минимальной длиной аддитивной цепочки.\n"
   ]
  },
  {
   "cell_type": "markdown",
   "metadata": {},
   "source": [
    "<h3>Алгоритм дробления вектора индексов</h3>"
   ]
  },
  {
   "cell_type": "markdown",
   "metadata": {},
   "source": [
    "Реализация:"
   ]
  },
  {
   "cell_type": "code",
   "execution_count": 25,
   "metadata": {},
   "outputs": [],
   "source": [
    "import time\n",
    "def create_chain(indices):\n",
    "    chain = [1]\n",
    "    for index in indices:\n",
    "        chain.append(chain[-1]+chain[index-1])\n",
    "    return chain\n",
    "\n",
    "\n",
    "def update_vector(vector, min_value):\n",
    "    if vector[-1] != min_value:\n",
    "        vector[-1] -= 1\n",
    "    else:\n",
    "        index = 0\n",
    "        for i in range(len(vector)-2, -1, -1):\n",
    "            if vector[i] != min_value:\n",
    "                vector[i] -= 1\n",
    "                index = i\n",
    "                break\n",
    "        for i in range(i+1, len(vector)):\n",
    "            vector[i] = min_value+i\n",
    "            \n",
    "    \n",
    "        \n",
    "def min_chain(n):\n",
    "    lower = math.ceil(math.log2(n))\n",
    "    upper = lower + bin(n)[2::].count('1')\n",
    "    while lower <= upper:\n",
    "        q = lower//2+1\n",
    "        fixed = list(range(1, q+1))\n",
    "\n",
    "        while not all(i == 1 for i in fixed) or len(fixed) == 1:\n",
    "            not_fixed = list(range(q+1, lower+1))\n",
    "            chain = create_chain(fixed)\n",
    "            a_min = chain[q] + lower - q\n",
    "            a_max = chain[q] * 2**(lower-q)\n",
    " \n",
    "            if n in not_fixed or n in fixed: return fixed+not_fixed\n",
    "            \n",
    "            if n > a_max or n < a_min:\n",
    "                update_vector(fixed, 1)\n",
    "                continue\n",
    "            \n",
    "            if a_min == n:\n",
    "                return create_chain(fixed+[1]*len(not_fixed))\n",
    "                break\n",
    "            if a_max == n:\n",
    "                return create_chain(fixed+not_fixed)\n",
    "                break\n",
    "            \n",
    "        \n",
    "            while not all(i == 1 for i in not_fixed):\n",
    "                chain = create_chain(fixed+not_fixed)\n",
    "                if chain[-1] == n:\n",
    "                    return chain\n",
    "                update_vector(not_fixed, 1)\n",
    "            update_vector(fixed, 1)\n",
    "        lower+=1\n",
    "    \n",
    "\n",
    "    "
   ]
  },
  {
   "cell_type": "markdown",
   "metadata": {},
   "source": [
    "| n | Время(sec) | Длина | Длина цепочки Яо | Полученная цепочка |\n",
    "| --- | --- | --- | --- | --- |\n",
    "| 502 | 8.2881 | 13 | 20 |[1,2,4,8,16,24,25,50,100,200,400,500,502] |\n",
    "| 520 | 0.0014 | 11 | 10 |[1,2,4,8,16,32,64,128,256,512,520] |\n",
    "| 525 | 7.0014 | 13 | 14 |[1,2,4,8,16,32,64,128,256,512,520,524,525] |\n",
    "| 620 | 6.2864 | 13 | 14 |[1,2,4,8,16,32,36,72,144,288,576,612,620] |\n",
    "| 633 | 13.4676 | 13 | 15 |[1,2,4,8,9,18,26,52,104,208,416,624,633] |\n"
   ]
  },
  {
   "cell_type": "markdown",
   "metadata": {},
   "source": [
    "<h4>Вывод</h4>\n",
    "\n",
    "Из полученных результатов можно сделать вывод,\n",
    "что алгоритм дробления вектора индексов даёт аддитивную цепочку минимальной длины, \n",
    "но при этом вычисления занимают много времени."
   ]
  },
  {
   "cell_type": "markdown",
   "metadata": {},
   "source": [
    "<h3>Проверка первого следствия теоремы Брауэра</h3>"
   ]
  },
  {
   "cell_type": "code",
   "execution_count": 30,
   "metadata": {
    "scrolled": false
   },
   "outputs": [
    {
     "data": {
      "image/png": "[encoded data removed]",
      "text/plain": [
       "<Figure size 2160x1080 with 1 Axes>"
      ]
     },
     "metadata": {
      "needs_background": "light"
     },
     "output_type": "display_data"
    }
   ],
   "source": [
    "import pylab as plt\n",
    "\n",
    "def LSM(n, k):\n",
    "    mat = matrix([[sum([float((log(i)**2)) for i in n]), sum([float(log(i)) for i in n])], \n",
    "                  [sum([float(log(i)) for i in n]), len(n)]])\n",
    "    vec = vector([sum([float(k[i] * log(n[i])) for i in range(len(n))]), sum(k)])\n",
    "    return mat.solve_right(vec)\n",
    "\n",
    "def l(n):\n",
    "    a = min_chain(n)\n",
    "    return 0 if not a else len(a)\n",
    "    \n",
    "n = [i for i in range(1,201)]\n",
    "k = [l(i) for i in range(1,201)]        \n",
    "plt.figure(figsize = (30, 15))\n",
    "plt.scatter(n, k, color = 'green', marker = 'x', s = 60)\n",
    "result = LSM(n, k)\n",
    "plt.plot(n, [result[0] * log(i) + result[1] for i in n], color = 'red')\n",
    "plt.show()"
   ]
  },
  {
   "cell_type": "markdown",
   "metadata": {},
   "source": [
    "<h4>Вывод</h4>\n",
    "\n",
    "По графику становится понятно, что функция $l(n)$ апроксимируется логарифмической кривой. \n",
    "Это означает что $l(n)$ эквивалентна логарифмической функции на бесконечности: "
   ]
  },
  {
   "cell_type": "markdown",
   "metadata": {},
   "source": [
    "<h3>Проверка гипотезы Шольца-Брауэра</h3>\n",
    "\n",
    "Реализация:"
   ]
  },
  {
   "cell_type": "code",
   "execution_count": 33,
   "metadata": {},
   "outputs": [],
   "source": [
    "for i in range(2, 11):\n",
    "    a = len(min_chain((2**i) -  1))\n",
    "    b = len(min_chain((i))) + i - 1\n",
    "    print(i, a,b)\n",
    "    \n"
   ]
  },
  {
   "cell_type": "markdown",
   "metadata": {},
   "source": [
    "| n | $l*(2^n-1)$ | $l*(n)+n-1$ |\n",
    "| --- | --- | --- |\n",
    "| 2 | 3 | 3 |\n",
    "| 3 | 5 | 5 |\n",
    "| 4 | 6 | 6 |\n",
    "| 5 | 8 | 8 |\n",
    "| 6 | 9 | 9 |\n",
    "| 7 | 11 | 11 |\n",
    "| 8 | 11 | 11 |\n",
    "| 9 | 13 | 13 |\n",
    "| 10 | 14 | 14 |\n"
   ]
  },
  {
   "cell_type": "markdown",
   "metadata": {},
   "source": [
    "<h4>Вывод</h4>\n",
    "\n",
    "По данным из таблицы можно видеть что для $1 < n <= 10$ гипотеза Шольца-Брауэра верна.\n",
    "\n",
    "\n"
   ]
  },
  {
   "cell_type": "markdown",
   "metadata": {},
   "source": [
    "<h2>Вывод</h2>\n",
    "\n",
    "В ходе выполнения практической работы были сформированы представления об аддитивных цепочках,\n",
    "выработано умение составлять и применять алгоритмы для нахождения минимальных аддитивных цепочек для заданного числа, \n",
    "привит навык использования системы компьютерной алгебры для реализации алгоритмов.\n",
    "\n",
    "\n",
    "Были реализованы и исследованы следующие алгоритмы формирования аддитивных цепочек:\n",
    "\n",
    "1) Бинарный метод\n",
    "\n",
    "2) Метод множителей\n",
    "\n",
    "3) Алгоритм Яо\n",
    "\n",
    "4) Алгоритм дробления вектора индексов\n",
    "\n",
    "Так же на практике было доказано первое следствие теоремы Брауэра для $n \\in [1, 200]$,\n",
    "и для $n \\in (1, 10]$ была проверена гипотеза Шольца–Брауэра"
   ]
  }
 ],
 "metadata": {
  "kernelspec": {
   "display_name": "SageMath 9.2",
   "language": "sage",
   "name": "sagemath"
  },
  "language_info": {
   "codemirror_mode": {
    "name": "ipython",
    "version": 3
   },
   "file_extension": ".py",
   "mimetype": "text/x-python",
   "name": "python",
   "nbconvert_exporter": "python",
   "pygments_lexer": "ipython3",
   "version": "3.7.7"
  }
 },
 "nbformat": 4,
 "nbformat_minor": 4
}
