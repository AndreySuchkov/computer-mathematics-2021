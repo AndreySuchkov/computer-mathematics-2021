{
 "cells": [
  {
   "cell_type": "markdown",
   "metadata": {},
   "source": [
    "## Практическая работа №1: Исследование алгоритмов формирования аддитивных цепочек\n",
    "Выполнил студент гр. 9303 Ефимов Максим, вариант 6\n",
    "## Цель работы\n",
    "Формирование представления о аддитивных цепочках, выработать умение составлять и применять алгоритмы для нахождения минимальных аддитивных цепочек для заданного числа, привить навык использования систем компьютерной алгебры для реализации алгоритмов.\n",
    "## Основные теоретические сведения\n",
    "#### Бинарный метод\n",
    "Бинарный метод - это один из алгоритмов быстрого возведения числа $x$ в некоторую степень $n\\in \\mathbb{N}$.\n",
    "\n",
    "Алгоритм заключается в следующем: для начала числа $x$ представляется в двоичном виде, после чего из этого двоичного представления удаляется старший бит (единица). Далее в цикле просматриваются биты от старшего к младшему: если бит 0, то текущее число умножается на себя, если бит 1 - то число умножается на себя и на $x$.\n",
    "\n",
    "Количество операций, требуемых для возведения числа $x$ в степень $n$, для данного метода равно $l(n) = \\lambda(n)+\\nu(n)-1$, где $\\lambda(n)=\\lceil log_2(n) \\rceil$, а $\\nu(n)$ - вес Хэмминга(количеству единиц в двоичной записи числа $n$ ).\n",
    "\n",
    "#### Метод множителей\n",
    "Метод множителей это один из алгоритмов быстрого возведения числа $x$ в некоторую степень $n\\in \\mathbb{N}$.\n",
    "\n",
    "Алгоритм заключается в следующем: для начала число $n$ раскладывается на множители ($n=i*j$), где $i$ - минимальный простой делитель числа $n$). Далее при помощи бинарного метода число &x& возводится в степень $i$, после чего полученный результат $x^i=y$ возводится в степень $j$: $y^j={(x^i)}^j=x^{i\\cdot j}=x^n$. Если $n$ - простое число, то алгоритм сначала возводит число $x$ в степень $n-1$, а потом домножает на $x$, получая тем самым $x^n$.\n",
    "\n",
    "Колличество умножений $l(m*n) = l(m)+l(n)$ \n",
    "\n",
    "#### Аддитивные цепочки\n",
    "\n",
    "Аддитивная цепочка для некоторого числа $n\\in \\mathbb{N}$ - это последовательность натуральных чисел $\\{a_i\\}_{i=0}^m$, где $a_0 = 1$, $a_m = n$, в которой каждый последующий элемент является суммой каких-то двух предшествующих элементов.\n",
    "\n",
    "$a_i = a_j + a_k, \\forall i:1..m, k \\leq j < i$\n",
    "$l(n) = m$\n",
    "\n",
    "Типы шагов в аддитивной цепочке:\n",
    "\n",
    "Шаг $i$ называют удвоением, если $i - 1 = k = j$;\n",
    "\n",
    "Шаг $i$ называют звездным, если $j = i - 1$, $k \\in \\{0, \\dots, i-1\\}$;\n",
    "\n",
    "Шаг $i$ называют малым, если $\\lambda(a_i)=\\lambda(a_{i-1})$\n",
    "\n",
    "Звездная цепочка - это аддитивная цепочка, в которая состоит только из звездных шагов.\n",
    "\n",
    "### Алгоритм Яо\n",
    " \n",
    " Алгориитм Яо - алгоритм поиска аддитивной цепочки для n. Представим число n в виде: $ n = \\sum_{i = 0}^{j}a_j2^{ik}, a_j \\neq 0, k \\geq 2 $ . Введём функцию $ d(z) $  - сумма чисел $ 2^{ik} $ для $  \\forall i : a_i = z $ . В аддитивную цепочку последовательно добавляются следующие элементы:\n",
    " \n",
    " 1. Степени двойки до $ \\lambda (n) $ , т.е. в цепочки находятся элементы $ \\{1,2,4,8,..., 2^{\\lambda(n)} \\} $.\n",
    " \n",
    " 2. Значения функции $ d(z) $, $ z \\in \\{1, 2, 3, ..., 2^k-1\\} $.\n",
    " \n",
    " 3. Значения $ zd(z) $ , $ \\forall z $.\n",
    " \n",
    "Таким образом, $ n = \\sum_{z = 1}^{2^k-1}zd(z) $.\n",
    "\n",
    "\n",
    "#### Алгоритм дробления вектора индексов\n",
    "Алгоритм дробления вектора индексов позволяет найти минимальную звездную цепочку для некоторого числа $n \\in \\mathbb{N}$.\n",
    "\n",
    "Рассмотрим вектор индексов $\\{r_i\\}_{i=1}^q \\cup {\\{{\\rho}_j \\}}_{j=q+1}^m$, где ${\\rho}_j= \\{x: 1 \\leq x \\leq j \\}$, ${\\{r_i\\}}_{i=1}^q$ - фиксированная часть, ${\\{{\\rho}_j\\}}_{j=q+1}^m$ - изменяющаяся часть.\n",
    "\n",
    "Наибольшее значение $a_m$ достигается при векторе индексов ${\\{r_i\\}}_{i=1}^{q} \\cup \\{q+1,q+2,\\dots,m\\}$.\n",
    "\n",
    "Наименьшее значение $a_m$ достигается при векторе индексов ${\\{r_i\\}}_{i=1}^{q}\\cup\\{1,1,\\dots,1\\}$.\n",
    "\n",
    "$a_{max} = a_{q+1} \\cdot {2}^{m-q}$\n",
    "\n",
    "$a_{min} = a_{q+1}+m-q$\n",
    "\n",
    "Алгоритм:\n",
    "\n",
    "1) Во внешнем цикле рассматриваем аддитивные цепочки длины $m$ от значения $\\underline{l}(n)=\\lceil log_2(n) \\rceil$ до $\\bar{l}(n)=\\lambda(n)+\\nu(n)-1$, на каждой итерации выбираем $q$ ($1 \\leq q \\leq m-1$), пусть $q = \\frac{m}{2}$\n",
    "\n",
    "2) Далее перебираем все возможные фиксированные части вектора индексов $\\{r_i\\}_{i=1}^q$ ($q!$ вариантов), для каждой строим соответствующую ей звездную цепочку, находим $a_{max}$ и ${a}_{min}$\n",
    "\n",
    "&emsp; а) Если $a_m = n$ - конец\n",
    "\n",
    "&emsp; б) Если $n \\notin [a_{min},a_{max}]$, то переходим к следующему набору $\\{r_i\\}_{i=1}^q$\n",
    "\n",
    "&emsp; в) Если $n\\in [a_{min},a_{max}]$, то перебираем все возможные изменяющиеся части вектора индексов ${\\left \\{{\\rho}_j \\right \\}}_{ j=q+1}^m$ и находим $a_m$. Если $a_m=n$, то цепочка найдена. Если все возможные изменяющиеся части вектора индексов ${\\{{\\rho}_j\\}}_{j=q+1}^m$ исчерпаны, то переходим к следующему набору $\\{r_i\\}_{i=1}^q$.\n",
    "\n",
    "3) Если все наборы вектора индексов длины $m$ исчерпаны, то увеличиваем $m$ на 1.\n",
    "\n",
    "#### Теорема Брауэра\n",
    "Пусть $k < log_2(log_2(n))$ верно: $l(n) < (1+k^{-1}) * \\lceil log_2(n) \\rceil + 2^{k-1} - k + 2$\n",
    "\n",
    "Тогда $k=\\lambda(\\lambda(n))-2\\lambda(\\lambda(\\lambda(n)))$\n",
    "\n",
    "Следствие 1: $\\lim \\limits_{n \\to \\infty} \\frac{l(n)}{\\lambda(n)} = 1$\n",
    "\n",
    "Следствие 2: $\\lambda(n)(1+\\frac{1}{\\lambda(\\lambda(n))}+\\frac{o(\\lambda(\\lambda(\\lambda(n))))}{\\lambda(\\lambda(n))^2})$\n",
    "\n",
    "#### Гипотеза Шольца-Брауэра\n",
    "Пусть $l'(n)$ - кратчайшая длина аддитивной цепочки.\n",
    "\n",
    "Тогда для любого $n \\in \\mathbb{N}$ верно: $l'(2^n-1)\\leq l'(n)+n-1$\n",
    "\n",
    "## Постановка задачи\n",
    "Реализовать точные и приближённые алгоритмы нахождения минимальных аддитивных цепочек с использованием системы компьютерной алгебры SageMath, провести анализ алгоритмов. Полученные результаты содержательно проинтерпретировать.\n",
    "## Порядок выполнения работы\n",
    "1. Применить бинарный метод и метод множителей для $x^n$, где $n\\geq30$, для 2-3 значений n (значения n выбирается студентом самостоятельно). Сравнить количество операций для каждого метода, сделать выводы.\n",
    "2. Реализовать алгоритм Брауэра (для нечётных вариантов) или алгоритм Яо (для чётных вариантов) для вычисления приближённых аддитивных цепочек для различных чисел при варьировании параметра k, сопоставить длины полученных аддитивных цепочек с минимальной аддитивной цепочкой для заданного числа. Сделать выводы.\n",
    "3. Реализовать алгоритм дробления вектора индексов для нахождения минимальной звёздной цепочки для заданного числа. Протестировать алгоритм при $n>500$. Указать, сколько времени потребовалось на поиск цепочки и какая цепочка получилась. Сравнить с предыдущими методами, сделать выводы.\n",
    "4. Проверить следствие 1 теоремы Брауэра для $n=1..200$ путём построения функции $l(n)$ и аппроксимирующей кривой, полученной с помощью метода наименьших квадратов. Сопоставить функции на одном графике, сделать выводы.\n",
    "5. Проверить гипотезу Шольца–Брауэра для $1<n\\leq10$ на алгоритме дробления вектора индексов. Сделать выводы.\n",
    "6. *Дополнительное необязательное задание*: найти и/или предложить модификации алгоритмов и привести описание модификаций. Реализовать модифицированные алгоритмы и сравнить их мощность."
   ]
  },
  {
   "cell_type": "markdown",
   "metadata": {},
   "source": [
    "## Выполнение работы \n",
    "1.**Бинарный метод,метод множителей**\n",
    "\n",
    "Приведем пример реализации бинарного метода.\n"
   ]
  },
  {
   "cell_type": "code",
   "execution_count": 32,
   "metadata": {},
   "outputs": [],
   "source": [
    "import math\n",
    "def binary_method(x,n):\n",
    "    vector = []\n",
    "    check = int(math.log(n, 2))\n",
    "    count_of_multi = 0\n",
    "    result = x\n",
    "    binary_view = []\n",
    "    while n:\n",
    "        binary_view.append(n % 2)\n",
    "        n //= 2\n",
    "    binary_view.pop(-1)\n",
    "    binary_view.reverse()\n",
    "    check += binary_view.count(1)\n",
    "    for item in binary_view:\n",
    "        result *= result\n",
    "        vector.append(result)\n",
    "        count_of_multi += 1\n",
    "        if item:\n",
    "            result *= x\n",
    "            vector.append(result)\n",
    "            count_of_multi += 1\n",
    "            \n",
    "    print(\"Бинарный метод:Результат:\", result,\n",
    "          \"\\nКолличество умножений:\", count_of_multi,\n",
    "          \"Проверка: \", check)\n",
    "    return count_of_multi, result, vector"
   ]
  },
  {
   "cell_type": "code",
   "execution_count": 23,
   "metadata": {},
   "outputs": [],
   "source": [
    "\n",
    "def multiplier_method(x, n):\n",
    "    prime_factors = 2\n",
    "    while n % prime_factors!= 0:\n",
    "        prime_factors += 1\n",
    "    print('Первое умножение')\n",
    "    end = binary_method(x, prime_factors)\n",
    "    count = end[0]\n",
    "    print('Второе умножение')\n",
    "    end = binary_method(end[1], n/prime_factors)\n",
    "    count += end[0]\n",
    "\n",
    "    print(\"Метод множителей:\", end[1],\n",
    "          \"\\nКолличество умножений:\",  count )\n",
    "    #8589934592"
   ]
  },
  {
   "cell_type": "code",
   "execution_count": 35,
   "metadata": {},
   "outputs": [
    {
     "name": "stdout",
     "output_type": "stream",
     "text": [
      "Первое умножение\n",
      "Бинарный метод:Результат: 8 \n",
      "Колличество умножений: 2 Проверка:  2\n",
      "Второе умножение\n",
      "Бинарный метод:Результат: 32768 \n",
      "Колличество умножений: 3 Проверка:  3\n",
      "Метод множителей: 32768 \n",
      "Колличество умножений: 5\n"
     ]
    }
   ],
   "source": [
    "multiplier_method(2,15)"
   ]
  },
  {
   "cell_type": "code",
   "execution_count": 37,
   "metadata": {},
   "outputs": [
    {
     "name": "stdout",
     "output_type": "stream",
     "text": [
      "Бинарный метод:Результат: 32768 \n",
      "Колличество умножений: 6 Проверка:  6\n"
     ]
    }
   ],
   "source": [
    "binary_method(2,15);"
   ]
  },
  {
   "cell_type": "code",
   "execution_count": 39,
   "metadata": {},
   "outputs": [
    {
     "name": "stdout",
     "output_type": "stream",
     "text": [
      "Первое умножение\n",
      "Бинарный метод:Результат: 27 \n",
      "Колличество умножений: 2 Проверка:  2\n",
      "Второе умножение\n",
      "Бинарный метод:Результат: 5559060566555523 \n",
      "Колличество умножений: 5 Проверка:  5\n",
      "Метод множителей: 5559060566555523 \n",
      "Колличество умножений: 7\n"
     ]
    }
   ],
   "source": [
    "multiplier_method(3,33)"
   ]
  },
  {
   "cell_type": "code",
   "execution_count": 38,
   "metadata": {},
   "outputs": [
    {
     "name": "stdout",
     "output_type": "stream",
     "text": [
      "Бинарный метод:Результат: 5559060566555523 \n",
      "Колличество умножений: 6 Проверка:  6\n"
     ]
    }
   ],
   "source": [
    "binary_method(3,33);"
   ]
  },
  {
   "cell_type": "code",
   "execution_count": 53,
   "metadata": {
    "scrolled": true
   },
   "outputs": [
    {
     "name": "stdout",
     "output_type": "stream",
     "text": [
      "Первое умножение\n",
      "Бинарный метод:Результат: 3125 \n",
      "Колличество умножений: 3 Проверка:  3\n",
      "Второе умножение\n",
      "Бинарный метод:Результат: 2910383045673370361328125 \n",
      "Колличество умножений: 4 Проверка:  4\n",
      "Метод множителей: 2910383045673370361328125 \n",
      "Колличество умножений: 7\n"
     ]
    }
   ],
   "source": [
    "multiplier_method(5,35)\n"
   ]
  },
  {
   "cell_type": "code",
   "execution_count": 99,
   "metadata": {},
   "outputs": [
    {
     "name": "stdout",
     "output_type": "stream",
     "text": [
      "Бинарный метод:Результат: 2910383045673370361328125 \n",
      "Колличество умножений: 7 Проверка:  7\n"
     ]
    }
   ],
   "source": [
    "binary_method(5,35);"
   ]
  },
  {
   "cell_type": "markdown",
   "metadata": {},
   "source": [
    "Уместно заметить, метод множителей не являясь самостоятельным, эксплуатирурет бинарный метод. Фактически, его функция сводится к разбиению на множители, следовательно успешность применения этого метода зависит от того,на сколько \"удачно\" разложится данное числа. Запишем результаты в таблицу.\n",
    "\n",
    "| n |  Метод множителей  | Бинарный метод |\n",
    "|:-:|:-:|:-:|\n",
    "| 15 | 5 | 6 |\n",
    "| 33 | 6  | 7 |\n",
    "| 35 | 7 | 7 |\n"
   ]
  },
  {
   "cell_type": "markdown",
   "metadata": {},
   "source": [
    "2. **Алгоритм ЯO**\n",
    "\n",
    "Приведем реализция алгоритма Яо для нахождения аддитивной цепочки"
   ]
  },
  {
   "cell_type": "code",
   "execution_count": 162,
   "metadata": {},
   "outputs": [],
   "source": [
    "def delete_repeat(l):\n",
    "    n = []\n",
    "    for i in l:\n",
    "        if i not in n:\n",
    "            n.append(i)\n",
    "    return n\n",
    "\n",
    "def binary_method2(x, n):\n",
    "    vector = []\n",
    "    if n == 1:\n",
    "        vector.append(x)\n",
    "        return vector\n",
    "    check = int(math.log(n, 2))\n",
    "    count_of_multi = 0\n",
    "    result = x\n",
    "    binary_view = []\n",
    "    while n:\n",
    "        binary_view.append(n % 2)\n",
    "        n //= 2\n",
    "    binary_view.pop(-1)\n",
    "    binary_view.reverse()\n",
    "    check += binary_view.count(1)\n",
    "    for item in binary_view:\n",
    "        result += result\n",
    "        vector.append(result)\n",
    "        count_of_multi += 1\n",
    "        if item:\n",
    "            result += x\n",
    "            vector.append(result)\n",
    "            count_of_multi += 1\n",
    "    return vector\n",
    "\n",
    "\n",
    "def YO(n, k):\n",
    "    k_ary_view = []\n",
    "    while n:\n",
    "        k_ary_view.append(n % 2**k)\n",
    "        n //= 2**k\n",
    "\n",
    "    auxiliary_change = []\n",
    "    for i in range(0, (len(k_ary_view)-1)*k+1 ):\n",
    "        auxiliary_change.append(2**i)\n",
    "    unique_numbers = []\n",
    "\n",
    "    for number in k_ary_view:\n",
    "        if number in unique_numbers:\n",
    "            continue\n",
    "        else:\n",
    "            unique_numbers.append(number)\n",
    "    for i in unique_numbers:\n",
    "        if i == 0:\n",
    "            unique_numbers.remove(i)\n",
    "    unique_numbers.reverse()\n",
    "\n",
    "    z = []\n",
    "    d = 0\n",
    "    for i in unique_numbers:\n",
    "        current_degree = 0\n",
    "        d = 0\n",
    "        for item in k_ary_view:\n",
    "            if i == item:\n",
    "                d += auxiliary_change[k*current_degree]\n",
    "            current_degree += 1\n",
    "        auxiliary_change.append(d)\n",
    "        p = binary_method2(d, i)\n",
    "        z.append(p[-1])\n",
    "        auxiliary_change += p\n",
    "\n",
    "\n",
    "    auxiliary_change.append(sum(z))\n",
    "    auxiliary_change = delete_repeat(auxiliary_change)\n",
    "    auxiliary_change.sort()\n",
    "    print(\"Аддитивная цепочка:\",auxiliary_change)\n",
    "    print(\"Длина:\",len(auxiliary_change))\n",
    "    \n",
    "    "
   ]
  },
  {
   "cell_type": "code",
   "execution_count": 163,
   "metadata": {},
   "outputs": [
    {
     "name": "stdout",
     "output_type": "stream",
     "text": [
      "Аддитивная цепочка: [1, 2, 4, 8, 16, 24, 32, 48, 56, 64, 65, 121]\n",
      "Длина: 12\n"
     ]
    }
   ],
   "source": [
    "YO(121,3)"
   ]
  },
  {
   "cell_type": "code",
   "execution_count": 164,
   "metadata": {},
   "outputs": [
    {
     "name": "stdout",
     "output_type": "stream",
     "text": [
      "Аддитивная цепочка: [1, 2, 4, 8, 16, 32, 48, 64, 65, 121]\n",
      "Длина: 10\n"
     ]
    }
   ],
   "source": [
    "YO(121,2)"
   ]
  },
  {
   "cell_type": "code",
   "execution_count": 165,
   "metadata": {},
   "outputs": [
    {
     "name": "stdout",
     "output_type": "stream",
     "text": [
      "Аддитивная цепочка: [1, 2, 4, 8, 16, 32, 64, 68, 136, 204, 236]\n",
      "Длина: 11\n"
     ]
    }
   ],
   "source": [
    "YO(236,2)"
   ]
  },
  {
   "cell_type": "markdown",
   "metadata": {},
   "source": [
    "Опробуем метод с разными значениями k и сравним с минимальной длинной.\n",
    "\n",
    "| n | k | Цепочка | Длина цепочки | Минимальная длина |\n",
    "|:-:|:-:|:-------:|:-------------:|:-----------------:|\n",
    "| 51 | 2 | [1, 2, 4, 8, 16, 17, 34, 51] | 8 | 8 |\n",
    "| 51 | 3 | [1, 2, 3, 4, 8, 16, 24, 48, 51] | 9 | 8 |\n",
    "| 121 | 3 | [1, 2, 4, 8, 16, 24, 32, 48, 56, 64, 65, 121] | 12 | 8 |\n",
    "| 121 | 4 | [1, 2, 4, 8, 9, 16, 32, 48, 96, 112, 121] | 11  | 10 |\n",
    "| 157 | 3 |  [1, 2, 4, 5, 8, 16, 24, 32, 64, 128, 157] | 12 | 11 |\n",
    "| 157| 4 | , 2, 3, 4, 6, 8, 12, 13, 16, 32, 64, 128, 144, 157] | 14 | 11 |\n",
    "\n",
    "Проанализировав полученные результаты,может утверждать что алгоритм Яо хоть и не строит идельную аддитивную цепочку, но при удачном подборе k, выдает приемлемые результаты."
   ]
  },
  {
   "cell_type": "markdown",
   "metadata": {},
   "source": [
    "2. **Алгоритм дробления вектора индексов**\n",
    "\n",
    "Приведем пример реализации алгорит дробления индекса векторов."
   ]
  },
  {
   "cell_type": "code",
   "execution_count": 106,
   "metadata": {},
   "outputs": [
    {
     "name": "stdout",
     "output_type": "stream",
     "text": [
      "Длина:  13 \n",
      "Цепочка: [1, 2, 4, 8, 16, 32, 64, 96, 100, 200, 400, 500, 501] \n",
      "Время: 98.00584506988525\n"
     ]
    }
   ],
   "source": [
    "import time\n",
    "import math\n",
    "\n",
    "\n",
    "def make_star_chain(vector_of_index):  # из индексов цепочка\n",
    "    chain = [1]\n",
    "    for item in vector_of_index:\n",
    "        chain.append(chain[len(chain) - 1] + chain[item - 1])\n",
    "    return chain\n",
    "\n",
    "\n",
    "def next_step(vector_of_index, q=0):  # уменьшаем ВИ\n",
    "    for i, el in reversed(list(enumerate(vector_of_index))):\n",
    "        if el != 1:\n",
    "            el = el - 1\n",
    "            vector_of_index[i] = el\n",
    "\n",
    "            for j in range(i + 1, len(vector_of_index)):\n",
    "                vector_of_index[j] = j + 1 + q\n",
    "            return vector_of_index\n",
    "    return vector_of_index\n",
    "\n",
    "\n",
    "\n",
    "def index_alg(n):\n",
    "    start_time = time.time()\n",
    "    res = []\n",
    "\n",
    "    min_length = n.bit_length()\n",
    "    max_length = n.bit_length()+bin(n).count('1') - 1\n",
    "\n",
    "    for m in range(min_length, max_length+1):\n",
    "        q = 0\n",
    "        if m > 3:\n",
    "            q = m // 2\n",
    "        else:\n",
    "            q = m\n",
    "\n",
    "        first_part_of_index = [i for i in range(1, q + 1)]   # первая частб часть\n",
    "\n",
    "        while (first_part_of_index.count(1) != len(first_part_of_index) ):  # уменяем первую часть\n",
    "            length = m - q\n",
    "\n",
    "            second_part_of_init = [1 for j in range(1, length + 1)]\n",
    "            second_part_of_max = [j + q for j in range(1, length + 1)]\n",
    "\n",
    "            full_min_vector = first_part_of_index + second_part_of_init\n",
    "            full_max_vector = first_part_of_index + second_part_of_max\n",
    "\n",
    "            min_chain = make_star_chain(full_min_vector)\n",
    "            max_chain = make_star_chain(full_max_vector)\n",
    "\n",
    "\n",
    "            a_max = max_chain[len(max_chain)- 1]\n",
    "            a_min = min_chain[len(min_chain)- 1]\n",
    "\n",
    "            if a_max == n:\n",
    "                return (max_chain, time.time() - start_time)\n",
    "\n",
    "            if (n > a_min) and (n < a_max):\n",
    "                while (second_part_of_max.count(1) != len(second_part_of_max)): # вторая часть\n",
    "\n",
    "                    second_part_of_max = next_step(second_part_of_max, q)#уменьшаяем вторую часть\n",
    "                    chain = make_star_chain(first_part_of_index + second_part_of_max)\n",
    "\n",
    "                    if (chain[len(chain) - 1] == n):\n",
    "                        return (chain, time.time() - start_time)\n",
    "\n",
    "            idx_vec = next_step(first_part_of_index) #уменьшаем фиксированную часть\n",
    "        res = first_part_of_index\n",
    "\n",
    "    return (make_star_chain(res), time.time() - start_time)\n",
    "\n",
    "\n",
    "\n",
    "s = index_alg(501)\n",
    "print('Длина: ', len (s[0]),'\\nЦепочка:',s[0],'\\nВремя:',s[1])\n",
    "\n",
    "\n",
    "\n"
   ]
  },
  {
   "cell_type": "markdown",
   "metadata": {},
   "source": [
    "Занесем в таблицу результаты тестирования алгоритма дробления векторов.\n",
    "\n",
    "| n | t(c) | Цепочка | Длина цепочки | Минимальная длина |\n",
    "|:-:|:----:|:-------:|:-------------:|:-----------------:|\n",
    "| 501 | 98 | [1, 2, 4, 8, 16, 32, 64, 96, 100, 200, 400, 500, 501] | 13 | 13 |  \n",
    "| 572 | 88 |  [1, 2, 4, 8, 16, 32, 64, 128, 144, 148, 296, 444, 572] | 13 | 12 |\n",
    "| 612 | 83 | [1, 2, 4, 8, 16, 32, 64, 68, 136, 272, 544, 612] | 12 | 11 |\n",
    "\n",
    "Для корректного сравнения условимся, что мы можем изменить алгоритм бинарного умножения и метод множителей,чтобы они строили аддиктивные цепочки. Хотя методы множителей,бинарного умножения и алгоритм Яо и показывают в разы лучшую скорость, но алгоритм дробления вектора индексов выдает минимальную аддиктивную цепочку,из этого следует, что у них разная сфера применений."
   ]
  },
  {
   "cell_type": "markdown",
   "metadata": {},
   "source": [
    "4. **Проверяем следствие 1 теоремы брауэра** \n",
    "Приведем реализацию проверки данного следствия методом наименьних квадратов."
   ]
  },
  {
   "cell_type": "code",
   "execution_count": 153,
   "metadata": {
    "scrolled": true
   },
   "outputs": [
    {
     "data": {
      "image/png": "[encoded data removed]",
      "text/plain": [
       "<Figure size 432x288 with 1 Axes>"
      ]
     },
     "metadata": {
      "needs_background": "light"
     },
     "output_type": "display_data"
    }
   ],
   "source": [
    "\n",
    "ln = []\n",
    "lnx = []\n",
    "lnx2 = []\n",
    "lnxy = []\n",
    "x = []\n",
    "for i in range(1, 201):\n",
    "    x.append(i)\n",
    "    ln.append(len(index_alg(i)[0])) \n",
    "    lnx.append(math.log2(i))\n",
    "    lnx2.append(math.log2(i) ** 2) \n",
    "    lnxy.append(ln[i - 1] * lnx[i - 1])\n",
    "\n",
    "a = (201 * sum(lnxy) - sum(ln) * sum(lnx)) / (201 * sum(lnx2) - sum(lnx) ** 2)\n",
    "b = (sum(ln) - a * sum(lnx)) / 200\n",
    "y = [b + a * lnx[i - 1] for i in range(1, 201)]\n",
    "plt.scatter(x, ln, color='black', marker='*')\n",
    "plt.plot(x, y)\n",
    "plt.show()"
   ]
  },
  {
   "cell_type": "markdown",
   "metadata": {},
   "source": [
    "Методом наименьших квадратов мы смогли апроксимировать наши значения логорифмической функций.Это потверждает следствие из теоремы Брауэра.\n",
    "\n",
    "4.**Проверка гипотезы Шольца–Брауэр**   $l'(2^n-1)\\leq l'(n)+n-1$\n",
    "\n",
    "Была написана функция для проверки данного утверждения."
   ]
  },
  {
   "cell_type": "code",
   "execution_count": 159,
   "metadata": {},
   "outputs": [
    {
     "name": "stdout",
     "output_type": "stream",
     "text": [
      "True\n"
     ]
    }
   ],
   "source": [
    "def prov(n):\n",
    "    sum = 0\n",
    "    i = n\n",
    "    l1 = len(index_alg(2 ** i - 1)[0])\n",
    "    l2 = len(index_alg(i)[0]) + i - 1\n",
    "    if(l1 <= l2):\n",
    "        print(\"True\")\n",
    "prov(7)"
   ]
  },
  {
   "cell_type": "markdown",
   "metadata": {},
   "source": [
    "Из-за экспаненциального  роста роста числа, практически проверить данное утверждения, для большого числа данных не представляется возмонжным. \n",
    "Теоретически было доказано, что для $n <= 64$ неравестно является равенством, и является верным для  $n <5784689$\n",
    "Данную теорему можно использовать для улучшения алгоритмов, сразу находям минимальную длину цепочки."
   ]
  },
  {
   "cell_type": "markdown",
   "metadata": {},
   "source": [
    "## Вывод\n",
    "\n",
    "В ходе выполнения практической работы были изучены и реализованы алгоритмы возведения числа в степень бинарный метод и метод множителей.\n",
    "Были узучены алгоритмы построения аддитивной цепочки - алгоритм Яо и алгоритм дробления вектора индексов. Алгоритм Яо дает быстрые, но не идеальный вариант, а метод дробления вектора индексов переберает все варианты пока не найдет лучший.\n",
    "Также были проверены следствие теоремы Брауэра и гипотеза Штольца-Брауэра."
   ]
  }
 ],
 "metadata": {
  "kernelspec": {
   "display_name": "Python 3",
   "language": "python",
   "name": "python3"
  },
  "language_info": {
   "codemirror_mode": {
    "name": "ipython",
    "version": 3
   },
   "file_extension": ".py",
   "mimetype": "text/x-python",
   "name": "python",
   "nbconvert_exporter": "python",
   "pygments_lexer": "ipython3",
   "version": "3.9.2"
  }
 },
 "nbformat": 4,
 "nbformat_minor": 4
}
