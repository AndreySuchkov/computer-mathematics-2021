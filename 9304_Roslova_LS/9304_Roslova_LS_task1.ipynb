{
 "cells": [
  {
   "cell_type": "markdown",
   "metadata": {},
   "source": [
    "# Практическая работа №1: Исследование алгоритмов формирования аддитивных цепочек\n",
    "**Выполнила студентка гр.9304 Рослова Лариса, Вариант 38**\n",
    "\n",
    "---"
   ]
  },
  {
   "cell_type": "markdown",
   "metadata": {},
   "source": [
    "## Цель работы \n",
    "Формирование представления о аддитивных цепочках, выработать умение составлять и применять алгоритмы для нахождения минимальных аддитивных цепочек для заданного числа, привить навык использования систем компьютерной алгебры для реализации алгоритмов.\n",
    "\n",
    "---"
   ]
  },
  {
   "cell_type": "markdown",
   "metadata": {},
   "source": [
    "## Основные теоретические положения"
   ]
  },
  {
   "cell_type": "markdown",
   "metadata": {},
   "source": [
    "**`Аддитивная цепочка`** - последовательность натуральных чисел, начинающаяся с единицы, в которой каждый последующий элемент является суммой каких-то двух предшествующих элементов (в том числе, возможно использование одного и того же предшествующего элемента — удвоение).\n",
    "\n",
    "\n",
    "**`Звёздная цепочка`** - это аддитивная цепочка, обладающая свойством: $ \\forall i \\in \\{1, 2, \\dots, m\\}: a_{i} = a_{i - 1} + a_{k} $, где $ k \\in \\{0, 1, \\dots, i - 1\\} $. $ l^{*} \\left( n \\right) = m $ — длина минимальной звёздной цепочки ($ l^{*} \\left( n \\right) \\geq l \\left( n \\right) $).\n"
   ]
  },
  {
   "cell_type": "markdown",
   "metadata": {},
   "source": [
    "### Бинарный метод\n",
    "\n",
    "Бинарный метод возведения в степень - метод, который позвоялет возвести любое число в степень за $ O(log n) $ умножений (вместо $n$ умножений при обычном перемножении числа на само себя.\n",
    "Для любого числа a и чётного числа $n$ выполнимо очевидное тождество (следующее из ассоциативности операции умножения): $a^n = (a^{n/2})^2 = a^{n/2} \\cdot a^{n/2} $\n",
    "Если степень $n$ нечётна, то нужно перейти к степени $n-1$, которая будет уже чётной, и следом домножить число на себя: $a^n = a^{n-1} \\cdot a$.\n",
    "\n",
    "Число операций бинарного метода равно $ \\lambda \\left( n \\right) + \\nu \\left( n \\right) - 1 $, где $ \\lambda \\left( n \\right) = \\left\\lfloor \\mathrm{lb}\\,n \\right\\rfloor $, $ \\nu \\left( n \\right) $ — вес Хэмминга — количество ненулевых символов в двоичной записи числа."
   ]
  },
  {
   "cell_type": "markdown",
   "metadata": {},
   "source": [
    "### Метод множителей\n",
    "\n",
    "При вычислении $x^i$ за $n$ операций, а $y^j$ за $m$ операций, где $(x^i)^j = x^{i*j}$ мы сможем вычислить за $n+m$ операций. \n",
    "$i$ - это наименьший простой множитель степени $k$, в которую необходимо возвести число. Если же $k$ изначально простая степень, то считаем $x^{k-1}$ и затем домножаем на $x$."
   ]
  },
  {
   "cell_type": "markdown",
   "metadata": {},
   "source": [
    "### Алгоритм Яо для вычисления приближённых аддитивных цепочек\n",
    "\n",
    "Пусть имеются натуральное число $ n $ и параметр $ k \\geq 2 $. Пусть $ n = \\displaystyle\\sum\\limits_{i = 0}^{j} 2^{ik} a_{i} $. Введём функцию $ d \\left( z \\right) = \\displaystyle\\sum\\limits_{i: a_{i} = z} 2^{ik} $.\n",
    "\n",
    "Цепочка Яо для натурального числа $ n $ и некоторого параметра $ k $ начинается со степеней двоек: $ Y_{k} \\left( n \\right) = \\left\\{ 1, 2, 4, \\dots, 2^{\\lambda \\left( n \\right)} \\right\\} $, после чего для всех $ z \\in \\left\\{ 1, 2, \\dots, 2^{k} - 1 \\right\\} $ вычисляются $ d \\left( z \\right) \\ne 0 $ и $ z d\\left( z \\right) $. Тогда $ n = \\displaystyle\\sum\\limits_{z = 1}^{2^{k} - 1} z d \\left( z \\right) $.\n",
    "\n",
    "Вычислительная сложность алгоритма Яо:$$lb(n) + \\frac {(1+o(1))*lb(n)}{lb(lb(n))}$$"
   ]
  },
  {
   "cell_type": "markdown",
   "metadata": {},
   "source": [
    "### Алгоритм Брауэра\n",
    "\n",
    "`Теорема Брауэра`\n",
    "При некотором $ k < \\mathrm{lb}\\,\\mathrm{lb}\\,n $ справедливо следующее неравенство: $ l \\left( n \\right) < \\left( 1 + k^{-1} \\right) \\left\\lceil \\mathrm{lb}\\,n \\right\\rceil + 2^{k - 1} - k + 2 $.\n",
    "\n",
    "Положим $ k := \\lambda \\left( \\lambda \\left( n \\right) \\right) - 2 \\lambda \\left( \\lambda \\left( \\lambda \\left( n \\right) \\right) \\right) $, тогда получим следующие следствия из теоремы Брауэра:\n",
    "\n",
    "Следствие 1: $\\lim \\limits_{n \\to \\infty} \\frac{l(n)}{\\lambda(n)}=1$\n",
    "\n",
    "Следствие 2: Одна из наилучших верхних оценкок для длины аддитивной цепочки имеет следующий вид:\n",
    "$\\lambda(n)(1+\\frac{1}{\\lambda(\\lambda(n))}+\\frac{o(\\lambda(\\lambda(\\lambda(n))))}{\\lambda(\\lambda(n))^2})$\n",
    "\n",
    "`Алгоритм Брауэра`\n",
    "\n",
    "Брауэрскую цепочку для натурального числа $ n $ и некоторого параметра $ k \\geq 2 $ можно задать рекуррентной формулой:\n",
    "\n",
    "где $ q = \\left\\lfloor \\dfrac{n}{2^{k}} \\right\\rfloor $.\n",
    "\n",
    "Пусть $ n = \\displaystyle\\sum\\limits_{i = 0}^{j} 2^{ik} a_{i} $, $ a_{j} \\ne 0 $. Тогда $ B_{k} \\left( n \\right) = 1 $, $ 2 $, $ \\dots $, $ 2^{k} - 1 $, $ 2 a_{j} $, $ 4a_{j} $, $ \\dots $, $ 2^{k} a_{j} $, $ 2^{k} a_{j} + a_{j - 1} $, $ 2^{k + 1} a_{j} + 2 a_{j - 1} $, $ \\dots $, $ 2^{2k} a_{j} + 2^{k} a_{j - 1} $, $ 2^{2k} a_{j} + 2^{k} a_{j - 1} + a_{j - 2} $, $ \\dots $, $ n $.\n",
    "\n",
    "Длина такой цепочки будет равна $ l_{B} \\left( n \\right) = j \\left( k + 1 \\right) + 2^{k} - 2 $, если $ jk \\leq \\mathrm{lb}\\,n < \\left( j + 1 \\right) k $.\n",
    "\n",
    "Алгоритм представляет из себя поиск значений $ q_{s} $ и $ r_{i} $ в представлении числа $ n $: $ n = 2^{k} \\left( 2^{k} \\left( \\dots \\left( 2 q_{s} + r_{s} \\right) \\dots \\right) + r_{2} \\right) + r_{1} $. Тогда $ B_{k} \\left( n \\right) = 1 $, $ 2 $, $ \\dots $, $ 2^{k} - 1 $, $ 2 q_{s} $, $ 4q_{s} $, $ \\dots $, $ 2^{k} q_{s} $, $ 2^{k} q_{s} + r_{s} $, $ \\dots $, $ n $."
   ]
  },
  {
   "cell_type": "markdown",
   "metadata": {},
   "source": [
    "### Алгоритм дробления вектора индексов\n",
    "\n",
    "Звездная цепочка - это аддитивная цепочка, в которой каждый элемент подчиняется определенному правилу: $a_i=a_{i-1}+a_j$, где $1 \\leq j \\leq i$\n",
    "\n",
    "Для каждой звездной цепочки существует вектор индексов - последовательность натуральных чисел, где каждый ее элемент является индексом $j$ в $a_j$ из формулы $a_i=a_{i-1}+a_j$.\n",
    "\n",
    "Алгоритм дробления вектора индексов заключается в поиске звездной цепочки минимальной длины для заданного числа $n \\in N$.\n",
    "\n",
    "Вначале рассмотрим аддитивные цепочки длины $m$, где $\\underline{l}(n) \\leq m \\leq \\overline{l}(n)$, $\\underline{l}(n) = \\lfloor lb n\\rfloor$ и $\\overline{l}(n) = \\lambda(n) + v(n) - 1$.\n",
    "\n",
    "На каждом этапе выбираем некое число $ q \\in \\mathbb{N} $ такое, что $ 1 \\leq q \\leq m - 1 $. Затем перебираем все $ \\left\\{ r_{i} \\right\\}_{i = 1}^{q} $, для которых вычисляем значения $ a_{min} $ и $ a_{max} $.\n",
    "При равенстве $n$ и $a_{max}$ или $a_{min}$ алгоритм заканчивается.\n",
    "\n",
    "При $n \\in [a_{min}, a_{max}]$ перебираем вектора индексов длины $m - q$, чтобы при добавлении к нашему вектору по получившемуся можно было бы построить аддитивную цепочку с последним элементом $n$.\n",
    "\n",
    "При $n \\not \\in [a_{min}, a_{max}]$ возьмем следующий вектор индексов длинной $q$ вместо предыдущего фиксированного."
   ]
  },
  {
   "cell_type": "markdown",
   "metadata": {},
   "source": [
    "### Гипотеза Штольца-Брауэра\n",
    "\n",
    "Для всех звёздных цепочек выполнимо следующее неравенство: $$l ^ * (2 ^  n- 1) \\leq l ^ * (n) + n - 1$$\n",
    "\n",
    "---"
   ]
  },
  {
   "cell_type": "markdown",
   "metadata": {},
   "source": [
    "## Постановка задачи\n",
    "\n",
    "Реализовать точные и приближённые алгоритмы нахождения минимальных аддитивных цепочек с использованием системы компьютерной алгебры SageMath, провести анализ алгоритмов. Полученные результаты содержательно проинтерпретировать.\n",
    "1. Применить бинарный метод и метод множителей для $ x_n $, где $ n \\geq 30 $, для 2-3 значений $ n $ (значения $ n $ выбирается самостоятельно). Сравнить количество операций для каждого метода, сделать выводы.\n",
    "2. Реализовать алгоритм Яо для вычисления приближённых аддитивных цепочек для различных чисел при варьировании параметра $ k $, сопоставить длины полученных аддитивных цепочек с минимальной аддитивной цепочкой для заданного числа. Сделать выводы.\n",
    "3. Реализовать алгоритм дробления вектора индексов для нахождения минимальной звёздной цепочки для заданного числа. Протестировать алгоритм при $n \\geq 500$. Указать, сколько времени потребовалось на поиск цепочки и какая цепочка получилась. Сравнить с предыдущими методами, сделать выводы.\n",
    "4. Проверить следствие 1 теоремы Брауэра для $n=1..200$ путём построения функции $l(n)$ и аппроксимирующей кривой, полученной с помощью метода наименьших квадратов. Сопоставить функции на одном графике, сделать выводы.\n",
    "5. Проверить гипотезу Шольца–Брауэра для $1<n \\leq 10$ на алгоритме дробления вектора индексов. Сделать выводы.\n",
    "6. Дополнительное необязательное задание: найти и/или предложить модификации алгоритмов и привести описание модификаций. Реализовать модифицированные алгоритмы и сравнить их мощность.\n",
    "\n",
    "---"
   ]
  },
  {
   "cell_type": "markdown",
   "metadata": {},
   "source": [
    "## Выполение работы "
   ]
  },
  {
   "cell_type": "markdown",
   "metadata": {},
   "source": [
    "### 1. Сравнение бинарного метода и метода множителей для $x^n$ при $n\\geqslant30$.\n",
    "\n",
    "В качестве примера работы двух алгоритмов рассчитаем вручную степень $n=71$.\n",
    "\n",
    "*Бинарный метод*:\n",
    "\n",
    "$n = 69_{10} = 1000101_{2} $.\n",
    "\n",
    "$x \\to x \\cdot x = x^{2} \\to x^{2} \\cdot x^{2} = x^{4} \\to x^{4} \\cdot x^{4} = x^{8} \\to x^{8} \\cdot x^{8} = x^{16} \\to x^{16} \\cdot x = x^{17} \\to x^{17} \\cdot x^{17} = x^{34} \\to x^{34} \\cdot x^{34} = x^{68} \\to xm= x^{69} $. Итого 8 операций.\n",
    "\n",
    "*Метод множителей:*\n",
    "\n",
    "1. $ x \\to x \\cdot x = x^{2} \\to x^{2} \\cdot x^{2} = x^{4} \\to x^{4} \\cdot x = x^{5} \\to x^{5} \\cdot x^{5} = x^{10} \\to x^{10} \\cdot x = x^{11} \\to x^{11} \\cdot x^{11} = x^{22} \\to x^{22} \\cdot x = x^{23} : y  $\n",
    "2. $ y \\to y \\cdot y = y^{2} \\to y^{2} \\cdot y = y^{3}$\n",
    "\n",
    "Получаем 9 операций.\n",
    "\n",
    "\n",
    "\n",
    "Для вычислений и сравнения двух методов были реализованы следующие функции:"
   ]
  },
  {
   "cell_type": "code",
   "execution_count": 97,
   "metadata": {},
   "outputs": [
    {
     "name": "stdout",
     "output_type": "stream",
     "text": [
      "Рассчёт 3 в степени 39\n",
      "Бинарный метод:  4052555153018976267\n",
      "Количество операций =  8\n",
      "Метод множителей:  4052555153018976267\n",
      "Количество операций =  7\n",
      " \n",
      "Рассчёт 2 в степени 132\n",
      "Бинарный метод:  5444517870735015415413993718908291383296\n",
      "Количество операций =  8\n",
      "Метод множителей:  5444517870735015415413993718908291383296\n",
      "Количество операций =  8\n",
      " \n",
      "Рассчёт 4 в степени 111\n",
      "Бинарный метод:  6739986666787659948666753771754907668409286105635143120275902562304\n",
      "Количество операций =  11\n",
      "Метод множителей:  6739986666787659948666753771754907668409286105635143120275902562304\n",
      "Количество операций =  9\n",
      " \n",
      "Рассчёт 5 в степени 55\n",
      "Бинарный метод:  277555756156289135105907917022705078125\n",
      "Количество операций =  9\n",
      "Метод множителей:  277555756156289135105907917022705078125\n",
      "Количество операций =  8\n",
      " \n"
     ]
    }
   ],
   "source": [
    "def binpow(x, n):\n",
    "    count = -1\n",
    "    res = 1\n",
    "    while(n):\n",
    "        if n%2 == 1:\n",
    "            count += 1\n",
    "            n = n - 1\n",
    "            res *= x\n",
    "            continue\n",
    "        if n%2 == 0:\n",
    "            count += 1\n",
    "            n = n/2\n",
    "            x = x*x\n",
    "            continue\n",
    "    return (res, count)\n",
    "\n",
    "def factors(num):\n",
    "    factor = list()\n",
    "    i = 2\n",
    "    for i in range(i, num):\n",
    "        if num % i == 0:\n",
    "            factor.append(i)\n",
    "    return factor\n",
    "\n",
    "def mulpow(x, n):\n",
    "    if n == 0:\n",
    "        return (1, 0)\n",
    "    elif n == 1:\n",
    "        return (x, 0)\n",
    "    divide = factors(n)\n",
    "    if divide[0] == n:\n",
    "        answer = mulpow(x, n - 1)\n",
    "        res = answer[0]*x\n",
    "        count = answer[1] + 1\n",
    "        return (res, count)\n",
    "    i = divide[0]\n",
    "    j = n/i\n",
    "    y, count1 = binpow(x, i)\n",
    "    res, count2 = binpow(y, j)\n",
    "    count = count1 + count2\n",
    "    return res, count\n",
    "\n",
    "#x = int(input(\"Введите x: \"))\n",
    "#n = int(input(\"Введите n: \"))\n",
    "\n",
    "x=3\n",
    "n=39\n",
    "print(f\"Рассчёт {x} в степени {n}\")\n",
    "num1, op1 = binpow(x, n)\n",
    "print(\"Бинарный метод: \", num1)\n",
    "print(\"Количество операций = \", op1)\n",
    "num2, op2 = mulpow(x, n)\n",
    "print(\"Метод множителей: \", num2)\n",
    "print(\"Количество операций = \", op2)\n",
    "print(' ')\n",
    "\n",
    "x=2\n",
    "n=132\n",
    "print(f\"Рассчёт {x} в степени {n}\")\n",
    "\n",
    "num1, op1 = binpow(x, n)\n",
    "print(\"Бинарный метод: \", num1)\n",
    "print(\"Количество операций = \", op1)\n",
    "num2, op2 = mulpow(x, n)\n",
    "print(\"Метод множителей: \", num2)\n",
    "print(\"Количество операций = \", op2)\n",
    "print(' ')\n",
    "\n",
    "x=4\n",
    "n=111\n",
    "print(f\"Рассчёт {x} в степени {n}\")\n",
    "num1, op1 = binpow(x, n)\n",
    "print(\"Бинарный метод: \", num1)\n",
    "print(\"Количество операций = \", op1)\n",
    "num2, op2 = mulpow(x, n)\n",
    "print(\"Метод множителей: \", num2)\n",
    "print(\"Количество операций = \", op2)\n",
    "print(' ')\n",
    "\n",
    "x=5\n",
    "n=55\n",
    "print(f\"Рассчёт {x} в степени {n}\")\n",
    "num1, op1 = binpow(x, n)\n",
    "print(\"Бинарный метод: \", num1)\n",
    "print(\"Количество операций = \", op1)\n",
    "num2, op2 = mulpow(x, n)\n",
    "print(\"Метод множителей: \", num2)\n",
    "print(\"Количество операций = \", op2)\n",
    "print(' ')"
   ]
  },
  {
   "cell_type": "markdown",
   "metadata": {},
   "source": [
    "**Вывод:** На основе полученных результатов можно заключить, что в большинстве случаев метод множителей справляется лучше с возведением в степень числа, чем бинарный метод.     "
   ]
  },
  {
   "cell_type": "markdown",
   "metadata": {},
   "source": [
    "### Алгоритм Яо при вычислении приближённых аддитивных цепочек\n",
    "\n",
    "Для вычисления приближённых аддитивных цепочек для различных чисел при ваоиьровании параметра k, был реализован алгоритм Яо с отдельной процедурой подсчёта подфункции zd(z):"
   ]
  },
  {
   "cell_type": "code",
   "execution_count": 26,
   "metadata": {},
   "outputs": [
    {
     "name": "stdout",
     "output_type": "stream",
     "text": [
      "Цепочка Яо: [1, 2, 4, 8, 16, 32, 64, 128, 256, 5, 24, 48, 53, 192, 384, 448, 501]\n",
      "Длина цепочки при методе Яо: 17\n",
      "Время работы при методе Яо  4.172325134277344e-05\n",
      "\n",
      "Цепочка Яо: [1, 2, 4, 8, 16, 32, 64, 128, 256, 512, 513, 641, 24, 48, 689]\n",
      "Длина цепочки при методе Яо: 15\n",
      "Время работы при методе Яо  3.528594970703125e-05\n",
      "\n",
      "Цепочка Яо: [1, 2, 4, 8, 16, 32, 64, 128, 256, 512, 9, 73, 146, 292, 804]\n",
      "Длина цепочки при методе Яо: 15\n",
      "Время работы при методе Яо  2.9802322387695312e-05\n",
      "\n",
      "Цепочка Яо: [1, 2, 4, 8, 16, 32, 64, 128, 256, 512, 528, 192, 384, 912]\n",
      "Длина цепочки при методе Яо: 14\n",
      "Время работы при методе Яо  2.9802322387695312e-05\n",
      "\n"
     ]
    }
   ],
   "source": [
    "import math, time\n",
    "\n",
    "def ZDZ(z, dz):\n",
    "    if(z == 1):\n",
    "        return [dz]\n",
    "    elif(z == 2):\n",
    "        return [dz, dz+dz]\n",
    "    \n",
    "    chain = [dz]\n",
    "    start_dz = dz\n",
    "    bin_z = bin(z)[3:]\n",
    "    for i in bin_z:\n",
    "        if i == '0':\n",
    "            dz += dz\n",
    "            chain.append(dz)\n",
    "        else:\n",
    "            dz += dz\n",
    "            chain.append(dz)\n",
    "            dz += start_dz\n",
    "            chain.append(dz)\n",
    "    return chain\n",
    "\n",
    "def Yao(n, k):\n",
    "    chain1 = []\n",
    "    lambda_n = math.trunc(math.log2(n))\n",
    "    \n",
    "    while (n != 0):\n",
    "        chain1.append(n % 2 ** k)\n",
    "        n //= 2 ** k\n",
    "    chain2 = []\n",
    "    for i in range(lambda_n + 1):\n",
    "        chain2.append(2 ** i)\n",
    "    count = 0\n",
    "    for z in range(1, 2 ** (k) + 1):\n",
    "        dz = 0\n",
    "        for i in range(0, len(chain1)):\n",
    "            if chain1[i] == z:\n",
    "                dz += 2 ** (k * i)\n",
    "                if dz not in chain2:\n",
    "                    chain2.append(dz)\n",
    "                    \n",
    "                    \n",
    "        if (dz == 0):\n",
    "            continue\n",
    "        z_dz = ZDZ(z, dz)\n",
    "        for i in z_dz:\n",
    "            if i not in chain2:\n",
    "                chain2.append(i)\n",
    "        if len(z_dz) == 0:\n",
    "            continue\n",
    "        count += z_dz[-1]\n",
    "        if count not in chain2:\n",
    "            chain2.append(count)\n",
    "    return chain2\n",
    "#------------------------------вывод для следующего задания.\n",
    "n = [501, 689, 804, 912]\n",
    "for i in n:\n",
    "    startYAO = time.time()\n",
    "    chain_YAO = Yao(i, 3)\n",
    "    finishYAO = time.time()\n",
    "    print(\"Цепочка Яо:\", chain_YAO)\n",
    "    print(\"Длина цепочки при методе Яо:\", len(chain_YAO))\n",
    "    print(\"Время работы при методе Яо \", float(finishYAO - startYAO))\n",
    "    print(\"\")"
   ]
  },
  {
   "cell_type": "markdown",
   "metadata": {},
   "source": [
    "Был проведён эксперимент со значениями n = [11, 36, 83, 346, 521]при вариативности параметра k от 2 до 5. Результаты работы алгоритма представлены в следующей таблице:"
   ]
  },
  {
   "cell_type": "markdown",
   "metadata": {},
   "source": [
    "\n",
    "| n    | k  | Длина цепочки | Минимальная длина АЦ| Аддитивная цепочка|\n",
    "| -----|:------------------:|:-------------:|:-------------------:|:-----------------:|\n",
    "| 11   | 2   | 6 |6|[1, 2, 4, 8, 3, 11]|\n",
    "| 11   | 3   | 6 |6|[1, 2, 4, 8, 3, 11]|\n",
    "| 11   | 4   | 7 |6|[1, 2, 4, 8, 5, 10, 11]|\n",
    "| 11   | 5   | 7 |6|[1, 2, 4, 8, 5, 10, 11]|\n",
    "| 36   | 2   | 7 |7|[1, 2, 4, 8, 16, 32, 36]|\n",
    "| 36   | 3   | 9 |7|[1, 2, 4, 8, 16, 32, 9, 18, 36]|\n",
    "| 36   | 4   | 7 |7|[1, 2, 4, 8, 16, 32, 36]|\n",
    "| 36   | 5   | 7 |7|[1, 2, 4, 8, 16, 32, 36]|\n",
    "| 83   | 2   | 10|10|[1, 2, 4, 8, 16, 32, 64, 80, 3, 83]|\n",
    "| 83   | 3   | 10|10|[1, 2, 4, 8, 16, 32, 64, 80, 3, 83]|\n",
    "| 83   | 4   | 10|10|[1, 2, 4, 8, 16, 32, 64, 80, 3, 83]|\n",
    "| 83   | 5   | 11|10|[1, 2, 4, 8, 16, 32, 64, 9, 18, 19, 83]|\n",
    "| 346   | 2   | 14 |13|[1, 2, 4, 8, 16, 32, 64, 128, 256, 80, 336, 5, 10, 346]|\n",
    "| 346   | 3   | 13 |13|[1, 2, 4, 8, 16, 32, 64, 128, 256, 24, 26, 320, 346]|\n",
    "| 346   | 4   | 14 |13|[1, 2, 4, 8, 16, 32, 64, 128, 256, 80, 336, 5, 10, 346]|\n",
    "| 346   | 5   | 17 |13|[1, 2, 4, 8, 16, 32, 64, 128, 256, 160, 320, 3, 6, 12, 13, 26, 346]|\n",
    "| 521   | 2   | 13 |12|[1, 2, 4, 8, 16, 32, 64, 128, 256, 512, 260, 520, 521]|\n",
    "| 521   | 3   | 12 |12|[1, 2, 4, 8, 16, 32, 64, 128, 256, 512, 9, 521]|\n",
    "| 521   | 4   | 12 |12|[1, 2, 4, 8, 16, 32, 64, 128, 256, 512, 9, 521]|\n",
    "| 521   | 5   | 12 |12|[1, 2, 4, 8, 16, 32, 64, 128, 256, 512, 9, 521]|"
   ]
  },
  {
   "cell_type": "markdown",
   "metadata": {},
   "source": [
    "**Вывод:** Из данной таблицы можно сделать заключение, что алгоритм Яо не вычисляет минимальной аддитивной цепочки. Также, при увеличении параметра k, длина аддитивной цепочки тоже может возрастать."
   ]
  },
  {
   "cell_type": "markdown",
   "metadata": {},
   "source": [
    "### Алгоритм дробления вектора индексов для нахождения минимальной звёздной цепочки\n",
    "Для реализации алгоритма дробления вектора индексов при нахождении минимальной звёздной цепочки были реализованы следующие функции:"
   ]
  },
  {
   "cell_type": "code",
   "execution_count": 75,
   "metadata": {},
   "outputs": [],
   "source": [
    "import math, time\n",
    "\n",
    "def vec_r(a):\n",
    "    r = [1 for i in range(a)]\n",
    "    return r\n",
    "\n",
    "def next_vec(vec, num):\n",
    "    index = num + len(vec) - 1\n",
    "    for i in range(1, len(vec) + 1):\n",
    "        vec[-i] += 1\n",
    "        if vec[-i] <= index:\n",
    "            break\n",
    "        if i == len(vec):\n",
    "            vec.append(1)\n",
    "            break\n",
    "        vec[-i] = 1\n",
    "        index -= 1  \n",
    "    return vec\n",
    "\n",
    "def division_vec(n):\n",
    "    lambda_n = math.trunc(math.log2(n))\n",
    "    m = lambda_n\n",
    "    nu_n = bin(n).count('1')\n",
    "    l_n = lambda_n + nu_n - 1\n",
    "    \n",
    "    while m <= l_n:\n",
    "        q = math.trunc(m/2)\n",
    "        if q == 0:\n",
    "            q = 1\n",
    "        r = vec_r(q)\n",
    "        t = m-q\n",
    "        \n",
    "        while len(r) == q:\n",
    "            r2 = vec_r(t)\n",
    "            chain = [1]\n",
    "            for ind in r:\n",
    "                chain.append(chain[-1] + chain[ind - 1])\n",
    "            for ind in r2:\n",
    "                chain.append(chain[-1] + chain[ind - 1])\n",
    "            \n",
    "            end_chain = chain[-1]\n",
    "            if end_chain == n:\n",
    "                return chain\n",
    "            \n",
    "            min_value = chain[q] + t\n",
    "            max_value = chain[q] * (2**t)\n",
    "            \n",
    "            if n < min_value | n > max_value:\n",
    "                r = next_vec(r, 1)\n",
    "                continue\n",
    "                \n",
    "            while len(r2) == t:\n",
    "                chain = [1]\n",
    "                for ind in r:\n",
    "                    chain.append(chain[-1] + chain[ind - 1])\n",
    "                for ind in r2:\n",
    "                    chain.append(chain[-1] + chain[ind - 1])\n",
    "                \n",
    "                if chain[-1] == n:\n",
    "                    return chain\n",
    "                r2 = next_vec(r2, q + 1)\n",
    "            r = next_vec(r, 1)    \n",
    "        m += 1\n",
    "    return chain"
   ]
  },
  {
   "cell_type": "code",
   "execution_count": 94,
   "metadata": {},
   "outputs": [
    {
     "name": "stdout",
     "output_type": "stream",
     "text": [
      "Звёздная цепочка: [1, 2, 4, 5, 10]\n",
      "Длина цепочки при методе ДИ: 5\n",
      "Время работы при методе ДИ:  0.0002067089080810547\n",
      "\n"
     ]
    }
   ],
   "source": [
    "import time \n",
    "    \n",
    "#n = input(\"Введите n: \")\n",
    "  \n",
    "n = 10\n",
    "\n",
    "startDV = time.time()\n",
    "star_chain = division_vec(n)\n",
    "finishDV = time.time()\n",
    "print(\"Звёздная цепочка:\", star_chain)\n",
    "print(\"Длина цепочки при методе ДИ:\", len(star_chain))\n",
    "print(\"Время работы при методе ДИ: \", float(finishDV - startDV))\n",
    "print(\"\")"
   ]
  },
  {
   "cell_type": "markdown",
   "metadata": {},
   "source": [
    "Для анализа работы алгоритма были проведены испытания при значениях n = 501, 689, 804, 912. Результаты работы алгоритма методом дробления вектора индексов были сопоставлены с работой алгоритма Яо для заданного n и k = 3. Для накглядности, вывод работы программ представлен в следующей таблице:\n",
    "\n",
    "| n    |Звёздная цепочка| Длина при ДИ | Длина при Яо| Время ДИ (с)| Время Яо (с) |\n",
    "| -----|:------------------:|:-------------:|:-------------------:|:-----------------:|:------:|\n",
    "| 501 |[1, 2, 3, 4, 7, 10, 20, 40, 80, 87, 167, 334, 501]| 13 | 17 | 308.3603744506836 | 0.000066995621 |\n",
    "| 689 |[1, 2, 3, 5, 10, 20, 23, 43, 86, 172, 344, 345, 689]| 13 | 15 | 608.0403940677643 | 0.000057697296 |\n",
    "| 804 |[1, 2, 3, 4, 8, 16, 32, 35, 67, 134, 201, 402, 804]| 13 | 15 | 206.61950612068176 | 0.000053644180 |\n",
    "| 912 |[1, 2, 3, 4, 7, 14, 28, 29, 57, 114, 228, 456, 912]| 13 | 14 | 181.47285676002502 | 0.000029802322 |\n",
    "\n",
    "Из результатов, представленных в таблице, можно сделать вывод, что алгоритм дробления вектора индексов выдаёт чёткий результат в рассчёте минимальной звёздной цепочки для заданного n. Однако, по сравнению с алгоритмом Яо, рассматриваемый метод заметно медленнный. Поэтому, если для решения задачи подойдут приближённые значения, целесообразно использовать метод Яо, тк для большого n он вычисляет цепочку быстрее. "
   ]
  },
  {
   "cell_type": "markdown",
   "metadata": {},
   "source": [
    "### Проверка следствия 1 теоремы Брауэра для n=1..200\n",
    "Для проверки первого следствия теоремы Брауэра заметим, что $ \\lim\\limits_{n \\rightarrow \\infty} \\dfrac{l \\left( n \\right)}{\\lambda \\left( n \\right)} = \\lim\\limits_{n \\rightarrow \\infty} \\dfrac{l^{*} \\left( n \\right)}{\\lambda \\left( n \\right)} = 1 $.\n",
    "\n",
    "Сначала программно посчитаем $l(n)$ для $n = 1..200$, после чего с помощью метода наименьших квадратов аппроксимируем полученные данные."
   ]
  },
  {
   "cell_type": "code",
   "execution_count": 65,
   "metadata": {},
   "outputs": [
    {
     "data": {
      "image/png": "[encoded data removed]",
      "text/plain": [
       "<Figure size 864x720 with 1 Axes>"
      ]
     },
     "metadata": {
      "needs_background": "light"
     },
     "output_type": "display_data"
    }
   ],
   "source": [
    "import matplotlib.pyplot as plt\n",
    "import numpy as np\n",
    "from scipy.optimize import leastsq\n",
    "\n",
    "\n",
    "x = [i for i in range(2, 201)]\n",
    "for i in x:\n",
    "    len_vec = []\n",
    "    len_vec.append(len(division_vec(i)))\n",
    "y = [len_vec[i] for i in x]\n",
    "plt.figure(figsize = (10, 12))\n",
    "arr = leastsq(lambda odds, y, x: y - np.log(x) * odds[0], 1, args = (y, x))\n",
    "plt.plot(x, y, 'g*',  x, np.log(x) * arr[0], 'b')\n",
    "plt.show()"
   ]
  },
  {
   "cell_type": "markdown",
   "metadata": {},
   "source": [
    "Данный график подтверждает следствие из теоремы Брауэра т.к. видно, что $l(n)$ аппроксимируется логарифмической кривой. Это означает,что при увеличении n значение $l(n)$ будет изменяться незначительно, как и логарифмическая функция."
   ]
  },
  {
   "cell_type": "markdown",
   "metadata": {},
   "source": [
    "### Проверка гипотезы Шольца–Брауэра для 1<n⩽10\n",
    "\n",
    "Сравним длины цепочек при разных n для проверки следующего неравенства: $l*(2^n-1)\\leq l*(n)+n-1$."
   ]
  },
  {
   "cell_type": "code",
   "execution_count": null,
   "metadata": {},
   "outputs": [],
   "source": [
    "for i in range(4, 11):\n",
    "    a = len(division_vec(2**i -  1))\n",
    "    b = len(division_vec(i)) + i - 1\n",
    "    #if (a <= b):\n",
    "     #   print(f\"Сравнение при n = {i}: a = {a} и b = {b}\")"
   ]
  },
  {
   "cell_type": "markdown",
   "metadata": {},
   "source": [
    "Для наглядности занесём результаты в таблицу:\n",
    "    \n",
    "| n    |$l(2^n-1)$| $l(n)+n-1$ |\n",
    "| -----|:------------------:|:-------------:|\n",
    "| 1   | 1  | 1 |\n",
    "| 2   | 3  | 3 |\n",
    "| 3   | 1  | 5 |\n",
    "| 4   | 6  | 6 |\n",
    "| 5   | 8  | 8 |\n",
    "| 6   | 9  | 9 |\n",
    "| 7   | 11  | 11 |\n",
    "| 8   | 11  | 11 |\n",
    "| 9   | 13  | 13 |\n",
    "| 10   | 14  | 14 |\n"
   ]
  },
  {
   "cell_type": "markdown",
   "metadata": {},
   "source": [
    "**Вывод:** Гипотеза Шольца-Брауэра справедлива для 1<n⩽10."
   ]
  },
  {
   "cell_type": "markdown",
   "metadata": {},
   "source": [
    "## Заключение\n",
    "\n",
    "В практической работе были изучены и реализованы следующие алгоритмы:\n",
    "\n",
    "1. Бинарный метод возведения в степень\n",
    "2. Метод множителей при возведении в степень\n",
    "3. Алгоритм Яо для построения аддитивных цепочек\n",
    "4. Алгоритм дробления вектора индексов для нахождения минимальной звёздной цепочки.\n",
    "\n",
    "Также алгоритмы для аддитивных цепочек были сопоставлены между собой, в результате чего было выяснено, что алгоритм дробления вектора индексов производит вычисления намного длительнее алгоритма Яо. Затем в практической работе были проверены проверены:\n",
    "\n",
    "1. Первое следствие из теоремы Брауэра: $ \\lim\\limits_{n \\rightarrow \\infty} \\dfrac{l \\left( n \\right)}{\\lambda \\left( n \\right)} = 1 $\n",
    "2. Гипотеза Шольца-Брауэра: $\\;l^*(2^n-1) \\leq l^*(n) + n - 1$"
   ]
  },
  {
   "cell_type": "code",
   "execution_count": null,
   "metadata": {},
   "outputs": [],
   "source": []
  }
 ],
 "metadata": {
  "kernelspec": {
   "display_name": "Python 3",
   "language": "python",
   "name": "python3"
  },
  "language_info": {
   "codemirror_mode": {
    "name": "ipython",
    "version": 3
   },
   "file_extension": ".py",
   "mimetype": "text/x-python",
   "name": "python",
   "nbconvert_exporter": "python",
   "pygments_lexer": "ipython3",
   "version": "3.8.5"
  }
 },
 "nbformat": 4,
 "nbformat_minor": 4
}
