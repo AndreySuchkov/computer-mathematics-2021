{
 "cells": [
  {
   "cell_type": "markdown",
   "metadata": {},
   "source": [
    "# Практическая работа №1: Исследование алгоритмов формирования аддитивных цепочек\n",
    "\n",
    "Выполнил студент гр. 9382 Юрьев Сергей, вариант 87.\n"
   ]
  },
  {
   "cell_type": "markdown",
   "metadata": {},
   "source": [
    "## Цель работы\n",
    "\n",
    "Формирование представления о аддитивных цепочках, выработать умение составлять и применять алгоритмы для нахождения минимальных аддитивных цепочек для заданного числа, привить навык использования систем компьютерной алгебры для реализации алгоритмов.\n"
   ]
  },
  {
   "cell_type": "markdown",
   "metadata": {},
   "source": [
    "## Основные теоретические положения\n",
    "\n",
    "**Аддитивная цепочка** - последовательность натуральных чисел, начинающаяся с единицы, в которой каждый последующий элемент является суммой каких-то двух предшествующих элементов (в том числе, возможно использование одного и того же предшествующего элемента — удвоение): $a_i = a_j + a_k$, для $k<=j<i$, для $\\forall i = 1 ... m$\n",
    "\n",
    "**Бинарный метод возведения числа в степень** - это один из методов быстрого возведения в степень, который позволяет возводить любое число в $n$-ю степень за $O(log(n))$ умножений.\n",
    "\n",
    "Для любого числа $a$ и чётного числа $n$ выполнимо тождество (следующее из ассоциативности операции умножения):\n",
    "$a^n = (a^{n/2})^2 = a^{n/2}*a^{n/2}$\n",
    "\n",
    "Если степень _четная_, то, при помощи этого тождества, задача сводится к вдвое меньшей степени.\n",
    "\n",
    "Если же степень _нечетная_, то переходим к степени $n-1$, которая будет уже чётной: \n",
    "$a^n = a^{n-1}*a$\n",
    "\n",
    "Таким образом, получается рекурентная формула: от степени $n$ мы переходим, если она чётна, к $n/2$, а иначе — к $n-1$. И всего будет не более $2*log(n)$ переходов, прежде чем мы придём к n = 0 (базе рекуррентной формулы).\n",
    "\n",
    "Количество операций умножений равно $\\lambda(n) + \\nu(n) -1$, где $\\lambda(n) = \\lfloor lb(n) \\rfloor$, а $\\nu(n)$ - количество единиц в бинарном представлении числа.\n",
    "\n",
    "**Метод множителей** - это один из методов быстрого возведения в степень, который позволяет возводить любое число в $n$-ю степень. В большинстве ситуаций является более оптимальным, чем _бинарный метод_.\n",
    "\n",
    "Степень $k$, в которую возводится число, может быть составной. Тогда, её можно представить, как: $k = i*j$, где i - наименьший простой множитель числа $k$.\n",
    "\n",
    "При нахождении $i$, начальное число возводится в эту степень, и дальнейшее возведение в степень $j$ производится уже для нового числа.\n",
    "\n",
    "Таким образом, если мы умеем вычислять $x^i$ за $m$ операций, а $x^j$ - за $n$ операций, то для $k = i*j$ ответ будет получен за $m+n$ операций.\n",
    "\n",
    "Если же $k$ изначально простое, то можно применить это алгоритм для степени $k-1$, и в конце алгоритма домножить получившийся ответ на начальное число.\n",
    "\n",
    "**Алгоритм Брауэра для вычисления приближённых аддитивных цепочек** - это метод, который позволяет по заданной линейной цепочке $a_0 = 1, a_1,..., a_m = n$ построить аддитивную цепочку для $2^n-1$ следующим образом.\n",
    "\n",
    "Выписывается последовательность:\n",
    "$$1=2^1-1,2^{a_1}-1,..,2^{a_m}-1=2^n-1,$$\n",
    "\n",
    "затем в промежутки между числами вставляются последовательности удвоений. Так, между соседними числами $2^{a_i}-1$ и $2^{a_{i+1}}-1$, где $a_{i+1}=a_i+a_j$, помещается последовательность:\n",
    "$$2(2^{a_i}-1),2^2(2^{a_i}-1),...,2^{a_{i+1}-a_i}(2^{a_i}-1)=2^{a_{i+1}}-2^{a_j}.$$\n",
    "\n",
    "Поскольку:\n",
    "$$2^{a_{i+1}}-1=(2^{a_{i1}}-2^{a_j})+(2^{a_j}-1),$$\n",
    "\n",
    "итоговая последовательность является линейной аддитивной цепочкой длины $n+m-1$, состоящей из $n-1$ удвоений и $m$ сложений.\n",
    "\n",
    "Алгоритм не гарантирует того, что аддитивная цепочка будет минимальной.\n",
    "\n",
    "_Рекурсивная формула алгоритма_: \n",
    "\n",
    "$B_k(n) = 1, 2, 3, ..., 2^k - 1$, при $n < 2^k$\n",
    "\n",
    "$B_k(n) = B_k(q), 2q, 4q, 8q, ..., 2^k * q, n$, при $n >= 2^k$ и $q = \\lfloor \\cfrac{n}{2^k} \\rfloor$\n",
    "\n",
    "Количество операций, которое требует алгоритм: $lb(n) + \\cfrac{(1+o(1))lb(n)}{lb(lb(n))}$\n",
    "\n",
    "Полученные в результате брауэровские цепочки, как правило, имеют длину: $l_B(n) = j(k+1) + 2^k - 2$, при условии: $j*k <= lb(n) < (j+1)*k$\n",
    "\n",
    "**Теорема Брауэра:**\n",
    "\n",
    "Пусть $k < log_2(log_2(n))$ верно: $l(n) < (1+k^{-1}) * \\lceil log_2(n) \\rceil + 2^{k-1} - k + 2$\n",
    "Тогда $k=\\lambda(\\lambda(n))-2\\lambda(\\lambda(\\lambda(n)))$\n",
    "    \n",
    "Следствие 1: $\\lim \\limits_{n \\to \\infty} \\frac{l(n)}{\\lambda(n)} = 1$\n",
    "    \n",
    "Следствие 2: $\\lambda(n)(1+\\frac{1}{\\lambda(\\lambda(n))}+\\frac{o(\\lambda(\\lambda(\\lambda(n))))}{\\lambda(\\lambda(n))^2})$\n",
    "    \n",
    "\n",
    "**Гипотеза Шольца-Брауэра:**\n",
    "\n",
    "Пусть $l^*(n)$ - длина звёздной цепочки.\n",
    "Тогда для любого $n \\in \\mathbb{N}$ верно: $l^*(2^n-1)\\leq l^*(n)+n-1$"
   ]
  },
  {
   "cell_type": "markdown",
   "metadata": {},
   "source": [
    "## Постановка задачи\n",
    "\n",
    "Реализовать точные и приближённые алгоритмы нахождения минимальных аддитивных цепочек с использованием системы компьютерной алгебры SageMath, провести анализ алгоритмов. Полученные результаты содержательно проинтерпретировать."
   ]
  },
  {
   "cell_type": "markdown",
   "metadata": {},
   "source": [
    "## Порядок выполнения работы\n",
    "\n",
    "1. Применить бинарный метод и метод множителей для xn, где n⩾30, для 2-3 значений n (значения n выбирается студентом самостоятельно). Сравнить количество операций для каждого метода, сделать выводы.\n",
    "2. Реализовать алгоритм Брауэра (для нечётных вариантов) или алгоритм Яо (для чётных вариантов) для вычисления приближённых аддитивных цепочек для различных чисел при варьировании параметра k, сопоставить длины полученных аддитивных цепочек с минимальной аддитивной цепочкой для заданного числа. Сделать выводы.\n",
    "3. Реализовать алгоритм дробления вектора индексов для нахождения минимальной звёздной цепочки для заданного числа. Протестировать алгоритм при n>500. Указать, сколько времени потребовалось на поиск цепочки и какая цепочка получилась. Сравнить с предыдущими методами, сделать выводы.\n",
    "4. Проверить следствие 1 теоремы Брауэра для n=1..200 путём построения функции l(n) и аппроксимирующей кривой, полученной с помощью метода наименьших квадратов. Сопоставить функции на одном графике, сделать выводы.\n",
    "5. Проверить гипотезу Шольца–Брауэра для 1<n⩽10 на алгоритме дробления вектора индексов. Сделать выводы.\n",
    "6. Дополнительное необязательное задание: найти и/или предложить модификации алгоритмов и привести описание модификаций. Реализовать модифицированные алгоритмы и сравнить их мощность."
   ]
  },
  {
   "cell_type": "markdown",
   "metadata": {},
   "source": [
    "## Выполнение работы\n",
    "\n",
    "**1. Бинарный метод и метод множителей**"
   ]
  },
  {
   "cell_type": "code",
   "execution_count": 4,
   "metadata": {},
   "outputs": [],
   "source": [
    "def bin_pow(a, n):\n",
    "    result = 1\n",
    "    operations_count = -1\n",
    "    multiplications = [1]\n",
    "    \n",
    "    while n:\n",
    "        if n % 2 == 1:\n",
    "            result = result * a\n",
    "            multiplications.append(a)\n",
    "            operations_count = operations_count + 1\n",
    "            n = n - 1\n",
    "        else:\n",
    "            a = a * a\n",
    "            operations_count = operations_count + 1\n",
    "            n = n/2\n",
    "    return [result, operations_count, multiplications]"
   ]
  },
  {
   "cell_type": "code",
   "execution_count": 5,
   "metadata": {},
   "outputs": [],
   "source": [
    "def multiplier_pow(a, n):\n",
    "    F = factor(n) # разложение на множители; F - объект типа Factorization:\n",
    "    \n",
    "    if F[0][0] == n:  # если первый множитель = n, т.е. если n - простое\n",
    "        result = bin_pow(a, n-1)\n",
    "        result[0] = result[0] * a\n",
    "        result[1] = result[1] + 1\n",
    "        result[2].append(a)\n",
    "        return result\n",
    "    \n",
    "    first_pow_calc = bin_pow(a, F[0][0])\n",
    "    a = first_pow_calc[0]\n",
    "    \n",
    "    last_pow_calc = bin_pow(a, n // F[0][0]) # сделали замену начального значения a \n",
    "    del last_pow_calc[2][0]\n",
    "    \n",
    "    return [last_pow_calc[0], first_pow_calc[1] + last_pow_calc[1], first_pow_calc[2] + last_pow_calc[2]] # второе значение = m + n операций "
   ]
  },
  {
   "cell_type": "code",
   "execution_count": 111,
   "metadata": {},
   "outputs": [
    {
     "name": "stdout",
     "output_type": "stream",
     "text": [
      "Результаты применения бинарного метода:\n",
      "\n",
      "5^33:\n",
      "Результат:  116415321826934814453125 \n",
      "К-во операций:  6 \n",
      "Множители:  [1, 5, 23283064365386962890625] \n",
      "\n",
      "5^55:\n",
      "Результат:  277555756156289135105907917022705078125 \n",
      "К-во операций:  9 \n",
      "Множители:  [1, 5, 25, 625, 152587890625, 23283064365386962890625] \n",
      "\n",
      "5^77:\n",
      "Результат:  661744490042422139897126953655970282852649688720703125 \n",
      "К-во операций:  9 \n",
      "Множители:  [1, 5, 625, 390625, 542101086242752217003726400434970855712890625] \n",
      "\n",
      "\n",
      "\n",
      "Результаты применения метода множителей:\n",
      "\n",
      "5^33:\n",
      "Результат:  116415321826934814453125 \n",
      "К-во операций:  7 \n",
      "Множители:  [1, 5, 25, 125, 15625, 59604644775390625] \n",
      "\n",
      "5^55:\n",
      "Результат:  277555756156289135105907917022705078125 \n",
      "К-во операций:  8 \n",
      "Множители:  [1, 5, 625, 3125, 9765625, 9094947017729282379150390625] \n",
      "\n",
      "5^77:\n",
      "Результат:  661744490042422139897126953655970282852649688720703125 \n",
      "К-во операций:  9 \n",
      "Множители:  [1, 5, 25, 625, 78125, 6103515625, 1387778780781445675529539585113525390625] \n",
      "\n"
     ]
    }
   ],
   "source": [
    "bin1 = bin_pow(5,33)\n",
    "bin2 = bin_pow(5,55)\n",
    "bin3 = bin_pow(5,77)\n",
    "\n",
    "mult1 = multiplier_pow(5, 33)\n",
    "mult2 = multiplier_pow(5, 55)\n",
    "mult3 = multiplier_pow(5, 77)\n",
    "\n",
    "print(\"Результаты применения бинарного метода:\\n\")\n",
    "print(\"5^33:\\nРезультат: \", bin1[0], \"\\nК-во операций: \", bin1[1], \"\\nМножители: \", bin1[2], '\\n')\n",
    "print(\"5^55:\\nРезультат: \", bin2[0], \"\\nК-во операций: \", bin2[1], \"\\nМножители: \", bin2[2], '\\n')\n",
    "print(\"5^77:\\nРезультат: \", bin3[0], \"\\nК-во операций: \", bin3[1], \"\\nМножители: \", bin3[2], '\\n')\n",
    "\n",
    "print(\"\\n\\nРезультаты применения метода множителей:\\n\")\n",
    "print(\"5^33:\\nРезультат: \", mult1[0], \"\\nК-во операций: \", mult1[1], \"\\nМножители: \", mult1[2], '\\n')\n",
    "print(\"5^55:\\nРезультат: \", mult2[0], \"\\nК-во операций: \", mult2[1], \"\\nМножители: \", mult2[2], '\\n')\n",
    "print(\"5^77:\\nРезультат: \", mult3[0], \"\\nК-во операций: \", mult3[1], \"\\nМножители: \", mult3[2], '\\n')"
   ]
  },
  {
   "cell_type": "markdown",
   "metadata": {},
   "source": [
    "**Вывод**: метод множителей может выдавать результаты лучше, хуже или соразмерные бинарному методу. Метод множителей нельзя назвать стабильно лучшим, чем бинарный метод. При этом, когда метод множителей показывает лучшие результаты, различие с бинарным методом в количестве операций минимально. Однако метод множителей является более предпочтительным, так как в большинстве ситуаций при неравном количестве операций именно он чаще показывает лучший результат.\n",
    "\n",
    "\n",
    "**2. Алгоритм Брауэра для вычисления приближённой аддитивной цепочки**"
   ]
  },
  {
   "cell_type": "code",
   "execution_count": 6,
   "metadata": {},
   "outputs": [],
   "source": [
    "def find_Brauer_additive_chain(n, k, Bchain):\n",
    "    if(n < 2**k):\n",
    "        for i in range(1, 2**k): # добавление 1, 2, 3, ..., 2^k - 1\n",
    "            Bchain.append(i)\n",
    "        return\n",
    "    \n",
    "    elif(n >= 2**k):\n",
    "        q = n // (2**k) # вычисление q (floor автоматически выполняется при целочисленном делении)\n",
    "        find_Brauer_additive_chain(q, k, Bchain) # добавление Bk(q)\n",
    "        for i in range(1, k+1): # добавление 2q, 4q, ..., 2^k*q\n",
    "            q *= 2\n",
    "            Bchain.append(q)\n",
    "        Bchain.append(n) # добавление n"
   ]
  },
  {
   "cell_type": "code",
   "execution_count": 42,
   "metadata": {},
   "outputs": [
    {
     "name": "stdout",
     "output_type": "stream",
     "text": [
      "Результаты применения алгоритма Брауэра к числу 133 с k = 3, 4, 5 :\n",
      "\n",
      "k=3:\n",
      "Цепочка:  [1, 2, 3, 4, 5, 6, 7, 4, 8, 16, 16, 32, 64, 128, 133] \n",
      "Длина цепочки =  15 \n",
      "\n",
      "k=4:\n",
      "Цепочка:  [1, 2, 3, 4, 5, 6, 7, 8, 9, 10, 11, 12, 13, 14, 15, 16, 32, 64, 128, 133] \n",
      "Длина цепочки =  20 \n",
      "\n",
      "k=5:\n",
      "Цепочка:  [1, 2, 3, 4, 5, 6, 7, 8, 9, 10, 11, 12, 13, 14, 15, 16, 17, 18, 19, 20, 21, 22, 23, 24, 25, 26, 27, 28, 29, 30, 31, 8, 16, 32, 64, 128, 133] \n",
      "Длина цепочки =  37 \n",
      "\n",
      "\n",
      "Минимальная аддитивная цепочка для этого числа:\n",
      "\n",
      "Цепочка:  [1, 2, 4, 8, 16, 32, 64, 128, 132, 133] \n",
      "Длина цепочки =  10 \n",
      "\n"
     ]
    }
   ],
   "source": [
    "# пример 1\n",
    "print(\"Результаты применения алгоритма Брауэра к числу 133 с k = 3, 4, 5 :\\n\")\n",
    "\n",
    "Bchain1_1 = []\n",
    "find_Brauer_additive_chain(133, 3, Bchain1_1)\n",
    "\n",
    "Bchain1_2 = []\n",
    "find_Brauer_additive_chain(133, 4, Bchain1_2)\n",
    "\n",
    "Bchain1_3 = []\n",
    "find_Brauer_additive_chain(133, 5, Bchain1_3)\n",
    "\n",
    "Bchain_best = [1,2,4,8,16,32,64,128,132,133]\n",
    "\n",
    "print(\"k=3:\\nЦепочка: \", Bchain1_1, \"\\nДлина цепочки = \", len(Bchain1_1), '\\n')\n",
    "print(\"k=4:\\nЦепочка: \", Bchain1_2, \"\\nДлина цепочки = \", len(Bchain1_2), '\\n')\n",
    "print(\"k=5:\\nЦепочка: \", Bchain1_3, \"\\nДлина цепочки = \", len(Bchain1_3), '\\n')\n",
    "\n",
    "print(\"\\nМинимальная аддитивная цепочка для этого числа:\\n\")\n",
    "print(\"Цепочка: \", Bchain_best, \"\\nДлина цепочки = \", len(Bchain_best), '\\n')"
   ]
  },
  {
   "cell_type": "code",
   "execution_count": 43,
   "metadata": {},
   "outputs": [
    {
     "name": "stdout",
     "output_type": "stream",
     "text": [
      "Результаты применения алгоритма Брауэра к числу 128 с k = 3, 4, 5 :\n",
      "\n",
      "k=3:\n",
      "Цепочка:  [1, 2, 3, 4, 5, 6, 7, 4, 8, 16, 16, 32, 64, 128, 128] \n",
      "Длина цепочки =  15 \n",
      "\n",
      "k=4:\n",
      "Цепочка:  [1, 2, 3, 4, 5, 6, 7, 8, 9, 10, 11, 12, 13, 14, 15, 16, 32, 64, 128, 128] \n",
      "Длина цепочки =  20 \n",
      "\n",
      "k=5:\n",
      "Цепочка:  [1, 2, 3, 4, 5, 6, 7, 8, 9, 10, 11, 12, 13, 14, 15, 16, 17, 18, 19, 20, 21, 22, 23, 24, 25, 26, 27, 28, 29, 30, 31, 8, 16, 32, 64, 128, 128] \n",
      "Длина цепочки =  37 \n",
      "\n",
      "\n",
      "Минимальная аддитивная цепочка для этого числа:\n",
      "\n",
      "Цепочка:  [1, 2, 4, 8, 16, 32, 64, 128] \n",
      "Длина цепочки =  8 \n",
      "\n"
     ]
    }
   ],
   "source": [
    "# пример 2\n",
    "print(\"Результаты применения алгоритма Брауэра к числу 128 с k = 3, 4, 5 :\\n\")\n",
    "\n",
    "Bchain2_1 = []\n",
    "find_Brauer_additive_chain(128, 3, Bchain2_1)\n",
    "\n",
    "Bchain2_2 = []\n",
    "find_Brauer_additive_chain(128, 4, Bchain2_2)\n",
    "\n",
    "Bchain2_3 = []\n",
    "find_Brauer_additive_chain(128, 5, Bchain2_3)\n",
    "\n",
    "Bchain_best = [1,2,4,8,16,32,64,128]\n",
    "\n",
    "print(\"k=3:\\nЦепочка: \", Bchain2_1, \"\\nДлина цепочки = \", len(Bchain2_1), '\\n')\n",
    "print(\"k=4:\\nЦепочка: \", Bchain2_2, \"\\nДлина цепочки = \", len(Bchain2_2), '\\n')\n",
    "print(\"k=5:\\nЦепочка: \", Bchain2_3, \"\\nДлина цепочки = \", len(Bchain2_3), '\\n')\n",
    "\n",
    "print(\"\\nМинимальная аддитивная цепочка для этого числа:\\n\")\n",
    "print(\"Цепочка: \", Bchain_best, \"\\nДлина цепочки = \", len(Bchain_best), '\\n')"
   ]
  },
  {
   "cell_type": "code",
   "execution_count": 44,
   "metadata": {},
   "outputs": [
    {
     "name": "stdout",
     "output_type": "stream",
     "text": [
      "Результаты применения алгоритма Брауэра к числу 31 с k = 3, 4, 5 :\n",
      "\n",
      "k=3:\n",
      "Цепочка:  [1, 2, 3, 4, 5, 6, 7, 6, 12, 24, 31] \n",
      "Длина цепочки =  11 \n",
      "\n",
      "k=4:\n",
      "Цепочка:  [1, 2, 3, 4, 5, 6, 7, 8, 9, 10, 11, 12, 13, 14, 15, 2, 4, 8, 16, 31] \n",
      "Длина цепочки =  20 \n",
      "\n",
      "k=5:\n",
      "Цепочка:  [1, 2, 3, 4, 5, 6, 7, 8, 9, 10, 11, 12, 13, 14, 15, 16, 17, 18, 19, 20, 21, 22, 23, 24, 25, 26, 27, 28, 29, 30, 31] \n",
      "Длина цепочки =  31 \n",
      "\n",
      "\n",
      "Минимальная аддитивная цепочка для этого числа:\n",
      "\n",
      "Цепочка:  [1, 2, 3, 5, 7, 14, 28, 31] \n",
      "Длина цепочки =  8 \n",
      "\n"
     ]
    }
   ],
   "source": [
    "# пример 3\n",
    "print(\"Результаты применения алгоритма Брауэра к числу 31 с k = 3, 4, 5 :\\n\")\n",
    "\n",
    "Bchain3_1 = []\n",
    "find_Brauer_additive_chain(31, 3, Bchain3_1)\n",
    "\n",
    "Bchain3_2 = []\n",
    "find_Brauer_additive_chain(31, 4, Bchain3_2)\n",
    "\n",
    "Bchain3_3 = []\n",
    "find_Brauer_additive_chain(31, 5, Bchain3_3)\n",
    "\n",
    "Bchain_best = [1,2,3,5,7,14,28,31]\n",
    "\n",
    "print(\"k=3:\\nЦепочка: \", Bchain3_1, \"\\nДлина цепочки = \", len(Bchain3_1), '\\n')\n",
    "print(\"k=4:\\nЦепочка: \", Bchain3_2, \"\\nДлина цепочки = \", len(Bchain3_2), '\\n')\n",
    "print(\"k=5:\\nЦепочка: \", Bchain3_3, \"\\nДлина цепочки = \", len(Bchain3_3), '\\n')\n",
    "\n",
    "print(\"\\nМинимальная аддитивная цепочка для этого числа:\\n\")\n",
    "print(\"Цепочка: \", Bchain_best, \"\\nДлина цепочки = \", len(Bchain_best), '\\n')"
   ]
  },
  {
   "cell_type": "markdown",
   "metadata": {},
   "source": [
    "**Вывод:** алгоритм Брауера не дал минимальную аддитивную цепочку ни для одного из значений при варьировании параметра $k$. С увеличением $k$ длина аддитивной цепочки растёт. Так происходит из-за того, что увеличивается количество элементов при $n < 2^k$, и увеличивается количество элементов $2^k * q$ при $n >= 2^k$ и $q = \\lfloor \\cfrac{n}{2^k} \\rfloor$.\n",
    "\n",
    "\n",
    "**3. Алгоритм дробления вектора индексов для нахождения минимальной звёздной цепочки**"
   ]
  },
  {
   "cell_type": "code",
   "execution_count": 2,
   "metadata": {},
   "outputs": [],
   "source": [
    "import time\n",
    "\n",
    "def lambda_n(n): # лямбда\n",
    "    return floor(log(n,2).n()) # .n() - дает нормальный числовой вид\n",
    "\n",
    "def ny_n(n): # ню = к-во единиц в 2-ичной записи n\n",
    "    res = Integer(n).binary()\n",
    "    return res.count('1')\n",
    "\n",
    "\n",
    "def find_low(n): # нижняя граница m\n",
    "    return lambda_n(n)\n",
    "\n",
    "def find_high(n): # верхняя граница m, взятая из бинарного метода\n",
    "    return lambda_n(n) + ny_n(n) - 1\n",
    "\n",
    "    \n",
    "def change_vec_to_less(idx_vec, q = 0): # переход к следующему меньшему ВИ\n",
    "    for i, el in reversed(list(enumerate(idx_vec))):\n",
    "        if el != 1:\n",
    "            el = el - 1\n",
    "            idx_vec[i] = el\n",
    "            \n",
    "            for j in range(i+1,len(idx_vec)):\n",
    "                idx_vec[j] = j + 1 + q\n",
    "                \n",
    "            return idx_vec\n",
    "    return idx_vec\n",
    "\n",
    "\n",
    "def is_vec_floor(idx_vec): # проверка, состоит ли ВИ только из единиц\n",
    "    for el in idx_vec:\n",
    "        if el != 1:\n",
    "            return false\n",
    "    return true\n",
    "            \n",
    "    \n",
    "def make_star_chain(idx_vec): # построение звездной цепочки по ВИ\n",
    "    chain = [1]\n",
    "    for el in idx_vec:\n",
    "        chain.append(chain[len(chain)-1] + chain[el-1])\n",
    "    return chain\n",
    "    \n",
    "    \n",
    "\n",
    "def find_star_chain_with_splitting_vector_alg(n):\n",
    "    start_time = time.time()\n",
    "    \n",
    "    l_l = find_low(n)\n",
    "    l_h = find_high(n)\n",
    "    \n",
    "    res = []\n",
    "    \n",
    "    for m in range(l_l, l_h+1): # внешний цикл по длинным цепочкам\n",
    "        q = 0\n",
    "        \n",
    "        if m > 3:\n",
    "            q = m // 2\n",
    "        else:\n",
    "            q = m\n",
    "            \n",
    "        idx_vec = [i for i in range(1, q+1)] # построение фиксированной части ВИ нужного размера\n",
    "        \n",
    "        while(is_vec_floor(idx_vec) != true): # внутренний цикл (перебор фиксированной части ВИ)\n",
    "            length = m - q\n",
    "            \n",
    "            \n",
    "            # вычисление a_min и a_max\n",
    "            add_ones = [1 for j in range(1, length + 1)]\n",
    "            add_max = [j + q for j in range(1, length + 1)]\n",
    "            \n",
    "            max_vec = idx_vec + add_max\n",
    "            min_vec = idx_vec + add_ones\n",
    "            \n",
    "            max_chain = make_star_chain(max_vec)\n",
    "            min_chain = make_star_chain(min_vec)\n",
    "            \n",
    "            a_max = max_chain[len(max_chain) - 1]\n",
    "            a_min = min_chain[len(min_chain) - 1]\n",
    "            \n",
    "            \n",
    "            # если a_m = n -> задача решена\n",
    "            if a_max == n:\n",
    "                return (max_chain, time.time() - start_time)\n",
    "            if a_min == n:\n",
    "                return (min_chain, time.time() - start_time)\n",
    "            \n",
    "            \n",
    "            # если n принадлежит [a_min, a_max]\n",
    "            if (n > a_min) and (n < a_max):        \n",
    "                while(is_vec_floor(add_max) != true): # перебор меняющейся части ВИ\n",
    "                    add_max = change_vec_to_less(add_max, q)\n",
    "                    chain = make_star_chain(idx_vec + add_max)\n",
    "                    \n",
    "                    if(chain[len(chain) - 1] == n): # если a_m = n -> задача решена \n",
    "                        return (chain, time.time() - start_time)\n",
    "            \n",
    "            # если n не принадлежит [a_min, a_max], то нет смысла трогать меняющуюся часть ВИ\n",
    "            \n",
    "            idx_vec = change_vec_to_less(idx_vec) # переход к следующей фиксированной части ВИ\n",
    "            \n",
    "        res = idx_vec\n",
    "  \n",
    "    return (make_star_chain(res), time.time() - start_time)"
   ]
  },
  {
   "cell_type": "code",
   "execution_count": 114,
   "metadata": {
    "scrolled": true
   },
   "outputs": [
    {
     "name": "stdout",
     "output_type": "stream",
     "text": [
      "Результаты алгоритма дробления ВИ:\n",
      "\n",
      "Звездная цепочка:  [1, 2, 4, 8, 16, 32, 64, 96, 100, 200, 400, 500, 501] \n",
      "Затраченное время:  967.4300038814545\n",
      "\n",
      "Результаты алгоритма Брауэра:\n",
      "\n",
      "Найденная цепочка Брауэра:  [1, 2, 3, 4, 5, 6, 7, 14, 28, 56, 62, 124, 248, 496, 501] \n",
      "Затраченное время:  0.0001709461212158203\n"
     ]
    }
   ],
   "source": [
    "# пример 1\n",
    "n = 501\n",
    "\n",
    "res_chains_vec = find_star_chain_with_splitting_vector_alg(n)\n",
    "\n",
    "print(\"Результаты алгоритма дробления ВИ:\\n\")\n",
    "print(\"Звездная цепочка: \", res_chains_vec[0], \"\\nЗатраченное время: \", res_chains_vec[1])\n",
    "\n",
    "\n",
    "res_Br_vec = []\n",
    "start_time = time.time()\n",
    "find_Brauer_additive_chain(n, 3, res_Br_vec)\n",
    "find_time = time.time() - start_time\n",
    "\n",
    "print(\"\\nРезультаты алгоритма Брауэра:\\n\")\n",
    "print(\"Найденная цепочка Брауэра: \", res_Br_vec, \"\\nЗатраченное время: \", find_time)"
   ]
  },
  {
   "cell_type": "code",
   "execution_count": 115,
   "metadata": {},
   "outputs": [
    {
     "name": "stdout",
     "output_type": "stream",
     "text": [
      "Результаты алгоритма дробления ВИ:\n",
      "\n",
      "Звездная цепочка:  [1, 2, 4, 8, 16, 32, 64, 72, 136, 137, 209, 418, 555] \n",
      "Затраченное время:  892.6052141189575\n",
      "\n",
      "Результаты алгоритма Брауэра:\n",
      "\n",
      "Найденная цепочка Брауэра:  [1, 2, 3, 4, 5, 6, 7, 2, 4, 8, 8, 16, 32, 64, 69, 138, 276, 552, 555] \n",
      "Затраченное время:  0.00017070770263671875\n"
     ]
    }
   ],
   "source": [
    "# пример 2\n",
    "n = 555\n",
    "\n",
    "res_chains_vec = find_star_chain_with_splitting_vector_alg(n)\n",
    "\n",
    "print(\"Результаты алгоритма дробления ВИ:\\n\")\n",
    "print(\"Звездная цепочка: \", res_chains_vec[0], \"\\nЗатраченное время: \", res_chains_vec[1])\n",
    "\n",
    "\n",
    "res_Br_vec = []\n",
    "start_time = time.time()\n",
    "find_Brauer_additive_chain(n, 3, res_Br_vec)\n",
    "find_time = time.time() - start_time\n",
    "\n",
    "print(\"\\nРезультаты алгоритма Брауэра:\\n\")\n",
    "print(\"Найденная цепочка Брауэра: \", res_Br_vec, \"\\nЗатраченное время: \", find_time)"
   ]
  },
  {
   "cell_type": "code",
   "execution_count": 116,
   "metadata": {},
   "outputs": [
    {
     "name": "stdout",
     "output_type": "stream",
     "text": [
      "Результаты алгоритма дробления ВИ:\n",
      "\n",
      "Звездная цепочка:  [1, 2, 4, 8, 16, 32, 64, 128, 192, 200, 400, 600] \n",
      "Затраченное время:  8.209331035614014\n",
      "\n",
      "Результаты алгоритма Брауэра:\n",
      "\n",
      "Найденная цепочка Брауэра:  [1, 2, 3, 4, 5, 6, 7, 2, 4, 8, 9, 18, 36, 72, 75, 150, 300, 600, 600] \n",
      "Затраченное время:  0.00015878677368164062\n"
     ]
    }
   ],
   "source": [
    "# пример 3\n",
    "n = 600\n",
    "\n",
    "res_chains_vec = find_star_chain_with_splitting_vector_alg(n)\n",
    "\n",
    "print(\"Результаты алгоритма дробления ВИ:\\n\")\n",
    "print(\"Звездная цепочка: \", res_chains_vec[0], \"\\nЗатраченное время: \", res_chains_vec[1])\n",
    "\n",
    "\n",
    "res_Br_vec = []\n",
    "start_time = time.time()\n",
    "find_Brauer_additive_chain(n, 3, res_Br_vec)\n",
    "find_time = time.time() - start_time\n",
    "\n",
    "print(\"\\nРезультаты алгоритма Брауэра:\\n\")\n",
    "print(\"Найденная цепочка Брауэра: \", res_Br_vec, \"\\nЗатраченное время: \", find_time)"
   ]
  },
  {
   "cell_type": "markdown",
   "metadata": {},
   "source": [
    "**Вывод:** алгоритм дробления вектора индексов действительно находит более короткие цепочки, но для этого требует в разы больше времени. В рассмотренных примерах разница во времени между этим алгоритмом и алгоритмом Брауэра в-среднем более чем в 3646606 раз. Поэтому, если важнее результат, а время выполнения вторично, то стоит отдавать предпочтение методу дробления вектора индексов. Если же наоборот - важна скорость выполнения рассчетов, то предпочтение стоит отдать методу Брауэра.\n",
    "\n",
    "**4. Проверка следствия 1 теоремы Брауэра**"
   ]
  },
  {
   "cell_type": "code",
   "execution_count": 8,
   "metadata": {},
   "outputs": [
    {
     "data": {
      "image/png": "[encoded data removed]",
      "text/plain": [
       "<Figure size 1080x1080 with 1 Axes>"
      ]
     },
     "metadata": {
      "needs_background": "light"
     },
     "output_type": "display_data"
    }
   ],
   "source": [
    "import matplotlib.pyplot as plt\n",
    "import numpy as np\n",
    "from scipy.optimize import leastsq\n",
    "\n",
    "\n",
    "def check_Brau():\n",
    "    ls = []\n",
    "    for i in range(1,201):\n",
    "        res, t = find_star_chain_with_splitting_vector_alg(i)\n",
    "        ls.append(len(res))\n",
    "    return  ls\n",
    "\n",
    "\n",
    "result_Brau = check_Brau()\n",
    "\n",
    "\n",
    "def find_model(t, coeffs):\n",
    "    return np.log(t)*coeffs[0]\n",
    "\n",
    "\n",
    "def find_residuals(coeffs, y, t):\n",
    "    return  y - find_model(t, coeffs)\n",
    "\n",
    "\n",
    "def plot_graph():\n",
    "    figure, axes = plt.subplots(figsize = (15,15))\n",
    "    x, y = [i for i in range(1,201)], result_Brau\n",
    "    t = np.arange(1, 201)\n",
    "    res = np.array(result_Brau)\n",
    "    p, flag = leastsq(find_residuals, 1, args=(res, t))\n",
    "    plt.plot(t, res, 'o',  t, find_model(t, p))\n",
    "\n",
    "    \n",
    "plot_graph()"
   ]
  },
  {
   "cell_type": "markdown",
   "metadata": {},
   "source": [
    "**Вывод:**\n",
    "\n",
    "График напоминает график логарифма, что подтверждает теорему Брауэра. С увеличением $n$ ввиду логарифмического роста длина $l(n)$ будет не так сильно увеличиваться, поэтому $l(n)$ и $\\lambda(n)$ будут эквивалентны на бесконечности.\n",
    "\n",
    "**5. Проверка гипотезы Шольца-Брауэра**\n"
   ]
  },
  {
   "cell_type": "code",
   "execution_count": 24,
   "metadata": {
    "scrolled": true
   },
   "outputs": [
    {
     "name": "stdout",
     "output_type": "stream",
     "text": [
      "lefts:  [3, 5, 6, 8, 9, 11, 11, 13, 14] \trigths:  [3, 5, 6, 8, 9, 11, 11, 13, 14]\n",
      "3  <=  3 \tIt's  True\n",
      "5  <=  5 \tIt's  True\n",
      "6  <=  6 \tIt's  True\n",
      "8  <=  8 \tIt's  True\n",
      "9  <=  9 \tIt's  True\n",
      "11  <=  11 \tIt's  True\n",
      "11  <=  11 \tIt's  True\n",
      "13  <=  13 \tIt's  True\n",
      "14  <=  14 \tIt's  True\n"
     ]
    }
   ],
   "source": [
    "#l*(2^n-1) <= l*(n) + n - 1\n",
    "\n",
    "def find_left_right_parts_of_Sholtz_hypothesis():\n",
    "    l_2s = []\n",
    "    l_ns = []\n",
    "    for i in range(2,11): #до 11\n",
    "        left_part_of_hypothesis = find_star_chain_with_splitting_vector_alg((1 << i) - 1)\n",
    "        right_part_of_hypothesis = find_star_chain_with_splitting_vector_alg(i)\n",
    "        \n",
    "        l_2s.append(len(left_part_of_hypothesis[0]))\n",
    "        l_ns.append(len(right_part_of_hypothesis[0]) + i - 1)\n",
    "        \n",
    "    return [l_2s, l_ns]\n",
    "\n",
    "\n",
    "results = find_left_right_parts_of_Sholtz_hypothesis()\n",
    "print(\"lefts: \", results[0], \"\\trigths: \", results[1])\n",
    "\n",
    "for m in range(0, len(results[0])):\n",
    "    print(results[0][m], \" <= \", results[1][m], \"\\tIt's \", results[0][m] <= results[1][m])\n"
   ]
  },
  {
   "cell_type": "markdown",
   "metadata": {},
   "source": [
    "**Вывод:**\n",
    "\n",
    "Действительно, гипотеза верна для чисел $n\\leqslant10$. Эту гипотезу следует использовать при уверенности, что расхождение между величинами будет не велико. Она даст хороший выигрыш в производительности за счет того, что считать минимальную цепочку для чисел $2^{10}$ намного дольше чем для $10$, и для рассмотренного промежутка теперь для вычисления длины цепочки $l*(2^n-1)$ достаточно вычислить $l*(n)$+$n$-1."
   ]
  },
  {
   "cell_type": "markdown",
   "metadata": {},
   "source": [
    "## Выводы\n",
    "\n"
   ]
  },
  {
   "cell_type": "markdown",
   "metadata": {},
   "source": [
    "Были рассмотрены: бинарный метод, метод множителей, алгоритм Брауэра, метод дробления векторов, первое следствие теоремы Брауэра и гипотеза Шольца-Брауэра.\n",
    "\n",
    "Бинарный метод очень прост в реализации, но в-среднем он будет показывать результат чуть хуже, чем метод множителей.\n",
    "\n",
    "Алгоритм Брауэра дает приемлимые длины аддитивных цепочек и требует не много вычислительных мощностей, в отличии от более правильного алгоритма дробления векторов, который показывает точную минимальную длину цепочки, но требует огромных ресурсов. \n",
    "\n",
    "Следствие 1 теоремы Брауэра было проверено и оно действительно верно.\n",
    "\n",
    "Также была проверена гипотеза Шольца-Брауэра для чисел $n\\leqslant10$. Можно воспользоваться этой гипотезой, чтобы не вычислять числа порядка $2^{10}$ схожим методом с алгоритмом дробления векторов."
   ]
  }
 ],
 "metadata": {
  "kernelspec": {
   "display_name": "SageMath 9.0",
   "language": "sage",
   "name": "sagemath"
  },
  "language_info": {
   "codemirror_mode": {
    "name": "ipython",
    "version": 3
   },
   "file_extension": ".py",
   "mimetype": "text/x-python",
   "name": "python",
   "nbconvert_exporter": "python",
   "pygments_lexer": "ipython3",
   "version": "3.8.5"
  }
 },
 "nbformat": 4,
 "nbformat_minor": 4
}
