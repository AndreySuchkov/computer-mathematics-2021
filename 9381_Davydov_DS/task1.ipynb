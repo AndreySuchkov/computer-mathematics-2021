{
 "cells": [
  {
   "cell_type": "markdown",
   "metadata": {},
   "source": [
    "# Практическая работа №1: Исследование алгоритмов формирования аддитивных цепочек"
   ]
  },
  {
   "cell_type": "markdown",
   "metadata": {},
   "source": [
    "Выполнил студент группы 9381 Давыдов Дмитрий, вариант 50"
   ]
  },
  {
   "cell_type": "markdown",
   "metadata": {},
   "source": [
    "# Цель работы"
   ]
  },
  {
   "cell_type": "markdown",
   "metadata": {},
   "source": [
    "Формирование представления об аддитивных цепочках, выработать умение составлять и применять алгоритмы для нахождения минимальных аддитивных цепочек для заданного числа, привить навык использования систем компьютерной алгебры для реализации алгоритмов."
   ]
  },
  {
   "cell_type": "markdown",
   "metadata": {},
   "source": [
    "# Основные теоретические положения"
   ]
  },
  {
   "cell_type": "markdown",
   "metadata": {},
   "source": [
    "### Бинарный метод"
   ]
  },
  {
   "cell_type": "markdown",
   "metadata": {},
   "source": [
    "Бинарный метод - это методо возведения числа в натуральную степень.\n",
    "\n",
    "Алгоритм работы:\n",
    "\n",
    "* Представляем x в двоичном виде без первой цифры (единицы)\n",
    "* Идя от старшего до младшего бита, возводим x в квадрат на каждой итерации, но если очередной бит равен 1, то к результату квадрата само число x.\n",
    "* Количество операций:  "
   ]
  },
  {
   "cell_type": "markdown",
   "metadata": {},
   "source": [
    "### Метод множителей"
   ]
  },
  {
   "cell_type": "markdown",
   "metadata": {},
   "source": [
    "В этом методе степень n для числа представляется как произведение наименьшего простого делителя n, равного i, на результат деления n на него, равного j. Затем x возводится в степень i, после результат возводится в степень j. Эти возвидения в степень могут выполняться бинарным методом. В результате получится искомое $x^n$. Если число n - простое число, то на множители i и j раскладывается n-1, х возводится в эту степень и умножается на исходое х, чтобы получилось искомое $x^n$."
   ]
  },
  {
   "cell_type": "markdown",
   "metadata": {},
   "source": [
    "### Аддитивная цепочка"
   ]
  },
  {
   "cell_type": "markdown",
   "metadata": {},
   "source": [
    "Аддитивной цепочкой для натурального числа $n \\in \\mathbb{N}$ называется последовательность чисел $1=a_{1}, a_{2}, a_{3}, \\ldots, a_{m}=n$, где $a_{i}=a_{j}+a_{k}, k \\leqslant j<i, i=1 . . n $ . $l(n)$ называется минимальная длина аддитивной цепочки. Для $\\forall n \\leqslant 1000$ справедлива рекурентная формула: $l(n)=\\min \\left\\{l(n-1)+1, l_{n}\\right\\}-\\delta_{n}$, где  \n",
    "$l_{p}=\\left\\{\\begin{array}{l}\\infty, \\text { ecли } \\mathrm{p} \\text { - простое } \\\\ l(q)+l\\left(\\frac{p}{q}\\right), \\text { если q - минимальный простой делитель числа } \\mathrm{p}, \\delta_{n} \\in\\{0,1\\}\\end{array}\\right.$"
   ]
  },
  {
   "cell_type": "markdown",
   "metadata": {},
   "source": [
    "### Типы шагов для аддитивной цепочки"
   ]
  },
  {
   "cell_type": "markdown",
   "metadata": {},
   "source": [
    "Для аддитивной цепочки если $a_{i}<a_{i+1}$, то равенство $a_{i}=a_{j}+a_{k, i}=1 . . m,$ где  $0 \\leqslant k \\leqslant j<i$ называется шагом аддитивной цепочки. Имеются следующие особые виды шагов:\n",
    "* Удвоение, если $i-1=k=j$;\n",
    "* Звёздный, если $j=i-1, k \\in\\{0, \\ldots, i-1\\}$;\n",
    "* Малый, если $\\lambda\\left(a_{i}\\right)=\\lambda\\left(a_{i-1}\\right)$"
   ]
  },
  {
   "cell_type": "markdown",
   "metadata": {},
   "source": [
    "### Алгоритм Брауэра"
   ]
  },
  {
   "cell_type": "markdown",
   "metadata": {},
   "source": [
    "Алгоритм Брауэра строит аддиктивную цепочку для заданного n. Эти цепочки можно задать в виде рекуретной формуля для каких-то натуральных n и k:"
   ]
  },
  {
   "cell_type": "markdown",
   "metadata": {},
   "source": [
    "$B_{k}(n)=\\left\\{\\begin{array}{ll}1,2,3, \\ldots, 2^{k}-1 & \\text { if } n<2^{k} \\\\ B_{k}(q), 2 q, 4 q, \\ldots, 2^{k} q, n & \\text { if } n \\geq 2^{k}, q=\\left\\lfloor\\frac{n}{2^{k}}\\right\\rfloor\\end{array}\\right.$"
   ]
  },
  {
   "cell_type": "markdown",
   "metadata": {},
   "source": [
    "Тогда число n можно представить в следующим виде:\n",
    "$n=\\sum_{i=0}^{j} a_{i} 2^{i k}, a_{j} \\neq 0$"
   ]
  },
  {
   "cell_type": "markdown",
   "metadata": {},
   "source": [
    "Длина соответствующей цепочки будет вычислена по следующему принципу:\n",
    "$l_{B}(n)=j(k+1)+2^{k}-2, j k \\leq l b n<(j+1) k$ для $k \\sim l b(l b(n))-2 l b(l b(l b(n)))$"
   ]
  },
  {
   "cell_type": "markdown",
   "metadata": {},
   "source": [
    "Алгоритм по шагам:\n",
    "* Вычисляются неполные частные $q_{i}$ и остатки $r_{i}$ при делении $n$ на $2^{k}$ до тех пор, пока $q_{s}$ не будет меньше $2^{k}$\n",
    "* Затем строится цепочка от 1 до $\\mathrm{b}$, где $\\mathrm{b}$ - максимум из всех возможных остатков и последнего неполного частного $q_{s .}$\n",
    "* Далее в цепочку добавляются элементы $2 q_{s}, 4 q_{s}, \\ldots, 2^{k} q_{s}$\n",
    "* Затем к цепочке добавляется $2\\left(2 q_{s}+r_{s}\\right), 4\\left(2 q_{s}+r_{s}\\right), \\ldots, 2^{k}\\left(2 q_{s}+r_{s}\\right)$\n",
    "* И так далее, до тех пока последний элемент цепочки не будет равен $\\mathrm{n}$"
   ]
  },
  {
   "cell_type": "markdown",
   "metadata": {},
   "source": [
    "### Звёздная цепочка"
   ]
  },
  {
   "cell_type": "markdown",
   "metadata": {},
   "source": [
    "Звёздной цепочкой называется цепочка которая содержит в себе только звёздные шаги. То есть $a_{i}=a_{i-1}+a_{k}$, где $0 \\leqslant k \\leqslant i-1 .$ $l^{*}(n)$ называется длиной звёздной цепочки."
   ]
  },
  {
   "cell_type": "markdown",
   "metadata": {},
   "source": [
    "### Алгоритм дробления вектора индесов"
   ]
  },
  {
   "cell_type": "markdown",
   "metadata": {},
   "source": [
    "Алгоритм дробления вектора индексов является точным алгоритмом для нахождения минимальной звёздной цепочки для натурального числа $n .$\n",
    "Введём определение вектора индексов:\n",
    "$\\exists$ звёздная цепочка $l$ $^{*}(n)=m,\\left\\{a_{i}\\right\\}_{i=1}^{m}, a_{1}=1$,\n",
    "тогда можно задать вектор индексов $\\left\\{r_{i}\\right\\}_{i=1}^{m-1}$, где $r_{i}=\\{x: 1 \\leqslant x \\leqslant i\\}$. Тогда шаг звёздной цепочки можно задать следуюшим образом:\n",
    "$a_{i}=a_{i-1}+a_{r_{i-1}}$, где $2 \\leqslant i \\leqslant m .$\n",
    "Заметим, что наибольшая звёздная цепочка $S_{\\max }=\\left\\{1,2,4,8, \\ldots, 2^{m}\\right\\}$ соответсвует вектору индексов $r_{\\max }=\\{1,2,3,4, \\ldots, m-1\\}$, а наименьшая звёздная цепочка $S_{\\min }=\\{1,2,3,4, \\ldots, m\\}$ соответсвует вектору индек\\operatornameов $r_{\\min }=\\{1,1,1,1, \\ldots, 1\\} .$\n",
    "Будем считать, что $r=\\left\\{r_{i}\\right\\}_{i=1}^{m-1}$, больше чем $\\tilde{r}=\\left\\{\\tilde{r}_{i}\\right\\}_{i=1}^{m-1}$, если $r_{1}=\\tilde{r}_{1}, r_{2}=\\tilde{r}_{2}, r_{3}=\\tilde{r}_{3}, r_{i-1}=\\tilde{r}_{i-1}, \\ldots, r_{i}>\\tilde{r}_{i}$\n",
    "Нахождение звёздной цепочки минимальной длины происходит с помощью перебора. Вектор индексов разбивается на два вектора: $r=\\left\\{r_{i}\\right\\}_{i=1}^{q}$ фиксированный вектор, $\\rho=\\left\\{\\rho_{j}\\right\\}_{j=q+1}^{m-1}$ - меняющийся вектор. Заметим, что наибольшее значение $a_{m}$ достигается при векторе индексов $\\left\\{r_{i}\\right\\}_{i=1}^{q} \\cup\\{q+1, q+2, \\ldots, m-1\\}, a_{\\min }=a_{q+1} \\cdot 2^{m-q} \\ldots \\quad$ Наименьшее $\\quad$ значение $\\quad$ а_m $^{m-1}$ при векторе $\\quad$ индексов\n",
    "$\\left\\{r_{i}\\right\\}_{i=1}^{q} \\cup\\{1,1, \\ldots, 1\\}, a_{\\max }=a_{q+1}+m-q$\n",
    "На основании вышесказанного получаем следующий алгоритм. Вектор индексов разбивается на фиксированный и меняющийся. Вычисляются $a_{\\min }$ и $a_{\\max } .$ Если $n \\notin\\left[a_{\\min }, a_{\\max }\\right]$, то осуществляется переход к следующему фиксированному вектору. Если для заданной длины не нашлось аддитивной цепочки, то длина цепочки увеличивается. "
   ]
  },
  {
   "cell_type": "markdown",
   "metadata": {},
   "source": [
    "Длина аддитивной цепочки $m \\in[\\underline{l}(n), \\bar{l}(n)]$, где $\\underline{l}(n)=\\left\\lceil\\log _{2} n\\right\\rceil, \\bar{l}(n)=\\lambda(n)+\\nu(n)-1$"
   ]
  },
  {
   "cell_type": "markdown",
   "metadata": {},
   "source": [
    "### Теорема Шольца-Брауэра"
   ]
  },
  {
   "cell_type": "markdown",
   "metadata": {},
   "source": [
    "Пусть $l^{*}(n)$ - длина некоторой звёздной цепочки."
   ]
  },
  {
   "cell_type": "markdown",
   "metadata": {},
   "source": [
    "Тогда для любого $n \\in \\mathbb{N}$ верно: $l^{*}\\left(2^{n}-1\\right) \\leq l^{*}(n)+n-1$"
   ]
  },
  {
   "cell_type": "markdown",
   "metadata": {},
   "source": [
    "### Теорема Брауера"
   ]
  },
  {
   "cell_type": "markdown",
   "metadata": {},
   "source": [
    "Для некоторого $k<\\log _{2}\\left(\\log _{2}(n)\\right)$ верно: $l(n)<\\left(1+k^{-1}\\right) \\cdot\\left\\lceil\\log _{2}(n)\\right]+2^{k-1}-k+2$<br>\n",
    "При $k=\\lambda(\\lambda(n))-2 \\lambda(\\lambda(\\lambda(n)))$ верны следующие следствия:"
   ]
  },
  {
   "cell_type": "markdown",
   "metadata": {},
   "source": [
    "* $\\lim _{n \\rightarrow \\infty} \\frac{l(n)}{\\lambda(n)}=1$\n",
    "* Наилучшая верхняя оценка для длины аддитивной цепочки: $\\lambda(n)\\left(1+\\frac{1}{\\lambda(\\lambda(n))}+\\frac{o(\\lambda(\\lambda(\\lambda(n))))}{\\lambda(\\lambda(n))^{2}}\\right)$"
   ]
  },
  {
   "cell_type": "markdown",
   "metadata": {},
   "source": [
    "# Постановка задачи"
   ]
  },
  {
   "cell_type": "markdown",
   "metadata": {},
   "source": [
    "Реализовать несколько алгоритмов для поиска минимальных аддитивных цепочек для числа при помощи SageMath, провести их анализ, а также проверить некоторые теоремы, связанные с аддитивными цепочками"
   ]
  },
  {
   "cell_type": "markdown",
   "metadata": {},
   "source": [
    "## Порядок выполнения работы"
   ]
  },
  {
   "cell_type": "markdown",
   "metadata": {},
   "source": [
    "1. Применить бинарный метод и метод множителей для $x^n$, где n⩾30, для 2-3 значений n (значения n выбирается студентом самостоятельно). Сравнить количество операций для каждого метода, сделать выводы.\n",
    "2. Реализовать алгоритм Брауэра для вычисления приближённых аддитивных цепочек для различных чисел при варьировании параметра k, сопоставить длины полученных аддитивных цепочек с минимальной аддитивной цепочкой для заданного числа. Сделать выводы.\n",
    "3. Реализовать алгоритм дробления вектора индексов для нахождения минимальной звёздной цепочки для заданного числа. Протестировать алгоритм при n>500. Указать, сколько времени потребовалось на поиск цепочки и какая цепочка получилась. Сравнить с предыдущими методами, сделать выводы.\n",
    "4. Проверить следствие 1 теоремы Брауэра для n=1..200 путём построения функции l(n) и аппроксимирующей кривой, полученной с помощью метода наименьших квадратов. Сопоставить функции на одном графике, сделать выводы.\n",
    "5. Проверить гипотезу Шольца–Брауэра для 1<n⩽10 на алгоритме дробления вектора индексов. Сделать выводы."
   ]
  },
  {
   "cell_type": "markdown",
   "metadata": {},
   "source": [
    "# Выполнение работы "
   ]
  },
  {
   "cell_type": "markdown",
   "metadata": {},
   "source": [
    "## 1. Вычиление степени бинарным методом и методом множителей"
   ]
  },
  {
   "cell_type": "markdown",
   "metadata": {},
   "source": [
    "Бинарный метод:"
   ]
  },
  {
   "cell_type": "code",
   "execution_count": 56,
   "metadata": {},
   "outputs": [],
   "source": [
    "import math\n",
    "\n",
    "def binPow(x, y):\n",
    "    y = bin(y)[3::]\n",
    "    count = 0\n",
    "    res = x\n",
    "    power = 1\n",
    "    chain = [x]\n",
    "    for i in y:\n",
    "        if i == '0':\n",
    "            res *= res\n",
    "            count += 1\n",
    "            power *= 2\n",
    "        elif i == '1':\n",
    "            power *= 2\n",
    "            res *= res\n",
    "            res *= x  \n",
    "            count += 2\n",
    "            power += 1\n",
    "        chain.append(power)\n",
    "        \n",
    "    return [res, count, chain]"
   ]
  },
  {
   "cell_type": "markdown",
   "metadata": {},
   "source": [
    "Метод множителей:"
   ]
  },
  {
   "cell_type": "code",
   "execution_count": 57,
   "metadata": {},
   "outputs": [],
   "source": [
    "def multPow(x, n):\n",
    "    F = factor(n)\n",
    "    if F[0][0] == n:\n",
    "        res = binPow(x, n-1)\n",
    "        res[0] = res[0] * x\n",
    "        res[1] = res[1] + 1\n",
    "        return res\n",
    "    a = binPow(x, F[0][0])\n",
    "    b = binPow(a[0], n // F[0][0])\n",
    "    return [b[0], a[1] + b[1], a[2], b[2]]"
   ]
  },
  {
   "cell_type": "code",
   "execution_count": 2,
   "metadata": {},
   "outputs": [],
   "source": [
    "import matplotlib.pyplot as plt"
   ]
  },
  {
   "cell_type": "code",
   "execution_count": 62,
   "metadata": {},
   "outputs": [
    {
     "name": "stdout",
     "output_type": "stream",
     "text": [
      "n = 105\n",
      "БМ: Количество операций - 9, последовательность степеней [1, 3, 6, 13, 26, 52, 105]\n",
      "ММ: Количество операций - 9, последовательность степеней x = [1, 3], последовательность степеней y = x^3 = [1, 2, 4, 8, 17, 35]\n",
      "\n",
      "n = 459\n",
      "БМ: Количество операций - 13, последовательность степеней [1, 3, 7, 14, 28, 57, 114, 229, 459]\n",
      "ММ: Количество операций - 12, последовательность степеней x = [1, 3], последовательность степеней y = x^3 = [1, 2, 4, 9, 19, 38, 76, 153]\n",
      "\n",
      "n = 10444\n",
      "БМ: Количество операций - 18, последовательность степеней [1, 2, 5, 10, 20, 40, 81, 163, 326, 652, 1305, 2611, 5222, 10444]\n",
      "ММ: Количество операций - 18, последовательность степеней x = [1, 2], последовательность степеней y = x^2 = [1, 2, 5, 10, 20, 40, 81, 163, 326, 652, 1305, 2611, 5222]\n",
      "\n",
      "n = 15002\n",
      "БМ: Количество операций - 20, последовательность степеней [1, 3, 7, 14, 29, 58, 117, 234, 468, 937, 1875, 3750, 7501, 15002]\n",
      "ММ: Количество операций - 20, последовательность степеней x = [1, 2], последовательность степеней y = x^2 = [1, 3, 7, 14, 29, 58, 117, 234, 468, 937, 1875, 3750, 7501]\n",
      "\n"
     ]
    }
   ],
   "source": [
    "powers = [105, 459, 10444, 15002]\n",
    "for i in powers:\n",
    "    BM = binPow(1, i)\n",
    "    MM = multPow(1, i)\n",
    "    print(f'n = {i}\\nБМ: Количество операций - {BM[1]}, последовательность степеней {BM[2]}\\nММ: Количество операций - {MM[1]}, последовательность степеней x = {MM[2]}, последовательность степеней y = x^{MM[2][len(MM[2])-1]} = {MM[3]}\\n')"
   ]
  },
  {
   "cell_type": "markdown",
   "metadata": {},
   "source": [
    "## Вывод:"
   ]
  },
  {
   "cell_type": "markdown",
   "metadata": {},
   "source": [
    "При определенных степенях метод множителей показывает свою работу лучше."
   ]
  },
  {
   "cell_type": "markdown",
   "metadata": {},
   "source": [
    "## 2. Вычиление степени алгоритмом Брауэра"
   ]
  },
  {
   "cell_type": "code",
   "execution_count": 1,
   "metadata": {},
   "outputs": [],
   "source": [
    "def brouwer(number, k):\n",
    "    mods = []\n",
    "    d = 2**k\n",
    "    q_s = number; \n",
    "    \n",
    "    while q_s >= d:\n",
    "        mods.append(q_s % d)\n",
    "        q_s //= d\n",
    "    \n",
    "    mods.append(q_s)  \n",
    "    mods.reverse()\n",
    "    \n",
    "    \n",
    "    chain = [x for x in range(1, max(mods)+1)]\n",
    "    odds = [1]\n",
    "    lastElement = d\n",
    "    kPower = 0\n",
    "    \n",
    "    while lastElement != number:\n",
    "        if kPower < k:\n",
    "            kPower += 1\n",
    "            currentElement = 0\n",
    "            \n",
    "            for i in range(len(odds)):\n",
    "                odds[i] *= 2\n",
    "                currentElement += odds[i] * mods[i]\n",
    "                \n",
    "            chain.append(currentElement)\n",
    "            lastElement = currentElement\n",
    "            \n",
    "            if lastElement == number:\n",
    "                return chain\n",
    "        else:    \n",
    "            \n",
    "            kPower = 0\n",
    "            odds.append(1) \n",
    "            currentElement = 0\n",
    "            \n",
    "            if mods[len(odds)-1] == 0:\n",
    "                continue\n",
    "            \n",
    "            for i in range(len(odds)):\n",
    "                currentElement += odds[i] * mods[i]\n",
    "                \n",
    "            chain.append(currentElement)\n",
    "            lastElement = currentElement\n",
    "            \n",
    "    return chain            "
   ]
  },
  {
   "cell_type": "code",
   "execution_count": 77,
   "metadata": {},
   "outputs": [
    {
     "name": "stdout",
     "output_type": "stream",
     "text": [
      "n = 31, k = 1, length = 9, chain = [1, 2, 3, 6, 7, 14, 15, 30, 31]\n",
      "n = 31, k = 2, length = 9, chain = [1, 2, 3, 2, 4, 7, 14, 28, 31]\n",
      "n = 31, k = 3, length = 11, chain = [1, 2, 3, 4, 5, 6, 7, 6, 12, 24, 31]\n",
      "n = 31, k = 4, length = 20, chain = [1, 2, 3, 4, 5, 6, 7, 8, 9, 10, 11, 12, 13, 14, 15, 2, 4, 8, 16, 31]\n",
      "n = 69, k = 1, length = 9, chain = [1, 2, 4, 8, 16, 17, 34, 68, 69]\n",
      "n = 69, k = 2, length = 9, chain = [1, 2, 4, 8, 16, 17, 34, 68, 69]\n",
      "n = 69, k = 3, length = 12, chain = [1, 2, 3, 4, 5, 2, 4, 8, 16, 32, 64, 69]\n",
      "n = 69, k = 4, length = 10, chain = [1, 2, 3, 4, 5, 8, 16, 32, 64, 69]\n",
      "n = 125, k = 1, length = 12, chain = [1, 2, 3, 6, 7, 14, 15, 30, 31, 62, 124, 125]\n",
      "n = 125, k = 2, length = 12, chain = [1, 2, 3, 2, 4, 7, 14, 28, 31, 62, 124, 125]\n",
      "n = 125, k = 3, length = 15, chain = [1, 2, 3, 4, 5, 6, 7, 2, 4, 8, 15, 30, 60, 120, 125]\n",
      "n = 125, k = 4, length = 18, chain = [1, 2, 3, 4, 5, 6, 7, 8, 9, 10, 11, 12, 13, 14, 28, 56, 112, 125]\n",
      "n = 322, k = 1, length = 11, chain = [1, 2, 4, 5, 10, 20, 40, 80, 160, 161, 322]\n",
      "n = 322, k = 2, length = 12, chain = [1, 2, 2, 4, 5, 10, 20, 40, 80, 160, 320, 322]\n",
      "n = 322, k = 3, length = 12, chain = [1, 2, 3, 4, 5, 10, 20, 40, 80, 160, 320, 322]\n",
      "n = 322, k = 4, length = 14, chain = [1, 2, 3, 4, 2, 4, 8, 16, 20, 40, 80, 160, 320, 322]\n"
     ]
    }
   ],
   "source": [
    "numbers = [31, 69, 125, 322]\n",
    "bestComb = []\n",
    "for i in numbers:\n",
    "    minLength = 100000;\n",
    "    minLChain = [];\n",
    "    for k in range(1,5):\n",
    "        result = brouwer(i, k)\n",
    "        if len(result) < minLength:\n",
    "            minLChain = result\n",
    "            minLength = len(result)\n",
    "        print(f'n = {i}, k = {k}, length = {len(result)}, chain = {result}')\n",
    "    bestComb.append((i, minLength, minLChain))"
   ]
  },
  {
   "cell_type": "code",
   "execution_count": 81,
   "metadata": {},
   "outputs": [
    {
     "name": "stdout",
     "output_type": "stream",
     "text": [
      "Для n = 31 наименьшая цепочка полученная с помощью метода Брауэра имеет длину 9: [1, 2, 3, 6, 7, 14, 15, 30, 31]\n",
      "Для n = 69 наименьшая цепочка полученная с помощью метода Брауэра имеет длину 9: [1, 2, 4, 8, 16, 17, 34, 68, 69]\n",
      "Для n = 125 наименьшая цепочка полученная с помощью метода Брауэра имеет длину 12: [1, 2, 3, 6, 7, 14, 15, 30, 31, 62, 124, 125]\n",
      "Для n = 322 наименьшая цепочка полученная с помощью метода Брауэра имеет длину 11: [1, 2, 4, 5, 10, 20, 40, 80, 160, 161, 322]\n"
     ]
    }
   ],
   "source": [
    "for i in range(0, len(bestComb)):\n",
    "    print(f'Для n = {bestComb[i][0]} наименьшая цепочка полученная с помощью метода Брауэра имеет длину {bestComb[i][1]}: {bestComb[i][2]}')"
   ]
  },
  {
   "cell_type": "code",
   "execution_count": 85,
   "metadata": {},
   "outputs": [
    {
     "name": "stdout",
     "output_type": "stream",
     "text": [
      "n = 31\n",
      "Цепочка алгоритма дробления вектора индексов: [1, 2, 4, 8, 10, 20, 30, 31], длина 8\n",
      "Метод Брауэра: [1, 2, 3, 6, 7, 14, 15, 30, 31], длина 9\n",
      "\n",
      "n = 69\n",
      "Цепочка алгоритма дробления вектора индексов: [1, 2, 4, 8, 16, 32, 64, 68, 69], длина 9\n",
      "Метод Брауэра: [1, 2, 4, 8, 16, 17, 34, 68, 69], длина 9\n",
      "\n",
      "n = 125\n",
      "Цепочка алгоритма дробления вектора индексов: [1, 2, 4, 8, 16, 24, 25, 50, 100, 125], длина 10\n",
      "Метод Брауэра: [1, 2, 3, 6, 7, 14, 15, 30, 31, 62, 124, 125], длина 12\n",
      "\n",
      "n = 322\n",
      "Цепочка алгоритма дробления вектора индексов: [1, 2, 4, 8, 16, 32, 64, 128, 256, 320, 322], длина 11\n",
      "Метод Брауэра: [1, 2, 4, 5, 10, 20, 40, 80, 160, 161, 322], длина 11\n",
      "\n"
     ]
    }
   ],
   "source": [
    "for i in range(0, len(bestComb)):\n",
    "    DV = splitIndexesVector(bestComb[i][0])\n",
    "    print(f'n = {bestComb[i][0]}\\nЦепочка алгоритма дробления вектора индексов: {DV[1]}, длина {DV[0]}\\nМетод Брауэра: {bestComb[i][2]}, длина {bestComb[i][1]}\\n')"
   ]
  },
  {
   "cell_type": "markdown",
   "metadata": {},
   "source": [
    "## Вывод"
   ]
  },
  {
   "cell_type": "markdown",
   "metadata": {},
   "source": [
    "Были рассмотрены аддитивные цепочки Брауэра при фиксированном n и различных k. Можно видеть, что при большом k длина цепочки увеличивается. При маленьком k близка к минимальной длине, но все равно не совпадает."
   ]
  },
  {
   "cell_type": "markdown",
   "metadata": {},
   "source": [
    "## 3. Метод дробления вектора индексов"
   ]
  },
  {
   "cell_type": "code",
   "execution_count": 3,
   "metadata": {},
   "outputs": [],
   "source": [
    "def starСhain(indexesVector):\n",
    "    s_chain = [1]\n",
    "    for i in indexesVector:\n",
    "        s_chain.append(s_chain[-1] + s_chain[i-1])\n",
    "    return s_chain"
   ]
  },
  {
   "cell_type": "code",
   "execution_count": 4,
   "metadata": {},
   "outputs": [],
   "source": [
    "import math\n",
    "\n",
    "def minChainVector(n):\n",
    "    chain = []\n",
    "    for i in range (1, n + 1):\n",
    "        chain.append(1)\n",
    "    return chain \n",
    "\n",
    "def maxChainVector(n, q):\n",
    "    chain = []\n",
    "    for i in range (1, n + 1):\n",
    "        chain.append(i + q)\n",
    "    return chain\n",
    "\n",
    "def reduceVec(indexesVector, q = 0):\n",
    "    for ind, val in reversed(list(enumerate(indexesVector))):\n",
    "        if val > 1:\n",
    "            indexesVector[ind] = val - 1\n",
    "            for k in range(ind + 1, len(indexesVector)):\n",
    "                indexesVector[k] = k + q + 1\n",
    "            return indexesVector\n",
    "    return indexesVector\n",
    "\n",
    "def checkOnes(indexesVector):\n",
    "    for i in indexesVector:\n",
    "        if i != 1:\n",
    "            return False\n",
    "    return True\n",
    "            \n",
    "def splitIndexesVector(n):\n",
    "    vec = []\n",
    "    for m in range(int(math.log(n,2)), int(math.log(n,2))+ int(bin(n)[2::].count('1'))):\n",
    "        indexesVector = []\n",
    "        q = m // 2\n",
    "        if q == 0:\n",
    "            q = 1\n",
    "        for i in range(1, q + 1):\n",
    "            indexesVector.append(i) \n",
    "        while not checkOnes(indexesVector):\n",
    "            lenAddVec = m - q\n",
    "            maxVec = maxChainVector(lenAddVec, q)\n",
    "            minChain = starСhain(indexesVector + minChainVector(lenAddVec))\n",
    "            maxChain = starСhain(indexesVector + maxVec)\n",
    "            a_min = minChain[-1]\n",
    "            a_max = maxChain[-1]\n",
    "            if a_min == n:\n",
    "                return [len(minChain), minChain]\n",
    "            if a_max == n:\n",
    "                return [len(maxChain), maxChain]\n",
    "            if n < a_max and n > a_min:\n",
    "                while not checkOnes(maxVec):\n",
    "                    maxVec = reduceVec(maxVec, q)\n",
    "                    new_chain = starСhain(indexesVector + maxVec)\n",
    "                    if new_chain[-1] == n:\n",
    "                        return [len(new_chain), new_chain]  \n",
    "            indexesVector = reduceVec(indexesVector)\n",
    "        vec = indexesVector\n",
    "    res_chain = starСhain(vec)\n",
    "    return [len(res_chain), res_chain]"
   ]
  },
  {
   "cell_type": "code",
   "execution_count": 91,
   "metadata": {},
   "outputs": [
    {
     "name": "stdout",
     "output_type": "stream",
     "text": [
      "n = 31\n",
      "Цепочка алгоритма дробления вектора индексов: [1, 2, 4, 8, 10, 20, 30, 31], длина 8\n",
      "Метод Брауэра: [1, 2, 3, 6, 7, 14, 15, 30, 31], длина 9\n",
      "\n",
      "n = 69\n",
      "Цепочка алгоритма дробления вектора индексов: [1, 2, 4, 8, 16, 32, 64, 68, 69], длина 9\n",
      "Метод Брауэра: [1, 2, 4, 8, 16, 17, 34, 68, 69], длина 9\n",
      "\n",
      "n = 125\n",
      "Цепочка алгоритма дробления вектора индексов: [1, 2, 4, 8, 16, 24, 25, 50, 100, 125], длина 10\n",
      "Метод Брауэра: [1, 2, 3, 6, 7, 14, 15, 30, 31, 62, 124, 125], длина 12\n",
      "\n",
      "n = 322\n",
      "Цепочка алгоритма дробления вектора индексов: [1, 2, 4, 8, 16, 32, 64, 128, 256, 320, 322], длина 11\n",
      "Метод Брауэра: [1, 2, 4, 5, 10, 20, 40, 80, 160, 161, 322], длина 11\n",
      "\n"
     ]
    }
   ],
   "source": [
    "numbers = [31, 69, 125, 322]\n",
    "for i in numbers:\n",
    "    DV = splitIndexesVector(i)\n",
    "    bestBrouwer = []\n",
    "    bestK = 0\n",
    "    minLength = 100000;\n",
    "    for k in range(1,5):\n",
    "        result = brouwer(i, k)\n",
    "        if len(result) < minLength:\n",
    "            bestK = k\n",
    "            minLength = len(result)\n",
    "            bestBrouwer = result\n",
    "    print(f'n = {i}\\nЦепочка алгоритма дробления вектора индексов: {DV[1]}, длина {DV[0]}\\nМетод Брауэра: {bestBrouwer}, длина {len(bestBrouwer)}\\n')"
   ]
  },
  {
   "cell_type": "markdown",
   "metadata": {},
   "source": [
    "## Вывод"
   ]
  },
  {
   "cell_type": "markdown",
   "metadata": {},
   "source": [
    "По сравнению с алгоритмом Брауэра минимальные цепочки вычисляются точно."
   ]
  },
  {
   "cell_type": "markdown",
   "metadata": {},
   "source": [
    "## 4. Проверка следствия теоремы Брауэра"
   ]
  },
  {
   "cell_type": "code",
   "execution_count": 14,
   "metadata": {},
   "outputs": [
    {
     "data": {
      "image/png": "[encoded data removed]",
      "text/plain": [
       "<Figure size 720x720 with 1 Axes>"
      ]
     },
     "metadata": {
      "needs_background": "light"
     },
     "output_type": "display_data"
    }
   ],
   "source": [
    "import matplotlib.pyplot as plt\n",
    "import numpy as np\n",
    "from scipy.optimize import leastsq\n",
    "\n",
    "def getValues(n):\n",
    "    dig = [i for i in range(1, n + 1)]\n",
    "    res = []\n",
    "    for i in range(1, n + 1):\n",
    "        x, y = split_indexes_vector(i)\n",
    "        res.append(x)\n",
    "    return dig, res    \n",
    "\n",
    "n = 200\n",
    "num, res = getValues(n)\n",
    "\n",
    "def model(t, coeffs):\n",
    "    return np.log(t)*coeffs[0]\n",
    "\n",
    "def residuals(coeffs, y, t):\n",
    "    return  y - model(t, coeffs)\n",
    "\n",
    "figure, axes = plt.subplots(figsize = (10,10))\n",
    "p, flag = leastsq(residuals, 1, args=(res, num))\n",
    "plt.plot(num, res, o,  num, model(num, p))\n",
    "plt.show()"
   ]
  },
  {
   "cell_type": "markdown",
   "metadata": {},
   "source": [
    "## Вывод"
   ]
  },
  {
   "cell_type": "markdown",
   "metadata": {},
   "source": [
    "Была построена аппроксимация $l(n)$ при $n$ от 1 до 200. Из графика видно, что построенная функция, иллюстрирующая поведение $\\ln (n)$ ведет себя также, как и логарифмическая функциия, из чего можно сделать вывод, что при $n \\rightarrow \\infty l(n)$ и $\\lambda(n)$ будут эквивалентны"
   ]
  },
  {
   "cell_type": "markdown",
   "metadata": {},
   "source": [
    "## 5. Проверка гипотезы Шольца-Брауэра"
   ]
  },
  {
   "cell_type": "code",
   "execution_count": 5,
   "metadata": {},
   "outputs": [
    {
     "name": "stdout",
     "output_type": "stream",
     "text": [
      "n = 3\n",
      "[2, [1, 2]]\n",
      "Length:  2\n",
      "n = 2\n",
      "[2, [1, 2]]\n",
      "l(n) + n - 1:  3\n",
      "2 <= 3 \n",
      "\n",
      "n = 7\n",
      "[5, [1, 2, 4, 6, 7]]\n",
      "Length:  2\n",
      "n = 3\n",
      "[2, [1, 2]]\n",
      "l(n) + n - 1:  4\n",
      "2 <= 4 \n",
      "\n",
      "n = 15\n",
      "[6, [1, 2, 4, 5, 10, 15]]\n",
      "Length:  2\n",
      "n = 4\n",
      "[2, [1, 2]]\n",
      "l(n) + n - 1:  5\n",
      "2 <= 5 \n",
      "\n",
      "n = 31\n",
      "[8, [1, 2, 4, 8, 10, 20, 30, 31]]\n",
      "Length:  2\n",
      "n = 5\n",
      "[2, [1, 2]]\n",
      "l(n) + n - 1:  6\n",
      "2 <= 6 \n",
      "\n",
      "n = 63\n",
      "[9, [1, 2, 4, 8, 16, 20, 21, 42, 63]]\n",
      "Length:  2\n",
      "n = 6\n",
      "[2, [1, 2]]\n",
      "l(n) + n - 1:  7\n",
      "2 <= 7 \n",
      "\n",
      "n = 127\n",
      "[11, [1, 2, 4, 8, 16, 32, 40, 42, 84, 126, 127]]\n",
      "Length:  2\n",
      "n = 7\n",
      "[5, [1, 2, 4, 6, 7]]\n",
      "l(n) + n - 1:  8\n",
      "2 <= 8 \n",
      "\n",
      "n = 255\n",
      "[11, [1, 2, 4, 8, 16, 17, 34, 68, 85, 170, 255]]\n",
      "Length:  2\n",
      "n = 8\n",
      "[2, [1, 2]]\n",
      "l(n) + n - 1:  9\n",
      "2 <= 9 \n",
      "\n",
      "n = 511\n",
      "[13, [1, 2, 4, 8, 16, 32, 64, 72, 73, 146, 292, 438, 511]]\n",
      "Length:  2\n",
      "n = 9\n",
      "[5, [1, 2, 4, 8, 9]]\n",
      "l(n) + n - 1:  10\n",
      "2 <= 10 \n",
      "\n",
      "n = 1023\n",
      "[14, [1, 2, 4, 8, 16, 32, 64, 68, 136, 272, 340, 341, 682, 1023]]\n",
      "Length:  2\n",
      "n = 10\n",
      "[5, [1, 2, 4, 8, 10]]\n",
      "l(n) + n - 1:  11\n",
      "2 <= 11 \n",
      "\n"
     ]
    }
   ],
   "source": [
    "for n in range(2, 11):\n",
    "    chain1 = splitIndexesVector(2^n - 1)\n",
    "    chain2 = splitIndexesVector(Integer(n))\n",
    "    print('n =', 2^n - 1)\n",
    "    starLength1 = len(chain1)\n",
    "    print(chain1)\n",
    "    print('Length: ', starLength1)\n",
    "    print('n =', n)\n",
    "    starLength2 = len(chain2) + n - 1\n",
    "    print(chain2)\n",
    "    print('l(n) + n - 1: ', starLength2)\n",
    "    print(starLength1, '<=', starLength2, '\\n')"
   ]
  },
  {
   "cell_type": "markdown",
   "metadata": {},
   "source": [
    "## Вывод"
   ]
  },
  {
   "cell_type": "markdown",
   "metadata": {},
   "source": [
    "Была проведена проверка гипотезы Шольца-Брауэра. В результате для каждого значения $n$ выполнялось неравенство $l^{*}\\left(2^{n}-1\\right)<=l^{*}(n)+n-1$, что соответствует гипотезе"
   ]
  },
  {
   "cell_type": "markdown",
   "metadata": {},
   "source": [
    "# Вывод по работе"
   ]
  },
  {
   "cell_type": "markdown",
   "metadata": {},
   "source": [
    "В ходе выполнения практической работы, были изучены и приминены сведения об аддитивных цепочках и алгоритмах нахождения аддитивных цепочек для заданного числа. Были реализованы алгоритмы для возведения числа в степень. Был произведен дальнейший анализ алгоритмов: так бинарный метод уступает методу множителей в некоторых случаях, а алгоритм дробления вектора индексов в отличии от алгоритма Брауэра гарантированно выводит минимально возможную цепочку для заданного числа. Также в ходе работы были проверены на практике следствие 1 из теоремы Брауэра и гипотеза Шольца-Брауэра."
   ]
  },
  {
   "cell_type": "markdown",
   "metadata": {},
   "source": []
  }
 ],
 "metadata": {
  "kernelspec": {
   "display_name": "SageMath 9.2",
   "language": "sage",
   "name": "sagemath"
  },
  "language_info": {
   "codemirror_mode": {
    "name": "ipython",
    "version": 3
   },
   "file_extension": ".py",
   "mimetype": "text/x-python",
   "name": "python",
   "nbconvert_exporter": "python",
   "pygments_lexer": "ipython3",
   "version": "3.7.7"
  }
 },
 "nbformat": 4,
 "nbformat_minor": 4
}
